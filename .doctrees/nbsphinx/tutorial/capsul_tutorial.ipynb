{
 "cells": [
  {
   "cell_type": "markdown",
   "metadata": {
    "deletable": true,
    "editable": true
   },
   "source": [
    "# CAPSUL: chain algorithms in pipelines"
   ]
  },
  {
   "cell_type": "markdown",
   "metadata": {
    "deletable": true,
    "editable": true
   },
   "source": [
    "<p>Capsul is a simple and efficient Python tool that aims to organize a set of processings.\n",
    "It is accessible to everybody, and is reusable in various contexts.\n",
    "The project is hosted on github: https://github.com/populse/capsul.</p>\n",
    "\n",
    "<p>Documentation: <a href=\"http://populse.github.io/capsul\">http://populse.github.io/capsul</a>\n",
    "</p>\n",
    "\n",
    "<p>The following examples are using CAPSUL, and PyQt (or PySide). To get the GUI running in a non-blocking way, the IPython notebook should be started with the option <tt>--gui=qt</tt>:\n",
    "<pre>ipython notebook --gui=qt</pre>\n",
    "Otherwise calls to the Qt loop will be blocking until windows are closed at each demo step.\n",
    "</p>\n",
    "\n",
    "<p>\n",
    "<big>Definitions</big>\n",
    "\n",
    "<ul style=\"list-style-type:disc;\">\n",
    "<li>A <b>Process</b> is a processing that can derived directly from a Python function and that can be used as a building block of a pipeline.</li>\n",
    "<li>A <b>Pipeline</b> is a series of connected processes.</li>\n",
    "</ul>\n",
    "</p>\n",
    "\n",
    "<p>\n",
    "<big>First check</big>\n",
    "\n",
    "In order to test if capsul is installed on your machine, you can ask the the Capsul version:\n",
    "</p>\n"
   ]
  },
  {
   "cell_type": "code",
   "execution_count": 1,
   "metadata": {
    "collapsed": true,
    "deletable": true,
    "editable": true,
    "execution": {
     "iopub.execute_input": "2025-04-09T15:52:12.749327Z",
     "iopub.status.busy": "2025-04-09T15:52:12.749115Z",
     "iopub.status.idle": "2025-04-09T15:52:12.757393Z",
     "shell.execute_reply": "2025-04-09T15:52:12.756846Z"
    }
   },
   "outputs": [],
   "source": [
    "# just to ensure compatibility of this notebook with python 2 and 3\n",
    "from __future__ import print_function\n",
    "# the following to avoid display when this notebook is converted to sphinx doc\n",
    "import os\n",
    "if os.environ.get('ALLOW_GUI', 'TRUE') in ('FALSE', '0'):\n",
    "    use_gui = False\n",
    "else:\n",
    "    %gui qt4\n",
    "    use_gui = True\n",
    "    from soma.qt_gui import qt_backend\n",
    "    qt_backend.set_qt_backend()"
   ]
  },
  {
   "cell_type": "code",
   "execution_count": 2,
   "metadata": {
    "collapsed": false,
    "deletable": true,
    "editable": true,
    "execution": {
     "iopub.execute_input": "2025-04-09T15:52:12.759682Z",
     "iopub.status.busy": "2025-04-09T15:52:12.759258Z",
     "iopub.status.idle": "2025-04-09T15:52:12.763703Z",
     "shell.execute_reply": "2025-04-09T15:52:12.762999Z"
    }
   },
   "outputs": [
    {
     "name": "stdout",
     "output_type": "stream",
     "text": [
      "2.6.1\n"
     ]
    }
   ],
   "source": [
    "import capsul\n",
    "print(capsul.__version__)"
   ]
  },
  {
   "cell_type": "markdown",
   "metadata": {
    "deletable": true,
    "editable": true
   },
   "source": [
    "<h1>Process and pipeline creation API</h1>\n",
    "\n",
    "A process can be either a Process class instance, or a wrapping of a function\n",
    "\n",
    "<h2>Process and parameters</h2>"
   ]
  },
  {
   "cell_type": "code",
   "execution_count": 3,
   "metadata": {
    "collapsed": false,
    "deletable": true,
    "editable": true,
    "execution": {
     "iopub.execute_input": "2025-04-09T15:52:12.802187Z",
     "iopub.status.busy": "2025-04-09T15:52:12.801908Z",
     "iopub.status.idle": "2025-04-09T15:52:13.232986Z",
     "shell.execute_reply": "2025-04-09T15:52:13.232218Z"
    }
   },
   "outputs": [
    {
     "ename": "ModuleNotFoundError",
     "evalue": "No module named 'populse_db.storage'",
     "output_type": "error",
     "traceback": [
      "\u001b[0;31m---------------------------------------------------------------------------\u001b[0m",
      "\u001b[0;31mModuleNotFoundError\u001b[0m                       Traceback (most recent call last)",
      "Cell \u001b[0;32mIn[3], line 2\u001b[0m\n\u001b[1;32m      1\u001b[0m \u001b[38;5;66;03m# Capsul import\u001b[39;00m\n\u001b[0;32m----> 2\u001b[0m \u001b[38;5;28;01mfrom\u001b[39;00m\u001b[38;5;250m \u001b[39m\u001b[38;5;21;01mcapsul\u001b[39;00m\u001b[38;5;21;01m.\u001b[39;00m\u001b[38;5;21;01mapi\u001b[39;00m\u001b[38;5;250m \u001b[39m\u001b[38;5;28;01mimport\u001b[39;00m Process\n\u001b[1;32m      4\u001b[0m \u001b[38;5;66;03m# Trait import\u001b[39;00m\n\u001b[1;32m      5\u001b[0m \u001b[38;5;28;01mfrom\u001b[39;00m\u001b[38;5;250m \u001b[39m\u001b[38;5;21;01mtraits\u001b[39;00m\u001b[38;5;21;01m.\u001b[39;00m\u001b[38;5;21;01mapi\u001b[39;00m\u001b[38;5;250m \u001b[39m\u001b[38;5;28;01mimport\u001b[39;00m Float\n",
      "File \u001b[0;32m~/work/capsul/capsul/capsul/api.py:41\u001b[0m\n\u001b[1;32m     39\u001b[0m \u001b[38;5;28;01mfrom\u001b[39;00m\u001b[38;5;250m \u001b[39m\u001b[38;5;21;01mcapsul\u001b[39;00m\u001b[38;5;21;01m.\u001b[39;00m\u001b[38;5;21;01mpipeline\u001b[39;00m\u001b[38;5;21;01m.\u001b[39;00m\u001b[38;5;21;01mpipeline_nodes\u001b[39;00m\u001b[38;5;250m \u001b[39m\u001b[38;5;28;01mimport\u001b[39;00m Switch\n\u001b[1;32m     40\u001b[0m \u001b[38;5;28;01mfrom\u001b[39;00m\u001b[38;5;250m \u001b[39m\u001b[38;5;21;01mcapsul\u001b[39;00m\u001b[38;5;21;01m.\u001b[39;00m\u001b[38;5;21;01mpipeline\u001b[39;00m\u001b[38;5;21;01m.\u001b[39;00m\u001b[38;5;21;01mpipeline_nodes\u001b[39;00m\u001b[38;5;250m \u001b[39m\u001b[38;5;28;01mimport\u001b[39;00m OptionalOutputSwitch\n\u001b[0;32m---> 41\u001b[0m \u001b[38;5;28;01mfrom\u001b[39;00m\u001b[38;5;250m \u001b[39m\u001b[38;5;21;01mcapsul\u001b[39;00m\u001b[38;5;21;01m.\u001b[39;00m\u001b[38;5;21;01mengine\u001b[39;00m\u001b[38;5;250m \u001b[39m\u001b[38;5;28;01mimport\u001b[39;00m capsul_engine\n\u001b[1;32m     42\u001b[0m \u001b[38;5;28;01mfrom\u001b[39;00m\u001b[38;5;250m \u001b[39m\u001b[38;5;21;01mcapsul\u001b[39;00m\u001b[38;5;21;01m.\u001b[39;00m\u001b[38;5;21;01mengine\u001b[39;00m\u001b[38;5;250m \u001b[39m\u001b[38;5;28;01mimport\u001b[39;00m activate_configuration\n\u001b[1;32m     43\u001b[0m \u001b[38;5;28;01mfrom\u001b[39;00m\u001b[38;5;250m \u001b[39m\u001b[38;5;21;01mcapsul\u001b[39;00m\u001b[38;5;21;01m.\u001b[39;00m\u001b[38;5;21;01mstudy_config\u001b[39;00m\u001b[38;5;21;01m.\u001b[39;00m\u001b[38;5;21;01mprocess_instance\u001b[39;00m\u001b[38;5;250m \u001b[39m\u001b[38;5;28;01mimport\u001b[39;00m get_process_instance\n",
      "File \u001b[0;32m~/work/capsul/capsul/capsul/engine/__init__.py:36\u001b[0m\n\u001b[1;32m     33\u001b[0m \u001b[38;5;28;01mfrom\u001b[39;00m\u001b[38;5;250m \u001b[39m\u001b[38;5;21;01msoma\u001b[39;00m\u001b[38;5;21;01m.\u001b[39;00m\u001b[38;5;21;01msorted_dictionary\u001b[39;00m\u001b[38;5;250m \u001b[39m\u001b[38;5;28;01mimport\u001b[39;00m SortedDictionary\n\u001b[1;32m     34\u001b[0m \u001b[38;5;28;01mfrom\u001b[39;00m\u001b[38;5;250m \u001b[39m\u001b[38;5;21;01msoma\u001b[39;00m\u001b[38;5;21;01m.\u001b[39;00m\u001b[38;5;21;01mutils\u001b[39;00m\u001b[38;5;21;01m.\u001b[39;00m\u001b[38;5;21;01mweak_proxy\u001b[39;00m\u001b[38;5;250m \u001b[39m\u001b[38;5;28;01mimport\u001b[39;00m get_ref\n\u001b[0;32m---> 36\u001b[0m \u001b[38;5;28;01mfrom\u001b[39;00m\u001b[38;5;250m \u001b[39m\u001b[38;5;21;01m.\u001b[39;00m\u001b[38;5;21;01mdatabase_populse\u001b[39;00m\u001b[38;5;250m \u001b[39m\u001b[38;5;28;01mimport\u001b[39;00m PopulseDBEngine\n\u001b[1;32m     38\u001b[0m \u001b[38;5;28;01mfrom\u001b[39;00m\u001b[38;5;250m \u001b[39m\u001b[38;5;21;01m.\u001b[39;00m\u001b[38;5;21;01msettings\u001b[39;00m\u001b[38;5;250m \u001b[39m\u001b[38;5;28;01mimport\u001b[39;00m Settings\n\u001b[1;32m     39\u001b[0m \u001b[38;5;28;01mfrom\u001b[39;00m\u001b[38;5;250m \u001b[39m\u001b[38;5;21;01m.\u001b[39;00m\u001b[38;5;21;01mmodule\u001b[39;00m\u001b[38;5;250m \u001b[39m\u001b[38;5;28;01mimport\u001b[39;00m default_modules\n",
      "File \u001b[0;32m~/work/capsul/capsul/capsul/engine/database_populse.py:6\u001b[0m\n\u001b[1;32m      2\u001b[0m \u001b[38;5;28;01mimport\u001b[39;00m\u001b[38;5;250m \u001b[39m\u001b[38;5;21;01mos\u001b[39;00m\u001b[38;5;21;01m.\u001b[39;00m\u001b[38;5;21;01mpath\u001b[39;00m\u001b[38;5;250m \u001b[39m\u001b[38;5;28;01mas\u001b[39;00m\u001b[38;5;250m \u001b[39m\u001b[38;5;21;01mosp\u001b[39;00m\n\u001b[1;32m      4\u001b[0m \u001b[38;5;28;01mfrom\u001b[39;00m\u001b[38;5;250m \u001b[39m\u001b[38;5;21;01mcapsul\u001b[39;00m\u001b[38;5;21;01m.\u001b[39;00m\u001b[38;5;21;01mengine\u001b[39;00m\u001b[38;5;21;01m.\u001b[39;00m\u001b[38;5;21;01mdatabase\u001b[39;00m\u001b[38;5;250m \u001b[39m\u001b[38;5;28;01mimport\u001b[39;00m DatabaseEngine\n\u001b[0;32m----> 6\u001b[0m \u001b[38;5;28;01mfrom\u001b[39;00m\u001b[38;5;250m \u001b[39m\u001b[38;5;21;01mpopulse_db\u001b[39;00m\u001b[38;5;21;01m.\u001b[39;00m\u001b[38;5;21;01mstorage\u001b[39;00m\u001b[38;5;250m \u001b[39m\u001b[38;5;28;01mimport\u001b[39;00m Storage\n\u001b[1;32m      8\u001b[0m schemas \u001b[38;5;241m=\u001b[39m [\n\u001b[1;32m      9\u001b[0m     {\n\u001b[1;32m     10\u001b[0m         \u001b[38;5;124m\"\u001b[39m\u001b[38;5;124mversion\u001b[39m\u001b[38;5;124m\"\u001b[39m: \u001b[38;5;124m\"\u001b[39m\u001b[38;5;124m1.0.0\u001b[39m\u001b[38;5;124m\"\u001b[39m,\n\u001b[0;32m   (...)\u001b[0m\n\u001b[1;32m     39\u001b[0m     },\n\u001b[1;32m     40\u001b[0m ]\n\u001b[1;32m     43\u001b[0m \u001b[38;5;28;01mclass\u001b[39;00m\u001b[38;5;250m \u001b[39m\u001b[38;5;21;01mPopulseDBEngine\u001b[39;00m(DatabaseEngine):\n",
      "\u001b[0;31mModuleNotFoundError\u001b[0m: No module named 'populse_db.storage'"
     ]
    }
   ],
   "source": [
    "# Capsul import\n",
    "from capsul.api import Process\n",
    "\n",
    "# Trait import\n",
    "from traits.api import Float\n",
    "\n",
    "class Process1(Process):\n",
    "    f = Float(output=False)\n",
    "\n",
    "    def __init__(self):\n",
    "        super(Process1, self).__init__()\n",
    "        self.add_trait(\"ff\", Float(output=False))\n",
    "        self.add_trait(\"out\", Float(output=True))\n",
    "        \n",
    "    def _run_process(self):\n",
    "        self.out = self.f + self.ff\n",
    "        print('Process1 execution, f:', self.f, ', ff:', self.ff)\n",
    "\n",
    "process = Process1()\n",
    "print(process.user_traits().keys())\n",
    "\n",
    "process.ff = 132.6\n",
    "process.f = 13.3\n",
    "\n",
    "#execution\n",
    "process()\n",
    "print('Process result =', process.out)"
   ]
  },
  {
   "cell_type": "code",
   "execution_count": 4,
   "metadata": {
    "collapsed": true,
    "deletable": true,
    "editable": true,
    "execution": {
     "iopub.execute_input": "2025-04-09T15:52:13.235221Z",
     "iopub.status.busy": "2025-04-09T15:52:13.235014Z",
     "iopub.status.idle": "2025-04-09T15:52:13.252561Z",
     "shell.execute_reply": "2025-04-09T15:52:13.251976Z"
    }
   },
   "outputs": [
    {
     "ename": "NameError",
     "evalue": "name 'Process' is not defined",
     "output_type": "error",
     "traceback": [
      "\u001b[0;31m---------------------------------------------------------------------------\u001b[0m",
      "\u001b[0;31mNameError\u001b[0m                                 Traceback (most recent call last)",
      "Cell \u001b[0;32mIn[4], line 3\u001b[0m\n\u001b[1;32m      1\u001b[0m \u001b[38;5;28;01mfrom\u001b[39;00m\u001b[38;5;250m \u001b[39m\u001b[38;5;21;01mtraits\u001b[39;00m\u001b[38;5;21;01m.\u001b[39;00m\u001b[38;5;21;01mapi\u001b[39;00m\u001b[38;5;250m \u001b[39m\u001b[38;5;28;01mimport\u001b[39;00m Str\n\u001b[0;32m----> 3\u001b[0m \u001b[38;5;28;01mclass\u001b[39;00m\u001b[38;5;250m \u001b[39m\u001b[38;5;21;01mProcess2\u001b[39;00m(\u001b[43mProcess\u001b[49m):\n\u001b[1;32m      5\u001b[0m     \u001b[38;5;28;01mdef\u001b[39;00m\u001b[38;5;250m \u001b[39m\u001b[38;5;21m__init__\u001b[39m(\u001b[38;5;28mself\u001b[39m):\n\u001b[1;32m      6\u001b[0m         \u001b[38;5;28msuper\u001b[39m(Process2, \u001b[38;5;28mself\u001b[39m)\u001b[38;5;241m.\u001b[39m\u001b[38;5;21m__init__\u001b[39m()\n",
      "\u001b[0;31mNameError\u001b[0m: name 'Process' is not defined"
     ]
    }
   ],
   "source": [
    "from traits.api import Str\n",
    "\n",
    "class Process2(Process):\n",
    "    \n",
    "    def __init__(self):\n",
    "        super(Process2, self).__init__()\n",
    "        self.add_trait(\"a\", Float(output=True))\n",
    "        self.add_trait(\"b\", Str(output=False))\n",
    "        \n",
    "    def get_commandline(self):\n",
    "        return ['echo', 'Process2 execution, a: %f, b: %s' % (self.a, self.b)]\n"
   ]
  },
  {
   "cell_type": "markdown",
   "metadata": {
    "deletable": true,
    "editable": true
   },
   "source": [
    "<h2>Use a function as a building block</h2>\n",
    "\n",
    "It is possible to convert a function in Process and thus use it as a building block of a pipeline. In the following example we will use an addition simple Python function:\n"
   ]
  },
  {
   "cell_type": "code",
   "execution_count": 5,
   "metadata": {
    "collapsed": true,
    "deletable": true,
    "editable": true,
    "execution": {
     "iopub.execute_input": "2025-04-09T15:52:13.254687Z",
     "iopub.status.busy": "2025-04-09T15:52:13.254446Z",
     "iopub.status.idle": "2025-04-09T15:52:13.318782Z",
     "shell.execute_reply": "2025-04-09T15:52:13.318129Z"
    }
   },
   "outputs": [
    {
     "ename": "ModuleNotFoundError",
     "evalue": "No module named 'populse_db.storage'",
     "output_type": "error",
     "traceback": [
      "\u001b[0;31m---------------------------------------------------------------------------\u001b[0m",
      "\u001b[0;31mModuleNotFoundError\u001b[0m                       Traceback (most recent call last)",
      "Cell \u001b[0;32mIn[5], line 2\u001b[0m\n\u001b[1;32m      1\u001b[0m \u001b[38;5;28;01mfrom\u001b[39;00m\u001b[38;5;250m \u001b[39m\u001b[38;5;21;01mcapsul\u001b[39;00m\u001b[38;5;21;01m.\u001b[39;00m\u001b[38;5;21;01mprocess\u001b[39;00m\u001b[38;5;21;01m.\u001b[39;00m\u001b[38;5;21;01mxml\u001b[39;00m\u001b[38;5;250m \u001b[39m\u001b[38;5;28;01mimport\u001b[39;00m xml_process\n\u001b[0;32m----> 2\u001b[0m \u001b[38;5;28;01mfrom\u001b[39;00m\u001b[38;5;250m \u001b[39m\u001b[38;5;21;01mcapsul\u001b[39;00m\u001b[38;5;21;01m.\u001b[39;00m\u001b[38;5;21;01mapi\u001b[39;00m\u001b[38;5;250m \u001b[39m\u001b[38;5;28;01mimport\u001b[39;00m get_process_instance\n\u001b[1;32m      4\u001b[0m \u001b[38;5;129m@xml_process\u001b[39m(\u001b[38;5;124m'''\u001b[39m\n\u001b[1;32m      5\u001b[0m \u001b[38;5;124m<process capsul_xml=\u001b[39m\u001b[38;5;124m\"\u001b[39m\u001b[38;5;124m2.0\u001b[39m\u001b[38;5;124m\"\u001b[39m\u001b[38;5;124m>\u001b[39m\n\u001b[1;32m      6\u001b[0m \u001b[38;5;124m    <input name=\u001b[39m\u001b[38;5;124m\"\u001b[39m\u001b[38;5;124ma\u001b[39m\u001b[38;5;124m\"\u001b[39m\u001b[38;5;124m type=\u001b[39m\u001b[38;5;124m\"\u001b[39m\u001b[38;5;124mint\u001b[39m\u001b[38;5;124m\"\u001b[39m\u001b[38;5;124m doc=\u001b[39m\u001b[38;5;124m\"\u001b[39m\u001b[38;5;124mAn integer\u001b[39m\u001b[38;5;124m\"\u001b[39m\u001b[38;5;124m/>\u001b[39m\n\u001b[0;32m   (...)\u001b[0m\n\u001b[1;32m     10\u001b[0m \u001b[38;5;124m'''\u001b[39m)\n\u001b[1;32m     11\u001b[0m \u001b[38;5;28;01mdef\u001b[39;00m\u001b[38;5;250m \u001b[39m\u001b[38;5;21madd\u001b[39m(a, b):\n\u001b[1;32m     12\u001b[0m      \u001b[38;5;28;01mreturn\u001b[39;00m a \u001b[38;5;241m+\u001b[39m b\n",
      "File \u001b[0;32m~/work/capsul/capsul/capsul/api.py:41\u001b[0m\n\u001b[1;32m     39\u001b[0m \u001b[38;5;28;01mfrom\u001b[39;00m\u001b[38;5;250m \u001b[39m\u001b[38;5;21;01mcapsul\u001b[39;00m\u001b[38;5;21;01m.\u001b[39;00m\u001b[38;5;21;01mpipeline\u001b[39;00m\u001b[38;5;21;01m.\u001b[39;00m\u001b[38;5;21;01mpipeline_nodes\u001b[39;00m\u001b[38;5;250m \u001b[39m\u001b[38;5;28;01mimport\u001b[39;00m Switch\n\u001b[1;32m     40\u001b[0m \u001b[38;5;28;01mfrom\u001b[39;00m\u001b[38;5;250m \u001b[39m\u001b[38;5;21;01mcapsul\u001b[39;00m\u001b[38;5;21;01m.\u001b[39;00m\u001b[38;5;21;01mpipeline\u001b[39;00m\u001b[38;5;21;01m.\u001b[39;00m\u001b[38;5;21;01mpipeline_nodes\u001b[39;00m\u001b[38;5;250m \u001b[39m\u001b[38;5;28;01mimport\u001b[39;00m OptionalOutputSwitch\n\u001b[0;32m---> 41\u001b[0m \u001b[38;5;28;01mfrom\u001b[39;00m\u001b[38;5;250m \u001b[39m\u001b[38;5;21;01mcapsul\u001b[39;00m\u001b[38;5;21;01m.\u001b[39;00m\u001b[38;5;21;01mengine\u001b[39;00m\u001b[38;5;250m \u001b[39m\u001b[38;5;28;01mimport\u001b[39;00m capsul_engine\n\u001b[1;32m     42\u001b[0m \u001b[38;5;28;01mfrom\u001b[39;00m\u001b[38;5;250m \u001b[39m\u001b[38;5;21;01mcapsul\u001b[39;00m\u001b[38;5;21;01m.\u001b[39;00m\u001b[38;5;21;01mengine\u001b[39;00m\u001b[38;5;250m \u001b[39m\u001b[38;5;28;01mimport\u001b[39;00m activate_configuration\n\u001b[1;32m     43\u001b[0m \u001b[38;5;28;01mfrom\u001b[39;00m\u001b[38;5;250m \u001b[39m\u001b[38;5;21;01mcapsul\u001b[39;00m\u001b[38;5;21;01m.\u001b[39;00m\u001b[38;5;21;01mstudy_config\u001b[39;00m\u001b[38;5;21;01m.\u001b[39;00m\u001b[38;5;21;01mprocess_instance\u001b[39;00m\u001b[38;5;250m \u001b[39m\u001b[38;5;28;01mimport\u001b[39;00m get_process_instance\n",
      "File \u001b[0;32m~/work/capsul/capsul/capsul/engine/__init__.py:36\u001b[0m\n\u001b[1;32m     33\u001b[0m \u001b[38;5;28;01mfrom\u001b[39;00m\u001b[38;5;250m \u001b[39m\u001b[38;5;21;01msoma\u001b[39;00m\u001b[38;5;21;01m.\u001b[39;00m\u001b[38;5;21;01msorted_dictionary\u001b[39;00m\u001b[38;5;250m \u001b[39m\u001b[38;5;28;01mimport\u001b[39;00m SortedDictionary\n\u001b[1;32m     34\u001b[0m \u001b[38;5;28;01mfrom\u001b[39;00m\u001b[38;5;250m \u001b[39m\u001b[38;5;21;01msoma\u001b[39;00m\u001b[38;5;21;01m.\u001b[39;00m\u001b[38;5;21;01mutils\u001b[39;00m\u001b[38;5;21;01m.\u001b[39;00m\u001b[38;5;21;01mweak_proxy\u001b[39;00m\u001b[38;5;250m \u001b[39m\u001b[38;5;28;01mimport\u001b[39;00m get_ref\n\u001b[0;32m---> 36\u001b[0m \u001b[38;5;28;01mfrom\u001b[39;00m\u001b[38;5;250m \u001b[39m\u001b[38;5;21;01m.\u001b[39;00m\u001b[38;5;21;01mdatabase_populse\u001b[39;00m\u001b[38;5;250m \u001b[39m\u001b[38;5;28;01mimport\u001b[39;00m PopulseDBEngine\n\u001b[1;32m     38\u001b[0m \u001b[38;5;28;01mfrom\u001b[39;00m\u001b[38;5;250m \u001b[39m\u001b[38;5;21;01m.\u001b[39;00m\u001b[38;5;21;01msettings\u001b[39;00m\u001b[38;5;250m \u001b[39m\u001b[38;5;28;01mimport\u001b[39;00m Settings\n\u001b[1;32m     39\u001b[0m \u001b[38;5;28;01mfrom\u001b[39;00m\u001b[38;5;250m \u001b[39m\u001b[38;5;21;01m.\u001b[39;00m\u001b[38;5;21;01mmodule\u001b[39;00m\u001b[38;5;250m \u001b[39m\u001b[38;5;28;01mimport\u001b[39;00m default_modules\n",
      "File \u001b[0;32m~/work/capsul/capsul/capsul/engine/database_populse.py:6\u001b[0m\n\u001b[1;32m      2\u001b[0m \u001b[38;5;28;01mimport\u001b[39;00m\u001b[38;5;250m \u001b[39m\u001b[38;5;21;01mos\u001b[39;00m\u001b[38;5;21;01m.\u001b[39;00m\u001b[38;5;21;01mpath\u001b[39;00m\u001b[38;5;250m \u001b[39m\u001b[38;5;28;01mas\u001b[39;00m\u001b[38;5;250m \u001b[39m\u001b[38;5;21;01mosp\u001b[39;00m\n\u001b[1;32m      4\u001b[0m \u001b[38;5;28;01mfrom\u001b[39;00m\u001b[38;5;250m \u001b[39m\u001b[38;5;21;01mcapsul\u001b[39;00m\u001b[38;5;21;01m.\u001b[39;00m\u001b[38;5;21;01mengine\u001b[39;00m\u001b[38;5;21;01m.\u001b[39;00m\u001b[38;5;21;01mdatabase\u001b[39;00m\u001b[38;5;250m \u001b[39m\u001b[38;5;28;01mimport\u001b[39;00m DatabaseEngine\n\u001b[0;32m----> 6\u001b[0m \u001b[38;5;28;01mfrom\u001b[39;00m\u001b[38;5;250m \u001b[39m\u001b[38;5;21;01mpopulse_db\u001b[39;00m\u001b[38;5;21;01m.\u001b[39;00m\u001b[38;5;21;01mstorage\u001b[39;00m\u001b[38;5;250m \u001b[39m\u001b[38;5;28;01mimport\u001b[39;00m Storage\n\u001b[1;32m      8\u001b[0m schemas \u001b[38;5;241m=\u001b[39m [\n\u001b[1;32m      9\u001b[0m     {\n\u001b[1;32m     10\u001b[0m         \u001b[38;5;124m\"\u001b[39m\u001b[38;5;124mversion\u001b[39m\u001b[38;5;124m\"\u001b[39m: \u001b[38;5;124m\"\u001b[39m\u001b[38;5;124m1.0.0\u001b[39m\u001b[38;5;124m\"\u001b[39m,\n\u001b[0;32m   (...)\u001b[0m\n\u001b[1;32m     39\u001b[0m     },\n\u001b[1;32m     40\u001b[0m ]\n\u001b[1;32m     43\u001b[0m \u001b[38;5;28;01mclass\u001b[39;00m\u001b[38;5;250m \u001b[39m\u001b[38;5;21;01mPopulseDBEngine\u001b[39;00m(DatabaseEngine):\n",
      "\u001b[0;31mModuleNotFoundError\u001b[0m: No module named 'populse_db.storage'"
     ]
    }
   ],
   "source": [
    "from capsul.process.xml import xml_process\n",
    "from capsul.api import get_process_instance\n",
    "\n",
    "@xml_process('''\n",
    "<process capsul_xml=\"2.0\">\n",
    "    <input name=\"a\" type=\"int\" doc=\"An integer\"/>\n",
    "    <input name=\"b\" type=\"int\" doc=\"Another integer\"/>\n",
    "    <return name=\"addition\" type=\"int\" doc=\"a + b\"/>\n",
    "</process>\n",
    "''')\n",
    "def add(a, b):\n",
    "     return a + b"
   ]
  },
  {
   "cell_type": "markdown",
   "metadata": {
    "deletable": true,
    "editable": true
   },
   "source": [
    "<p>This is a pure Python function with an XML Process description in the @xml_process decorator. Inside <code>&lt;process&gt;</code> and <code>&lt;/process&gt;</code> elements, each input parameters are described as well as the returned value. The parameters are typed and a description is asked in order to generate proper tooltips or documentations. See <a href=\"http://populse.github.io/capsul/user_guide_tree/xml_spec.html\">XML specifications</a> for more information.</p>\n",
    "\n",
    "<p>We can now create a Process from this Python function:</p>"
   ]
  },
  {
   "cell_type": "code",
   "execution_count": 6,
   "metadata": {
    "collapsed": true,
    "deletable": true,
    "editable": true,
    "execution": {
     "iopub.execute_input": "2025-04-09T15:52:13.320902Z",
     "iopub.status.busy": "2025-04-09T15:52:13.320698Z",
     "iopub.status.idle": "2025-04-09T15:52:13.381013Z",
     "shell.execute_reply": "2025-04-09T15:52:13.380249Z"
    }
   },
   "outputs": [
    {
     "ename": "ModuleNotFoundError",
     "evalue": "No module named 'populse_db.storage'",
     "output_type": "error",
     "traceback": [
      "\u001b[0;31m---------------------------------------------------------------------------\u001b[0m",
      "\u001b[0;31mModuleNotFoundError\u001b[0m                       Traceback (most recent call last)",
      "Cell \u001b[0;32mIn[6], line 1\u001b[0m\n\u001b[0;32m----> 1\u001b[0m \u001b[38;5;28;01mfrom\u001b[39;00m\u001b[38;5;250m \u001b[39m\u001b[38;5;21;01mcapsul\u001b[39;00m\u001b[38;5;21;01m.\u001b[39;00m\u001b[38;5;21;01mapi\u001b[39;00m\u001b[38;5;250m \u001b[39m\u001b[38;5;28;01mimport\u001b[39;00m get_process_instance\n\u001b[1;32m      3\u001b[0m process \u001b[38;5;241m=\u001b[39m get_process_instance(\u001b[38;5;124m'\u001b[39m\u001b[38;5;124m__main__.add\u001b[39m\u001b[38;5;124m'\u001b[39m)\n",
      "File \u001b[0;32m~/work/capsul/capsul/capsul/api.py:41\u001b[0m\n\u001b[1;32m     39\u001b[0m \u001b[38;5;28;01mfrom\u001b[39;00m\u001b[38;5;250m \u001b[39m\u001b[38;5;21;01mcapsul\u001b[39;00m\u001b[38;5;21;01m.\u001b[39;00m\u001b[38;5;21;01mpipeline\u001b[39;00m\u001b[38;5;21;01m.\u001b[39;00m\u001b[38;5;21;01mpipeline_nodes\u001b[39;00m\u001b[38;5;250m \u001b[39m\u001b[38;5;28;01mimport\u001b[39;00m Switch\n\u001b[1;32m     40\u001b[0m \u001b[38;5;28;01mfrom\u001b[39;00m\u001b[38;5;250m \u001b[39m\u001b[38;5;21;01mcapsul\u001b[39;00m\u001b[38;5;21;01m.\u001b[39;00m\u001b[38;5;21;01mpipeline\u001b[39;00m\u001b[38;5;21;01m.\u001b[39;00m\u001b[38;5;21;01mpipeline_nodes\u001b[39;00m\u001b[38;5;250m \u001b[39m\u001b[38;5;28;01mimport\u001b[39;00m OptionalOutputSwitch\n\u001b[0;32m---> 41\u001b[0m \u001b[38;5;28;01mfrom\u001b[39;00m\u001b[38;5;250m \u001b[39m\u001b[38;5;21;01mcapsul\u001b[39;00m\u001b[38;5;21;01m.\u001b[39;00m\u001b[38;5;21;01mengine\u001b[39;00m\u001b[38;5;250m \u001b[39m\u001b[38;5;28;01mimport\u001b[39;00m capsul_engine\n\u001b[1;32m     42\u001b[0m \u001b[38;5;28;01mfrom\u001b[39;00m\u001b[38;5;250m \u001b[39m\u001b[38;5;21;01mcapsul\u001b[39;00m\u001b[38;5;21;01m.\u001b[39;00m\u001b[38;5;21;01mengine\u001b[39;00m\u001b[38;5;250m \u001b[39m\u001b[38;5;28;01mimport\u001b[39;00m activate_configuration\n\u001b[1;32m     43\u001b[0m \u001b[38;5;28;01mfrom\u001b[39;00m\u001b[38;5;250m \u001b[39m\u001b[38;5;21;01mcapsul\u001b[39;00m\u001b[38;5;21;01m.\u001b[39;00m\u001b[38;5;21;01mstudy_config\u001b[39;00m\u001b[38;5;21;01m.\u001b[39;00m\u001b[38;5;21;01mprocess_instance\u001b[39;00m\u001b[38;5;250m \u001b[39m\u001b[38;5;28;01mimport\u001b[39;00m get_process_instance\n",
      "File \u001b[0;32m~/work/capsul/capsul/capsul/engine/__init__.py:36\u001b[0m\n\u001b[1;32m     33\u001b[0m \u001b[38;5;28;01mfrom\u001b[39;00m\u001b[38;5;250m \u001b[39m\u001b[38;5;21;01msoma\u001b[39;00m\u001b[38;5;21;01m.\u001b[39;00m\u001b[38;5;21;01msorted_dictionary\u001b[39;00m\u001b[38;5;250m \u001b[39m\u001b[38;5;28;01mimport\u001b[39;00m SortedDictionary\n\u001b[1;32m     34\u001b[0m \u001b[38;5;28;01mfrom\u001b[39;00m\u001b[38;5;250m \u001b[39m\u001b[38;5;21;01msoma\u001b[39;00m\u001b[38;5;21;01m.\u001b[39;00m\u001b[38;5;21;01mutils\u001b[39;00m\u001b[38;5;21;01m.\u001b[39;00m\u001b[38;5;21;01mweak_proxy\u001b[39;00m\u001b[38;5;250m \u001b[39m\u001b[38;5;28;01mimport\u001b[39;00m get_ref\n\u001b[0;32m---> 36\u001b[0m \u001b[38;5;28;01mfrom\u001b[39;00m\u001b[38;5;250m \u001b[39m\u001b[38;5;21;01m.\u001b[39;00m\u001b[38;5;21;01mdatabase_populse\u001b[39;00m\u001b[38;5;250m \u001b[39m\u001b[38;5;28;01mimport\u001b[39;00m PopulseDBEngine\n\u001b[1;32m     38\u001b[0m \u001b[38;5;28;01mfrom\u001b[39;00m\u001b[38;5;250m \u001b[39m\u001b[38;5;21;01m.\u001b[39;00m\u001b[38;5;21;01msettings\u001b[39;00m\u001b[38;5;250m \u001b[39m\u001b[38;5;28;01mimport\u001b[39;00m Settings\n\u001b[1;32m     39\u001b[0m \u001b[38;5;28;01mfrom\u001b[39;00m\u001b[38;5;250m \u001b[39m\u001b[38;5;21;01m.\u001b[39;00m\u001b[38;5;21;01mmodule\u001b[39;00m\u001b[38;5;250m \u001b[39m\u001b[38;5;28;01mimport\u001b[39;00m default_modules\n",
      "File \u001b[0;32m~/work/capsul/capsul/capsul/engine/database_populse.py:6\u001b[0m\n\u001b[1;32m      2\u001b[0m \u001b[38;5;28;01mimport\u001b[39;00m\u001b[38;5;250m \u001b[39m\u001b[38;5;21;01mos\u001b[39;00m\u001b[38;5;21;01m.\u001b[39;00m\u001b[38;5;21;01mpath\u001b[39;00m\u001b[38;5;250m \u001b[39m\u001b[38;5;28;01mas\u001b[39;00m\u001b[38;5;250m \u001b[39m\u001b[38;5;21;01mosp\u001b[39;00m\n\u001b[1;32m      4\u001b[0m \u001b[38;5;28;01mfrom\u001b[39;00m\u001b[38;5;250m \u001b[39m\u001b[38;5;21;01mcapsul\u001b[39;00m\u001b[38;5;21;01m.\u001b[39;00m\u001b[38;5;21;01mengine\u001b[39;00m\u001b[38;5;21;01m.\u001b[39;00m\u001b[38;5;21;01mdatabase\u001b[39;00m\u001b[38;5;250m \u001b[39m\u001b[38;5;28;01mimport\u001b[39;00m DatabaseEngine\n\u001b[0;32m----> 6\u001b[0m \u001b[38;5;28;01mfrom\u001b[39;00m\u001b[38;5;250m \u001b[39m\u001b[38;5;21;01mpopulse_db\u001b[39;00m\u001b[38;5;21;01m.\u001b[39;00m\u001b[38;5;21;01mstorage\u001b[39;00m\u001b[38;5;250m \u001b[39m\u001b[38;5;28;01mimport\u001b[39;00m Storage\n\u001b[1;32m      8\u001b[0m schemas \u001b[38;5;241m=\u001b[39m [\n\u001b[1;32m      9\u001b[0m     {\n\u001b[1;32m     10\u001b[0m         \u001b[38;5;124m\"\u001b[39m\u001b[38;5;124mversion\u001b[39m\u001b[38;5;124m\"\u001b[39m: \u001b[38;5;124m\"\u001b[39m\u001b[38;5;124m1.0.0\u001b[39m\u001b[38;5;124m\"\u001b[39m,\n\u001b[0;32m   (...)\u001b[0m\n\u001b[1;32m     39\u001b[0m     },\n\u001b[1;32m     40\u001b[0m ]\n\u001b[1;32m     43\u001b[0m \u001b[38;5;28;01mclass\u001b[39;00m\u001b[38;5;250m \u001b[39m\u001b[38;5;21;01mPopulseDBEngine\u001b[39;00m(DatabaseEngine):\n",
      "\u001b[0;31mModuleNotFoundError\u001b[0m: No module named 'populse_db.storage'"
     ]
    }
   ],
   "source": [
    "from capsul.api import get_process_instance\n",
    "\n",
    "process = get_process_instance('__main__.add')\n"
   ]
  },
  {
   "cell_type": "markdown",
   "metadata": {
    "deletable": true,
    "editable": true
   },
   "source": [
    "We can set some input parameters and execute the process:"
   ]
  },
  {
   "cell_type": "code",
   "execution_count": 7,
   "metadata": {
    "collapsed": false,
    "deletable": true,
    "editable": true,
    "execution": {
     "iopub.execute_input": "2025-04-09T15:52:13.383277Z",
     "iopub.status.busy": "2025-04-09T15:52:13.382884Z",
     "iopub.status.idle": "2025-04-09T15:52:13.398244Z",
     "shell.execute_reply": "2025-04-09T15:52:13.397589Z"
    }
   },
   "outputs": [
    {
     "ename": "NameError",
     "evalue": "name 'process' is not defined",
     "output_type": "error",
     "traceback": [
      "\u001b[0;31m---------------------------------------------------------------------------\u001b[0m",
      "\u001b[0;31mNameError\u001b[0m                                 Traceback (most recent call last)",
      "Cell \u001b[0;32mIn[7], line 1\u001b[0m\n\u001b[0;32m----> 1\u001b[0m \u001b[43mprocess\u001b[49m\u001b[38;5;241m.\u001b[39ma \u001b[38;5;241m=\u001b[39m \u001b[38;5;241m40\u001b[39m\n\u001b[1;32m      2\u001b[0m process\u001b[38;5;241m.\u001b[39mb \u001b[38;5;241m=\u001b[39m \u001b[38;5;241m2\u001b[39m\n\u001b[1;32m      3\u001b[0m process()\n",
      "\u001b[0;31mNameError\u001b[0m: name 'process' is not defined"
     ]
    }
   ],
   "source": [
    "process.a = 40\n",
    "process.b = 2\n",
    "process()\n",
    "print(process.a, '+', process.b, '=', process.addition)\n"
   ]
  },
  {
   "cell_type": "markdown",
   "metadata": {
    "deletable": true,
    "editable": true
   },
   "source": [
    "<h3>Output files</h3>\n",
    "There is a particular case for output files: a file is a filename (string) and the file itself. When the file itself is an output, the filename may in some cases be an input, when the output filename is specified in advance, or an output when the filename itself is generated by the process and output by it. For the case output file + input filename, we have to specify that the filename is actually an input, and to which parameter it is attached:"
   ]
  },
  {
   "cell_type": "code",
   "execution_count": 8,
   "metadata": {
    "collapsed": true,
    "deletable": true,
    "editable": true,
    "execution": {
     "iopub.execute_input": "2025-04-09T15:52:13.400563Z",
     "iopub.status.busy": "2025-04-09T15:52:13.400084Z",
     "iopub.status.idle": "2025-04-09T15:52:13.416280Z",
     "shell.execute_reply": "2025-04-09T15:52:13.415739Z"
    }
   },
   "outputs": [
    {
     "ename": "NameError",
     "evalue": "name 'get_process_instance' is not defined",
     "output_type": "error",
     "traceback": [
      "\u001b[0;31m---------------------------------------------------------------------------\u001b[0m",
      "\u001b[0;31mNameError\u001b[0m                                 Traceback (most recent call last)",
      "Cell \u001b[0;32mIn[8], line 13\u001b[0m\n\u001b[1;32m     10\u001b[0m          f\u001b[38;5;241m.\u001b[39mwrite(\u001b[38;5;28mopen\u001b[39m(a)\u001b[38;5;241m.\u001b[39mread())\n\u001b[1;32m     11\u001b[0m          f\u001b[38;5;241m.\u001b[39mwrite(\u001b[38;5;28mopen\u001b[39m(b)\u001b[38;5;241m.\u001b[39mread())\n\u001b[0;32m---> 13\u001b[0m process \u001b[38;5;241m=\u001b[39m \u001b[43mget_process_instance\u001b[49m(\u001b[38;5;124m'\u001b[39m\u001b[38;5;124m__main__.cat\u001b[39m\u001b[38;5;124m'\u001b[39m)\n",
      "\u001b[0;31mNameError\u001b[0m: name 'get_process_instance' is not defined"
     ]
    }
   ],
   "source": [
    "@xml_process('''\n",
    "<process capsul_xml=\"2.0\">\n",
    "    <input name=\"a\" type=\"file\" doc=\"A file\"/>\n",
    "    <input name=\"b\" type=\"file\" doc=\"Another file\"/>\n",
    "    <output name=\"c\" type=\"file\" input_filename=\"c\" doc=\"output concatenated file\"/>\n",
    "</process>\n",
    "''')\n",
    "def cat(a, b, c):\n",
    "     with open(c, 'w') as f:\n",
    "         f.write(open(a).read())\n",
    "         f.write(open(b).read())\n",
    "\n",
    "process = get_process_instance('__main__.cat')"
   ]
  },
  {
   "cell_type": "markdown",
   "metadata": {
    "deletable": true,
    "editable": true
   },
   "source": [
    "<h2>Pipeline</h2>\n",
    "\n",
    "<p>A pipeline uses processes, or sub-pipelines, in order to define a full processing chain, with links between building blocks. A pipeline may be defined either using the Python API, as a Pipeline subclass, or using a XML definition file.\n",
    "</p>\n",
    "\n",
    "<h3>Pipeline API</h3>"
   ]
  },
  {
   "cell_type": "code",
   "execution_count": 9,
   "metadata": {
    "collapsed": true,
    "deletable": true,
    "editable": true,
    "execution": {
     "iopub.execute_input": "2025-04-09T15:52:13.418465Z",
     "iopub.status.busy": "2025-04-09T15:52:13.418260Z",
     "iopub.status.idle": "2025-04-09T15:52:13.479727Z",
     "shell.execute_reply": "2025-04-09T15:52:13.479000Z"
    }
   },
   "outputs": [
    {
     "ename": "ModuleNotFoundError",
     "evalue": "No module named 'populse_db.storage'",
     "output_type": "error",
     "traceback": [
      "\u001b[0;31m---------------------------------------------------------------------------\u001b[0m",
      "\u001b[0;31mModuleNotFoundError\u001b[0m                       Traceback (most recent call last)",
      "Cell \u001b[0;32mIn[9], line 1\u001b[0m\n\u001b[0;32m----> 1\u001b[0m \u001b[38;5;28;01mfrom\u001b[39;00m\u001b[38;5;250m \u001b[39m\u001b[38;5;21;01mcapsul\u001b[39;00m\u001b[38;5;21;01m.\u001b[39;00m\u001b[38;5;21;01mapi\u001b[39;00m\u001b[38;5;250m \u001b[39m\u001b[38;5;28;01mimport\u001b[39;00m Pipeline\n\u001b[1;32m      3\u001b[0m \u001b[38;5;28;01mclass\u001b[39;00m\u001b[38;5;250m \u001b[39m\u001b[38;5;21;01mPipeline1\u001b[39;00m(Pipeline):\n\u001b[1;32m      5\u001b[0m     \u001b[38;5;28;01mdef\u001b[39;00m\u001b[38;5;250m \u001b[39m\u001b[38;5;21mpipeline_definition\u001b[39m(\u001b[38;5;28mself\u001b[39m):\n\u001b[1;32m      6\u001b[0m         \u001b[38;5;66;03m# Create processes\u001b[39;00m\n",
      "File \u001b[0;32m~/work/capsul/capsul/capsul/api.py:41\u001b[0m\n\u001b[1;32m     39\u001b[0m \u001b[38;5;28;01mfrom\u001b[39;00m\u001b[38;5;250m \u001b[39m\u001b[38;5;21;01mcapsul\u001b[39;00m\u001b[38;5;21;01m.\u001b[39;00m\u001b[38;5;21;01mpipeline\u001b[39;00m\u001b[38;5;21;01m.\u001b[39;00m\u001b[38;5;21;01mpipeline_nodes\u001b[39;00m\u001b[38;5;250m \u001b[39m\u001b[38;5;28;01mimport\u001b[39;00m Switch\n\u001b[1;32m     40\u001b[0m \u001b[38;5;28;01mfrom\u001b[39;00m\u001b[38;5;250m \u001b[39m\u001b[38;5;21;01mcapsul\u001b[39;00m\u001b[38;5;21;01m.\u001b[39;00m\u001b[38;5;21;01mpipeline\u001b[39;00m\u001b[38;5;21;01m.\u001b[39;00m\u001b[38;5;21;01mpipeline_nodes\u001b[39;00m\u001b[38;5;250m \u001b[39m\u001b[38;5;28;01mimport\u001b[39;00m OptionalOutputSwitch\n\u001b[0;32m---> 41\u001b[0m \u001b[38;5;28;01mfrom\u001b[39;00m\u001b[38;5;250m \u001b[39m\u001b[38;5;21;01mcapsul\u001b[39;00m\u001b[38;5;21;01m.\u001b[39;00m\u001b[38;5;21;01mengine\u001b[39;00m\u001b[38;5;250m \u001b[39m\u001b[38;5;28;01mimport\u001b[39;00m capsul_engine\n\u001b[1;32m     42\u001b[0m \u001b[38;5;28;01mfrom\u001b[39;00m\u001b[38;5;250m \u001b[39m\u001b[38;5;21;01mcapsul\u001b[39;00m\u001b[38;5;21;01m.\u001b[39;00m\u001b[38;5;21;01mengine\u001b[39;00m\u001b[38;5;250m \u001b[39m\u001b[38;5;28;01mimport\u001b[39;00m activate_configuration\n\u001b[1;32m     43\u001b[0m \u001b[38;5;28;01mfrom\u001b[39;00m\u001b[38;5;250m \u001b[39m\u001b[38;5;21;01mcapsul\u001b[39;00m\u001b[38;5;21;01m.\u001b[39;00m\u001b[38;5;21;01mstudy_config\u001b[39;00m\u001b[38;5;21;01m.\u001b[39;00m\u001b[38;5;21;01mprocess_instance\u001b[39;00m\u001b[38;5;250m \u001b[39m\u001b[38;5;28;01mimport\u001b[39;00m get_process_instance\n",
      "File \u001b[0;32m~/work/capsul/capsul/capsul/engine/__init__.py:36\u001b[0m\n\u001b[1;32m     33\u001b[0m \u001b[38;5;28;01mfrom\u001b[39;00m\u001b[38;5;250m \u001b[39m\u001b[38;5;21;01msoma\u001b[39;00m\u001b[38;5;21;01m.\u001b[39;00m\u001b[38;5;21;01msorted_dictionary\u001b[39;00m\u001b[38;5;250m \u001b[39m\u001b[38;5;28;01mimport\u001b[39;00m SortedDictionary\n\u001b[1;32m     34\u001b[0m \u001b[38;5;28;01mfrom\u001b[39;00m\u001b[38;5;250m \u001b[39m\u001b[38;5;21;01msoma\u001b[39;00m\u001b[38;5;21;01m.\u001b[39;00m\u001b[38;5;21;01mutils\u001b[39;00m\u001b[38;5;21;01m.\u001b[39;00m\u001b[38;5;21;01mweak_proxy\u001b[39;00m\u001b[38;5;250m \u001b[39m\u001b[38;5;28;01mimport\u001b[39;00m get_ref\n\u001b[0;32m---> 36\u001b[0m \u001b[38;5;28;01mfrom\u001b[39;00m\u001b[38;5;250m \u001b[39m\u001b[38;5;21;01m.\u001b[39;00m\u001b[38;5;21;01mdatabase_populse\u001b[39;00m\u001b[38;5;250m \u001b[39m\u001b[38;5;28;01mimport\u001b[39;00m PopulseDBEngine\n\u001b[1;32m     38\u001b[0m \u001b[38;5;28;01mfrom\u001b[39;00m\u001b[38;5;250m \u001b[39m\u001b[38;5;21;01m.\u001b[39;00m\u001b[38;5;21;01msettings\u001b[39;00m\u001b[38;5;250m \u001b[39m\u001b[38;5;28;01mimport\u001b[39;00m Settings\n\u001b[1;32m     39\u001b[0m \u001b[38;5;28;01mfrom\u001b[39;00m\u001b[38;5;250m \u001b[39m\u001b[38;5;21;01m.\u001b[39;00m\u001b[38;5;21;01mmodule\u001b[39;00m\u001b[38;5;250m \u001b[39m\u001b[38;5;28;01mimport\u001b[39;00m default_modules\n",
      "File \u001b[0;32m~/work/capsul/capsul/capsul/engine/database_populse.py:6\u001b[0m\n\u001b[1;32m      2\u001b[0m \u001b[38;5;28;01mimport\u001b[39;00m\u001b[38;5;250m \u001b[39m\u001b[38;5;21;01mos\u001b[39;00m\u001b[38;5;21;01m.\u001b[39;00m\u001b[38;5;21;01mpath\u001b[39;00m\u001b[38;5;250m \u001b[39m\u001b[38;5;28;01mas\u001b[39;00m\u001b[38;5;250m \u001b[39m\u001b[38;5;21;01mosp\u001b[39;00m\n\u001b[1;32m      4\u001b[0m \u001b[38;5;28;01mfrom\u001b[39;00m\u001b[38;5;250m \u001b[39m\u001b[38;5;21;01mcapsul\u001b[39;00m\u001b[38;5;21;01m.\u001b[39;00m\u001b[38;5;21;01mengine\u001b[39;00m\u001b[38;5;21;01m.\u001b[39;00m\u001b[38;5;21;01mdatabase\u001b[39;00m\u001b[38;5;250m \u001b[39m\u001b[38;5;28;01mimport\u001b[39;00m DatabaseEngine\n\u001b[0;32m----> 6\u001b[0m \u001b[38;5;28;01mfrom\u001b[39;00m\u001b[38;5;250m \u001b[39m\u001b[38;5;21;01mpopulse_db\u001b[39;00m\u001b[38;5;21;01m.\u001b[39;00m\u001b[38;5;21;01mstorage\u001b[39;00m\u001b[38;5;250m \u001b[39m\u001b[38;5;28;01mimport\u001b[39;00m Storage\n\u001b[1;32m      8\u001b[0m schemas \u001b[38;5;241m=\u001b[39m [\n\u001b[1;32m      9\u001b[0m     {\n\u001b[1;32m     10\u001b[0m         \u001b[38;5;124m\"\u001b[39m\u001b[38;5;124mversion\u001b[39m\u001b[38;5;124m\"\u001b[39m: \u001b[38;5;124m\"\u001b[39m\u001b[38;5;124m1.0.0\u001b[39m\u001b[38;5;124m\"\u001b[39m,\n\u001b[0;32m   (...)\u001b[0m\n\u001b[1;32m     39\u001b[0m     },\n\u001b[1;32m     40\u001b[0m ]\n\u001b[1;32m     43\u001b[0m \u001b[38;5;28;01mclass\u001b[39;00m\u001b[38;5;250m \u001b[39m\u001b[38;5;21;01mPopulseDBEngine\u001b[39;00m(DatabaseEngine):\n",
      "\u001b[0;31mModuleNotFoundError\u001b[0m: No module named 'populse_db.storage'"
     ]
    }
   ],
   "source": [
    "from capsul.api import Pipeline\n",
    "\n",
    "class Pipeline1(Pipeline):\n",
    "\n",
    "    def pipeline_definition(self):\n",
    "        # Create processes\n",
    "        self.add_process(\"node1\", Process1())\n",
    "        self.add_process(\"node2\", Process2())\n",
    "        \n",
    "pipeline1 = Pipeline1()"
   ]
  },
  {
   "cell_type": "markdown",
   "metadata": {
    "deletable": true,
    "editable": true
   },
   "source": [
    "<h3>Viewing / debugging a pipeline</h3>\n",
    "<h4>Pipeline structure</h4>"
   ]
  },
  {
   "cell_type": "code",
   "execution_count": 10,
   "metadata": {
    "collapsed": true,
    "deletable": true,
    "editable": true,
    "execution": {
     "iopub.execute_input": "2025-04-09T15:52:13.481982Z",
     "iopub.status.busy": "2025-04-09T15:52:13.481772Z",
     "iopub.status.idle": "2025-04-09T15:52:13.486570Z",
     "shell.execute_reply": "2025-04-09T15:52:13.485981Z"
    }
   },
   "outputs": [],
   "source": [
    "if globals().get('use_gui', True):\n",
    "    import sys\n",
    "    # note that the qt backend may be either PyQt4 or PySide.\n",
    "    from soma.qt_gui.qt_backend import QtGui\n",
    "    from capsul.qt_gui.widgets import PipelineDevelopperView\n",
    "\n",
    "    # here we determine whether the Qt GUI is already running or not.\n",
    "    run_qt_loop = False\n",
    "    if QtGui.QApplication.instance() is None:\n",
    "        app = QtGui.QApplication(sys.argv)\n",
    "        run_qt_loop = True\n",
    "    else:\n",
    "        app = QtGui.QApplication.instance()\n",
    "    # in the following we will reuse this run_qt_loop variable for simplicity\n",
    "\n",
    "    # now the real thing for pipeline viewing    \n",
    "    view1 = PipelineDevelopperView(pipeline1)\n",
    "    view1.show()\n",
    "\n",
    "    if run_qt_loop:\n",
    "        print('close window to gon on...')\n",
    "        app.exec_()"
   ]
  },
  {
   "cell_type": "markdown",
   "metadata": {
    "deletable": true,
    "editable": true
   },
   "source": [
    "It should display something like this:\n",
    "![capsul pipeline view](images/capsul_pipeline1.jpg \"capsul pipeline view\")\n",
    "\n",
    "#### Entering parameters"
   ]
  },
  {
   "cell_type": "code",
   "execution_count": 11,
   "metadata": {
    "collapsed": true,
    "deletable": true,
    "editable": true,
    "execution": {
     "iopub.execute_input": "2025-04-09T15:52:13.488718Z",
     "iopub.status.busy": "2025-04-09T15:52:13.488302Z",
     "iopub.status.idle": "2025-04-09T15:52:13.492213Z",
     "shell.execute_reply": "2025-04-09T15:52:13.491675Z"
    }
   },
   "outputs": [],
   "source": [
    "if globals().get('use_gui', True):\n",
    "    from soma.qt_gui.controller_widget import ControllerWidget\n",
    "\n",
    "    controller1 = ControllerWidget(pipeline1, live=True)\n",
    "    controller1.show()\n",
    "    controller2 = ControllerWidget(pipeline1, live=True)\n",
    "    controller2.show()\n",
    "    if run_qt_loop:\n",
    "        app.exec_()"
   ]
  },
  {
   "cell_type": "markdown",
   "metadata": {
    "deletable": true,
    "editable": true
   },
   "source": [
    "![controller views](images/capsul_controller1.jpg \"controller views\")\n",
    "\n",
    "### Links and exportations"
   ]
  },
  {
   "cell_type": "code",
   "execution_count": 12,
   "metadata": {
    "collapsed": true,
    "deletable": true,
    "editable": true,
    "execution": {
     "iopub.execute_input": "2025-04-09T15:52:13.494374Z",
     "iopub.status.busy": "2025-04-09T15:52:13.493858Z",
     "iopub.status.idle": "2025-04-09T15:52:13.510509Z",
     "shell.execute_reply": "2025-04-09T15:52:13.509870Z"
    }
   },
   "outputs": [
    {
     "ename": "NameError",
     "evalue": "name 'Pipeline' is not defined",
     "output_type": "error",
     "traceback": [
      "\u001b[0;31m---------------------------------------------------------------------------\u001b[0m",
      "\u001b[0;31mNameError\u001b[0m                                 Traceback (most recent call last)",
      "Cell \u001b[0;32mIn[12], line 1\u001b[0m\n\u001b[0;32m----> 1\u001b[0m \u001b[38;5;28;01mclass\u001b[39;00m\u001b[38;5;250m \u001b[39m\u001b[38;5;21;01mPipeline2\u001b[39;00m(\u001b[43mPipeline\u001b[49m):\n\u001b[1;32m      3\u001b[0m     \u001b[38;5;28;01mdef\u001b[39;00m\u001b[38;5;250m \u001b[39m\u001b[38;5;21mpipeline_definition\u001b[39m(\u001b[38;5;28mself\u001b[39m):\n\u001b[1;32m      4\u001b[0m         \u001b[38;5;66;03m# Create processes\u001b[39;00m\n\u001b[1;32m      5\u001b[0m         \u001b[38;5;28mself\u001b[39m\u001b[38;5;241m.\u001b[39madd_process(\u001b[38;5;124m\"\u001b[39m\u001b[38;5;124mnode1\u001b[39m\u001b[38;5;124m\"\u001b[39m, Process1())\n",
      "\u001b[0;31mNameError\u001b[0m: name 'Pipeline' is not defined"
     ]
    }
   ],
   "source": [
    "class Pipeline2(Pipeline):\n",
    "\n",
    "    def pipeline_definition(self):\n",
    "        # Create processes\n",
    "        self.add_process(\"node1\", Process1())\n",
    "        self.add_process(\"node2\", Process2())\n",
    "        # links\n",
    "        self.add_link('node2.a->node1.ff')\n",
    "        # custom exports\n",
    "        self.export_parameter(\"node2\", \"b\", \"node_string\")"
   ]
  },
  {
   "cell_type": "code",
   "execution_count": 13,
   "metadata": {
    "collapsed": true,
    "deletable": true,
    "editable": true,
    "execution": {
     "iopub.execute_input": "2025-04-09T15:52:13.512814Z",
     "iopub.status.busy": "2025-04-09T15:52:13.512381Z",
     "iopub.status.idle": "2025-04-09T15:52:13.528185Z",
     "shell.execute_reply": "2025-04-09T15:52:13.527452Z"
    }
   },
   "outputs": [
    {
     "ename": "NameError",
     "evalue": "name 'Pipeline2' is not defined",
     "output_type": "error",
     "traceback": [
      "\u001b[0;31m---------------------------------------------------------------------------\u001b[0m",
      "\u001b[0;31mNameError\u001b[0m                                 Traceback (most recent call last)",
      "Cell \u001b[0;32mIn[13], line 1\u001b[0m\n\u001b[0;32m----> 1\u001b[0m pipeline2 \u001b[38;5;241m=\u001b[39m \u001b[43mPipeline2\u001b[49m()\n\u001b[1;32m      2\u001b[0m \u001b[38;5;28;01mif\u001b[39;00m \u001b[38;5;28mglobals\u001b[39m()\u001b[38;5;241m.\u001b[39mget(\u001b[38;5;124m'\u001b[39m\u001b[38;5;124muse_gui\u001b[39m\u001b[38;5;124m'\u001b[39m, \u001b[38;5;28;01mTrue\u001b[39;00m):\n\u001b[1;32m      3\u001b[0m     view2 \u001b[38;5;241m=\u001b[39m PipelineDevelopperView(pipeline2)\n",
      "\u001b[0;31mNameError\u001b[0m: name 'Pipeline2' is not defined"
     ]
    }
   ],
   "source": [
    "pipeline2 = Pipeline2()\n",
    "if globals().get('use_gui', True):\n",
    "    view2 = PipelineDevelopperView(pipeline2)\n",
    "    view2.show()\n",
    "    if run_qt_loop:\n",
    "        app.exec_()"
   ]
  },
  {
   "cell_type": "markdown",
   "metadata": {
    "deletable": true,
    "editable": true
   },
   "source": [
    "![pipeline with links](images/capsul_pipeline2.jpg \"pipeline with links\")"
   ]
  },
  {
   "cell_type": "code",
   "execution_count": 14,
   "metadata": {
    "collapsed": false,
    "deletable": true,
    "editable": true,
    "execution": {
     "iopub.execute_input": "2025-04-09T15:52:13.530691Z",
     "iopub.status.busy": "2025-04-09T15:52:13.530268Z",
     "iopub.status.idle": "2025-04-09T15:52:13.544777Z",
     "shell.execute_reply": "2025-04-09T15:52:13.544195Z"
    }
   },
   "outputs": [
    {
     "ename": "NameError",
     "evalue": "name 'pipeline2' is not defined",
     "output_type": "error",
     "traceback": [
      "\u001b[0;31m---------------------------------------------------------------------------\u001b[0m",
      "\u001b[0;31mNameError\u001b[0m                                 Traceback (most recent call last)",
      "Cell \u001b[0;32mIn[14], line 1\u001b[0m\n\u001b[0;32m----> 1\u001b[0m \u001b[43mpipeline2\u001b[49m\u001b[38;5;241m.\u001b[39mf \u001b[38;5;241m=\u001b[39m \u001b[38;5;241m13.2\u001b[39m\n\u001b[1;32m      2\u001b[0m pipeline2\u001b[38;5;241m.\u001b[39mnode_string \u001b[38;5;241m=\u001b[39m \u001b[38;5;124m\"\u001b[39m\u001b[38;5;124mblop\u001b[39m\u001b[38;5;124m\"\u001b[39m\n\u001b[1;32m      3\u001b[0m pipeline2()\n",
      "\u001b[0;31mNameError\u001b[0m: name 'pipeline2' is not defined"
     ]
    }
   ],
   "source": [
    "pipeline2.f = 13.2\n",
    "pipeline2.node_string = \"blop\"\n",
    "pipeline2()"
   ]
  },
  {
   "cell_type": "markdown",
   "metadata": {
    "deletable": true,
    "editable": true
   },
   "source": [
    "<h3>Defining a Pipeline from XML a file</h3>\n",
    "\n",
    "A Pipeline can be described from an xml file. For the documentation of the description glossary, please refer to the capsul documentation. In the following example we will use the 'xml_pipeline.xml' test description. See <a href=\"http://populse.github.io/capsul/user_guide_tree/xml_spec.html\">XML specifications</a> for more information."
   ]
  },
  {
   "cell_type": "code",
   "execution_count": 15,
   "metadata": {
    "collapsed": false,
    "deletable": true,
    "editable": true,
    "execution": {
     "iopub.execute_input": "2025-04-09T15:52:13.547092Z",
     "iopub.status.busy": "2025-04-09T15:52:13.546691Z",
     "iopub.status.idle": "2025-04-09T15:52:13.551788Z",
     "shell.execute_reply": "2025-04-09T15:52:13.551117Z"
    },
    "scrolled": false
   },
   "outputs": [
    {
     "name": "stdout",
     "output_type": "stream",
     "text": [
      "<pipeline>\n",
      "    <doc>\n",
      "        Auto Generated Pipeline Test\n",
      "    </doc>\n",
      "    <process name=\"p1\"\n",
      "             module=\"capsul.process.test.test_load_from_description.a_function_to_wrap\">\n",
      "        <set name=\"list_of_str\" value=\"['test']\"/>\n",
      "    </process>\n",
      "    <process name=\"p2\"\n",
      "             module=\"capsul.process.test.test_load_from_description.a_function_to_wrap\"/>\n",
      "    <link source=\"p1.string\" dest=\"p2.fname\"/>\n",
      "    <link source=\"pdirectory\" dest=\"p2.directory\"/>\n",
      "    <link source=\"value\" dest=\"p2.value\"/>\n",
      "    <link source=\"enum\" dest=\"p2.enum\"/>\n",
      "    <link source=\"list_of_str\" dest=\"p2.list_of_str\"/>\n",
      "    <link source=\"value\" dest=\"p1.value\"/>\n",
      "    <link source=\"enum\" dest=\"p1.enum\"/>\n",
      "    <link source=\"fname\" dest=\"p1.fname\"/>\n",
      "    <link source=\"list_of_str\" dest=\"p1.list_of_str\"/>\n",
      "    <link source=\"pdirectory\" dest=\"p1.directory\"/>\n",
      "    <link dest=\"out1\" source=\"p2.string\"/>\n",
      "    <gui>\n",
      "        <position name=\"inputs\" x=\"0\" y=\"0\"/>\n",
      "        <position name=\"p1\" x=\"200\" y=\"200\"/>\n",
      "        <position name=\"p2\" x=\"400\" y=\"-200\"/>\n",
      "        <position name=\"outputs\" x=\"600\" y=\"0\"/>\n",
      "        <zoom level=\"1\"/> \n",
      "    </gui>\n",
      "</pipeline>\n",
      "\n"
     ]
    }
   ],
   "source": [
    "import os\n",
    "import capsul.process.test as test\n",
    "\n",
    "xmldesc = os.path.join(os.path.dirname(test.__file__), \"xml_pipeline.xml\")\n",
    "with open(xmldesc, \"r\") as openfile:\n",
    "    print(\"\".join(openfile.readlines()))"
   ]
  },
  {
   "cell_type": "markdown",
   "metadata": {
    "deletable": true,
    "editable": true
   },
   "source": [
    "Two building blocks are connected in this example. We will soon have a graphical representation of the pipeline, which in turn will clarify the xml sections. But first we must create a Pipeline from this xml description:"
   ]
  },
  {
   "cell_type": "code",
   "execution_count": 16,
   "metadata": {
    "collapsed": false,
    "deletable": true,
    "editable": true,
    "execution": {
     "iopub.execute_input": "2025-04-09T15:52:13.554025Z",
     "iopub.status.busy": "2025-04-09T15:52:13.553627Z",
     "iopub.status.idle": "2025-04-09T15:52:13.614406Z",
     "shell.execute_reply": "2025-04-09T15:52:13.613719Z"
    }
   },
   "outputs": [
    {
     "ename": "ModuleNotFoundError",
     "evalue": "No module named 'populse_db.storage'",
     "output_type": "error",
     "traceback": [
      "\u001b[0;31m---------------------------------------------------------------------------\u001b[0m",
      "\u001b[0;31mModuleNotFoundError\u001b[0m                       Traceback (most recent call last)",
      "Cell \u001b[0;32mIn[16], line 1\u001b[0m\n\u001b[0;32m----> 1\u001b[0m \u001b[38;5;28;01mfrom\u001b[39;00m\u001b[38;5;250m \u001b[39m\u001b[38;5;21;01mcapsul\u001b[39;00m\u001b[38;5;21;01m.\u001b[39;00m\u001b[38;5;21;01mapi\u001b[39;00m\u001b[38;5;250m \u001b[39m\u001b[38;5;28;01mimport\u001b[39;00m get_process_instance\n\u001b[1;32m      3\u001b[0m xmlpipe \u001b[38;5;241m=\u001b[39m get_process_instance(\u001b[38;5;124m\"\u001b[39m\u001b[38;5;124mcapsul.process.test.xml_pipeline\u001b[39m\u001b[38;5;124m\"\u001b[39m)\n\u001b[1;32m      4\u001b[0m xmlpipe\u001b[38;5;241m.\u001b[39mhelp()\n",
      "File \u001b[0;32m~/work/capsul/capsul/capsul/api.py:41\u001b[0m\n\u001b[1;32m     39\u001b[0m \u001b[38;5;28;01mfrom\u001b[39;00m\u001b[38;5;250m \u001b[39m\u001b[38;5;21;01mcapsul\u001b[39;00m\u001b[38;5;21;01m.\u001b[39;00m\u001b[38;5;21;01mpipeline\u001b[39;00m\u001b[38;5;21;01m.\u001b[39;00m\u001b[38;5;21;01mpipeline_nodes\u001b[39;00m\u001b[38;5;250m \u001b[39m\u001b[38;5;28;01mimport\u001b[39;00m Switch\n\u001b[1;32m     40\u001b[0m \u001b[38;5;28;01mfrom\u001b[39;00m\u001b[38;5;250m \u001b[39m\u001b[38;5;21;01mcapsul\u001b[39;00m\u001b[38;5;21;01m.\u001b[39;00m\u001b[38;5;21;01mpipeline\u001b[39;00m\u001b[38;5;21;01m.\u001b[39;00m\u001b[38;5;21;01mpipeline_nodes\u001b[39;00m\u001b[38;5;250m \u001b[39m\u001b[38;5;28;01mimport\u001b[39;00m OptionalOutputSwitch\n\u001b[0;32m---> 41\u001b[0m \u001b[38;5;28;01mfrom\u001b[39;00m\u001b[38;5;250m \u001b[39m\u001b[38;5;21;01mcapsul\u001b[39;00m\u001b[38;5;21;01m.\u001b[39;00m\u001b[38;5;21;01mengine\u001b[39;00m\u001b[38;5;250m \u001b[39m\u001b[38;5;28;01mimport\u001b[39;00m capsul_engine\n\u001b[1;32m     42\u001b[0m \u001b[38;5;28;01mfrom\u001b[39;00m\u001b[38;5;250m \u001b[39m\u001b[38;5;21;01mcapsul\u001b[39;00m\u001b[38;5;21;01m.\u001b[39;00m\u001b[38;5;21;01mengine\u001b[39;00m\u001b[38;5;250m \u001b[39m\u001b[38;5;28;01mimport\u001b[39;00m activate_configuration\n\u001b[1;32m     43\u001b[0m \u001b[38;5;28;01mfrom\u001b[39;00m\u001b[38;5;250m \u001b[39m\u001b[38;5;21;01mcapsul\u001b[39;00m\u001b[38;5;21;01m.\u001b[39;00m\u001b[38;5;21;01mstudy_config\u001b[39;00m\u001b[38;5;21;01m.\u001b[39;00m\u001b[38;5;21;01mprocess_instance\u001b[39;00m\u001b[38;5;250m \u001b[39m\u001b[38;5;28;01mimport\u001b[39;00m get_process_instance\n",
      "File \u001b[0;32m~/work/capsul/capsul/capsul/engine/__init__.py:36\u001b[0m\n\u001b[1;32m     33\u001b[0m \u001b[38;5;28;01mfrom\u001b[39;00m\u001b[38;5;250m \u001b[39m\u001b[38;5;21;01msoma\u001b[39;00m\u001b[38;5;21;01m.\u001b[39;00m\u001b[38;5;21;01msorted_dictionary\u001b[39;00m\u001b[38;5;250m \u001b[39m\u001b[38;5;28;01mimport\u001b[39;00m SortedDictionary\n\u001b[1;32m     34\u001b[0m \u001b[38;5;28;01mfrom\u001b[39;00m\u001b[38;5;250m \u001b[39m\u001b[38;5;21;01msoma\u001b[39;00m\u001b[38;5;21;01m.\u001b[39;00m\u001b[38;5;21;01mutils\u001b[39;00m\u001b[38;5;21;01m.\u001b[39;00m\u001b[38;5;21;01mweak_proxy\u001b[39;00m\u001b[38;5;250m \u001b[39m\u001b[38;5;28;01mimport\u001b[39;00m get_ref\n\u001b[0;32m---> 36\u001b[0m \u001b[38;5;28;01mfrom\u001b[39;00m\u001b[38;5;250m \u001b[39m\u001b[38;5;21;01m.\u001b[39;00m\u001b[38;5;21;01mdatabase_populse\u001b[39;00m\u001b[38;5;250m \u001b[39m\u001b[38;5;28;01mimport\u001b[39;00m PopulseDBEngine\n\u001b[1;32m     38\u001b[0m \u001b[38;5;28;01mfrom\u001b[39;00m\u001b[38;5;250m \u001b[39m\u001b[38;5;21;01m.\u001b[39;00m\u001b[38;5;21;01msettings\u001b[39;00m\u001b[38;5;250m \u001b[39m\u001b[38;5;28;01mimport\u001b[39;00m Settings\n\u001b[1;32m     39\u001b[0m \u001b[38;5;28;01mfrom\u001b[39;00m\u001b[38;5;250m \u001b[39m\u001b[38;5;21;01m.\u001b[39;00m\u001b[38;5;21;01mmodule\u001b[39;00m\u001b[38;5;250m \u001b[39m\u001b[38;5;28;01mimport\u001b[39;00m default_modules\n",
      "File \u001b[0;32m~/work/capsul/capsul/capsul/engine/database_populse.py:6\u001b[0m\n\u001b[1;32m      2\u001b[0m \u001b[38;5;28;01mimport\u001b[39;00m\u001b[38;5;250m \u001b[39m\u001b[38;5;21;01mos\u001b[39;00m\u001b[38;5;21;01m.\u001b[39;00m\u001b[38;5;21;01mpath\u001b[39;00m\u001b[38;5;250m \u001b[39m\u001b[38;5;28;01mas\u001b[39;00m\u001b[38;5;250m \u001b[39m\u001b[38;5;21;01mosp\u001b[39;00m\n\u001b[1;32m      4\u001b[0m \u001b[38;5;28;01mfrom\u001b[39;00m\u001b[38;5;250m \u001b[39m\u001b[38;5;21;01mcapsul\u001b[39;00m\u001b[38;5;21;01m.\u001b[39;00m\u001b[38;5;21;01mengine\u001b[39;00m\u001b[38;5;21;01m.\u001b[39;00m\u001b[38;5;21;01mdatabase\u001b[39;00m\u001b[38;5;250m \u001b[39m\u001b[38;5;28;01mimport\u001b[39;00m DatabaseEngine\n\u001b[0;32m----> 6\u001b[0m \u001b[38;5;28;01mfrom\u001b[39;00m\u001b[38;5;250m \u001b[39m\u001b[38;5;21;01mpopulse_db\u001b[39;00m\u001b[38;5;21;01m.\u001b[39;00m\u001b[38;5;21;01mstorage\u001b[39;00m\u001b[38;5;250m \u001b[39m\u001b[38;5;28;01mimport\u001b[39;00m Storage\n\u001b[1;32m      8\u001b[0m schemas \u001b[38;5;241m=\u001b[39m [\n\u001b[1;32m      9\u001b[0m     {\n\u001b[1;32m     10\u001b[0m         \u001b[38;5;124m\"\u001b[39m\u001b[38;5;124mversion\u001b[39m\u001b[38;5;124m\"\u001b[39m: \u001b[38;5;124m\"\u001b[39m\u001b[38;5;124m1.0.0\u001b[39m\u001b[38;5;124m\"\u001b[39m,\n\u001b[0;32m   (...)\u001b[0m\n\u001b[1;32m     39\u001b[0m     },\n\u001b[1;32m     40\u001b[0m ]\n\u001b[1;32m     43\u001b[0m \u001b[38;5;28;01mclass\u001b[39;00m\u001b[38;5;250m \u001b[39m\u001b[38;5;21;01mPopulseDBEngine\u001b[39;00m(DatabaseEngine):\n",
      "\u001b[0;31mModuleNotFoundError\u001b[0m: No module named 'populse_db.storage'"
     ]
    }
   ],
   "source": [
    "from capsul.api import get_process_instance\n",
    "\n",
    "xmlpipe = get_process_instance(\"capsul.process.test.xml_pipeline\")\n",
    "xmlpipe.help()"
   ]
  },
  {
   "cell_type": "markdown",
   "metadata": {
    "deletable": true,
    "editable": true
   },
   "source": [
    "One major advantage of the capsul pipeline system is to be able to represent graphically the processing sequence:"
   ]
  },
  {
   "cell_type": "code",
   "execution_count": 17,
   "metadata": {
    "collapsed": true,
    "deletable": true,
    "editable": true,
    "execution": {
     "iopub.execute_input": "2025-04-09T15:52:13.616786Z",
     "iopub.status.busy": "2025-04-09T15:52:13.616349Z",
     "iopub.status.idle": "2025-04-09T15:52:13.620394Z",
     "shell.execute_reply": "2025-04-09T15:52:13.619846Z"
    }
   },
   "outputs": [],
   "source": [
    "if globals().get('use_gui', True):\n",
    "    import sys\n",
    "    from soma.qt_gui.qt_backend import QtGui\n",
    "    from capsul.qt_gui.widgets import PipelineDevelopperView\n",
    "    from soma.qt_gui.controller_widget import ControllerWidget\n",
    "\n",
    "    view = PipelineDevelopperView(xmlpipe)\n",
    "    controller = ControllerWidget(xmlpipe, live=True)\n",
    "    view.show()\n",
    "    controller.show()\n",
    "    if run_qt_loop:\n",
    "        app.exec_()"
   ]
  },
  {
   "cell_type": "markdown",
   "metadata": {
    "deletable": true,
    "editable": true
   },
   "source": [
    "![xml pipeline](images/capsul_pipeline_xml1.jpg \"xml pipeline\")\n",
    "![xml pipeline controller](images/capsul_pipeline_xml1_controller.jpg \"xml pipeline controller\")\n",
    "\n",
    "## Switches\n",
    "\n",
    "In Capsul it is possible to define a building block which aims to select a sequence of processings. It is done with a Switch building block as follows:\n",
    "\n",
    "### Using the Python API"
   ]
  },
  {
   "cell_type": "code",
   "execution_count": 18,
   "metadata": {
    "collapsed": true,
    "deletable": true,
    "editable": true,
    "execution": {
     "iopub.execute_input": "2025-04-09T15:52:13.622556Z",
     "iopub.status.busy": "2025-04-09T15:52:13.622164Z",
     "iopub.status.idle": "2025-04-09T15:52:13.639719Z",
     "shell.execute_reply": "2025-04-09T15:52:13.639015Z"
    }
   },
   "outputs": [
    {
     "ename": "NameError",
     "evalue": "name 'Pipeline' is not defined",
     "output_type": "error",
     "traceback": [
      "\u001b[0;31m---------------------------------------------------------------------------\u001b[0m",
      "\u001b[0;31mNameError\u001b[0m                                 Traceback (most recent call last)",
      "Cell \u001b[0;32mIn[18], line 1\u001b[0m\n\u001b[0;32m----> 1\u001b[0m \u001b[38;5;28;01mclass\u001b[39;00m\u001b[38;5;250m \u001b[39m\u001b[38;5;21;01mPipeline3\u001b[39;00m(\u001b[43mPipeline\u001b[49m):\n\u001b[1;32m      3\u001b[0m     \u001b[38;5;28;01mdef\u001b[39;00m\u001b[38;5;250m \u001b[39m\u001b[38;5;21mpipeline_definition\u001b[39m(\u001b[38;5;28mself\u001b[39m):\n\u001b[1;32m      4\u001b[0m         \u001b[38;5;66;03m# Create processes\u001b[39;00m\n\u001b[1;32m      5\u001b[0m         \u001b[38;5;28mself\u001b[39m\u001b[38;5;241m.\u001b[39madd_process(\u001b[38;5;124m\"\u001b[39m\u001b[38;5;124mnode1\u001b[39m\u001b[38;5;124m\"\u001b[39m, Process1())\n",
      "\u001b[0;31mNameError\u001b[0m: name 'Pipeline' is not defined"
     ]
    }
   ],
   "source": [
    "class Pipeline3(Pipeline):\n",
    "    \n",
    "    def pipeline_definition(self):\n",
    "        # Create processes\n",
    "        self.add_process(\"node1\", Process1())\n",
    "        self.add_process(\"node2\", Process2())\n",
    "        self.add_switch(\"switch\", [\"case1\", \"case2\"], [\"output\"])\n",
    "        #links\n",
    "        self.add_link(\"node1.out->switch.case1_switch_output\")\n",
    "        self.add_link(\"node2.a->switch.case2_switch_output\")"
   ]
  },
  {
   "cell_type": "code",
   "execution_count": 19,
   "metadata": {
    "collapsed": true,
    "deletable": true,
    "editable": true,
    "execution": {
     "iopub.execute_input": "2025-04-09T15:52:13.642058Z",
     "iopub.status.busy": "2025-04-09T15:52:13.641734Z",
     "iopub.status.idle": "2025-04-09T15:52:13.658020Z",
     "shell.execute_reply": "2025-04-09T15:52:13.657275Z"
    }
   },
   "outputs": [
    {
     "ename": "NameError",
     "evalue": "name 'Pipeline3' is not defined",
     "output_type": "error",
     "traceback": [
      "\u001b[0;31m---------------------------------------------------------------------------\u001b[0m",
      "\u001b[0;31mNameError\u001b[0m                                 Traceback (most recent call last)",
      "Cell \u001b[0;32mIn[19], line 1\u001b[0m\n\u001b[0;32m----> 1\u001b[0m pipeline3 \u001b[38;5;241m=\u001b[39m \u001b[43mPipeline3\u001b[49m()\n\u001b[1;32m      2\u001b[0m \u001b[38;5;28;01mif\u001b[39;00m \u001b[38;5;28mglobals\u001b[39m()\u001b[38;5;241m.\u001b[39mget(\u001b[38;5;124m'\u001b[39m\u001b[38;5;124muse_gui\u001b[39m\u001b[38;5;124m'\u001b[39m, \u001b[38;5;28;01mTrue\u001b[39;00m):\n\u001b[1;32m      3\u001b[0m     view3 \u001b[38;5;241m=\u001b[39m PipelineDevelopperView(pipeline3, allow_open_controller\u001b[38;5;241m=\u001b[39m\u001b[38;5;28;01mTrue\u001b[39;00m, show_sub_pipelines\u001b[38;5;241m=\u001b[39m\u001b[38;5;28;01mTrue\u001b[39;00m)\n",
      "\u001b[0;31mNameError\u001b[0m: name 'Pipeline3' is not defined"
     ]
    }
   ],
   "source": [
    "pipeline3 = Pipeline3()\n",
    "if globals().get('use_gui', True):\n",
    "    view3 = PipelineDevelopperView(pipeline3, allow_open_controller=True, show_sub_pipelines=True)\n",
    "    view3.show()\n",
    "    if run_qt_loop:\n",
    "        app.exec_()"
   ]
  },
  {
   "cell_type": "markdown",
   "metadata": {
    "deletable": true,
    "editable": true
   },
   "source": [
    "![pipeline3](images/capsul_pipeline3.jpg \"pipeline3\")"
   ]
  },
  {
   "cell_type": "code",
   "execution_count": 20,
   "metadata": {
    "collapsed": true,
    "deletable": true,
    "editable": true,
    "execution": {
     "iopub.execute_input": "2025-04-09T15:52:13.660587Z",
     "iopub.status.busy": "2025-04-09T15:52:13.660175Z",
     "iopub.status.idle": "2025-04-09T15:52:13.675623Z",
     "shell.execute_reply": "2025-04-09T15:52:13.675055Z"
    }
   },
   "outputs": [
    {
     "ename": "NameError",
     "evalue": "name 'pipeline3' is not defined",
     "output_type": "error",
     "traceback": [
      "\u001b[0;31m---------------------------------------------------------------------------\u001b[0m",
      "\u001b[0;31mNameError\u001b[0m                                 Traceback (most recent call last)",
      "Cell \u001b[0;32mIn[20], line 1\u001b[0m\n\u001b[0;32m----> 1\u001b[0m \u001b[43mpipeline3\u001b[49m\u001b[38;5;241m.\u001b[39mswitch \u001b[38;5;241m=\u001b[39m \u001b[38;5;124m\"\u001b[39m\u001b[38;5;124mcase2\u001b[39m\u001b[38;5;124m\"\u001b[39m\n\u001b[1;32m      3\u001b[0m \u001b[38;5;28;01mif\u001b[39;00m \u001b[38;5;28mglobals\u001b[39m()\u001b[38;5;241m.\u001b[39mget(\u001b[38;5;124m'\u001b[39m\u001b[38;5;124muse_gui\u001b[39m\u001b[38;5;124m'\u001b[39m, \u001b[38;5;28;01mTrue\u001b[39;00m):\n\u001b[1;32m      4\u001b[0m     view3\u001b[38;5;241m.\u001b[39mshow()\n",
      "\u001b[0;31mNameError\u001b[0m: name 'pipeline3' is not defined"
     ]
    }
   ],
   "source": [
    "pipeline3.switch = \"case2\"\n",
    "\n",
    "if globals().get('use_gui', True):\n",
    "    view3.show()\n",
    "    if run_qt_loop:\n",
    "        app.exec_()"
   ]
  },
  {
   "cell_type": "code",
   "execution_count": 21,
   "metadata": {
    "collapsed": true,
    "deletable": true,
    "editable": true,
    "execution": {
     "iopub.execute_input": "2025-04-09T15:52:13.677866Z",
     "iopub.status.busy": "2025-04-09T15:52:13.677455Z",
     "iopub.status.idle": "2025-04-09T15:52:13.692226Z",
     "shell.execute_reply": "2025-04-09T15:52:13.691513Z"
    }
   },
   "outputs": [
    {
     "ename": "NameError",
     "evalue": "name 'pipeline3' is not defined",
     "output_type": "error",
     "traceback": [
      "\u001b[0;31m---------------------------------------------------------------------------\u001b[0m",
      "\u001b[0;31mNameError\u001b[0m                                 Traceback (most recent call last)",
      "Cell \u001b[0;32mIn[21], line 1\u001b[0m\n\u001b[0;32m----> 1\u001b[0m \u001b[43mpipeline3\u001b[49m(b\u001b[38;5;241m=\u001b[39m\u001b[38;5;124m'\u001b[39m\u001b[38;5;124myup\u001b[39m\u001b[38;5;124m'\u001b[39m)\n",
      "\u001b[0;31mNameError\u001b[0m: name 'pipeline3' is not defined"
     ]
    }
   ],
   "source": [
    "pipeline3(b='yup')"
   ]
  },
  {
   "cell_type": "markdown",
   "metadata": {
    "deletable": true,
    "editable": true
   },
   "source": [
    "<h3>Using XML definition</h3>"
   ]
  },
  {
   "cell_type": "code",
   "execution_count": 22,
   "metadata": {
    "collapsed": false,
    "deletable": true,
    "editable": true,
    "execution": {
     "iopub.execute_input": "2025-04-09T15:52:13.694775Z",
     "iopub.status.busy": "2025-04-09T15:52:13.694278Z",
     "iopub.status.idle": "2025-04-09T15:52:13.698972Z",
     "shell.execute_reply": "2025-04-09T15:52:13.698296Z"
    }
   },
   "outputs": [
    {
     "name": "stdout",
     "output_type": "stream",
     "text": [
      "<pipeline capsul_xml=\"2.0\">\n",
      "    <process name=\"threshold_gt_1\" \n",
      "     module=\"capsul.process.test.test_load_from_description.threshold\">\n",
      "        <set name=\"threshold\" value=\"1\"/>\n",
      "        <set name=\"method\" value=\"'gt'\"/>\n",
      "    </process>\n",
      "    <process name=\"threshold_gt_10\" \n",
      "     module=\"capsul.process.test.test_load_from_description.threshold\">\n",
      "        <set name=\"threshold\" value=\"10\"/>\n",
      "        <set name=\"method\" value=\"'gt'\"/>\n",
      "    </process>\n",
      "    <process name=\"threshold_gt_100\" \n",
      "     module=\"capsul.process.test.test_load_from_description.threshold\">\n",
      "        <set name=\"threshold\" value=\"100\"/>\n",
      "        <set name=\"method\" value=\"'gt'\"/>\n",
      "    </process>\n",
      "    <process name=\"threshold_lt_1\" \n",
      "     module=\"capsul.process.test.test_load_from_description.threshold\">\n",
      "        <set name=\"threshold\" value=\"1\"/>\n",
      "        <set name=\"method\" value=\"'lt'\"/>\n",
      "    </process>\n",
      "    <process name=\"threshold_lt_10\" \n",
      "     module=\"capsul.process.test.test_load_from_description.threshold\">\n",
      "        <set name=\"threshold\" value=\"10\"/>\n",
      "        <set name=\"method\" value=\"'lt'\"/>\n",
      "    </process>\n",
      "    <process name=\"threshold_lt_100\" \n",
      "     module=\"capsul.process.test.test_load_from_description.threshold\">\n",
      "        <set name=\"threshold\" value=\"100\"/>\n",
      "        <set name=\"method\" value=\"'lt'\"/>\n",
      "    </process>\n",
      "    <process name=\"mask_1\" \n",
      "     module=\"capsul.process.test.test_load_from_description.mask\">\n",
      "    </process>\n",
      "    <process name=\"mask_10\" \n",
      "     module=\"capsul.process.test.test_load_from_description.mask\">\n",
      "    </process>\n",
      "    <process name=\"mask_100\" \n",
      "     module=\"capsul.process.test.test_load_from_description.mask\">\n",
      "    </process>\n",
      "\n",
      "    <link source=\"input_image\" dest=\"threshold_gt_1.input_image\"/>\n",
      "    <link source=\"input_image\" dest=\"threshold_gt_10.input_image\"/>\n",
      "    <link source=\"input_image\" dest=\"threshold_gt_100.input_image\"/>\n",
      "    \n",
      "    <link source=\"input_image\" dest=\"threshold_lt_1.input_image\"/>\n",
      "    <link source=\"input_image\" dest=\"threshold_lt_10.input_image\"/>\n",
      "    <link source=\"input_image\" dest=\"threshold_lt_100.input_image\"/>\n",
      "\n",
      "    <link source=\"input_image\" dest=\"mask_1.input_image\"/>\n",
      "    <link source=\"input_image\" dest=\"mask_10.input_image\"/>\n",
      "    <link source=\"input_image\" dest=\"mask_100.input_image\"/>\n",
      "\n",
      "    <link source=\"threshold_gt_1.output_image\" dest=\"mask_1.mask\"/>\n",
      "    <link source=\"threshold_gt_10.output_image\" dest=\"mask_10.mask\"/>\n",
      "    <link source=\"threshold_gt_100.output_image\" dest=\"mask_100.mask\"/>\n",
      "    <link source=\"threshold_lt_1.output_image\" dest=\"mask_1.mask\"/>\n",
      "    <link source=\"threshold_lt_10.output_image\" dest=\"mask_10.mask\"/>\n",
      "    <link source=\"threshold_lt_100.output_image\" dest=\"mask_100.mask\"/>\n",
      "\n",
      "    <link source=\"mask_1.output_image\" dest=\"output_1\"/>\n",
      "    <link source=\"mask_10.output_image\" dest=\"output_10\"/>\n",
      "    <link source=\"mask_100.output_image\" dest=\"output_100\"/>\n",
      "\n",
      "    <processes_selection name=\"select_method\">\n",
      "        <processes_group name=\"greater than\">\n",
      "            <process name=\"threshold_gt_1\"/>\n",
      "            <process name=\"threshold_gt_10\"/>\n",
      "            <process name=\"threshold_gt_100\"/>\n",
      "        </processes_group>\n",
      "        <processes_group name=\"lower than\">\n",
      "            <process name=\"threshold_lt_1\"/>\n",
      "            <process name=\"threshold_lt_10\"/>\n",
      "            <process name=\"threshold_lt_100\"/>\n",
      "        </processes_group>\n",
      "    </processes_selection>\n",
      "    \n",
      "    <gui>\n",
      "        <position name=\"threshold_gt_100\" x=\"386.0\" y=\"403.0\"/>\n",
      "        <position name=\"inputs\" x=\"50.0\" y=\"50.0\"/>\n",
      "        <position name=\"mask_1\" x=\"815.0\" y=\"153.0\"/>\n",
      "        <position name=\"threshold_gt_10\" x=\"374.0\" y=\"242.0\"/>\n",
      "        <position name=\"threshold_lt_100\" x=\"556.0\" y=\"314.0\"/>\n",
      "        <position name=\"threshold_gt_1\" x=\"371.0\" y=\"88.0\"/>\n",
      "        <position name=\"mask_10\" x=\"820.0\" y=\"293.0\"/>\n",
      "        <position name=\"mask_100\" x=\"826.0\" y=\"451.0\"/>\n",
      "        <position name=\"threshold_lt_1\" x=\"570.0\" y=\"6.0\"/>\n",
      "        <position name=\"threshold_lt_10\" x=\"568.0\" y=\"145.0\"/>\n",
      "        <position name=\"outputs\" x=\"1000\" y=\"100\" />\n",
      "\n",
      "        <!--\n",
      "        <position name=\"threshold_gt_100\" x=\"182.35615\" y=\"658.8043\">\n",
      "        <position name=\"mask_1\" x=\"348.3267625\" y=\"205.125\">\n",
      "        <position name=\"threshold_gt_10\" x=\"183.6139625\" y=\"329.3854\">\n",
      "        <position name=\"inputs\" x=\"0.0\" y=\"488.9169\">\n",
      "        <position name=\"outputs\" x=\"512.08755\" y=\"488.9169\">\n",
      "        <position name=\"mask_100\" x=\"348.3267625\" y=\"744.8167\">\n",
      "        <position name=\"threshold_lt_1\" x=\"183.6139625\" y=\"146.998\">\n",
      "        <position name=\"threshold_gt_1\" x=\"183.6139625\" y=\"0.0\">\n",
      "        <position name=\"threshold_lt_100\" x=\"183.6139625\" y=\"805.8291\">\n",
      "        <position name=\"mask_10\" x=\"348.3267625\" y=\"488.9169\">\n",
      "        <position name=\"threshold_lt_10\" x=\"183.6139625\" y=\"476.4169\">\n",
      "        -->\n",
      "    </gui>\n",
      "</pipeline>\n",
      "\n"
     ]
    }
   ],
   "source": [
    "import os\n",
    "import capsul.process.test as test\n",
    "\n",
    "xmldesc = os.path.join(os.path.dirname(test.__file__), \"test_pipeline.xml\")\n",
    "with open(xmldesc, \"r\") as openfile:\n",
    "    print(\"\".join(openfile.readlines()))"
   ]
  },
  {
   "cell_type": "markdown",
   "metadata": {
    "deletable": true,
    "editable": true
   },
   "source": [
    "Again we can create a Pipeline from his xml description:"
   ]
  },
  {
   "cell_type": "code",
   "execution_count": 23,
   "metadata": {
    "collapsed": false,
    "deletable": true,
    "editable": true,
    "execution": {
     "iopub.execute_input": "2025-04-09T15:52:13.701272Z",
     "iopub.status.busy": "2025-04-09T15:52:13.700885Z",
     "iopub.status.idle": "2025-04-09T15:52:13.761070Z",
     "shell.execute_reply": "2025-04-09T15:52:13.760440Z"
    }
   },
   "outputs": [
    {
     "ename": "ModuleNotFoundError",
     "evalue": "No module named 'populse_db.storage'",
     "output_type": "error",
     "traceback": [
      "\u001b[0;31m---------------------------------------------------------------------------\u001b[0m",
      "\u001b[0;31mModuleNotFoundError\u001b[0m                       Traceback (most recent call last)",
      "Cell \u001b[0;32mIn[23], line 1\u001b[0m\n\u001b[0;32m----> 1\u001b[0m \u001b[38;5;28;01mfrom\u001b[39;00m\u001b[38;5;250m \u001b[39m\u001b[38;5;21;01mcapsul\u001b[39;00m\u001b[38;5;21;01m.\u001b[39;00m\u001b[38;5;21;01mapi\u001b[39;00m\u001b[38;5;250m \u001b[39m\u001b[38;5;28;01mimport\u001b[39;00m get_process_instance\n\u001b[1;32m      3\u001b[0m xmlpipe \u001b[38;5;241m=\u001b[39m get_process_instance(\u001b[38;5;124m\"\u001b[39m\u001b[38;5;124mcapsul.process.test.test_pipeline\u001b[39m\u001b[38;5;124m\"\u001b[39m)\n\u001b[1;32m      4\u001b[0m xmlpipe\u001b[38;5;241m.\u001b[39mhelp()\n",
      "File \u001b[0;32m~/work/capsul/capsul/capsul/api.py:41\u001b[0m\n\u001b[1;32m     39\u001b[0m \u001b[38;5;28;01mfrom\u001b[39;00m\u001b[38;5;250m \u001b[39m\u001b[38;5;21;01mcapsul\u001b[39;00m\u001b[38;5;21;01m.\u001b[39;00m\u001b[38;5;21;01mpipeline\u001b[39;00m\u001b[38;5;21;01m.\u001b[39;00m\u001b[38;5;21;01mpipeline_nodes\u001b[39;00m\u001b[38;5;250m \u001b[39m\u001b[38;5;28;01mimport\u001b[39;00m Switch\n\u001b[1;32m     40\u001b[0m \u001b[38;5;28;01mfrom\u001b[39;00m\u001b[38;5;250m \u001b[39m\u001b[38;5;21;01mcapsul\u001b[39;00m\u001b[38;5;21;01m.\u001b[39;00m\u001b[38;5;21;01mpipeline\u001b[39;00m\u001b[38;5;21;01m.\u001b[39;00m\u001b[38;5;21;01mpipeline_nodes\u001b[39;00m\u001b[38;5;250m \u001b[39m\u001b[38;5;28;01mimport\u001b[39;00m OptionalOutputSwitch\n\u001b[0;32m---> 41\u001b[0m \u001b[38;5;28;01mfrom\u001b[39;00m\u001b[38;5;250m \u001b[39m\u001b[38;5;21;01mcapsul\u001b[39;00m\u001b[38;5;21;01m.\u001b[39;00m\u001b[38;5;21;01mengine\u001b[39;00m\u001b[38;5;250m \u001b[39m\u001b[38;5;28;01mimport\u001b[39;00m capsul_engine\n\u001b[1;32m     42\u001b[0m \u001b[38;5;28;01mfrom\u001b[39;00m\u001b[38;5;250m \u001b[39m\u001b[38;5;21;01mcapsul\u001b[39;00m\u001b[38;5;21;01m.\u001b[39;00m\u001b[38;5;21;01mengine\u001b[39;00m\u001b[38;5;250m \u001b[39m\u001b[38;5;28;01mimport\u001b[39;00m activate_configuration\n\u001b[1;32m     43\u001b[0m \u001b[38;5;28;01mfrom\u001b[39;00m\u001b[38;5;250m \u001b[39m\u001b[38;5;21;01mcapsul\u001b[39;00m\u001b[38;5;21;01m.\u001b[39;00m\u001b[38;5;21;01mstudy_config\u001b[39;00m\u001b[38;5;21;01m.\u001b[39;00m\u001b[38;5;21;01mprocess_instance\u001b[39;00m\u001b[38;5;250m \u001b[39m\u001b[38;5;28;01mimport\u001b[39;00m get_process_instance\n",
      "File \u001b[0;32m~/work/capsul/capsul/capsul/engine/__init__.py:36\u001b[0m\n\u001b[1;32m     33\u001b[0m \u001b[38;5;28;01mfrom\u001b[39;00m\u001b[38;5;250m \u001b[39m\u001b[38;5;21;01msoma\u001b[39;00m\u001b[38;5;21;01m.\u001b[39;00m\u001b[38;5;21;01msorted_dictionary\u001b[39;00m\u001b[38;5;250m \u001b[39m\u001b[38;5;28;01mimport\u001b[39;00m SortedDictionary\n\u001b[1;32m     34\u001b[0m \u001b[38;5;28;01mfrom\u001b[39;00m\u001b[38;5;250m \u001b[39m\u001b[38;5;21;01msoma\u001b[39;00m\u001b[38;5;21;01m.\u001b[39;00m\u001b[38;5;21;01mutils\u001b[39;00m\u001b[38;5;21;01m.\u001b[39;00m\u001b[38;5;21;01mweak_proxy\u001b[39;00m\u001b[38;5;250m \u001b[39m\u001b[38;5;28;01mimport\u001b[39;00m get_ref\n\u001b[0;32m---> 36\u001b[0m \u001b[38;5;28;01mfrom\u001b[39;00m\u001b[38;5;250m \u001b[39m\u001b[38;5;21;01m.\u001b[39;00m\u001b[38;5;21;01mdatabase_populse\u001b[39;00m\u001b[38;5;250m \u001b[39m\u001b[38;5;28;01mimport\u001b[39;00m PopulseDBEngine\n\u001b[1;32m     38\u001b[0m \u001b[38;5;28;01mfrom\u001b[39;00m\u001b[38;5;250m \u001b[39m\u001b[38;5;21;01m.\u001b[39;00m\u001b[38;5;21;01msettings\u001b[39;00m\u001b[38;5;250m \u001b[39m\u001b[38;5;28;01mimport\u001b[39;00m Settings\n\u001b[1;32m     39\u001b[0m \u001b[38;5;28;01mfrom\u001b[39;00m\u001b[38;5;250m \u001b[39m\u001b[38;5;21;01m.\u001b[39;00m\u001b[38;5;21;01mmodule\u001b[39;00m\u001b[38;5;250m \u001b[39m\u001b[38;5;28;01mimport\u001b[39;00m default_modules\n",
      "File \u001b[0;32m~/work/capsul/capsul/capsul/engine/database_populse.py:6\u001b[0m\n\u001b[1;32m      2\u001b[0m \u001b[38;5;28;01mimport\u001b[39;00m\u001b[38;5;250m \u001b[39m\u001b[38;5;21;01mos\u001b[39;00m\u001b[38;5;21;01m.\u001b[39;00m\u001b[38;5;21;01mpath\u001b[39;00m\u001b[38;5;250m \u001b[39m\u001b[38;5;28;01mas\u001b[39;00m\u001b[38;5;250m \u001b[39m\u001b[38;5;21;01mosp\u001b[39;00m\n\u001b[1;32m      4\u001b[0m \u001b[38;5;28;01mfrom\u001b[39;00m\u001b[38;5;250m \u001b[39m\u001b[38;5;21;01mcapsul\u001b[39;00m\u001b[38;5;21;01m.\u001b[39;00m\u001b[38;5;21;01mengine\u001b[39;00m\u001b[38;5;21;01m.\u001b[39;00m\u001b[38;5;21;01mdatabase\u001b[39;00m\u001b[38;5;250m \u001b[39m\u001b[38;5;28;01mimport\u001b[39;00m DatabaseEngine\n\u001b[0;32m----> 6\u001b[0m \u001b[38;5;28;01mfrom\u001b[39;00m\u001b[38;5;250m \u001b[39m\u001b[38;5;21;01mpopulse_db\u001b[39;00m\u001b[38;5;21;01m.\u001b[39;00m\u001b[38;5;21;01mstorage\u001b[39;00m\u001b[38;5;250m \u001b[39m\u001b[38;5;28;01mimport\u001b[39;00m Storage\n\u001b[1;32m      8\u001b[0m schemas \u001b[38;5;241m=\u001b[39m [\n\u001b[1;32m      9\u001b[0m     {\n\u001b[1;32m     10\u001b[0m         \u001b[38;5;124m\"\u001b[39m\u001b[38;5;124mversion\u001b[39m\u001b[38;5;124m\"\u001b[39m: \u001b[38;5;124m\"\u001b[39m\u001b[38;5;124m1.0.0\u001b[39m\u001b[38;5;124m\"\u001b[39m,\n\u001b[0;32m   (...)\u001b[0m\n\u001b[1;32m     39\u001b[0m     },\n\u001b[1;32m     40\u001b[0m ]\n\u001b[1;32m     43\u001b[0m \u001b[38;5;28;01mclass\u001b[39;00m\u001b[38;5;250m \u001b[39m\u001b[38;5;21;01mPopulseDBEngine\u001b[39;00m(DatabaseEngine):\n",
      "\u001b[0;31mModuleNotFoundError\u001b[0m: No module named 'populse_db.storage'"
     ]
    }
   ],
   "source": [
    "from capsul.api import get_process_instance\n",
    "\n",
    "xmlpipe = get_process_instance(\"capsul.process.test.test_pipeline\")\n",
    "xmlpipe.help()"
   ]
  },
  {
   "cell_type": "markdown",
   "metadata": {
    "deletable": true,
    "editable": true
   },
   "source": [
    "And generate its graphical representation:"
   ]
  },
  {
   "cell_type": "code",
   "execution_count": 24,
   "metadata": {
    "collapsed": true,
    "deletable": true,
    "editable": true,
    "execution": {
     "iopub.execute_input": "2025-04-09T15:52:13.763583Z",
     "iopub.status.busy": "2025-04-09T15:52:13.763138Z",
     "iopub.status.idle": "2025-04-09T15:52:13.767396Z",
     "shell.execute_reply": "2025-04-09T15:52:13.766829Z"
    }
   },
   "outputs": [],
   "source": [
    "if globals().get('use_gui', True):\n",
    "    from soma.qt_gui.qt_backend import QtGui\n",
    "    from capsul.qt_gui.widgets import PipelineDevelopperView\n",
    "    from soma.qt_gui.controller_widget import ControllerWidget\n",
    "\n",
    "    view = PipelineDevelopperView(xmlpipe)\n",
    "    controller = ControllerWidget(xmlpipe, live=True)\n",
    "    view.show()\n",
    "    controller.show()\n",
    "    if run_qt_loop:\n",
    "        app.exec_()\n"
   ]
  },
  {
   "cell_type": "markdown",
   "metadata": {
    "deletable": true,
    "editable": true
   },
   "source": [
    "![xml pipeline](images/capsul_pipeline_xml2.jpg \"xml pipeline\")\n",
    "![xml pipeline controller](images/capsul_pipeline_xml2_controller.jpg \"xml pipeline controller\")\n",
    "\n",
    "## Iteration over a process or pipeline\n",
    "A process can be used several times in parallel: some of its parameters will be changed for lists"
   ]
  },
  {
   "cell_type": "code",
   "execution_count": 25,
   "metadata": {
    "collapsed": true,
    "deletable": true,
    "editable": true,
    "execution": {
     "iopub.execute_input": "2025-04-09T15:52:13.769527Z",
     "iopub.status.busy": "2025-04-09T15:52:13.769300Z",
     "iopub.status.idle": "2025-04-09T15:52:13.787348Z",
     "shell.execute_reply": "2025-04-09T15:52:13.786747Z"
    }
   },
   "outputs": [
    {
     "ename": "NameError",
     "evalue": "name 'Pipeline' is not defined",
     "output_type": "error",
     "traceback": [
      "\u001b[0;31m---------------------------------------------------------------------------\u001b[0m",
      "\u001b[0;31mNameError\u001b[0m                                 Traceback (most recent call last)",
      "Cell \u001b[0;32mIn[25], line 17\u001b[0m\n\u001b[1;32m      9\u001b[0m \u001b[38;5;129m@xml_process\u001b[39m(\u001b[38;5;124m'''\u001b[39m\u001b[38;5;124m<process capsul_xml=\u001b[39m\u001b[38;5;124m\"\u001b[39m\u001b[38;5;124m2.0\u001b[39m\u001b[38;5;124m\"\u001b[39m\u001b[38;5;124m>\u001b[39m\n\u001b[1;32m     10\u001b[0m \u001b[38;5;124m    <input name=\u001b[39m\u001b[38;5;124m\"\u001b[39m\u001b[38;5;124ma\u001b[39m\u001b[38;5;124m\"\u001b[39m\u001b[38;5;124m type=\u001b[39m\u001b[38;5;124m\"\u001b[39m\u001b[38;5;124mfloat\u001b[39m\u001b[38;5;124m\"\u001b[39m\u001b[38;5;124m doc=\u001b[39m\u001b[38;5;124m\"\u001b[39m\u001b[38;5;124mnumber\u001b[39m\u001b[38;5;124m\"\u001b[39m\u001b[38;5;124m/>\u001b[39m\n\u001b[1;32m     11\u001b[0m \u001b[38;5;124m    <return name=\u001b[39m\u001b[38;5;124m\"\u001b[39m\u001b[38;5;124mb\u001b[39m\u001b[38;5;124m\"\u001b[39m\u001b[38;5;124m type=\u001b[39m\u001b[38;5;124m\"\u001b[39m\u001b[38;5;124mfloat\u001b[39m\u001b[38;5;124m\"\u001b[39m\u001b[38;5;124m doc=\u001b[39m\u001b[38;5;124m\"\u001b[39m\u001b[38;5;124ma + 12\u001b[39m\u001b[38;5;124m\"\u001b[39m\u001b[38;5;124m/>\u001b[39m\n\u001b[1;32m     12\u001b[0m \u001b[38;5;124m</process>\u001b[39m\n\u001b[1;32m     13\u001b[0m \u001b[38;5;124m'''\u001b[39m)\n\u001b[1;32m     14\u001b[0m \u001b[38;5;28;01mdef\u001b[39;00m\u001b[38;5;250m \u001b[39m\u001b[38;5;21madd_12\u001b[39m(a):\n\u001b[1;32m     15\u001b[0m     \u001b[38;5;28;01mreturn\u001b[39;00m a \u001b[38;5;241m+\u001b[39m \u001b[38;5;241m12\u001b[39m\n\u001b[0;32m---> 17\u001b[0m \u001b[38;5;28;01mclass\u001b[39;00m\u001b[38;5;250m \u001b[39m\u001b[38;5;21;01mPipeline4\u001b[39;00m(\u001b[43mPipeline\u001b[49m):\n\u001b[1;32m     19\u001b[0m     \u001b[38;5;28;01mdef\u001b[39;00m\u001b[38;5;250m \u001b[39m\u001b[38;5;21mpipeline_definition\u001b[39m(\u001b[38;5;28mself\u001b[39m):\n\u001b[1;32m     20\u001b[0m         \u001b[38;5;28mself\u001b[39m\u001b[38;5;241m.\u001b[39madd_iterative_process(\u001b[38;5;124m\"\u001b[39m\u001b[38;5;124madd_12\u001b[39m\u001b[38;5;124m\"\u001b[39m, \u001b[38;5;124m'\u001b[39m\u001b[38;5;124m__main__.add_12\u001b[39m\u001b[38;5;124m'\u001b[39m, iterative_plugs\u001b[38;5;241m=\u001b[39m[\u001b[38;5;124m'\u001b[39m\u001b[38;5;124ma\u001b[39m\u001b[38;5;124m'\u001b[39m, \u001b[38;5;124m'\u001b[39m\u001b[38;5;124mb\u001b[39m\u001b[38;5;124m'\u001b[39m])\n",
      "\u001b[0;31mNameError\u001b[0m: name 'Pipeline' is not defined"
     ]
    }
   ],
   "source": [
    "@xml_process('''<process capsul_xml=\"2.0\">\n",
    "    <input name=\"inputs\" type=\"list_float\" doc=\"numbers\"/>\n",
    "    <return name=\"addition\" type=\"float\" doc=\"sum all inputs\"/>\n",
    "</process>\n",
    "''')\n",
    "def sum_node(inputs):\n",
    "    return sum(inputs)\n",
    "\n",
    "@xml_process('''<process capsul_xml=\"2.0\">\n",
    "    <input name=\"a\" type=\"float\" doc=\"number\"/>\n",
    "    <return name=\"b\" type=\"float\" doc=\"a + 12\"/>\n",
    "</process>\n",
    "''')\n",
    "def add_12(a):\n",
    "    return a + 12\n",
    "\n",
    "class Pipeline4(Pipeline):\n",
    "    \n",
    "    def pipeline_definition(self):\n",
    "        self.add_iterative_process(\"add_12\", '__main__.add_12', iterative_plugs=['a', 'b'])\n",
    "        self.add_process(\"sum_node\", '__main__.sum_node')\n",
    "        self.add_link('add_12.b->sum_node.inputs')\n"
   ]
  },
  {
   "cell_type": "code",
   "execution_count": 26,
   "metadata": {
    "collapsed": true,
    "deletable": true,
    "editable": true,
    "execution": {
     "iopub.execute_input": "2025-04-09T15:52:13.789558Z",
     "iopub.status.busy": "2025-04-09T15:52:13.789317Z",
     "iopub.status.idle": "2025-04-09T15:52:13.805405Z",
     "shell.execute_reply": "2025-04-09T15:52:13.804732Z"
    }
   },
   "outputs": [
    {
     "ename": "NameError",
     "evalue": "name 'Pipeline4' is not defined",
     "output_type": "error",
     "traceback": [
      "\u001b[0;31m---------------------------------------------------------------------------\u001b[0m",
      "\u001b[0;31mNameError\u001b[0m                                 Traceback (most recent call last)",
      "Cell \u001b[0;32mIn[26], line 1\u001b[0m\n\u001b[0;32m----> 1\u001b[0m pipeline4 \u001b[38;5;241m=\u001b[39m \u001b[43mPipeline4\u001b[49m()\n\u001b[1;32m      2\u001b[0m \u001b[38;5;28;01mif\u001b[39;00m \u001b[38;5;28mglobals\u001b[39m()\u001b[38;5;241m.\u001b[39mget(\u001b[38;5;124m'\u001b[39m\u001b[38;5;124muse_gui\u001b[39m\u001b[38;5;124m'\u001b[39m, \u001b[38;5;28;01mTrue\u001b[39;00m):\n\u001b[1;32m      3\u001b[0m     view4 \u001b[38;5;241m=\u001b[39m PipelineDevelopperView(pipeline4, allow_open_controller\u001b[38;5;241m=\u001b[39m\u001b[38;5;28;01mTrue\u001b[39;00m, show_sub_pipelines\u001b[38;5;241m=\u001b[39m\u001b[38;5;28;01mTrue\u001b[39;00m)\n",
      "\u001b[0;31mNameError\u001b[0m: name 'Pipeline4' is not defined"
     ]
    }
   ],
   "source": [
    "pipeline4 = Pipeline4()\n",
    "if globals().get('use_gui', True):\n",
    "    view4 = PipelineDevelopperView(pipeline4, allow_open_controller=True, show_sub_pipelines=True)\n",
    "    view4.show()\n",
    "    if run_qt_loop:\n",
    "        app.exec_()"
   ]
  },
  {
   "cell_type": "markdown",
   "metadata": {
    "deletable": true,
    "editable": true
   },
   "source": [
    "![iteration](images/capsul_iter1.jpg \"iteration\")\n",
    "The green node here is an iterative node, it can be opened (double-clicked) to see what is inside it."
   ]
  },
  {
   "cell_type": "markdown",
   "metadata": {
    "deletable": true,
    "editable": true
   },
   "source": [
    "Set input parameters and run.\n",
    "\n",
    "We set 3 inputs, 4.2, 6.8 and 7.\n",
    "\n",
    "Each should be added 12, then all outputs will be summed up.\n",
    "\n",
    "This should make (4.2 + 12) + (6.8 + 12) + (7. + 12) = 54."
   ]
  },
  {
   "cell_type": "code",
   "execution_count": 27,
   "metadata": {
    "collapsed": false,
    "deletable": true,
    "editable": true,
    "execution": {
     "iopub.execute_input": "2025-04-09T15:52:13.807477Z",
     "iopub.status.busy": "2025-04-09T15:52:13.807274Z",
     "iopub.status.idle": "2025-04-09T15:52:13.822559Z",
     "shell.execute_reply": "2025-04-09T15:52:13.821847Z"
    }
   },
   "outputs": [
    {
     "ename": "NameError",
     "evalue": "name 'pipeline4' is not defined",
     "output_type": "error",
     "traceback": [
      "\u001b[0;31m---------------------------------------------------------------------------\u001b[0m",
      "\u001b[0;31mNameError\u001b[0m                                 Traceback (most recent call last)",
      "Cell \u001b[0;32mIn[27], line 1\u001b[0m\n\u001b[0;32m----> 1\u001b[0m \u001b[43mpipeline4\u001b[49m\u001b[38;5;241m.\u001b[39ma \u001b[38;5;241m=\u001b[39m [\u001b[38;5;241m4.2\u001b[39m, \u001b[38;5;241m6.8\u001b[39m, \u001b[38;5;241m7.\u001b[39m]\n\u001b[1;32m      2\u001b[0m pipeline4()\n\u001b[1;32m      3\u001b[0m \u001b[38;5;28mprint\u001b[39m(pipeline4\u001b[38;5;241m.\u001b[39maddition)\n",
      "\u001b[0;31mNameError\u001b[0m: name 'pipeline4' is not defined"
     ]
    }
   ],
   "source": [
    "pipeline4.a = [4.2, 6.8, 7.]\n",
    "pipeline4()\n",
    "print(pipeline4.addition)\n",
    "assert(pipeline4.addition == 54)"
   ]
  },
  {
   "cell_type": "markdown",
   "metadata": {
    "deletable": true,
    "editable": true
   },
   "source": [
    "<h2>Optional outputs and temporary files</h2>\n",
    "Let's consider the following pipeline, with an **optional output** from the intermediate output:"
   ]
  },
  {
   "cell_type": "code",
   "execution_count": 28,
   "metadata": {
    "collapsed": true,
    "deletable": true,
    "editable": true,
    "execution": {
     "iopub.execute_input": "2025-04-09T15:52:13.824809Z",
     "iopub.status.busy": "2025-04-09T15:52:13.824403Z",
     "iopub.status.idle": "2025-04-09T15:52:13.845780Z",
     "shell.execute_reply": "2025-04-09T15:52:13.845053Z"
    }
   },
   "outputs": [
    {
     "ename": "NameError",
     "evalue": "name 'Pipeline' is not defined",
     "output_type": "error",
     "traceback": [
      "\u001b[0;31m---------------------------------------------------------------------------\u001b[0m",
      "\u001b[0;31mNameError\u001b[0m                                 Traceback (most recent call last)",
      "Cell \u001b[0;32mIn[28], line 21\u001b[0m\n\u001b[1;32m     18\u001b[0m     \u001b[38;5;28;01mwith\u001b[39;00m \u001b[38;5;28mopen\u001b[39m(b, \u001b[38;5;124m'\u001b[39m\u001b[38;5;124mw\u001b[39m\u001b[38;5;124m'\u001b[39m) \u001b[38;5;28;01mas\u001b[39;00m f:\n\u001b[1;32m     19\u001b[0m         f\u001b[38;5;241m.\u001b[39mwrite(\u001b[38;5;124m'\u001b[39m\u001b[38;5;124m'\u001b[39m\u001b[38;5;241m.\u001b[39mjoin([l\u001b[38;5;241m.\u001b[39mreplace(\u001b[38;5;124m'\u001b[39m\u001b[38;5;124m*\u001b[39m\u001b[38;5;124m'\u001b[39m, \u001b[38;5;124m'\u001b[39m\u001b[38;5;124m^\u001b[39m\u001b[38;5;124m'\u001b[39m) \u001b[38;5;28;01mfor\u001b[39;00m l \u001b[38;5;129;01min\u001b[39;00m lines]))\n\u001b[0;32m---> 21\u001b[0m \u001b[38;5;28;01mclass\u001b[39;00m\u001b[38;5;250m \u001b[39m\u001b[38;5;21;01mPipeline5\u001b[39;00m(\u001b[43mPipeline\u001b[49m):\n\u001b[1;32m     23\u001b[0m     \u001b[38;5;28;01mdef\u001b[39;00m\u001b[38;5;250m \u001b[39m\u001b[38;5;21mpipeline_definition\u001b[39m(\u001b[38;5;28mself\u001b[39m):\n\u001b[1;32m     24\u001b[0m         \u001b[38;5;28mself\u001b[39m\u001b[38;5;241m.\u001b[39madd_process(\u001b[38;5;124m\"\u001b[39m\u001b[38;5;124mnode1\u001b[39m\u001b[38;5;124m\"\u001b[39m, \u001b[38;5;124m'\u001b[39m\u001b[38;5;124m__main__.node_first\u001b[39m\u001b[38;5;124m'\u001b[39m)\n",
      "\u001b[0;31mNameError\u001b[0m: name 'Pipeline' is not defined"
     ]
    }
   ],
   "source": [
    "@xml_process('''<process capsul_xml=\"2.0\">\n",
    "    <input name=\"input\" type=\"file\" doc=\"input file\"/>\n",
    "    <output name=\"output\" type=\"file\" input_filename=\"output\" doc=\"output file\"/>\n",
    "</process>\n",
    "''')\n",
    "def node_first(input, output):\n",
    "    lines = open(input).readlines()\n",
    "    with open(output, 'w') as f:\n",
    "        f.write('\\n'.join(['* %s *' % l[:-1] for l in lines]))\n",
    "\n",
    "@xml_process('''<process capsul_xml=\"2.0\">\n",
    "    <input name=\"a\" type=\"file\" doc=\"input file\"/>\n",
    "    <output name=\"b\" type=\"file\" input_filename=\"b\" doc=\"output file\"/>\n",
    "</process>\n",
    "''')\n",
    "def node_second(a, b):\n",
    "    lines = open(a).readlines()\n",
    "    with open(b, 'w') as f:\n",
    "        f.write(''.join([l.replace('*', '^') for l in lines]))\n",
    "\n",
    "class Pipeline5(Pipeline):\n",
    "    \n",
    "    def pipeline_definition(self):\n",
    "        self.add_process(\"node1\", '__main__.node_first')\n",
    "        self.add_process(\"node2\", '__main__.node_second')\n",
    "        self.add_link('node1.output->node2.a')\n",
    "        self.export_parameter('node1', 'output', 'intermediate', is_optional=True)"
   ]
  },
  {
   "cell_type": "code",
   "execution_count": 29,
   "metadata": {
    "collapsed": true,
    "deletable": true,
    "editable": true,
    "execution": {
     "iopub.execute_input": "2025-04-09T15:52:13.848043Z",
     "iopub.status.busy": "2025-04-09T15:52:13.847660Z",
     "iopub.status.idle": "2025-04-09T15:52:13.863656Z",
     "shell.execute_reply": "2025-04-09T15:52:13.862935Z"
    }
   },
   "outputs": [
    {
     "ename": "NameError",
     "evalue": "name 'Pipeline5' is not defined",
     "output_type": "error",
     "traceback": [
      "\u001b[0;31m---------------------------------------------------------------------------\u001b[0m",
      "\u001b[0;31mNameError\u001b[0m                                 Traceback (most recent call last)",
      "Cell \u001b[0;32mIn[29], line 1\u001b[0m\n\u001b[0;32m----> 1\u001b[0m pipeline5 \u001b[38;5;241m=\u001b[39m \u001b[43mPipeline5\u001b[49m()\n\u001b[1;32m      2\u001b[0m \u001b[38;5;28;01mif\u001b[39;00m \u001b[38;5;28mglobals\u001b[39m()\u001b[38;5;241m.\u001b[39mget(\u001b[38;5;124m'\u001b[39m\u001b[38;5;124muse_gui\u001b[39m\u001b[38;5;124m'\u001b[39m, \u001b[38;5;28;01mTrue\u001b[39;00m):\n\u001b[1;32m      3\u001b[0m     view5 \u001b[38;5;241m=\u001b[39m PipelineDevelopperView(pipeline5, allow_open_controller\u001b[38;5;241m=\u001b[39m\u001b[38;5;28;01mTrue\u001b[39;00m, show_sub_pipelines\u001b[38;5;241m=\u001b[39m\u001b[38;5;28;01mTrue\u001b[39;00m)\n",
      "\u001b[0;31mNameError\u001b[0m: name 'Pipeline5' is not defined"
     ]
    }
   ],
   "source": [
    "pipeline5 = Pipeline5()\n",
    "if globals().get('use_gui', True):\n",
    "    view5 = PipelineDevelopperView(pipeline5, allow_open_controller=True, show_sub_pipelines=True)\n",
    "    view5.show()\n",
    "    if run_qt_loop:\n",
    "        app.exec_()"
   ]
  },
  {
   "cell_type": "markdown",
   "metadata": {
    "deletable": true,
    "editable": true
   },
   "source": [
    "![pipeline5](images/capsul_pipeline5.jpg \"pipeline5\")\n",
    "\n",
    "But there is really a problem here now: if we do not specify pipeline5.intermediate, even when it is optional, the pipeline will not work because *node1* needs to write its output into a file. As its *output* is exported, it will not get a temporary value. Thus in the current state, *pipeline5.intermediate* is actually mandatory."
   ]
  },
  {
   "cell_type": "code",
   "execution_count": 30,
   "metadata": {
    "collapsed": false,
    "deletable": true,
    "editable": true,
    "execution": {
     "iopub.execute_input": "2025-04-09T15:52:13.866015Z",
     "iopub.status.busy": "2025-04-09T15:52:13.865637Z",
     "iopub.status.idle": "2025-04-09T15:52:13.882889Z",
     "shell.execute_reply": "2025-04-09T15:52:13.882200Z"
    }
   },
   "outputs": [
    {
     "ename": "NameError",
     "evalue": "name 'pipeline5' is not defined",
     "output_type": "error",
     "traceback": [
      "\u001b[0;31m---------------------------------------------------------------------------\u001b[0m",
      "\u001b[0;31mNameError\u001b[0m                                 Traceback (most recent call last)",
      "Cell \u001b[0;32mIn[30], line 5\u001b[0m\n\u001b[1;32m      3\u001b[0m intermediate \u001b[38;5;241m=\u001b[39m \u001b[38;5;124m'\u001b[39m\u001b[38;5;124m/tmp/dummy_intermediate.txt\u001b[39m\u001b[38;5;124m'\u001b[39m\n\u001b[1;32m      4\u001b[0m \u001b[38;5;28mopen\u001b[39m(infile, \u001b[38;5;124m'\u001b[39m\u001b[38;5;124mw\u001b[39m\u001b[38;5;124m'\u001b[39m)\u001b[38;5;241m.\u001b[39mwrite(\u001b[38;5;124m'\u001b[39m\u001b[38;5;124mI ate 5 cakes this morning.\u001b[39m\u001b[38;5;130;01m\\n\u001b[39;00m\u001b[38;5;124mLet\u001b[39m\u001b[38;5;130;01m\\'\u001b[39;00m\u001b[38;5;124ms eat 3 or 4 more.\u001b[39m\u001b[38;5;130;01m\\n\u001b[39;00m\u001b[38;5;124m'\u001b[39m)\n\u001b[0;32m----> 5\u001b[0m \u001b[43mpipeline5\u001b[49m\u001b[38;5;241m.\u001b[39minput \u001b[38;5;241m=\u001b[39m infile\n\u001b[1;32m      6\u001b[0m pipeline5\u001b[38;5;241m.\u001b[39mb \u001b[38;5;241m=\u001b[39m outfile\n\u001b[1;32m      7\u001b[0m pipeline5\u001b[38;5;241m.\u001b[39mintermediate \u001b[38;5;241m=\u001b[39m intermediate\n",
      "\u001b[0;31mNameError\u001b[0m: name 'pipeline5' is not defined"
     ]
    }
   ],
   "source": [
    "infile = '/tmp/dummy.txt'\n",
    "outfile = '/tmp/dummy_modified.txt'\n",
    "intermediate = '/tmp/dummy_intermediate.txt'\n",
    "open(infile, 'w').write('I ate 5 cakes this morning.\\nLet\\'s eat 3 or 4 more.\\n')\n",
    "pipeline5.input = infile\n",
    "pipeline5.b = outfile\n",
    "pipeline5.intermediate = intermediate\n",
    "pipeline5()\n",
    "print(open(outfile).read())"
   ]
  },
  {
   "cell_type": "code",
   "execution_count": 31,
   "metadata": {
    "collapsed": true,
    "deletable": true,
    "editable": true,
    "execution": {
     "iopub.execute_input": "2025-04-09T15:52:13.885206Z",
     "iopub.status.busy": "2025-04-09T15:52:13.884738Z",
     "iopub.status.idle": "2025-04-09T15:52:13.899185Z",
     "shell.execute_reply": "2025-04-09T15:52:13.898516Z"
    }
   },
   "outputs": [
    {
     "ename": "FileNotFoundError",
     "evalue": "[Errno 2] No such file or directory: '/tmp/dummy_modified.txt'",
     "output_type": "error",
     "traceback": [
      "\u001b[0;31m---------------------------------------------------------------------------\u001b[0m",
      "\u001b[0;31mFileNotFoundError\u001b[0m                         Traceback (most recent call last)",
      "Cell \u001b[0;32mIn[31], line 2\u001b[0m\n\u001b[1;32m      1\u001b[0m \u001b[38;5;66;03m# cleanup\u001b[39;00m\n\u001b[0;32m----> 2\u001b[0m \u001b[43mos\u001b[49m\u001b[38;5;241;43m.\u001b[39;49m\u001b[43munlink\u001b[49m\u001b[43m(\u001b[49m\u001b[43moutfile\u001b[49m\u001b[43m)\u001b[49m\n\u001b[1;32m      3\u001b[0m os\u001b[38;5;241m.\u001b[39munlink(intermediate)\n",
      "\u001b[0;31mFileNotFoundError\u001b[0m: [Errno 2] No such file or directory: '/tmp/dummy_modified.txt'"
     ]
    }
   ],
   "source": [
    "# cleanup\n",
    "os.unlink(outfile)\n",
    "os.unlink(intermediate)"
   ]
  },
  {
   "cell_type": "markdown",
   "metadata": {
    "deletable": true,
    "editable": true
   },
   "source": [
    "To solve this issue, we need an element which conditionally bridges or breaks the link between *node1.output* and *intermediate*. This is the job of **optional output switches**:"
   ]
  },
  {
   "cell_type": "code",
   "execution_count": 32,
   "metadata": {
    "collapsed": true,
    "deletable": true,
    "editable": true,
    "execution": {
     "iopub.execute_input": "2025-04-09T15:52:13.901471Z",
     "iopub.status.busy": "2025-04-09T15:52:13.900999Z",
     "iopub.status.idle": "2025-04-09T15:52:13.917851Z",
     "shell.execute_reply": "2025-04-09T15:52:13.917163Z"
    }
   },
   "outputs": [
    {
     "ename": "NameError",
     "evalue": "name 'Pipeline' is not defined",
     "output_type": "error",
     "traceback": [
      "\u001b[0;31m---------------------------------------------------------------------------\u001b[0m",
      "\u001b[0;31mNameError\u001b[0m                                 Traceback (most recent call last)",
      "Cell \u001b[0;32mIn[32], line 1\u001b[0m\n\u001b[0;32m----> 1\u001b[0m \u001b[38;5;28;01mclass\u001b[39;00m\u001b[38;5;250m \u001b[39m\u001b[38;5;21;01mPipeline6\u001b[39;00m(\u001b[43mPipeline\u001b[49m):\n\u001b[1;32m      3\u001b[0m     \u001b[38;5;28;01mdef\u001b[39;00m\u001b[38;5;250m \u001b[39m\u001b[38;5;21mpipeline_definition\u001b[39m(\u001b[38;5;28mself\u001b[39m):\n\u001b[1;32m      4\u001b[0m         \u001b[38;5;28mself\u001b[39m\u001b[38;5;241m.\u001b[39madd_process(\u001b[38;5;124m\"\u001b[39m\u001b[38;5;124mnode1\u001b[39m\u001b[38;5;124m\"\u001b[39m, \u001b[38;5;124m'\u001b[39m\u001b[38;5;124m__main__.node_first\u001b[39m\u001b[38;5;124m'\u001b[39m)\n",
      "\u001b[0;31mNameError\u001b[0m: name 'Pipeline' is not defined"
     ]
    }
   ],
   "source": [
    "class Pipeline6(Pipeline):\n",
    "    \n",
    "    def pipeline_definition(self):\n",
    "        self.add_process(\"node1\", '__main__.node_first')\n",
    "        self.add_process(\"node2\", '__main__.node_second')\n",
    "        self.add_optional_output_switch('b', 'input')\n",
    "        self.add_link('node1.output->node2.a')\n",
    "        self.add_link('node1.output->b.input_switch_b')\n",
    "        self.export_parameter('b', 'b', 'intermediate', is_optional=True)"
   ]
  },
  {
   "cell_type": "code",
   "execution_count": 33,
   "metadata": {
    "collapsed": true,
    "deletable": true,
    "editable": true,
    "execution": {
     "iopub.execute_input": "2025-04-09T15:52:13.919910Z",
     "iopub.status.busy": "2025-04-09T15:52:13.919691Z",
     "iopub.status.idle": "2025-04-09T15:52:13.936051Z",
     "shell.execute_reply": "2025-04-09T15:52:13.935465Z"
    }
   },
   "outputs": [
    {
     "ename": "NameError",
     "evalue": "name 'Pipeline6' is not defined",
     "output_type": "error",
     "traceback": [
      "\u001b[0;31m---------------------------------------------------------------------------\u001b[0m",
      "\u001b[0;31mNameError\u001b[0m                                 Traceback (most recent call last)",
      "Cell \u001b[0;32mIn[33], line 1\u001b[0m\n\u001b[0;32m----> 1\u001b[0m pipeline6 \u001b[38;5;241m=\u001b[39m \u001b[43mPipeline6\u001b[49m()\n\u001b[1;32m      2\u001b[0m \u001b[38;5;28;01mif\u001b[39;00m \u001b[38;5;28mglobals\u001b[39m()\u001b[38;5;241m.\u001b[39mget(\u001b[38;5;124m'\u001b[39m\u001b[38;5;124muse_gui\u001b[39m\u001b[38;5;124m'\u001b[39m, \u001b[38;5;28;01mTrue\u001b[39;00m):\n\u001b[1;32m      3\u001b[0m     view6 \u001b[38;5;241m=\u001b[39m PipelineDevelopperView(pipeline6, allow_open_controller\u001b[38;5;241m=\u001b[39m\u001b[38;5;28;01mTrue\u001b[39;00m, show_sub_pipelines\u001b[38;5;241m=\u001b[39m\u001b[38;5;28;01mTrue\u001b[39;00m)\n",
      "\u001b[0;31mNameError\u001b[0m: name 'Pipeline6' is not defined"
     ]
    }
   ],
   "source": [
    "pipeline6 = Pipeline6()\n",
    "if globals().get('use_gui', True):\n",
    "    view6 = PipelineDevelopperView(pipeline6, allow_open_controller=True, show_sub_pipelines=True)\n",
    "    view6.show()\n",
    "    if run_qt_loop:\n",
    "        app.exec_()"
   ]
  },
  {
   "cell_type": "markdown",
   "metadata": {
    "deletable": true,
    "editable": true
   },
   "source": [
    "![pipeline6](images/capsul_pipeline6.jpg \"pipeline6\")\n",
    "\n",
    "as long as pipeline6.intermediate is empty, the switch is off. *node1.output* gets a temporary value."
   ]
  },
  {
   "cell_type": "code",
   "execution_count": 34,
   "metadata": {
    "collapsed": false,
    "deletable": true,
    "editable": true,
    "execution": {
     "iopub.execute_input": "2025-04-09T15:52:13.938351Z",
     "iopub.status.busy": "2025-04-09T15:52:13.938139Z",
     "iopub.status.idle": "2025-04-09T15:52:13.953465Z",
     "shell.execute_reply": "2025-04-09T15:52:13.952902Z"
    }
   },
   "outputs": [
    {
     "ename": "NameError",
     "evalue": "name 'pipeline6' is not defined",
     "output_type": "error",
     "traceback": [
      "\u001b[0;31m---------------------------------------------------------------------------\u001b[0m",
      "\u001b[0;31mNameError\u001b[0m                                 Traceback (most recent call last)",
      "Cell \u001b[0;32mIn[34], line 1\u001b[0m\n\u001b[0;32m----> 1\u001b[0m \u001b[43mpipeline6\u001b[49m\u001b[38;5;241m.\u001b[39minput \u001b[38;5;241m=\u001b[39m infile\n\u001b[1;32m      2\u001b[0m pipeline6\u001b[38;5;241m.\u001b[39mb \u001b[38;5;241m=\u001b[39m outfile\n\u001b[1;32m      3\u001b[0m pipeline6()\n",
      "\u001b[0;31mNameError\u001b[0m: name 'pipeline6' is not defined"
     ]
    }
   ],
   "source": [
    "pipeline6.input = infile\n",
    "pipeline6.b = outfile\n",
    "pipeline6()\n",
    "print(open(outfile).read())"
   ]
  },
  {
   "cell_type": "code",
   "execution_count": 35,
   "metadata": {
    "collapsed": true,
    "deletable": true,
    "editable": true,
    "execution": {
     "iopub.execute_input": "2025-04-09T15:52:13.955654Z",
     "iopub.status.busy": "2025-04-09T15:52:13.955424Z",
     "iopub.status.idle": "2025-04-09T15:52:13.969780Z",
     "shell.execute_reply": "2025-04-09T15:52:13.969089Z"
    }
   },
   "outputs": [
    {
     "ename": "FileNotFoundError",
     "evalue": "[Errno 2] No such file or directory: '/tmp/dummy_modified.txt'",
     "output_type": "error",
     "traceback": [
      "\u001b[0;31m---------------------------------------------------------------------------\u001b[0m",
      "\u001b[0;31mFileNotFoundError\u001b[0m                         Traceback (most recent call last)",
      "Cell \u001b[0;32mIn[35], line 2\u001b[0m\n\u001b[1;32m      1\u001b[0m \u001b[38;5;66;03m# cleanup\u001b[39;00m\n\u001b[0;32m----> 2\u001b[0m \u001b[43mos\u001b[49m\u001b[38;5;241;43m.\u001b[39;49m\u001b[43munlink\u001b[49m\u001b[43m(\u001b[49m\u001b[43moutfile\u001b[49m\u001b[43m)\u001b[49m\n",
      "\u001b[0;31mFileNotFoundError\u001b[0m: [Errno 2] No such file or directory: '/tmp/dummy_modified.txt'"
     ]
    }
   ],
   "source": [
    "# cleanup\n",
    "os.unlink(outfile)"
   ]
  },
  {
   "cell_type": "code",
   "execution_count": 36,
   "metadata": {
    "collapsed": true,
    "deletable": true,
    "editable": true,
    "execution": {
     "iopub.execute_input": "2025-04-09T15:52:13.972222Z",
     "iopub.status.busy": "2025-04-09T15:52:13.971801Z",
     "iopub.status.idle": "2025-04-09T15:52:13.986150Z",
     "shell.execute_reply": "2025-04-09T15:52:13.985568Z"
    }
   },
   "outputs": [
    {
     "ename": "NameError",
     "evalue": "name 'pipeline6' is not defined",
     "output_type": "error",
     "traceback": [
      "\u001b[0;31m---------------------------------------------------------------------------\u001b[0m",
      "\u001b[0;31mNameError\u001b[0m                                 Traceback (most recent call last)",
      "Cell \u001b[0;32mIn[36], line 1\u001b[0m\n\u001b[0;32m----> 1\u001b[0m \u001b[43mpipeline6\u001b[49m\u001b[38;5;241m.\u001b[39mintermediate \u001b[38;5;241m=\u001b[39m intermediate\n",
      "\u001b[0;31mNameError\u001b[0m: name 'pipeline6' is not defined"
     ]
    }
   ],
   "source": [
    "pipeline6.intermediate = intermediate"
   ]
  },
  {
   "cell_type": "code",
   "execution_count": 37,
   "metadata": {
    "collapsed": true,
    "deletable": true,
    "editable": true,
    "execution": {
     "iopub.execute_input": "2025-04-09T15:52:13.988334Z",
     "iopub.status.busy": "2025-04-09T15:52:13.988134Z",
     "iopub.status.idle": "2025-04-09T15:52:13.991735Z",
     "shell.execute_reply": "2025-04-09T15:52:13.991137Z"
    }
   },
   "outputs": [],
   "source": [
    "# the switch has been switched on automatically\n",
    "# node1.output gets the value assigned to pipeline6.intermediate\n",
    "if globals().get('use_gui', True):\n",
    "    view6.show()\n",
    "    if run_qt_loop:\n",
    "        app.exec_()"
   ]
  },
  {
   "cell_type": "markdown",
   "metadata": {
    "deletable": true,
    "editable": true
   },
   "source": [
    "![pipeline6 connected](images/capsul_pipeline6b.jpg \"pipeline6 connected\")"
   ]
  },
  {
   "cell_type": "code",
   "execution_count": 38,
   "metadata": {
    "collapsed": false,
    "deletable": true,
    "editable": true,
    "execution": {
     "iopub.execute_input": "2025-04-09T15:52:13.994083Z",
     "iopub.status.busy": "2025-04-09T15:52:13.993685Z",
     "iopub.status.idle": "2025-04-09T15:52:14.008275Z",
     "shell.execute_reply": "2025-04-09T15:52:14.007677Z"
    }
   },
   "outputs": [
    {
     "ename": "NameError",
     "evalue": "name 'pipeline6' is not defined",
     "output_type": "error",
     "traceback": [
      "\u001b[0;31m---------------------------------------------------------------------------\u001b[0m",
      "\u001b[0;31mNameError\u001b[0m                                 Traceback (most recent call last)",
      "Cell \u001b[0;32mIn[38], line 1\u001b[0m\n\u001b[0;32m----> 1\u001b[0m \u001b[43mpipeline6\u001b[49m()\n\u001b[1;32m      2\u001b[0m \u001b[38;5;28mprint\u001b[39m(\u001b[38;5;28mopen\u001b[39m(intermediate)\u001b[38;5;241m.\u001b[39mread())\n",
      "\u001b[0;31mNameError\u001b[0m: name 'pipeline6' is not defined"
     ]
    }
   ],
   "source": [
    "pipeline6()\n",
    "print(open(intermediate).read())"
   ]
  },
  {
   "cell_type": "code",
   "execution_count": 39,
   "metadata": {
    "collapsed": true,
    "deletable": true,
    "editable": true,
    "execution": {
     "iopub.execute_input": "2025-04-09T15:52:14.010558Z",
     "iopub.status.busy": "2025-04-09T15:52:14.010114Z",
     "iopub.status.idle": "2025-04-09T15:52:14.026229Z",
     "shell.execute_reply": "2025-04-09T15:52:14.025637Z"
    }
   },
   "outputs": [
    {
     "ename": "FileNotFoundError",
     "evalue": "[Errno 2] No such file or directory: '/tmp/dummy_modified.txt'",
     "output_type": "error",
     "traceback": [
      "\u001b[0;31m---------------------------------------------------------------------------\u001b[0m",
      "\u001b[0;31mFileNotFoundError\u001b[0m                         Traceback (most recent call last)",
      "Cell \u001b[0;32mIn[39], line 2\u001b[0m\n\u001b[1;32m      1\u001b[0m \u001b[38;5;66;03m# cleanup\u001b[39;00m\n\u001b[0;32m----> 2\u001b[0m \u001b[43mos\u001b[49m\u001b[38;5;241;43m.\u001b[39;49m\u001b[43munlink\u001b[49m\u001b[43m(\u001b[49m\u001b[43moutfile\u001b[49m\u001b[43m)\u001b[49m\n\u001b[1;32m      3\u001b[0m os\u001b[38;5;241m.\u001b[39munlink(intermediate)\n\u001b[1;32m      4\u001b[0m os\u001b[38;5;241m.\u001b[39munlink(infile)\n",
      "\u001b[0;31mFileNotFoundError\u001b[0m: [Errno 2] No such file or directory: '/tmp/dummy_modified.txt'"
     ]
    }
   ],
   "source": [
    "# cleanup\n",
    "os.unlink(outfile)\n",
    "os.unlink(intermediate)\n",
    "os.unlink(infile)"
   ]
  },
  {
   "cell_type": "markdown",
   "metadata": {
    "deletable": true,
    "editable": true
   },
   "source": [
    "<h1>StudyConfig</h1>\n",
    "\n",
    "<p>StudyConfig is a placeholder for study-wide parameters, settings, paths and so on. It is a modular configuration tool, which has modules to configure some external software.\n",
    "</p>\n",
    "\n",
    "<h2>A helper to configure state of the art medical software</h2>\n",
    "\n",
    "Capsul propose a module to configure external software:\n",
    "\n",
    "<ul style=\"list-style-type:disc;\">\n",
    "<li>FSL</li>\n",
    "<li>SPM</li>\n",
    "<li>FreeSurfer</li>\n",
    "<li>BrainVisa</li>\n",
    "</ul>\n",
    "\n",
    "With this module it is also possible to configure the execution of the pipeline:\n",
    "\n",
    "<ul style=\"list-style-type:disc;\">\n",
    "<li>Use smart caching</li>\n",
    "<li>Generate some logging</li>\n",
    "<li>Soma-Worflow to handle population imaging</li>\n",
    "</ul>\n",
    "\n",
    "For instance:"
   ]
  },
  {
   "cell_type": "code",
   "execution_count": 40,
   "metadata": {
    "collapsed": false,
    "deletable": true,
    "editable": true,
    "execution": {
     "iopub.execute_input": "2025-04-09T15:52:14.028562Z",
     "iopub.status.busy": "2025-04-09T15:52:14.028157Z",
     "iopub.status.idle": "2025-04-09T15:52:14.088134Z",
     "shell.execute_reply": "2025-04-09T15:52:14.087356Z"
    }
   },
   "outputs": [
    {
     "ename": "ModuleNotFoundError",
     "evalue": "No module named 'populse_db.storage'",
     "output_type": "error",
     "traceback": [
      "\u001b[0;31m---------------------------------------------------------------------------\u001b[0m",
      "\u001b[0;31mModuleNotFoundError\u001b[0m                       Traceback (most recent call last)",
      "Cell \u001b[0;32mIn[40], line 1\u001b[0m\n\u001b[0;32m----> 1\u001b[0m \u001b[38;5;28;01mfrom\u001b[39;00m\u001b[38;5;250m \u001b[39m\u001b[38;5;21;01mcapsul\u001b[39;00m\u001b[38;5;21;01m.\u001b[39;00m\u001b[38;5;21;01mapi\u001b[39;00m\u001b[38;5;250m \u001b[39m\u001b[38;5;28;01mimport\u001b[39;00m StudyConfig\n\u001b[1;32m      2\u001b[0m \u001b[38;5;66;03m# optional config modules, need not to be explicitly loaded\u001b[39;00m\n\u001b[1;32m      3\u001b[0m \u001b[38;5;66;03m# from capsul.study_config.config_modules.freesurfer_config import FreeSurferConfig\u001b[39;00m\n\u001b[1;32m      4\u001b[0m \u001b[38;5;66;03m# from capsul.study_config.config_modules.brainvisa_config import BrainVISAConfig\u001b[39;00m\n\u001b[1;32m      6\u001b[0m default_config \u001b[38;5;241m=\u001b[39m {\u001b[38;5;124m\"\u001b[39m\u001b[38;5;124muse_soma_workflow\u001b[39m\u001b[38;5;124m\"\u001b[39m: \u001b[38;5;28;01mTrue\u001b[39;00m}\n",
      "File \u001b[0;32m~/work/capsul/capsul/capsul/api.py:41\u001b[0m\n\u001b[1;32m     39\u001b[0m \u001b[38;5;28;01mfrom\u001b[39;00m\u001b[38;5;250m \u001b[39m\u001b[38;5;21;01mcapsul\u001b[39;00m\u001b[38;5;21;01m.\u001b[39;00m\u001b[38;5;21;01mpipeline\u001b[39;00m\u001b[38;5;21;01m.\u001b[39;00m\u001b[38;5;21;01mpipeline_nodes\u001b[39;00m\u001b[38;5;250m \u001b[39m\u001b[38;5;28;01mimport\u001b[39;00m Switch\n\u001b[1;32m     40\u001b[0m \u001b[38;5;28;01mfrom\u001b[39;00m\u001b[38;5;250m \u001b[39m\u001b[38;5;21;01mcapsul\u001b[39;00m\u001b[38;5;21;01m.\u001b[39;00m\u001b[38;5;21;01mpipeline\u001b[39;00m\u001b[38;5;21;01m.\u001b[39;00m\u001b[38;5;21;01mpipeline_nodes\u001b[39;00m\u001b[38;5;250m \u001b[39m\u001b[38;5;28;01mimport\u001b[39;00m OptionalOutputSwitch\n\u001b[0;32m---> 41\u001b[0m \u001b[38;5;28;01mfrom\u001b[39;00m\u001b[38;5;250m \u001b[39m\u001b[38;5;21;01mcapsul\u001b[39;00m\u001b[38;5;21;01m.\u001b[39;00m\u001b[38;5;21;01mengine\u001b[39;00m\u001b[38;5;250m \u001b[39m\u001b[38;5;28;01mimport\u001b[39;00m capsul_engine\n\u001b[1;32m     42\u001b[0m \u001b[38;5;28;01mfrom\u001b[39;00m\u001b[38;5;250m \u001b[39m\u001b[38;5;21;01mcapsul\u001b[39;00m\u001b[38;5;21;01m.\u001b[39;00m\u001b[38;5;21;01mengine\u001b[39;00m\u001b[38;5;250m \u001b[39m\u001b[38;5;28;01mimport\u001b[39;00m activate_configuration\n\u001b[1;32m     43\u001b[0m \u001b[38;5;28;01mfrom\u001b[39;00m\u001b[38;5;250m \u001b[39m\u001b[38;5;21;01mcapsul\u001b[39;00m\u001b[38;5;21;01m.\u001b[39;00m\u001b[38;5;21;01mstudy_config\u001b[39;00m\u001b[38;5;21;01m.\u001b[39;00m\u001b[38;5;21;01mprocess_instance\u001b[39;00m\u001b[38;5;250m \u001b[39m\u001b[38;5;28;01mimport\u001b[39;00m get_process_instance\n",
      "File \u001b[0;32m~/work/capsul/capsul/capsul/engine/__init__.py:36\u001b[0m\n\u001b[1;32m     33\u001b[0m \u001b[38;5;28;01mfrom\u001b[39;00m\u001b[38;5;250m \u001b[39m\u001b[38;5;21;01msoma\u001b[39;00m\u001b[38;5;21;01m.\u001b[39;00m\u001b[38;5;21;01msorted_dictionary\u001b[39;00m\u001b[38;5;250m \u001b[39m\u001b[38;5;28;01mimport\u001b[39;00m SortedDictionary\n\u001b[1;32m     34\u001b[0m \u001b[38;5;28;01mfrom\u001b[39;00m\u001b[38;5;250m \u001b[39m\u001b[38;5;21;01msoma\u001b[39;00m\u001b[38;5;21;01m.\u001b[39;00m\u001b[38;5;21;01mutils\u001b[39;00m\u001b[38;5;21;01m.\u001b[39;00m\u001b[38;5;21;01mweak_proxy\u001b[39;00m\u001b[38;5;250m \u001b[39m\u001b[38;5;28;01mimport\u001b[39;00m get_ref\n\u001b[0;32m---> 36\u001b[0m \u001b[38;5;28;01mfrom\u001b[39;00m\u001b[38;5;250m \u001b[39m\u001b[38;5;21;01m.\u001b[39;00m\u001b[38;5;21;01mdatabase_populse\u001b[39;00m\u001b[38;5;250m \u001b[39m\u001b[38;5;28;01mimport\u001b[39;00m PopulseDBEngine\n\u001b[1;32m     38\u001b[0m \u001b[38;5;28;01mfrom\u001b[39;00m\u001b[38;5;250m \u001b[39m\u001b[38;5;21;01m.\u001b[39;00m\u001b[38;5;21;01msettings\u001b[39;00m\u001b[38;5;250m \u001b[39m\u001b[38;5;28;01mimport\u001b[39;00m Settings\n\u001b[1;32m     39\u001b[0m \u001b[38;5;28;01mfrom\u001b[39;00m\u001b[38;5;250m \u001b[39m\u001b[38;5;21;01m.\u001b[39;00m\u001b[38;5;21;01mmodule\u001b[39;00m\u001b[38;5;250m \u001b[39m\u001b[38;5;28;01mimport\u001b[39;00m default_modules\n",
      "File \u001b[0;32m~/work/capsul/capsul/capsul/engine/database_populse.py:6\u001b[0m\n\u001b[1;32m      2\u001b[0m \u001b[38;5;28;01mimport\u001b[39;00m\u001b[38;5;250m \u001b[39m\u001b[38;5;21;01mos\u001b[39;00m\u001b[38;5;21;01m.\u001b[39;00m\u001b[38;5;21;01mpath\u001b[39;00m\u001b[38;5;250m \u001b[39m\u001b[38;5;28;01mas\u001b[39;00m\u001b[38;5;250m \u001b[39m\u001b[38;5;21;01mosp\u001b[39;00m\n\u001b[1;32m      4\u001b[0m \u001b[38;5;28;01mfrom\u001b[39;00m\u001b[38;5;250m \u001b[39m\u001b[38;5;21;01mcapsul\u001b[39;00m\u001b[38;5;21;01m.\u001b[39;00m\u001b[38;5;21;01mengine\u001b[39;00m\u001b[38;5;21;01m.\u001b[39;00m\u001b[38;5;21;01mdatabase\u001b[39;00m\u001b[38;5;250m \u001b[39m\u001b[38;5;28;01mimport\u001b[39;00m DatabaseEngine\n\u001b[0;32m----> 6\u001b[0m \u001b[38;5;28;01mfrom\u001b[39;00m\u001b[38;5;250m \u001b[39m\u001b[38;5;21;01mpopulse_db\u001b[39;00m\u001b[38;5;21;01m.\u001b[39;00m\u001b[38;5;21;01mstorage\u001b[39;00m\u001b[38;5;250m \u001b[39m\u001b[38;5;28;01mimport\u001b[39;00m Storage\n\u001b[1;32m      8\u001b[0m schemas \u001b[38;5;241m=\u001b[39m [\n\u001b[1;32m      9\u001b[0m     {\n\u001b[1;32m     10\u001b[0m         \u001b[38;5;124m\"\u001b[39m\u001b[38;5;124mversion\u001b[39m\u001b[38;5;124m\"\u001b[39m: \u001b[38;5;124m\"\u001b[39m\u001b[38;5;124m1.0.0\u001b[39m\u001b[38;5;124m\"\u001b[39m,\n\u001b[0;32m   (...)\u001b[0m\n\u001b[1;32m     39\u001b[0m     },\n\u001b[1;32m     40\u001b[0m ]\n\u001b[1;32m     43\u001b[0m \u001b[38;5;28;01mclass\u001b[39;00m\u001b[38;5;250m \u001b[39m\u001b[38;5;21;01mPopulseDBEngine\u001b[39;00m(DatabaseEngine):\n",
      "\u001b[0;31mModuleNotFoundError\u001b[0m: No module named 'populse_db.storage'"
     ]
    }
   ],
   "source": [
    "from capsul.api import StudyConfig\n",
    "# optional config modules, need not to be explicitly loaded\n",
    "# from capsul.study_config.config_modules.freesurfer_config import FreeSurferConfig\n",
    "# from capsul.study_config.config_modules.brainvisa_config import BrainVISAConfig\n",
    "\n",
    "default_config = {\"use_soma_workflow\": True}\n",
    "study_config = StudyConfig(initial_config=default_config, \n",
    "                           modules=StudyConfig.default_modules + \\\n",
    "                           ['BrainVISAConfig', 'FSLConfig', 'FomConfig'])\n",
    "\n",
    "# inspect config options\n",
    "for k in study_config.user_traits().keys(): print(k, ':  ', getattr(study_config, k))"
   ]
  },
  {
   "cell_type": "markdown",
   "metadata": {
    "deletable": true,
    "editable": true
   },
   "source": [
    "Let show how to configure FSL:"
   ]
  },
  {
   "cell_type": "code",
   "execution_count": 41,
   "metadata": {
    "collapsed": false,
    "deletable": true,
    "editable": true,
    "execution": {
     "iopub.execute_input": "2025-04-09T15:52:14.090608Z",
     "iopub.status.busy": "2025-04-09T15:52:14.090124Z",
     "iopub.status.idle": "2025-04-09T15:52:14.150359Z",
     "shell.execute_reply": "2025-04-09T15:52:14.149647Z"
    }
   },
   "outputs": [
    {
     "ename": "ModuleNotFoundError",
     "evalue": "No module named 'populse_db.storage'",
     "output_type": "error",
     "traceback": [
      "\u001b[0;31m---------------------------------------------------------------------------\u001b[0m",
      "\u001b[0;31mModuleNotFoundError\u001b[0m                       Traceback (most recent call last)",
      "Cell \u001b[0;32mIn[41], line 1\u001b[0m\n\u001b[0;32m----> 1\u001b[0m \u001b[38;5;28;01mfrom\u001b[39;00m\u001b[38;5;250m \u001b[39m\u001b[38;5;21;01mcapsul\u001b[39;00m\u001b[38;5;21;01m.\u001b[39;00m\u001b[38;5;21;01mapi\u001b[39;00m\u001b[38;5;250m \u001b[39m\u001b[38;5;28;01mimport\u001b[39;00m StudyConfig\n\u001b[1;32m      3\u001b[0m study_config \u001b[38;5;241m=\u001b[39m StudyConfig(\n\u001b[1;32m      4\u001b[0m     modules\u001b[38;5;241m=\u001b[39m[\u001b[38;5;124m\"\u001b[39m\u001b[38;5;124mFSLConfig\u001b[39m\u001b[38;5;124m\"\u001b[39m],\n\u001b[1;32m      5\u001b[0m     fsl_config\u001b[38;5;241m=\u001b[39m\u001b[38;5;124m\"\u001b[39m\u001b[38;5;124m/etc/fsl/5.0/fsl.sh\u001b[39m\u001b[38;5;124m\"\u001b[39m,\n\u001b[1;32m      6\u001b[0m     use_smart_caching\u001b[38;5;241m=\u001b[39m\u001b[38;5;28;01mTrue\u001b[39;00m,\n\u001b[1;32m      7\u001b[0m     output_directory\u001b[38;5;241m=\u001b[39m\u001b[38;5;124m\"\u001b[39m\u001b[38;5;124m/tmp/capsul_demo\u001b[39m\u001b[38;5;124m\"\u001b[39m)\n\u001b[1;32m      8\u001b[0m \u001b[38;5;28mprint\u001b[39m(study_config\u001b[38;5;241m.\u001b[39mrun\u001b[38;5;241m.\u001b[39m\u001b[38;5;18m__doc__\u001b[39m)\n",
      "File \u001b[0;32m~/work/capsul/capsul/capsul/api.py:41\u001b[0m\n\u001b[1;32m     39\u001b[0m \u001b[38;5;28;01mfrom\u001b[39;00m\u001b[38;5;250m \u001b[39m\u001b[38;5;21;01mcapsul\u001b[39;00m\u001b[38;5;21;01m.\u001b[39;00m\u001b[38;5;21;01mpipeline\u001b[39;00m\u001b[38;5;21;01m.\u001b[39;00m\u001b[38;5;21;01mpipeline_nodes\u001b[39;00m\u001b[38;5;250m \u001b[39m\u001b[38;5;28;01mimport\u001b[39;00m Switch\n\u001b[1;32m     40\u001b[0m \u001b[38;5;28;01mfrom\u001b[39;00m\u001b[38;5;250m \u001b[39m\u001b[38;5;21;01mcapsul\u001b[39;00m\u001b[38;5;21;01m.\u001b[39;00m\u001b[38;5;21;01mpipeline\u001b[39;00m\u001b[38;5;21;01m.\u001b[39;00m\u001b[38;5;21;01mpipeline_nodes\u001b[39;00m\u001b[38;5;250m \u001b[39m\u001b[38;5;28;01mimport\u001b[39;00m OptionalOutputSwitch\n\u001b[0;32m---> 41\u001b[0m \u001b[38;5;28;01mfrom\u001b[39;00m\u001b[38;5;250m \u001b[39m\u001b[38;5;21;01mcapsul\u001b[39;00m\u001b[38;5;21;01m.\u001b[39;00m\u001b[38;5;21;01mengine\u001b[39;00m\u001b[38;5;250m \u001b[39m\u001b[38;5;28;01mimport\u001b[39;00m capsul_engine\n\u001b[1;32m     42\u001b[0m \u001b[38;5;28;01mfrom\u001b[39;00m\u001b[38;5;250m \u001b[39m\u001b[38;5;21;01mcapsul\u001b[39;00m\u001b[38;5;21;01m.\u001b[39;00m\u001b[38;5;21;01mengine\u001b[39;00m\u001b[38;5;250m \u001b[39m\u001b[38;5;28;01mimport\u001b[39;00m activate_configuration\n\u001b[1;32m     43\u001b[0m \u001b[38;5;28;01mfrom\u001b[39;00m\u001b[38;5;250m \u001b[39m\u001b[38;5;21;01mcapsul\u001b[39;00m\u001b[38;5;21;01m.\u001b[39;00m\u001b[38;5;21;01mstudy_config\u001b[39;00m\u001b[38;5;21;01m.\u001b[39;00m\u001b[38;5;21;01mprocess_instance\u001b[39;00m\u001b[38;5;250m \u001b[39m\u001b[38;5;28;01mimport\u001b[39;00m get_process_instance\n",
      "File \u001b[0;32m~/work/capsul/capsul/capsul/engine/__init__.py:36\u001b[0m\n\u001b[1;32m     33\u001b[0m \u001b[38;5;28;01mfrom\u001b[39;00m\u001b[38;5;250m \u001b[39m\u001b[38;5;21;01msoma\u001b[39;00m\u001b[38;5;21;01m.\u001b[39;00m\u001b[38;5;21;01msorted_dictionary\u001b[39;00m\u001b[38;5;250m \u001b[39m\u001b[38;5;28;01mimport\u001b[39;00m SortedDictionary\n\u001b[1;32m     34\u001b[0m \u001b[38;5;28;01mfrom\u001b[39;00m\u001b[38;5;250m \u001b[39m\u001b[38;5;21;01msoma\u001b[39;00m\u001b[38;5;21;01m.\u001b[39;00m\u001b[38;5;21;01mutils\u001b[39;00m\u001b[38;5;21;01m.\u001b[39;00m\u001b[38;5;21;01mweak_proxy\u001b[39;00m\u001b[38;5;250m \u001b[39m\u001b[38;5;28;01mimport\u001b[39;00m get_ref\n\u001b[0;32m---> 36\u001b[0m \u001b[38;5;28;01mfrom\u001b[39;00m\u001b[38;5;250m \u001b[39m\u001b[38;5;21;01m.\u001b[39;00m\u001b[38;5;21;01mdatabase_populse\u001b[39;00m\u001b[38;5;250m \u001b[39m\u001b[38;5;28;01mimport\u001b[39;00m PopulseDBEngine\n\u001b[1;32m     38\u001b[0m \u001b[38;5;28;01mfrom\u001b[39;00m\u001b[38;5;250m \u001b[39m\u001b[38;5;21;01m.\u001b[39;00m\u001b[38;5;21;01msettings\u001b[39;00m\u001b[38;5;250m \u001b[39m\u001b[38;5;28;01mimport\u001b[39;00m Settings\n\u001b[1;32m     39\u001b[0m \u001b[38;5;28;01mfrom\u001b[39;00m\u001b[38;5;250m \u001b[39m\u001b[38;5;21;01m.\u001b[39;00m\u001b[38;5;21;01mmodule\u001b[39;00m\u001b[38;5;250m \u001b[39m\u001b[38;5;28;01mimport\u001b[39;00m default_modules\n",
      "File \u001b[0;32m~/work/capsul/capsul/capsul/engine/database_populse.py:6\u001b[0m\n\u001b[1;32m      2\u001b[0m \u001b[38;5;28;01mimport\u001b[39;00m\u001b[38;5;250m \u001b[39m\u001b[38;5;21;01mos\u001b[39;00m\u001b[38;5;21;01m.\u001b[39;00m\u001b[38;5;21;01mpath\u001b[39;00m\u001b[38;5;250m \u001b[39m\u001b[38;5;28;01mas\u001b[39;00m\u001b[38;5;250m \u001b[39m\u001b[38;5;21;01mosp\u001b[39;00m\n\u001b[1;32m      4\u001b[0m \u001b[38;5;28;01mfrom\u001b[39;00m\u001b[38;5;250m \u001b[39m\u001b[38;5;21;01mcapsul\u001b[39;00m\u001b[38;5;21;01m.\u001b[39;00m\u001b[38;5;21;01mengine\u001b[39;00m\u001b[38;5;21;01m.\u001b[39;00m\u001b[38;5;21;01mdatabase\u001b[39;00m\u001b[38;5;250m \u001b[39m\u001b[38;5;28;01mimport\u001b[39;00m DatabaseEngine\n\u001b[0;32m----> 6\u001b[0m \u001b[38;5;28;01mfrom\u001b[39;00m\u001b[38;5;250m \u001b[39m\u001b[38;5;21;01mpopulse_db\u001b[39;00m\u001b[38;5;21;01m.\u001b[39;00m\u001b[38;5;21;01mstorage\u001b[39;00m\u001b[38;5;250m \u001b[39m\u001b[38;5;28;01mimport\u001b[39;00m Storage\n\u001b[1;32m      8\u001b[0m schemas \u001b[38;5;241m=\u001b[39m [\n\u001b[1;32m      9\u001b[0m     {\n\u001b[1;32m     10\u001b[0m         \u001b[38;5;124m\"\u001b[39m\u001b[38;5;124mversion\u001b[39m\u001b[38;5;124m\"\u001b[39m: \u001b[38;5;124m\"\u001b[39m\u001b[38;5;124m1.0.0\u001b[39m\u001b[38;5;124m\"\u001b[39m,\n\u001b[0;32m   (...)\u001b[0m\n\u001b[1;32m     39\u001b[0m     },\n\u001b[1;32m     40\u001b[0m ]\n\u001b[1;32m     43\u001b[0m \u001b[38;5;28;01mclass\u001b[39;00m\u001b[38;5;250m \u001b[39m\u001b[38;5;21;01mPopulseDBEngine\u001b[39;00m(DatabaseEngine):\n",
      "\u001b[0;31mModuleNotFoundError\u001b[0m: No module named 'populse_db.storage'"
     ]
    }
   ],
   "source": [
    "from capsul.api import StudyConfig\n",
    "\n",
    "study_config = StudyConfig(\n",
    "    modules=[\"FSLConfig\"],\n",
    "    fsl_config=\"/etc/fsl/5.0/fsl.sh\",\n",
    "    use_smart_caching=True,\n",
    "    output_directory=\"/tmp/capsul_demo\")\n",
    "print(study_config.run.__doc__)"
   ]
  },
  {
   "cell_type": "markdown",
   "metadata": {
    "deletable": true,
    "editable": true
   },
   "source": [
    "<h2>Execution of the pipeline</h2>\n",
    "\n",
    "In this section a simple execution is performed on your machine using one CPU (if more than one CPU are used it means that the called external software is parallelized). We just have to call the StudyConfig run method:"
   ]
  },
  {
   "cell_type": "code",
   "execution_count": 42,
   "metadata": {
    "collapsed": false,
    "deletable": true,
    "editable": true,
    "execution": {
     "iopub.execute_input": "2025-04-09T15:52:14.152743Z",
     "iopub.status.busy": "2025-04-09T15:52:14.152330Z",
     "iopub.status.idle": "2025-04-09T15:52:14.167320Z",
     "shell.execute_reply": "2025-04-09T15:52:14.166634Z"
    }
   },
   "outputs": [
    {
     "ename": "NameError",
     "evalue": "name 'study_config' is not defined",
     "output_type": "error",
     "traceback": [
      "\u001b[0;31m---------------------------------------------------------------------------\u001b[0m",
      "\u001b[0;31mNameError\u001b[0m                                 Traceback (most recent call last)",
      "Cell \u001b[0;32mIn[42], line 1\u001b[0m\n\u001b[0;32m----> 1\u001b[0m \u001b[43mstudy_config\u001b[49m\u001b[38;5;241m.\u001b[39mreset_process_counter()\n\u001b[1;32m      2\u001b[0m study_config\u001b[38;5;241m.\u001b[39mrun(pipeline2, verbose\u001b[38;5;241m=\u001b[39m\u001b[38;5;241m1\u001b[39m)\n",
      "\u001b[0;31mNameError\u001b[0m: name 'study_config' is not defined"
     ]
    }
   ],
   "source": [
    "study_config.reset_process_counter()\n",
    "study_config.run(pipeline2, verbose=1)"
   ]
  },
  {
   "cell_type": "markdown",
   "metadata": {
    "deletable": true,
    "editable": true
   },
   "source": [
    "<h1>Distributed execution using Soma-Workflow</h1>\n",
    "\n",
    "Capsul can execute a pipeline through <a href=\"http://brainvisa.info/soma-workflow/\">Soma-Workflow</a> in order to address large parallelized pipelines, or huge datasets in the case of population imaging studies.\n",
    "\n",
    "**Limitation:**\n",
    "\n",
    "Currently, when used in Soma-Workflow, process outputs can only be files. Output numbers, strings, etc. will be lost."
   ]
  },
  {
   "cell_type": "code",
   "execution_count": 43,
   "metadata": {
    "collapsed": true,
    "deletable": true,
    "editable": true,
    "execution": {
     "iopub.execute_input": "2025-04-09T15:52:14.169660Z",
     "iopub.status.busy": "2025-04-09T15:52:14.169236Z",
     "iopub.status.idle": "2025-04-09T15:52:14.192260Z",
     "shell.execute_reply": "2025-04-09T15:52:14.191616Z"
    }
   },
   "outputs": [
    {
     "ename": "NameError",
     "evalue": "name 'Process' is not defined",
     "output_type": "error",
     "traceback": [
      "\u001b[0;31m---------------------------------------------------------------------------\u001b[0m",
      "\u001b[0;31mNameError\u001b[0m                                 Traceback (most recent call last)",
      "Cell \u001b[0;32mIn[43], line 1\u001b[0m\n\u001b[0;32m----> 1\u001b[0m \u001b[38;5;28;01mclass\u001b[39;00m\u001b[38;5;250m \u001b[39m\u001b[38;5;21;01mProcess1\u001b[39;00m(\u001b[43mProcess\u001b[49m):\n\u001b[1;32m      2\u001b[0m     f \u001b[38;5;241m=\u001b[39m Float(output\u001b[38;5;241m=\u001b[39m\u001b[38;5;28;01mFalse\u001b[39;00m)\n\u001b[1;32m      4\u001b[0m     \u001b[38;5;28;01mdef\u001b[39;00m\u001b[38;5;250m \u001b[39m\u001b[38;5;21m__init__\u001b[39m(\u001b[38;5;28mself\u001b[39m):\n",
      "\u001b[0;31mNameError\u001b[0m: name 'Process' is not defined"
     ]
    }
   ],
   "source": [
    "class Process1(Process):\n",
    "    f = Float(output=False)\n",
    "\n",
    "    def __init__(self):\n",
    "        super(Process1, self).__init__()\n",
    "        self.add_trait(\"ff\", Float(output=False))\n",
    "        self.add_trait(\"out\", Float(output=True))\n",
    "        \n",
    "    def get_commandline(self):\n",
    "        return ['echo', 'Process1 execution, f: %f, ff: %f' % (self.f, self.ff)]\n",
    "\n",
    "class Process2(Process):\n",
    "    \n",
    "    def __init__(self):\n",
    "        super(Process2, self).__init__()\n",
    "        self.add_trait(\"a\", Float(output=True))\n",
    "        self.add_trait(\"b\", Str(output=False))\n",
    "        \n",
    "    def get_commandline(self):\n",
    "        return ['echo', 'Process2 execution, a: %f, b: %s' % (self.a, self.b)]\n",
    "\n",
    "class Pipeline2(Pipeline):\n",
    "\n",
    "    def pipeline_definition(self):\n",
    "        # Create processes\n",
    "        self.add_process(\"node1\", Process1())\n",
    "        self.add_process(\"node2\", Process2())\n",
    "        # links\n",
    "        self.add_link('node2.a->node1.ff')\n",
    "        # custom exports\n",
    "        self.export_parameter(\"node2\", \"b\", \"node_string\")"
   ]
  },
  {
   "cell_type": "code",
   "execution_count": 44,
   "metadata": {
    "collapsed": false,
    "deletable": true,
    "editable": true,
    "execution": {
     "iopub.execute_input": "2025-04-09T15:52:14.194839Z",
     "iopub.status.busy": "2025-04-09T15:52:14.194212Z",
     "iopub.status.idle": "2025-04-09T15:52:14.220664Z",
     "shell.execute_reply": "2025-04-09T15:52:14.220023Z"
    }
   },
   "outputs": [
    {
     "ename": "NameError",
     "evalue": "name 'get_process_instance' is not defined",
     "output_type": "error",
     "traceback": [
      "\u001b[0;31m---------------------------------------------------------------------------\u001b[0m",
      "\u001b[0;31mNameError\u001b[0m                                 Traceback (most recent call last)",
      "Cell \u001b[0;32mIn[44], line 3\u001b[0m\n\u001b[1;32m      1\u001b[0m \u001b[38;5;28;01mfrom\u001b[39;00m\u001b[38;5;250m \u001b[39m\u001b[38;5;21;01mcapsul\u001b[39;00m\u001b[38;5;21;01m.\u001b[39;00m\u001b[38;5;21;01mpipeline\u001b[39;00m\u001b[38;5;21;01m.\u001b[39;00m\u001b[38;5;21;01mpipeline_workflow\u001b[39;00m\u001b[38;5;250m \u001b[39m\u001b[38;5;28;01mimport\u001b[39;00m workflow_from_pipeline\n\u001b[0;32m----> 3\u001b[0m pipeline2 \u001b[38;5;241m=\u001b[39m \u001b[43mget_process_instance\u001b[49m(Pipeline2)\n\u001b[1;32m      4\u001b[0m workflow \u001b[38;5;241m=\u001b[39m workflow_from_pipeline(pipeline2)\n\u001b[1;32m      5\u001b[0m \u001b[38;5;28mprint\u001b[39m(\u001b[38;5;124m'\u001b[39m\u001b[38;5;124mjobs:\u001b[39m\u001b[38;5;124m'\u001b[39m, workflow\u001b[38;5;241m.\u001b[39mjobs)\n",
      "\u001b[0;31mNameError\u001b[0m: name 'get_process_instance' is not defined"
     ]
    }
   ],
   "source": [
    "from capsul.pipeline.pipeline_workflow import workflow_from_pipeline\n",
    "\n",
    "pipeline2 = get_process_instance(Pipeline2)\n",
    "workflow = workflow_from_pipeline(pipeline2)\n",
    "print('jobs:', workflow.jobs)\n",
    "print('dependencies:', workflow.dependencies)"
   ]
  },
  {
   "cell_type": "markdown",
   "metadata": {
    "deletable": true,
    "editable": true
   },
   "source": [
    "The workwlow can be saved and reloaded in soma_workflow_gui, or used in a <a href=\"http://www.brainvisa.info/doc/soma-workflow/sphinx/client_API.html\">soma-workflow controller</a>:"
   ]
  },
  {
   "cell_type": "code",
   "execution_count": 45,
   "metadata": {
    "collapsed": false,
    "deletable": true,
    "editable": true,
    "execution": {
     "iopub.execute_input": "2025-04-09T15:52:14.223060Z",
     "iopub.status.busy": "2025-04-09T15:52:14.222656Z",
     "iopub.status.idle": "2025-04-09T15:52:14.239397Z",
     "shell.execute_reply": "2025-04-09T15:52:14.238815Z"
    }
   },
   "outputs": [
    {
     "ename": "NameError",
     "evalue": "name 'workflow' is not defined",
     "output_type": "error",
     "traceback": [
      "\u001b[0;31m---------------------------------------------------------------------------\u001b[0m",
      "\u001b[0;31mNameError\u001b[0m                                 Traceback (most recent call last)",
      "Cell \u001b[0;32mIn[45], line 4\u001b[0m\n\u001b[1;32m      1\u001b[0m \u001b[38;5;28;01mfrom\u001b[39;00m\u001b[38;5;250m \u001b[39m\u001b[38;5;21;01msoma_workflow\u001b[39;00m\u001b[38;5;250m \u001b[39m\u001b[38;5;28;01mimport\u001b[39;00m client \u001b[38;5;28;01mas\u001b[39;00m swclient\n\u001b[1;32m      3\u001b[0m \u001b[38;5;66;03m# save workflow to disk in json format\u001b[39;00m\n\u001b[0;32m----> 4\u001b[0m swclient\u001b[38;5;241m.\u001b[39mHelper\u001b[38;5;241m.\u001b[39mserialize(\u001b[38;5;124m'\u001b[39m\u001b[38;5;124m/tmp/pipeline2.workflow\u001b[39m\u001b[38;5;124m'\u001b[39m, \u001b[43mworkflow\u001b[49m)\n\u001b[1;32m      6\u001b[0m \u001b[38;5;66;03m# run locally via a workflow controller\u001b[39;00m\n\u001b[1;32m      7\u001b[0m wc \u001b[38;5;241m=\u001b[39m swclient\u001b[38;5;241m.\u001b[39mWorkflowController()\n",
      "\u001b[0;31mNameError\u001b[0m: name 'workflow' is not defined"
     ]
    }
   ],
   "source": [
    "from soma_workflow import client as swclient\n",
    "\n",
    "# save workflow to disk in json format\n",
    "swclient.Helper.serialize('/tmp/pipeline2.workflow', workflow)\n",
    "\n",
    "# run locally via a workflow controller\n",
    "wc = swclient.WorkflowController()\n",
    "wf_id = wc.submit_workflow(workflow)\n",
    "swclient.Helper.wait_workflow(wf_id, wc)\n",
    "print('execution status:', wc.workflow_status(wf_id))\n",
    "wc.delete_workflow(wf_id)"
   ]
  },
  {
   "cell_type": "markdown",
   "metadata": {
    "deletable": true,
    "editable": true
   },
   "source": [
    "ok if we don't use it anymore, we can remove this workflow file."
   ]
  },
  {
   "cell_type": "code",
   "execution_count": 46,
   "metadata": {
    "collapsed": true,
    "deletable": true,
    "editable": true,
    "execution": {
     "iopub.execute_input": "2025-04-09T15:52:14.241779Z",
     "iopub.status.busy": "2025-04-09T15:52:14.241356Z",
     "iopub.status.idle": "2025-04-09T15:52:14.255880Z",
     "shell.execute_reply": "2025-04-09T15:52:14.255273Z"
    }
   },
   "outputs": [
    {
     "ename": "FileNotFoundError",
     "evalue": "[Errno 2] No such file or directory: '/tmp/pipeline2.workflow'",
     "output_type": "error",
     "traceback": [
      "\u001b[0;31m---------------------------------------------------------------------------\u001b[0m",
      "\u001b[0;31mFileNotFoundError\u001b[0m                         Traceback (most recent call last)",
      "Cell \u001b[0;32mIn[46], line 2\u001b[0m\n\u001b[1;32m      1\u001b[0m \u001b[38;5;28;01mimport\u001b[39;00m\u001b[38;5;250m \u001b[39m\u001b[38;5;21;01mos\u001b[39;00m\n\u001b[0;32m----> 2\u001b[0m \u001b[43mos\u001b[49m\u001b[38;5;241;43m.\u001b[39;49m\u001b[43munlink\u001b[49m\u001b[43m(\u001b[49m\u001b[38;5;124;43m'\u001b[39;49m\u001b[38;5;124;43m/tmp/pipeline2.workflow\u001b[39;49m\u001b[38;5;124;43m'\u001b[39;49m\u001b[43m)\u001b[49m\n",
      "\u001b[0;31mFileNotFoundError\u001b[0m: [Errno 2] No such file or directory: '/tmp/pipeline2.workflow'"
     ]
    }
   ],
   "source": [
    "import os\n",
    "os.unlink('/tmp/pipeline2.workflow')"
   ]
  },
  {
   "cell_type": "markdown",
   "metadata": {
    "deletable": true,
    "editable": true
   },
   "source": [
    "More transparently, Soma-Workflow execution can be used from StudyConfig:\n",
    "For this, StudyConfig should have \"SomaWorkflowConfig\" amongst its modules, and it should be enabled (which should be the default when the module is loaded in the config)."
   ]
  },
  {
   "cell_type": "code",
   "execution_count": 47,
   "metadata": {
    "collapsed": false,
    "deletable": true,
    "editable": true,
    "execution": {
     "iopub.execute_input": "2025-04-09T15:52:14.258224Z",
     "iopub.status.busy": "2025-04-09T15:52:14.257809Z",
     "iopub.status.idle": "2025-04-09T15:52:14.272777Z",
     "shell.execute_reply": "2025-04-09T15:52:14.272189Z"
    }
   },
   "outputs": [
    {
     "ename": "NameError",
     "evalue": "name 'StudyConfig' is not defined",
     "output_type": "error",
     "traceback": [
      "\u001b[0;31m---------------------------------------------------------------------------\u001b[0m",
      "\u001b[0;31mNameError\u001b[0m                                 Traceback (most recent call last)",
      "Cell \u001b[0;32mIn[47], line 1\u001b[0m\n\u001b[0;32m----> 1\u001b[0m study_config \u001b[38;5;241m=\u001b[39m \u001b[43mStudyConfig\u001b[49m(modules\u001b[38;5;241m=\u001b[39m[\u001b[38;5;124m'\u001b[39m\u001b[38;5;124mSomaWorkflowConfig\u001b[39m\u001b[38;5;124m'\u001b[39m])\n\u001b[1;32m      2\u001b[0m study_config\u001b[38;5;241m.\u001b[39muse_soma_workflow \u001b[38;5;241m=\u001b[39m \u001b[38;5;28;01mTrue\u001b[39;00m\n\u001b[1;32m      3\u001b[0m study_config\u001b[38;5;241m.\u001b[39mrun(pipeline2)\n",
      "\u001b[0;31mNameError\u001b[0m: name 'StudyConfig' is not defined"
     ]
    }
   ],
   "source": [
    "study_config = StudyConfig(modules=['SomaWorkflowConfig'])\n",
    "study_config.use_soma_workflow = True\n",
    "study_config.run(pipeline2)\n",
    "# if execution fails, an exception should be raised."
   ]
  },
  {
   "cell_type": "markdown",
   "metadata": {
    "deletable": true,
    "editable": true
   },
   "source": [
    "If we wanted more control over the executed workflow, we could have added things:"
   ]
  },
  {
   "cell_type": "code",
   "execution_count": 48,
   "metadata": {
    "collapsed": false,
    "deletable": true,
    "editable": true,
    "execution": {
     "iopub.execute_input": "2025-04-09T15:52:14.275256Z",
     "iopub.status.busy": "2025-04-09T15:52:14.274783Z",
     "iopub.status.idle": "2025-04-09T15:52:14.293364Z",
     "shell.execute_reply": "2025-04-09T15:52:14.292688Z"
    }
   },
   "outputs": [
    {
     "ename": "NameError",
     "evalue": "name 'study_config' is not defined",
     "output_type": "error",
     "traceback": [
      "\u001b[0;31m---------------------------------------------------------------------------\u001b[0m",
      "\u001b[0;31mNameError\u001b[0m                                 Traceback (most recent call last)",
      "Cell \u001b[0;32mIn[48], line 1\u001b[0m\n\u001b[0;32m----> 1\u001b[0m \u001b[43mstudy_config\u001b[49m\u001b[38;5;241m.\u001b[39msomaworkflow_keep_succeeded_workflows \u001b[38;5;241m=\u001b[39m \u001b[38;5;28;01mTrue\u001b[39;00m\n\u001b[1;32m      2\u001b[0m wc \u001b[38;5;241m=\u001b[39m study_config\u001b[38;5;241m.\u001b[39mmodules[\u001b[38;5;124m'\u001b[39m\u001b[38;5;124mSomaWorkflowConfig\u001b[39m\u001b[38;5;124m'\u001b[39m]\u001b[38;5;241m.\u001b[39mget_workflow_controller()\n\u001b[1;32m      3\u001b[0m \u001b[38;5;28;01mif\u001b[39;00m wc \u001b[38;5;129;01mis\u001b[39;00m \u001b[38;5;129;01mnot\u001b[39;00m \u001b[38;5;28;01mNone\u001b[39;00m:\n",
      "\u001b[0;31mNameError\u001b[0m: name 'study_config' is not defined"
     ]
    }
   ],
   "source": [
    "study_config.somaworkflow_keep_succeeded_workflows = True\n",
    "wc = study_config.modules['SomaWorkflowConfig'].get_workflow_controller()\n",
    "if wc is not None:\n",
    "    init_wf_list = wc.workflows().keys()\n",
    "else:\n",
    "    init_wf_list = []\n",
    "try:\n",
    "    study_config.run(pipeline2)\n",
    "except Exception as e:\n",
    "    print('Workflow failed:', e)\n",
    "# get workflow after running\n",
    "wc = study_config.modules['SomaWorkflowConfig'].get_workflow_controller()\n",
    "wf_list = wc.workflows().keys()\n",
    "wf_id = [wf for wf in wf_list if wf not in init_wf_list][0]\n",
    "print('workflow id:', wf_id)\n",
    "wc.delete_workflow(wf_id)"
   ]
  },
  {
   "cell_type": "markdown",
   "metadata": {
    "deletable": true,
    "editable": true
   },
   "source": [
    "<h1>Use third-party software in Capsul</h1>\n",
    "\n",
    "Some third-party software need to be configured before they are called. StudyConfig is used to hold this\n",
    "configuration. There are a set of modules that can be modified to enable/disable configuration of third-party \n",
    "software.\n"
   ]
  },
  {
   "cell_type": "code",
   "execution_count": 49,
   "metadata": {
    "collapsed": false,
    "deletable": true,
    "editable": true,
    "execution": {
     "iopub.execute_input": "2025-04-09T15:52:14.295609Z",
     "iopub.status.busy": "2025-04-09T15:52:14.295347Z",
     "iopub.status.idle": "2025-04-09T15:52:14.397458Z",
     "shell.execute_reply": "2025-04-09T15:52:14.396729Z"
    }
   },
   "outputs": [
    {
     "ename": "ModuleNotFoundError",
     "evalue": "No module named 'populse_db.storage'",
     "output_type": "error",
     "traceback": [
      "\u001b[0;31m---------------------------------------------------------------------------\u001b[0m",
      "\u001b[0;31mModuleNotFoundError\u001b[0m                       Traceback (most recent call last)",
      "Cell \u001b[0;32mIn[49], line 1\u001b[0m\n\u001b[0;32m----> 1\u001b[0m \u001b[38;5;28;01mfrom\u001b[39;00m\u001b[38;5;250m \u001b[39m\u001b[38;5;21;01mcapsul\u001b[39;00m\u001b[38;5;21;01m.\u001b[39;00m\u001b[38;5;21;01mapi\u001b[39;00m\u001b[38;5;250m \u001b[39m\u001b[38;5;28;01mimport\u001b[39;00m StudyConfig\n\u001b[1;32m      3\u001b[0m \u001b[38;5;28mprint\u001b[39m(StudyConfig\u001b[38;5;241m.\u001b[39mdefault_modules)\n",
      "File \u001b[0;32m~/work/capsul/capsul/capsul/api.py:41\u001b[0m\n\u001b[1;32m     39\u001b[0m \u001b[38;5;28;01mfrom\u001b[39;00m\u001b[38;5;250m \u001b[39m\u001b[38;5;21;01mcapsul\u001b[39;00m\u001b[38;5;21;01m.\u001b[39;00m\u001b[38;5;21;01mpipeline\u001b[39;00m\u001b[38;5;21;01m.\u001b[39;00m\u001b[38;5;21;01mpipeline_nodes\u001b[39;00m\u001b[38;5;250m \u001b[39m\u001b[38;5;28;01mimport\u001b[39;00m Switch\n\u001b[1;32m     40\u001b[0m \u001b[38;5;28;01mfrom\u001b[39;00m\u001b[38;5;250m \u001b[39m\u001b[38;5;21;01mcapsul\u001b[39;00m\u001b[38;5;21;01m.\u001b[39;00m\u001b[38;5;21;01mpipeline\u001b[39;00m\u001b[38;5;21;01m.\u001b[39;00m\u001b[38;5;21;01mpipeline_nodes\u001b[39;00m\u001b[38;5;250m \u001b[39m\u001b[38;5;28;01mimport\u001b[39;00m OptionalOutputSwitch\n\u001b[0;32m---> 41\u001b[0m \u001b[38;5;28;01mfrom\u001b[39;00m\u001b[38;5;250m \u001b[39m\u001b[38;5;21;01mcapsul\u001b[39;00m\u001b[38;5;21;01m.\u001b[39;00m\u001b[38;5;21;01mengine\u001b[39;00m\u001b[38;5;250m \u001b[39m\u001b[38;5;28;01mimport\u001b[39;00m capsul_engine\n\u001b[1;32m     42\u001b[0m \u001b[38;5;28;01mfrom\u001b[39;00m\u001b[38;5;250m \u001b[39m\u001b[38;5;21;01mcapsul\u001b[39;00m\u001b[38;5;21;01m.\u001b[39;00m\u001b[38;5;21;01mengine\u001b[39;00m\u001b[38;5;250m \u001b[39m\u001b[38;5;28;01mimport\u001b[39;00m activate_configuration\n\u001b[1;32m     43\u001b[0m \u001b[38;5;28;01mfrom\u001b[39;00m\u001b[38;5;250m \u001b[39m\u001b[38;5;21;01mcapsul\u001b[39;00m\u001b[38;5;21;01m.\u001b[39;00m\u001b[38;5;21;01mstudy_config\u001b[39;00m\u001b[38;5;21;01m.\u001b[39;00m\u001b[38;5;21;01mprocess_instance\u001b[39;00m\u001b[38;5;250m \u001b[39m\u001b[38;5;28;01mimport\u001b[39;00m get_process_instance\n",
      "File \u001b[0;32m~/work/capsul/capsul/capsul/engine/__init__.py:36\u001b[0m\n\u001b[1;32m     33\u001b[0m \u001b[38;5;28;01mfrom\u001b[39;00m\u001b[38;5;250m \u001b[39m\u001b[38;5;21;01msoma\u001b[39;00m\u001b[38;5;21;01m.\u001b[39;00m\u001b[38;5;21;01msorted_dictionary\u001b[39;00m\u001b[38;5;250m \u001b[39m\u001b[38;5;28;01mimport\u001b[39;00m SortedDictionary\n\u001b[1;32m     34\u001b[0m \u001b[38;5;28;01mfrom\u001b[39;00m\u001b[38;5;250m \u001b[39m\u001b[38;5;21;01msoma\u001b[39;00m\u001b[38;5;21;01m.\u001b[39;00m\u001b[38;5;21;01mutils\u001b[39;00m\u001b[38;5;21;01m.\u001b[39;00m\u001b[38;5;21;01mweak_proxy\u001b[39;00m\u001b[38;5;250m \u001b[39m\u001b[38;5;28;01mimport\u001b[39;00m get_ref\n\u001b[0;32m---> 36\u001b[0m \u001b[38;5;28;01mfrom\u001b[39;00m\u001b[38;5;250m \u001b[39m\u001b[38;5;21;01m.\u001b[39;00m\u001b[38;5;21;01mdatabase_populse\u001b[39;00m\u001b[38;5;250m \u001b[39m\u001b[38;5;28;01mimport\u001b[39;00m PopulseDBEngine\n\u001b[1;32m     38\u001b[0m \u001b[38;5;28;01mfrom\u001b[39;00m\u001b[38;5;250m \u001b[39m\u001b[38;5;21;01m.\u001b[39;00m\u001b[38;5;21;01msettings\u001b[39;00m\u001b[38;5;250m \u001b[39m\u001b[38;5;28;01mimport\u001b[39;00m Settings\n\u001b[1;32m     39\u001b[0m \u001b[38;5;28;01mfrom\u001b[39;00m\u001b[38;5;250m \u001b[39m\u001b[38;5;21;01m.\u001b[39;00m\u001b[38;5;21;01mmodule\u001b[39;00m\u001b[38;5;250m \u001b[39m\u001b[38;5;28;01mimport\u001b[39;00m default_modules\n",
      "File \u001b[0;32m~/work/capsul/capsul/capsul/engine/database_populse.py:6\u001b[0m\n\u001b[1;32m      2\u001b[0m \u001b[38;5;28;01mimport\u001b[39;00m\u001b[38;5;250m \u001b[39m\u001b[38;5;21;01mos\u001b[39;00m\u001b[38;5;21;01m.\u001b[39;00m\u001b[38;5;21;01mpath\u001b[39;00m\u001b[38;5;250m \u001b[39m\u001b[38;5;28;01mas\u001b[39;00m\u001b[38;5;250m \u001b[39m\u001b[38;5;21;01mosp\u001b[39;00m\n\u001b[1;32m      4\u001b[0m \u001b[38;5;28;01mfrom\u001b[39;00m\u001b[38;5;250m \u001b[39m\u001b[38;5;21;01mcapsul\u001b[39;00m\u001b[38;5;21;01m.\u001b[39;00m\u001b[38;5;21;01mengine\u001b[39;00m\u001b[38;5;21;01m.\u001b[39;00m\u001b[38;5;21;01mdatabase\u001b[39;00m\u001b[38;5;250m \u001b[39m\u001b[38;5;28;01mimport\u001b[39;00m DatabaseEngine\n\u001b[0;32m----> 6\u001b[0m \u001b[38;5;28;01mfrom\u001b[39;00m\u001b[38;5;250m \u001b[39m\u001b[38;5;21;01mpopulse_db\u001b[39;00m\u001b[38;5;21;01m.\u001b[39;00m\u001b[38;5;21;01mstorage\u001b[39;00m\u001b[38;5;250m \u001b[39m\u001b[38;5;28;01mimport\u001b[39;00m Storage\n\u001b[1;32m      8\u001b[0m schemas \u001b[38;5;241m=\u001b[39m [\n\u001b[1;32m      9\u001b[0m     {\n\u001b[1;32m     10\u001b[0m         \u001b[38;5;124m\"\u001b[39m\u001b[38;5;124mversion\u001b[39m\u001b[38;5;124m\"\u001b[39m: \u001b[38;5;124m\"\u001b[39m\u001b[38;5;124m1.0.0\u001b[39m\u001b[38;5;124m\"\u001b[39m,\n\u001b[0;32m   (...)\u001b[0m\n\u001b[1;32m     39\u001b[0m     },\n\u001b[1;32m     40\u001b[0m ]\n\u001b[1;32m     43\u001b[0m \u001b[38;5;28;01mclass\u001b[39;00m\u001b[38;5;250m \u001b[39m\u001b[38;5;21;01mPopulseDBEngine\u001b[39;00m(DatabaseEngine):\n",
      "\u001b[0;31mModuleNotFoundError\u001b[0m: No module named 'populse_db.storage'"
     ]
    }
   ],
   "source": [
    "from capsul.api import StudyConfig\n",
    "\n",
    "print(StudyConfig.default_modules)"
   ]
  },
  {
   "cell_type": "markdown",
   "metadata": {
    "deletable": true,
    "editable": true
   },
   "source": [
    "In order to change modules that are used, one must give a full module list to StudyConfig():"
   ]
  },
  {
   "cell_type": "code",
   "execution_count": 50,
   "metadata": {
    "collapsed": true,
    "deletable": true,
    "editable": true,
    "execution": {
     "iopub.execute_input": "2025-04-09T15:52:14.399915Z",
     "iopub.status.busy": "2025-04-09T15:52:14.399413Z",
     "iopub.status.idle": "2025-04-09T15:52:14.414791Z",
     "shell.execute_reply": "2025-04-09T15:52:14.414095Z"
    }
   },
   "outputs": [
    {
     "ename": "NameError",
     "evalue": "name 'StudyConfig' is not defined",
     "output_type": "error",
     "traceback": [
      "\u001b[0;31m---------------------------------------------------------------------------\u001b[0m",
      "\u001b[0;31mNameError\u001b[0m                                 Traceback (most recent call last)",
      "Cell \u001b[0;32mIn[50], line 1\u001b[0m\n\u001b[0;32m----> 1\u001b[0m study_config \u001b[38;5;241m=\u001b[39m \u001b[43mStudyConfig\u001b[49m(modules\u001b[38;5;241m=\u001b[39mStudyConfig\u001b[38;5;241m.\u001b[39mdefault_modules \u001b[38;5;241m+\u001b[39m [\u001b[38;5;124m'\u001b[39m\u001b[38;5;124mBrainVISAConfig\u001b[39m\u001b[38;5;124m'\u001b[39m, \u001b[38;5;124m'\u001b[39m\u001b[38;5;124mNipypeConfig\u001b[39m\u001b[38;5;124m'\u001b[39m])\n",
      "\u001b[0;31mNameError\u001b[0m: name 'StudyConfig' is not defined"
     ]
    }
   ],
   "source": [
    "study_config = StudyConfig(modules=StudyConfig.default_modules + ['BrainVISAConfig', 'NipypeConfig'])"
   ]
  },
  {
   "cell_type": "markdown",
   "metadata": {
    "deletable": true,
    "editable": true
   },
   "source": [
    "<h2>Use FSL in Capsul</h2>\n",
    "\n",
    "FSL is called via specific subprocess-like functions taking into account a \n",
    "configuration done in StudyConfig. If a StudyConfig is not\n",
    "configured to use FSL, it may be automatically configured. Automatic\n",
    "configuration had been tested in the two following cases :\n",
    "<ol>\n",
    "    <li>FSL was installed from the FMRIB site and, at least, FSLDIR \n",
    "    environment variable is set (fsl.sh can be sourced or not)</li>\n",
    "    <li>FSL was installed from Neurodebian packages</li>\n",
    "</ol>\n",
    "\n",
    "Automatic configuration is done lazily. To start it, one must either use `StudyConfig(use_fsl=True)` or use one of the calling functions of `capsul.subprocess.fsl`.\n",
    "\n",
    "For calling FSL command with `capsul.subprocess.fsl` module, the first argument of\n",
    "command line must be the FSL executable without any path nor prefix. \n",
    "Prefix are used in Neurodebian install. For instance on Ubuntu 16.04 \n",
    "Neurodebian FSL commands are prefixed with `fsl5.0-`.\n",
    "The appropriate path and eventually prefix are added from the configuration\n",
    "of the `StudyConfig` instance."
   ]
  },
  {
   "cell_type": "code",
   "execution_count": 51,
   "metadata": {
    "collapsed": false,
    "deletable": true,
    "editable": true,
    "execution": {
     "iopub.execute_input": "2025-04-09T15:52:14.417040Z",
     "iopub.status.busy": "2025-04-09T15:52:14.416662Z",
     "iopub.status.idle": "2025-04-09T15:52:14.485249Z",
     "shell.execute_reply": "2025-04-09T15:52:14.484626Z"
    }
   },
   "outputs": [
    {
     "ename": "ModuleNotFoundError",
     "evalue": "No module named 'populse_db.storage'",
     "output_type": "error",
     "traceback": [
      "\u001b[0;31m---------------------------------------------------------------------------\u001b[0m",
      "\u001b[0;31mModuleNotFoundError\u001b[0m                       Traceback (most recent call last)",
      "Cell \u001b[0;32mIn[51], line 8\u001b[0m\n\u001b[1;32m      4\u001b[0m \u001b[38;5;28;01mimport\u001b[39;00m\u001b[38;5;250m \u001b[39m\u001b[38;5;21;01mtempfile\u001b[39;00m\n\u001b[1;32m      6\u001b[0m \u001b[38;5;28;01mfrom\u001b[39;00m\u001b[38;5;250m \u001b[39m\u001b[38;5;21;01mtraits\u001b[39;00m\u001b[38;5;21;01m.\u001b[39;00m\u001b[38;5;21;01mapi\u001b[39;00m\u001b[38;5;250m \u001b[39m\u001b[38;5;28;01mimport\u001b[39;00m File, Undefined\n\u001b[0;32m----> 8\u001b[0m \u001b[38;5;28;01mfrom\u001b[39;00m\u001b[38;5;250m \u001b[39m\u001b[38;5;21;01mcapsul\u001b[39;00m\u001b[38;5;21;01m.\u001b[39;00m\u001b[38;5;21;01mapi\u001b[39;00m\u001b[38;5;250m \u001b[39m\u001b[38;5;28;01mimport\u001b[39;00m StudyConfig, Process\n\u001b[1;32m      9\u001b[0m \u001b[38;5;28;01mfrom\u001b[39;00m\u001b[38;5;250m \u001b[39m\u001b[38;5;21;01mcapsul\u001b[39;00m\u001b[38;5;21;01m.\u001b[39;00m\u001b[38;5;21;01min_context\u001b[39;00m\u001b[38;5;250m \u001b[39m\u001b[38;5;28;01mimport\u001b[39;00m fsl\n\u001b[1;32m     11\u001b[0m \u001b[38;5;28;01mclass\u001b[39;00m\u001b[38;5;250m \u001b[39m\u001b[38;5;21;01mBet\u001b[39;00m(Process):\n",
      "File \u001b[0;32m~/work/capsul/capsul/capsul/api.py:41\u001b[0m\n\u001b[1;32m     39\u001b[0m \u001b[38;5;28;01mfrom\u001b[39;00m\u001b[38;5;250m \u001b[39m\u001b[38;5;21;01mcapsul\u001b[39;00m\u001b[38;5;21;01m.\u001b[39;00m\u001b[38;5;21;01mpipeline\u001b[39;00m\u001b[38;5;21;01m.\u001b[39;00m\u001b[38;5;21;01mpipeline_nodes\u001b[39;00m\u001b[38;5;250m \u001b[39m\u001b[38;5;28;01mimport\u001b[39;00m Switch\n\u001b[1;32m     40\u001b[0m \u001b[38;5;28;01mfrom\u001b[39;00m\u001b[38;5;250m \u001b[39m\u001b[38;5;21;01mcapsul\u001b[39;00m\u001b[38;5;21;01m.\u001b[39;00m\u001b[38;5;21;01mpipeline\u001b[39;00m\u001b[38;5;21;01m.\u001b[39;00m\u001b[38;5;21;01mpipeline_nodes\u001b[39;00m\u001b[38;5;250m \u001b[39m\u001b[38;5;28;01mimport\u001b[39;00m OptionalOutputSwitch\n\u001b[0;32m---> 41\u001b[0m \u001b[38;5;28;01mfrom\u001b[39;00m\u001b[38;5;250m \u001b[39m\u001b[38;5;21;01mcapsul\u001b[39;00m\u001b[38;5;21;01m.\u001b[39;00m\u001b[38;5;21;01mengine\u001b[39;00m\u001b[38;5;250m \u001b[39m\u001b[38;5;28;01mimport\u001b[39;00m capsul_engine\n\u001b[1;32m     42\u001b[0m \u001b[38;5;28;01mfrom\u001b[39;00m\u001b[38;5;250m \u001b[39m\u001b[38;5;21;01mcapsul\u001b[39;00m\u001b[38;5;21;01m.\u001b[39;00m\u001b[38;5;21;01mengine\u001b[39;00m\u001b[38;5;250m \u001b[39m\u001b[38;5;28;01mimport\u001b[39;00m activate_configuration\n\u001b[1;32m     43\u001b[0m \u001b[38;5;28;01mfrom\u001b[39;00m\u001b[38;5;250m \u001b[39m\u001b[38;5;21;01mcapsul\u001b[39;00m\u001b[38;5;21;01m.\u001b[39;00m\u001b[38;5;21;01mstudy_config\u001b[39;00m\u001b[38;5;21;01m.\u001b[39;00m\u001b[38;5;21;01mprocess_instance\u001b[39;00m\u001b[38;5;250m \u001b[39m\u001b[38;5;28;01mimport\u001b[39;00m get_process_instance\n",
      "File \u001b[0;32m~/work/capsul/capsul/capsul/engine/__init__.py:36\u001b[0m\n\u001b[1;32m     33\u001b[0m \u001b[38;5;28;01mfrom\u001b[39;00m\u001b[38;5;250m \u001b[39m\u001b[38;5;21;01msoma\u001b[39;00m\u001b[38;5;21;01m.\u001b[39;00m\u001b[38;5;21;01msorted_dictionary\u001b[39;00m\u001b[38;5;250m \u001b[39m\u001b[38;5;28;01mimport\u001b[39;00m SortedDictionary\n\u001b[1;32m     34\u001b[0m \u001b[38;5;28;01mfrom\u001b[39;00m\u001b[38;5;250m \u001b[39m\u001b[38;5;21;01msoma\u001b[39;00m\u001b[38;5;21;01m.\u001b[39;00m\u001b[38;5;21;01mutils\u001b[39;00m\u001b[38;5;21;01m.\u001b[39;00m\u001b[38;5;21;01mweak_proxy\u001b[39;00m\u001b[38;5;250m \u001b[39m\u001b[38;5;28;01mimport\u001b[39;00m get_ref\n\u001b[0;32m---> 36\u001b[0m \u001b[38;5;28;01mfrom\u001b[39;00m\u001b[38;5;250m \u001b[39m\u001b[38;5;21;01m.\u001b[39;00m\u001b[38;5;21;01mdatabase_populse\u001b[39;00m\u001b[38;5;250m \u001b[39m\u001b[38;5;28;01mimport\u001b[39;00m PopulseDBEngine\n\u001b[1;32m     38\u001b[0m \u001b[38;5;28;01mfrom\u001b[39;00m\u001b[38;5;250m \u001b[39m\u001b[38;5;21;01m.\u001b[39;00m\u001b[38;5;21;01msettings\u001b[39;00m\u001b[38;5;250m \u001b[39m\u001b[38;5;28;01mimport\u001b[39;00m Settings\n\u001b[1;32m     39\u001b[0m \u001b[38;5;28;01mfrom\u001b[39;00m\u001b[38;5;250m \u001b[39m\u001b[38;5;21;01m.\u001b[39;00m\u001b[38;5;21;01mmodule\u001b[39;00m\u001b[38;5;250m \u001b[39m\u001b[38;5;28;01mimport\u001b[39;00m default_modules\n",
      "File \u001b[0;32m~/work/capsul/capsul/capsul/engine/database_populse.py:6\u001b[0m\n\u001b[1;32m      2\u001b[0m \u001b[38;5;28;01mimport\u001b[39;00m\u001b[38;5;250m \u001b[39m\u001b[38;5;21;01mos\u001b[39;00m\u001b[38;5;21;01m.\u001b[39;00m\u001b[38;5;21;01mpath\u001b[39;00m\u001b[38;5;250m \u001b[39m\u001b[38;5;28;01mas\u001b[39;00m\u001b[38;5;250m \u001b[39m\u001b[38;5;21;01mosp\u001b[39;00m\n\u001b[1;32m      4\u001b[0m \u001b[38;5;28;01mfrom\u001b[39;00m\u001b[38;5;250m \u001b[39m\u001b[38;5;21;01mcapsul\u001b[39;00m\u001b[38;5;21;01m.\u001b[39;00m\u001b[38;5;21;01mengine\u001b[39;00m\u001b[38;5;21;01m.\u001b[39;00m\u001b[38;5;21;01mdatabase\u001b[39;00m\u001b[38;5;250m \u001b[39m\u001b[38;5;28;01mimport\u001b[39;00m DatabaseEngine\n\u001b[0;32m----> 6\u001b[0m \u001b[38;5;28;01mfrom\u001b[39;00m\u001b[38;5;250m \u001b[39m\u001b[38;5;21;01mpopulse_db\u001b[39;00m\u001b[38;5;21;01m.\u001b[39;00m\u001b[38;5;21;01mstorage\u001b[39;00m\u001b[38;5;250m \u001b[39m\u001b[38;5;28;01mimport\u001b[39;00m Storage\n\u001b[1;32m      8\u001b[0m schemas \u001b[38;5;241m=\u001b[39m [\n\u001b[1;32m      9\u001b[0m     {\n\u001b[1;32m     10\u001b[0m         \u001b[38;5;124m\"\u001b[39m\u001b[38;5;124mversion\u001b[39m\u001b[38;5;124m\"\u001b[39m: \u001b[38;5;124m\"\u001b[39m\u001b[38;5;124m1.0.0\u001b[39m\u001b[38;5;124m\"\u001b[39m,\n\u001b[0;32m   (...)\u001b[0m\n\u001b[1;32m     39\u001b[0m     },\n\u001b[1;32m     40\u001b[0m ]\n\u001b[1;32m     43\u001b[0m \u001b[38;5;28;01mclass\u001b[39;00m\u001b[38;5;250m \u001b[39m\u001b[38;5;21;01mPopulseDBEngine\u001b[39;00m(DatabaseEngine):\n",
      "\u001b[0;31mModuleNotFoundError\u001b[0m: No module named 'populse_db.storage'"
     ]
    }
   ],
   "source": [
    "import sys\n",
    "import os\n",
    "import os.path as osp\n",
    "import tempfile\n",
    "\n",
    "from traits.api import File, Undefined\n",
    "\n",
    "from capsul.api import StudyConfig, Process\n",
    "from capsul.in_context import fsl\n",
    "    \n",
    "class Bet(Process):\n",
    "    '''\n",
    "    A process that calls bet command without any parameter except input and output files.\n",
    "    '''\n",
    "    input_image = File(optional=False, output=False)\n",
    "    output_image = File(optional=False, output=True)\n",
    "    \n",
    "\n",
    "    def _run_process(self):\n",
    "        fsl.fsl_check_call(['bet', self.input_image, self.output_image])\n",
    "    \n",
    "try:\n",
    "    study_config = StudyConfig(use_fsl=True)\n",
    "except EnvironmentError as e:\n",
    "    # If FSL cannot be configured automatically, tells why\n",
    "    print('FSL cannot be configured automatically:', str(e))\n",
    "    study_config = None\n",
    "if study_config and study_config.use_fsl is True:\n",
    "    with study_config.engine:\n",
    "        # Try to find an image in FSL installation directory\n",
    "        test_image = '/usr/share/data/fsl-mni152-templates/MNI152_T1_1mm_brain.nii.gz'\n",
    "        if not osp.exists(test_image):\n",
    "            fsl_dir = os.environ.get('FSLDIR')\n",
    "            if not fsl_dir and study_config.fsl_config is not Undefined:\n",
    "                fsl_dir = osp.dirname(osp.dirname(osp.dirname(study_config.fsl_config)))\n",
    "                if fsl_dir:\n",
    "                    test_image = glob(osp.join(fsl_dir, 'fslpython/envs/fslpython/lib/python*/site-packages/nibabel/tests/data/anatomical.nii'))\n",
    "                    if test_image:\n",
    "                        test_image = test_image[0]\n",
    "                    else:\n",
    "                        print('FSL test data cannot be found')\n",
    "                        test_image = None\n",
    "    \n",
    "        if test_image:\n",
    "            bet = study_config.get_process_instance(Bet)\n",
    "            with tempfile.NamedTemporaryFile(suffix='.nii.gz') as tmp:\n",
    "                bet.run(input_image=test_image, output_image=tmp.name)\n",
    "                print('Output file size:', os.stat(bet.output_image).st_size)\n"
   ]
  },
  {
   "cell_type": "markdown",
   "metadata": {
    "deletable": true,
    "editable": true
   },
   "source": [
    "<h1>Use Nipype in Capsul</h1>\n",
    "\n",
    "It is possible to use all the nipype interfaces (FSL, SPM, FreeSurfer, ...) as building blocks in Capsul. This step requires nipype to be properly installed as well as the software we want to use. For instance if we want to perform a brain extraction with FSL we can simply write:"
   ]
  },
  {
   "cell_type": "code",
   "execution_count": 52,
   "metadata": {
    "collapsed": true,
    "deletable": true,
    "editable": true,
    "execution": {
     "iopub.execute_input": "2025-04-09T15:52:14.487529Z",
     "iopub.status.busy": "2025-04-09T15:52:14.487294Z",
     "iopub.status.idle": "2025-04-09T15:52:14.547997Z",
     "shell.execute_reply": "2025-04-09T15:52:14.547227Z"
    }
   },
   "outputs": [
    {
     "ename": "ModuleNotFoundError",
     "evalue": "No module named 'populse_db.storage'",
     "output_type": "error",
     "traceback": [
      "\u001b[0;31m---------------------------------------------------------------------------\u001b[0m",
      "\u001b[0;31mModuleNotFoundError\u001b[0m                       Traceback (most recent call last)",
      "Cell \u001b[0;32mIn[52], line 1\u001b[0m\n\u001b[0;32m----> 1\u001b[0m \u001b[38;5;28;01mfrom\u001b[39;00m\u001b[38;5;250m \u001b[39m\u001b[38;5;21;01mcapsul\u001b[39;00m\u001b[38;5;21;01m.\u001b[39;00m\u001b[38;5;21;01mapi\u001b[39;00m\u001b[38;5;250m \u001b[39m\u001b[38;5;28;01mimport\u001b[39;00m StudyConfig, get_process_instance\n\u001b[1;32m      2\u001b[0m \u001b[38;5;28;01mfrom\u001b[39;00m\u001b[38;5;250m \u001b[39m\u001b[38;5;21;01msoma\u001b[39;00m\u001b[38;5;21;01m.\u001b[39;00m\u001b[38;5;21;01mpath\u001b[39;00m\u001b[38;5;250m \u001b[39m\u001b[38;5;28;01mimport\u001b[39;00m find_in_path\n\u001b[1;32m      4\u001b[0m study_config \u001b[38;5;241m=\u001b[39m StudyConfig(modules\u001b[38;5;241m=\u001b[39mStudyConfig\u001b[38;5;241m.\u001b[39mdefault_modules \u001b[38;5;241m+\u001b[39m [\u001b[38;5;124m'\u001b[39m\u001b[38;5;124mNipypeConfig\u001b[39m\u001b[38;5;124m'\u001b[39m])\n",
      "File \u001b[0;32m~/work/capsul/capsul/capsul/api.py:41\u001b[0m\n\u001b[1;32m     39\u001b[0m \u001b[38;5;28;01mfrom\u001b[39;00m\u001b[38;5;250m \u001b[39m\u001b[38;5;21;01mcapsul\u001b[39;00m\u001b[38;5;21;01m.\u001b[39;00m\u001b[38;5;21;01mpipeline\u001b[39;00m\u001b[38;5;21;01m.\u001b[39;00m\u001b[38;5;21;01mpipeline_nodes\u001b[39;00m\u001b[38;5;250m \u001b[39m\u001b[38;5;28;01mimport\u001b[39;00m Switch\n\u001b[1;32m     40\u001b[0m \u001b[38;5;28;01mfrom\u001b[39;00m\u001b[38;5;250m \u001b[39m\u001b[38;5;21;01mcapsul\u001b[39;00m\u001b[38;5;21;01m.\u001b[39;00m\u001b[38;5;21;01mpipeline\u001b[39;00m\u001b[38;5;21;01m.\u001b[39;00m\u001b[38;5;21;01mpipeline_nodes\u001b[39;00m\u001b[38;5;250m \u001b[39m\u001b[38;5;28;01mimport\u001b[39;00m OptionalOutputSwitch\n\u001b[0;32m---> 41\u001b[0m \u001b[38;5;28;01mfrom\u001b[39;00m\u001b[38;5;250m \u001b[39m\u001b[38;5;21;01mcapsul\u001b[39;00m\u001b[38;5;21;01m.\u001b[39;00m\u001b[38;5;21;01mengine\u001b[39;00m\u001b[38;5;250m \u001b[39m\u001b[38;5;28;01mimport\u001b[39;00m capsul_engine\n\u001b[1;32m     42\u001b[0m \u001b[38;5;28;01mfrom\u001b[39;00m\u001b[38;5;250m \u001b[39m\u001b[38;5;21;01mcapsul\u001b[39;00m\u001b[38;5;21;01m.\u001b[39;00m\u001b[38;5;21;01mengine\u001b[39;00m\u001b[38;5;250m \u001b[39m\u001b[38;5;28;01mimport\u001b[39;00m activate_configuration\n\u001b[1;32m     43\u001b[0m \u001b[38;5;28;01mfrom\u001b[39;00m\u001b[38;5;250m \u001b[39m\u001b[38;5;21;01mcapsul\u001b[39;00m\u001b[38;5;21;01m.\u001b[39;00m\u001b[38;5;21;01mstudy_config\u001b[39;00m\u001b[38;5;21;01m.\u001b[39;00m\u001b[38;5;21;01mprocess_instance\u001b[39;00m\u001b[38;5;250m \u001b[39m\u001b[38;5;28;01mimport\u001b[39;00m get_process_instance\n",
      "File \u001b[0;32m~/work/capsul/capsul/capsul/engine/__init__.py:36\u001b[0m\n\u001b[1;32m     33\u001b[0m \u001b[38;5;28;01mfrom\u001b[39;00m\u001b[38;5;250m \u001b[39m\u001b[38;5;21;01msoma\u001b[39;00m\u001b[38;5;21;01m.\u001b[39;00m\u001b[38;5;21;01msorted_dictionary\u001b[39;00m\u001b[38;5;250m \u001b[39m\u001b[38;5;28;01mimport\u001b[39;00m SortedDictionary\n\u001b[1;32m     34\u001b[0m \u001b[38;5;28;01mfrom\u001b[39;00m\u001b[38;5;250m \u001b[39m\u001b[38;5;21;01msoma\u001b[39;00m\u001b[38;5;21;01m.\u001b[39;00m\u001b[38;5;21;01mutils\u001b[39;00m\u001b[38;5;21;01m.\u001b[39;00m\u001b[38;5;21;01mweak_proxy\u001b[39;00m\u001b[38;5;250m \u001b[39m\u001b[38;5;28;01mimport\u001b[39;00m get_ref\n\u001b[0;32m---> 36\u001b[0m \u001b[38;5;28;01mfrom\u001b[39;00m\u001b[38;5;250m \u001b[39m\u001b[38;5;21;01m.\u001b[39;00m\u001b[38;5;21;01mdatabase_populse\u001b[39;00m\u001b[38;5;250m \u001b[39m\u001b[38;5;28;01mimport\u001b[39;00m PopulseDBEngine\n\u001b[1;32m     38\u001b[0m \u001b[38;5;28;01mfrom\u001b[39;00m\u001b[38;5;250m \u001b[39m\u001b[38;5;21;01m.\u001b[39;00m\u001b[38;5;21;01msettings\u001b[39;00m\u001b[38;5;250m \u001b[39m\u001b[38;5;28;01mimport\u001b[39;00m Settings\n\u001b[1;32m     39\u001b[0m \u001b[38;5;28;01mfrom\u001b[39;00m\u001b[38;5;250m \u001b[39m\u001b[38;5;21;01m.\u001b[39;00m\u001b[38;5;21;01mmodule\u001b[39;00m\u001b[38;5;250m \u001b[39m\u001b[38;5;28;01mimport\u001b[39;00m default_modules\n",
      "File \u001b[0;32m~/work/capsul/capsul/capsul/engine/database_populse.py:6\u001b[0m\n\u001b[1;32m      2\u001b[0m \u001b[38;5;28;01mimport\u001b[39;00m\u001b[38;5;250m \u001b[39m\u001b[38;5;21;01mos\u001b[39;00m\u001b[38;5;21;01m.\u001b[39;00m\u001b[38;5;21;01mpath\u001b[39;00m\u001b[38;5;250m \u001b[39m\u001b[38;5;28;01mas\u001b[39;00m\u001b[38;5;250m \u001b[39m\u001b[38;5;21;01mosp\u001b[39;00m\n\u001b[1;32m      4\u001b[0m \u001b[38;5;28;01mfrom\u001b[39;00m\u001b[38;5;250m \u001b[39m\u001b[38;5;21;01mcapsul\u001b[39;00m\u001b[38;5;21;01m.\u001b[39;00m\u001b[38;5;21;01mengine\u001b[39;00m\u001b[38;5;21;01m.\u001b[39;00m\u001b[38;5;21;01mdatabase\u001b[39;00m\u001b[38;5;250m \u001b[39m\u001b[38;5;28;01mimport\u001b[39;00m DatabaseEngine\n\u001b[0;32m----> 6\u001b[0m \u001b[38;5;28;01mfrom\u001b[39;00m\u001b[38;5;250m \u001b[39m\u001b[38;5;21;01mpopulse_db\u001b[39;00m\u001b[38;5;21;01m.\u001b[39;00m\u001b[38;5;21;01mstorage\u001b[39;00m\u001b[38;5;250m \u001b[39m\u001b[38;5;28;01mimport\u001b[39;00m Storage\n\u001b[1;32m      8\u001b[0m schemas \u001b[38;5;241m=\u001b[39m [\n\u001b[1;32m      9\u001b[0m     {\n\u001b[1;32m     10\u001b[0m         \u001b[38;5;124m\"\u001b[39m\u001b[38;5;124mversion\u001b[39m\u001b[38;5;124m\"\u001b[39m: \u001b[38;5;124m\"\u001b[39m\u001b[38;5;124m1.0.0\u001b[39m\u001b[38;5;124m\"\u001b[39m,\n\u001b[0;32m   (...)\u001b[0m\n\u001b[1;32m     39\u001b[0m     },\n\u001b[1;32m     40\u001b[0m ]\n\u001b[1;32m     43\u001b[0m \u001b[38;5;28;01mclass\u001b[39;00m\u001b[38;5;250m \u001b[39m\u001b[38;5;21;01mPopulseDBEngine\u001b[39;00m(DatabaseEngine):\n",
      "\u001b[0;31mModuleNotFoundError\u001b[0m: No module named 'populse_db.storage'"
     ]
    }
   ],
   "source": [
    "from capsul.api import StudyConfig, get_process_instance\n",
    "from soma.path import find_in_path\n",
    "\n",
    "study_config = StudyConfig(modules=StudyConfig.default_modules + ['NipypeConfig'])\n",
    "\n",
    "# It is necessary to have FLS commands (such as \"bet\") in\n",
    "# the PATH in order to use FSL via Nipype\n",
    "if study_config.use_nipype and find_in_path('bet'):\n",
    "    betpipe = get_process_instance(\"nipype.interfaces.fsl.BET\")\n",
    "    betpipe.get_help()\n",
    "    betpipe.in_file=\"/tmp/MNI152_T1_2mm.nii.gz\"\n",
    "    betpipe.output_directory = '/tmp'\n",
    "else:\n",
    "    betpipe = None\n",
    "    print('NiPype is not present.')"
   ]
  },
  {
   "cell_type": "markdown",
   "metadata": {
    "deletable": true,
    "editable": true
   },
   "source": [
    "As shown it is possible to set the BET algorithm input parameters. Note that in capsul the standard nipype outputs are prefixed with underscores. We can execute this Process but unfortunately, as mentioned by the nipype warnings, FSL needs to be configured in the study confit, otherwise the pipeline will not run. As we have done it above, we can run it:"
   ]
  },
  {
   "cell_type": "code",
   "execution_count": 53,
   "metadata": {
    "collapsed": true,
    "deletable": true,
    "editable": true,
    "execution": {
     "iopub.execute_input": "2025-04-09T15:52:14.550254Z",
     "iopub.status.busy": "2025-04-09T15:52:14.550035Z",
     "iopub.status.idle": "2025-04-09T15:52:14.565405Z",
     "shell.execute_reply": "2025-04-09T15:52:14.564696Z"
    }
   },
   "outputs": [
    {
     "ename": "NameError",
     "evalue": "name 'betpipe' is not defined",
     "output_type": "error",
     "traceback": [
      "\u001b[0;31m---------------------------------------------------------------------------\u001b[0m",
      "\u001b[0;31mNameError\u001b[0m                                 Traceback (most recent call last)",
      "Cell \u001b[0;32mIn[53], line 1\u001b[0m\n\u001b[0;32m----> 1\u001b[0m \u001b[38;5;28;01mif\u001b[39;00m \u001b[43mbetpipe\u001b[49m:\n\u001b[1;32m      2\u001b[0m     study_config\u001b[38;5;241m.\u001b[39mreset_process_counter()\n\u001b[1;32m      3\u001b[0m     study_config\u001b[38;5;241m.\u001b[39mrun(betpipe, verbose\u001b[38;5;241m=\u001b[39m\u001b[38;5;241m1\u001b[39m)\n",
      "\u001b[0;31mNameError\u001b[0m: name 'betpipe' is not defined"
     ]
    }
   ],
   "source": [
    "if betpipe:\n",
    "    study_config.reset_process_counter()\n",
    "    study_config.run(betpipe, verbose=1)"
   ]
  },
  {
   "cell_type": "markdown",
   "metadata": {
    "deletable": true,
    "editable": true
   },
   "source": [
    "<h1>Parameters completion using FOM (File Organization Model)</h1>\n",
    "\n",
    "FOMs allow to complete file names in large pipelines with many parameters from a small set of attributes. To illustrate this feature, we will first create a pipeline with several such parameters, from a XML description."
   ]
  },
  {
   "cell_type": "code",
   "execution_count": 54,
   "metadata": {
    "collapsed": true,
    "deletable": true,
    "editable": true,
    "execution": {
     "iopub.execute_input": "2025-04-09T15:52:14.567894Z",
     "iopub.status.busy": "2025-04-09T15:52:14.567389Z",
     "iopub.status.idle": "2025-04-09T15:52:14.849305Z",
     "shell.execute_reply": "2025-04-09T15:52:14.848540Z"
    }
   },
   "outputs": [
    {
     "ename": "RuntimeError",
     "evalue": "ValueError: Invalid process_or_id argument. Got 'capsul.pipeline.test.test_pipeline.DummyProcess' and expect a Process instance/string description or an Interface instance/string description (in pipeline __main__.DemoPipeline when calling add_process('proc1', 'capsul.pipeline.test.test_pipeline.DummyProcess'))",
     "output_type": "error",
     "traceback": [
      "\u001b[0;31m---------------------------------------------------------------------------\u001b[0m",
      "\u001b[0;31mValueError\u001b[0m                                Traceback (most recent call last)",
      "File \u001b[0;32m~/work/capsul/capsul/capsul/pipeline/pipeline_construction.py:181\u001b[0m, in \u001b[0;36mConstructedPipeline.pipeline_definition\u001b[0;34m(self)\u001b[0m\n\u001b[1;32m    180\u001b[0m     method \u001b[38;5;241m=\u001b[39m \u001b[38;5;28mgetattr\u001b[39m(\u001b[38;5;28mself\u001b[39m, method_name)\n\u001b[0;32m--> 181\u001b[0m     \u001b[43mmethod\u001b[49m\u001b[43m(\u001b[49m\u001b[38;5;241;43m*\u001b[39;49m\u001b[43margs\u001b[49m\u001b[43m,\u001b[49m\u001b[43m \u001b[49m\u001b[38;5;241;43m*\u001b[39;49m\u001b[38;5;241;43m*\u001b[39;49m\u001b[43mkwargs\u001b[49m\u001b[43m)\u001b[49m\n\u001b[1;32m    182\u001b[0m \u001b[38;5;28;01mexcept\u001b[39;00m \u001b[38;5;167;01mException\u001b[39;00m \u001b[38;5;28;01mas\u001b[39;00m e:\n",
      "File \u001b[0;32m~/work/capsul/capsul/capsul/pipeline/pipeline.py:502\u001b[0m, in \u001b[0;36mPipeline.add_process\u001b[0;34m(self, name, process, do_not_export, make_optional, inputs_to_copy, inputs_to_clean, skip_invalid, **kwargs)\u001b[0m\n\u001b[1;32m    501\u001b[0m \u001b[38;5;28;01mtry\u001b[39;00m:\n\u001b[0;32m--> 502\u001b[0m     process \u001b[38;5;241m=\u001b[39m \u001b[43mget_process_instance\u001b[49m\u001b[43m(\u001b[49m\u001b[43mprocess\u001b[49m\u001b[43m,\u001b[49m\n\u001b[1;32m    503\u001b[0m \u001b[43m                                   \u001b[49m\u001b[43mstudy_config\u001b[49m\u001b[38;5;241;43m=\u001b[39;49m\u001b[38;5;28;43mself\u001b[39;49m\u001b[38;5;241;43m.\u001b[39;49m\u001b[43mstudy_config\u001b[49m\u001b[43m,\u001b[49m\n\u001b[1;32m    504\u001b[0m \u001b[43m                                   \u001b[49m\u001b[38;5;241;43m*\u001b[39;49m\u001b[38;5;241;43m*\u001b[39;49m\u001b[43mkwargs\u001b[49m\u001b[43m)\u001b[49m\n\u001b[1;32m    505\u001b[0m \u001b[38;5;28;01mexcept\u001b[39;00m \u001b[38;5;167;01mException\u001b[39;00m:\n",
      "File \u001b[0;32m~/work/capsul/capsul/capsul/study_config/process_instance.py:165\u001b[0m, in \u001b[0;36mget_process_instance\u001b[0;34m(process_or_id, study_config, **kwargs)\u001b[0m\n\u001b[1;32m    164\u001b[0m         study_cmod\u001b[38;5;241m.\u001b[39m_default_study_config \u001b[38;5;241m=\u001b[39m study_config\n\u001b[0;32m--> 165\u001b[0m     \u001b[38;5;28;01mreturn\u001b[39;00m \u001b[43m_get_process_instance\u001b[49m\u001b[43m(\u001b[49m\u001b[43mprocess_or_id\u001b[49m\u001b[43m,\u001b[49m\u001b[43m \u001b[49m\u001b[43mstudy_config\u001b[49m\u001b[38;5;241;43m=\u001b[39;49m\u001b[43mstudy_config\u001b[49m\u001b[43m,\u001b[49m\n\u001b[1;32m    166\u001b[0m \u001b[43m                                 \u001b[49m\u001b[38;5;241;43m*\u001b[39;49m\u001b[38;5;241;43m*\u001b[39;49m\u001b[43mkwargs\u001b[49m\u001b[43m)\u001b[49m\n\u001b[1;32m    167\u001b[0m \u001b[38;5;28;01mfinally\u001b[39;00m:\n",
      "File \u001b[0;32m~/work/capsul/capsul/capsul/study_config/process_instance.py:410\u001b[0m, in \u001b[0;36m_get_process_instance\u001b[0;34m(process_or_id, study_config, **kwargs)\u001b[0m\n\u001b[1;32m    409\u001b[0m \u001b[38;5;28;01mif\u001b[39;00m result \u001b[38;5;129;01mis\u001b[39;00m \u001b[38;5;28;01mNone\u001b[39;00m:\n\u001b[0;32m--> 410\u001b[0m     \u001b[38;5;28;01mraise\u001b[39;00m \u001b[38;5;167;01mValueError\u001b[39;00m(\u001b[38;5;124m\"\u001b[39m\u001b[38;5;124mInvalid process_or_id argument. \u001b[39m\u001b[38;5;124m\"\u001b[39m\n\u001b[1;32m    411\u001b[0m                      \u001b[38;5;124m\"\u001b[39m\u001b[38;5;124mGot \u001b[39m\u001b[38;5;124m'\u001b[39m\u001b[38;5;132;01m{0}\u001b[39;00m\u001b[38;5;124m'\u001b[39m\u001b[38;5;124m and expect a Process instance/string \u001b[39m\u001b[38;5;124m\"\u001b[39m\n\u001b[1;32m    412\u001b[0m                      \u001b[38;5;124m\"\u001b[39m\u001b[38;5;124mdescription or an Interface instance/string \u001b[39m\u001b[38;5;124m\"\u001b[39m\n\u001b[1;32m    413\u001b[0m                      \u001b[38;5;124m\"\u001b[39m\u001b[38;5;124mdescription\u001b[39m\u001b[38;5;124m\"\u001b[39m\u001b[38;5;241m.\u001b[39mformat(process_or_id))\n\u001b[1;32m    415\u001b[0m \u001b[38;5;66;03m# Set the instance default parameters\u001b[39;00m\n",
      "\u001b[0;31mValueError\u001b[0m: Invalid process_or_id argument. Got 'capsul.pipeline.test.test_pipeline.DummyProcess' and expect a Process instance/string description or an Interface instance/string description",
      "\nDuring handling of the above exception, another exception occurred:\n",
      "\u001b[0;31mRuntimeError\u001b[0m                              Traceback (most recent call last)",
      "Cell \u001b[0;32mIn[54], line 60\u001b[0m\n\u001b[1;32m      3\u001b[0m xmlstr \u001b[38;5;241m=\u001b[39m \u001b[38;5;124m'''\u001b[39m\u001b[38;5;124m<pipeline capsul_xml=\u001b[39m\u001b[38;5;124m\"\u001b[39m\u001b[38;5;124m2.0\u001b[39m\u001b[38;5;124m\"\u001b[39m\u001b[38;5;124m>\u001b[39m\n\u001b[1;32m      4\u001b[0m \u001b[38;5;124m        <process name=\u001b[39m\u001b[38;5;124m\"\u001b[39m\u001b[38;5;124mproc1\u001b[39m\u001b[38;5;124m\"\u001b[39m\n\u001b[1;32m      5\u001b[0m \u001b[38;5;124m            module=\u001b[39m\u001b[38;5;124m\"\u001b[39m\u001b[38;5;124mcapsul.pipeline.test.test_pipeline.DummyProcess\u001b[39m\u001b[38;5;124m\"\u001b[39m\u001b[38;5;124m>\u001b[39m\n\u001b[0;32m   (...)\u001b[0m\n\u001b[1;32m     56\u001b[0m \u001b[38;5;124m    </gui>\u001b[39m\n\u001b[1;32m     57\u001b[0m \u001b[38;5;124m</pipeline>\u001b[39m\u001b[38;5;124m'''\u001b[39m\n\u001b[1;32m     59\u001b[0m DemoPipeline \u001b[38;5;241m=\u001b[39m create_xml_pipeline(\u001b[38;5;124m'\u001b[39m\u001b[38;5;124m__main__\u001b[39m\u001b[38;5;124m'\u001b[39m, \u001b[38;5;124m'\u001b[39m\u001b[38;5;124mDemoPipeline\u001b[39m\u001b[38;5;124m'\u001b[39m, xmlstr)\n\u001b[0;32m---> 60\u001b[0m pipeline \u001b[38;5;241m=\u001b[39m \u001b[43mDemoPipeline\u001b[49m\u001b[43m(\u001b[49m\u001b[43m)\u001b[49m\n",
      "File \u001b[0;32m~/work/capsul/capsul/capsul/pipeline/pipeline.py:258\u001b[0m, in \u001b[0;36mPipeline.__init__\u001b[0;34m(self, autoexport_nodes_parameters, **kwargs)\u001b[0m\n\u001b[1;32m    256\u001b[0m \u001b[38;5;28mself\u001b[39m\u001b[38;5;241m.\u001b[39m_disable_update_nodes_and_plugs_activation \u001b[38;5;241m=\u001b[39m \u001b[38;5;241m1\u001b[39m\n\u001b[1;32m    257\u001b[0m \u001b[38;5;28mself\u001b[39m\u001b[38;5;241m.\u001b[39m_must_update_nodes_and_plugs_activation \u001b[38;5;241m=\u001b[39m \u001b[38;5;28;01mFalse\u001b[39;00m\n\u001b[0;32m--> 258\u001b[0m \u001b[38;5;28;43mself\u001b[39;49m\u001b[38;5;241;43m.\u001b[39;49m\u001b[43mpipeline_definition\u001b[49m\u001b[43m(\u001b[49m\u001b[43m)\u001b[49m\n\u001b[1;32m    260\u001b[0m \u001b[38;5;28mself\u001b[39m\u001b[38;5;241m.\u001b[39mworkflow_repr \u001b[38;5;241m=\u001b[39m \u001b[38;5;124m\"\u001b[39m\u001b[38;5;124m\"\u001b[39m\n\u001b[1;32m    261\u001b[0m \u001b[38;5;28mself\u001b[39m\u001b[38;5;241m.\u001b[39mworkflow_list \u001b[38;5;241m=\u001b[39m []\n",
      "File \u001b[0;32m~/work/capsul/capsul/capsul/pipeline/pipeline_construction.py:186\u001b[0m, in \u001b[0;36mConstructedPipeline.pipeline_definition\u001b[0;34m(self)\u001b[0m\n\u001b[1;32m    184\u001b[0m l\u001b[38;5;241m.\u001b[39mextend(\u001b[38;5;124m'\u001b[39m\u001b[38;5;132;01m%s\u001b[39;00m\u001b[38;5;124m=\u001b[39m\u001b[38;5;132;01m%s\u001b[39;00m\u001b[38;5;124m'\u001b[39m \u001b[38;5;241m%\u001b[39m (k, \u001b[38;5;28mrepr\u001b[39m(v)) \u001b[38;5;28;01mfor\u001b[39;00m k, v \u001b[38;5;129;01min\u001b[39;00m kwargs\u001b[38;5;241m.\u001b[39mitems())\n\u001b[1;32m    185\u001b[0m m \u001b[38;5;241m=\u001b[39m \u001b[38;5;124m'\u001b[39m\u001b[38;5;132;01m%s\u001b[39;00m\u001b[38;5;124m(\u001b[39m\u001b[38;5;132;01m%s\u001b[39;00m\u001b[38;5;124m)\u001b[39m\u001b[38;5;124m'\u001b[39m \u001b[38;5;241m%\u001b[39m (method_name, \u001b[38;5;124m'\u001b[39m\u001b[38;5;124m, \u001b[39m\u001b[38;5;124m'\u001b[39m\u001b[38;5;241m.\u001b[39mjoin(l))\n\u001b[0;32m--> 186\u001b[0m \u001b[38;5;28;01mraise\u001b[39;00m \u001b[38;5;167;01mRuntimeError\u001b[39;00m(\u001b[38;5;124m'\u001b[39m\u001b[38;5;132;01m%s\u001b[39;00m\u001b[38;5;124m: \u001b[39m\u001b[38;5;132;01m%s\u001b[39;00m\u001b[38;5;124m (in pipeline \u001b[39m\u001b[38;5;132;01m%s\u001b[39;00m\u001b[38;5;124m when calling \u001b[39m\u001b[38;5;132;01m%s\u001b[39;00m\u001b[38;5;124m)\u001b[39m\u001b[38;5;124m'\u001b[39m \u001b[38;5;241m%\u001b[39m\n\u001b[1;32m    187\u001b[0m                    (e\u001b[38;5;241m.\u001b[39m\u001b[38;5;18m__class__\u001b[39m\u001b[38;5;241m.\u001b[39m\u001b[38;5;18m__name__\u001b[39m, \u001b[38;5;28mstr\u001b[39m(e), \u001b[38;5;28mself\u001b[39m\u001b[38;5;241m.\u001b[39mid, m))\n",
      "\u001b[0;31mRuntimeError\u001b[0m: ValueError: Invalid process_or_id argument. Got 'capsul.pipeline.test.test_pipeline.DummyProcess' and expect a Process instance/string description or an Interface instance/string description (in pipeline __main__.DemoPipeline when calling add_process('proc1', 'capsul.pipeline.test.test_pipeline.DummyProcess'))"
     ]
    }
   ],
   "source": [
    "from capsul.pipeline.xml import create_xml_pipeline\n",
    "\n",
    "xmlstr = '''<pipeline capsul_xml=\"2.0\">\n",
    "        <process name=\"proc1\"\n",
    "            module=\"capsul.pipeline.test.test_pipeline.DummyProcess\">\n",
    "        </process>\n",
    "        <process name=\"proc2\"\n",
    "            module=\"capsul.pipeline.test.test_pipeline.DummyProcess\">\n",
    "        </process>\n",
    "        <process name=\"proc3\"\n",
    "            module=\"capsul.pipeline.test.test_pipeline.DummyProcess\">\n",
    "        </process>\n",
    "        <process name=\"proc4\"\n",
    "            module=\"capsul.pipeline.test.test_pipeline.DummyProcess\">\n",
    "        </process>\n",
    "        <switch name=\"proc_select\" switch_value=\"proc1\">\n",
    "            <input name=\"proc1\"/>\n",
    "            <input name=\"proc2\"/>\n",
    "            <output name=\"image\"/>\n",
    "        </switch>\n",
    "        <switch name=\"proc_select2\" switch_value=\"proc3\">\n",
    "            <input name=\"proc3\"/>\n",
    "            <input name=\"proc4\"/>\n",
    "            <output name=\"image\"/>\n",
    "        </switch>\n",
    "        <link source=\"input_image1\" dest=\"proc1.input_image\"/>\n",
    "        <link source=\"input_image2\" dest=\"proc2.input_image\"/>\n",
    "        <link source=\"proc_select\" dest=\"proc_select.switch\"/>\n",
    "        <link source=\"proc_select2\" dest=\"proc_select2.switch\"/>\n",
    "        <link source=\"input_image4\" dest=\"proc4.input_image\"/>\n",
    "        <link source=\"input_image3\" dest=\"proc3.input_image\"/>\n",
    "        \n",
    "        <link dest=\"image_out1\" source=\"proc_select.image\" weak_link=\"true\"/>\n",
    "        <link dest=\"image_out3\" source=\"proc3.output_image\" weak_link=\"true\"/>\n",
    "        <link dest=\"image_out5\" source=\"proc_select2.image\" weak_link=\"true\"/>\n",
    "\n",
    "        <link source=\"input_image1\" dest=\"proc1.input_image\"></link>\n",
    "        <link source=\"input_image2\" dest=\"proc2.input_image\"></link>\n",
    "        <link source=\"proc_select\" dest=\"proc_select.switch\"></link>\n",
    "        <link source=\"proc_select2\" dest=\"proc_select2.switch\"></link>\n",
    "        <link source=\"input_image4\" dest=\"proc4.input_image\"></link>\n",
    "        <link source=\"input_image3\" dest=\"proc3.input_image\"></link>\n",
    "        <link source=\"proc1.output_image\" dest=\"proc_select.proc1_switch_image\"></link>\n",
    "        <link source=\"proc2.output_image\" dest=\"proc_select.proc2_switch_image\"></link>\n",
    "        <link source=\"proc3.output_image\" dest=\"proc_select2.proc3_switch_image\"></link>\n",
    "        <link source=\"proc4.output_image\" dest=\"proc_select2.proc4_switch_image\"></link>\n",
    "    <gui>\n",
    "        <position name=\"inputs\" x=\"-151.0\" y=\"227.4447\"></position>\n",
    "        <position name=\"proc_select\" x=\"381.6498\" y=\"160.1012\"></position>\n",
    "        <position name=\"outputs\" x=\"668.1498\" y=\"319.9886\"></position>\n",
    "        <position name=\"proc_select2\" x=\"381.6498\" y=\"507.1947\"></position>\n",
    "        <position name=\"proc4\" x=\"144.2624\" y=\"589.7949\"></position>\n",
    "        <position name=\"proc1\" x=\"123.2624\" y=\"-4.0\"></position>\n",
    "        <position name=\"proc3\" x=\"146.2624\" y=\"391.9886\"></position>\n",
    "        <position name=\"proc2\" x=\"132.2624\" y=\"171.8197\"></position>\n",
    "    </gui>\n",
    "</pipeline>'''\n",
    "\n",
    "DemoPipeline = create_xml_pipeline('__main__', 'DemoPipeline', xmlstr)\n",
    "pipeline = DemoPipeline()"
   ]
  },
  {
   "cell_type": "code",
   "execution_count": 55,
   "metadata": {
    "collapsed": true,
    "deletable": true,
    "editable": true,
    "execution": {
     "iopub.execute_input": "2025-04-09T15:52:14.852062Z",
     "iopub.status.busy": "2025-04-09T15:52:14.851563Z",
     "iopub.status.idle": "2025-04-09T15:52:14.855625Z",
     "shell.execute_reply": "2025-04-09T15:52:14.854939Z"
    }
   },
   "outputs": [],
   "source": [
    "if globals().get('use_gui', True):\n",
    "    from capsul.qt_gui.widgets import PipelineDevelopperView\n",
    "\n",
    "    pv = PipelineDevelopperView(pipeline, allow_open_controller=True, show_sub_pipelines=True)\n",
    "    pv.show()\n",
    "\n",
    "    if run_qt_loop:\n",
    "        app.exec_()\n"
   ]
  },
  {
   "cell_type": "markdown",
   "metadata": {
    "deletable": true,
    "editable": true
   },
   "source": [
    "![pipeline](images/capsul_pipeline7.jpg \"pipeline\")\n",
    "\n",
    "## FOM definition"
   ]
  },
  {
   "cell_type": "code",
   "execution_count": 56,
   "metadata": {
    "collapsed": true,
    "deletable": true,
    "editable": true,
    "execution": {
     "iopub.execute_input": "2025-04-09T15:52:14.857623Z",
     "iopub.status.busy": "2025-04-09T15:52:14.857402Z",
     "iopub.status.idle": "2025-04-09T15:52:14.957530Z",
     "shell.execute_reply": "2025-04-09T15:52:14.956832Z"
    }
   },
   "outputs": [
    {
     "ename": "FileNotFoundError",
     "evalue": "[Errno 2] No such file or directory: '/tmp/capsul_demo/demo_fom.json'",
     "output_type": "error",
     "traceback": [
      "\u001b[0;31m---------------------------------------------------------------------------\u001b[0m",
      "\u001b[0;31mFileNotFoundError\u001b[0m                         Traceback (most recent call last)",
      "Cell \u001b[0;32mIn[56], line 41\u001b[0m\n\u001b[1;32m     39\u001b[0m \u001b[38;5;28;01mtry\u001b[39;00m: os\u001b[38;5;241m.\u001b[39mpath\u001b[38;5;241m.\u001b[39mmakedirs(\u001b[38;5;124m'\u001b[39m\u001b[38;5;124m/tmp/capsul_demo\u001b[39m\u001b[38;5;124m'\u001b[39m)\n\u001b[1;32m     40\u001b[0m \u001b[38;5;28;01mexcept\u001b[39;00m: \u001b[38;5;28;01mpass\u001b[39;00m\n\u001b[0;32m---> 41\u001b[0m \u001b[38;5;28;43mopen\u001b[39;49m\u001b[43m(\u001b[49m\u001b[38;5;124;43m'\u001b[39;49m\u001b[38;5;124;43m/tmp/capsul_demo/demo_fom.json\u001b[39;49m\u001b[38;5;124;43m'\u001b[39;49m\u001b[43m,\u001b[49m\u001b[43m \u001b[49m\u001b[38;5;124;43m'\u001b[39;49m\u001b[38;5;124;43mw\u001b[39;49m\u001b[38;5;124;43m'\u001b[39;49m\u001b[43m)\u001b[49m\u001b[38;5;241m.\u001b[39mwrite(fom_content)\n",
      "File \u001b[0;32m/opt/hostedtoolcache/Python/3.9.21/x64/lib/python3.9/site-packages/IPython/core/interactiveshell.py:310\u001b[0m, in \u001b[0;36m_modified_open\u001b[0;34m(file, *args, **kwargs)\u001b[0m\n\u001b[1;32m    303\u001b[0m \u001b[38;5;28;01mif\u001b[39;00m file \u001b[38;5;129;01min\u001b[39;00m {\u001b[38;5;241m0\u001b[39m, \u001b[38;5;241m1\u001b[39m, \u001b[38;5;241m2\u001b[39m}:\n\u001b[1;32m    304\u001b[0m     \u001b[38;5;28;01mraise\u001b[39;00m \u001b[38;5;167;01mValueError\u001b[39;00m(\n\u001b[1;32m    305\u001b[0m         \u001b[38;5;124mf\u001b[39m\u001b[38;5;124m\"\u001b[39m\u001b[38;5;124mIPython won\u001b[39m\u001b[38;5;124m'\u001b[39m\u001b[38;5;124mt let you open fd=\u001b[39m\u001b[38;5;132;01m{\u001b[39;00mfile\u001b[38;5;132;01m}\u001b[39;00m\u001b[38;5;124m by default \u001b[39m\u001b[38;5;124m\"\u001b[39m\n\u001b[1;32m    306\u001b[0m         \u001b[38;5;124m\"\u001b[39m\u001b[38;5;124mas it is likely to crash IPython. If you know what you are doing, \u001b[39m\u001b[38;5;124m\"\u001b[39m\n\u001b[1;32m    307\u001b[0m         \u001b[38;5;124m\"\u001b[39m\u001b[38;5;124myou can use builtins\u001b[39m\u001b[38;5;124m'\u001b[39m\u001b[38;5;124m open.\u001b[39m\u001b[38;5;124m\"\u001b[39m\n\u001b[1;32m    308\u001b[0m     )\n\u001b[0;32m--> 310\u001b[0m \u001b[38;5;28;01mreturn\u001b[39;00m \u001b[43mio_open\u001b[49m\u001b[43m(\u001b[49m\u001b[43mfile\u001b[49m\u001b[43m,\u001b[49m\u001b[43m \u001b[49m\u001b[38;5;241;43m*\u001b[39;49m\u001b[43margs\u001b[49m\u001b[43m,\u001b[49m\u001b[43m \u001b[49m\u001b[38;5;241;43m*\u001b[39;49m\u001b[38;5;241;43m*\u001b[39;49m\u001b[43mkwargs\u001b[49m\u001b[43m)\u001b[49m\n",
      "\u001b[0;31mFileNotFoundError\u001b[0m: [Errno 2] No such file or directory: '/tmp/capsul_demo/demo_fom.json'"
     ]
    }
   ],
   "source": [
    "fom_content = '''{\n",
    "    \"fom_name\": \"demo_fom\",\n",
    "\n",
    "    \"formats\": {\n",
    "        \"NIFTI\": \"nii\",\n",
    "        \"NIFTI gz\": \"nii.gz\"\n",
    "    },\n",
    "    \"format_lists\": {\n",
    "        \"images\": [\"NIFTI gz\", \"NIFTI\"]\n",
    "    },\n",
    "\n",
    "    \"shared_patterns\": {\n",
    "      \"subject_dir\": \"<center>_<subject>\"\n",
    "    },\n",
    "\n",
    "    \"processes\": {\n",
    "        \"DemoPipeline\": {\n",
    "            \"input_image1\": \n",
    "                [[\"input:<center>_<subject>/<subject>\", \"images\"]],\n",
    "            \"input_image2\":\n",
    "                [[\"input:{subject_dir}/alt2_<subject>\", \"images\"]],\n",
    "            \"input_image3\":\n",
    "                [[\"input:{subject_dir}/alt2_<subject>\", \"images\"]],\n",
    "            \"input_image4\":\n",
    "                [[\"input:{subject_dir}/alt4_<subject>\", \"images\"]],\n",
    "            \"image_out1\":\n",
    "                [[\"output:{subject_dir}/out_image_<subject>_1\", \"images\"]],\n",
    "            \"image_out3\":\n",
    "                [[\"output:{subject_dir}/out_image_<subject>_3\", \"images\"]]\n",
    "        },\n",
    "        \"DemoPipeline.proc4\": {\n",
    "            \"output_image\": [[\"output:{subject_dir}/out_image_<subject>_4\", \"images\"]]\n",
    "        }\n",
    "    }\n",
    "\n",
    "}\n",
    "'''\n",
    "\n",
    "try: os.path.makedirs('/tmp/capsul_demo')\n",
    "except: pass\n",
    "open('/tmp/capsul_demo/demo_fom.json', 'w').write(fom_content)\n"
   ]
  },
  {
   "cell_type": "markdown",
   "metadata": {
    "deletable": true,
    "editable": true
   },
   "source": [
    "<h2>File names completion using FOM</h2>\n",
    "FOM completion is used through the attributes completion system ProcessCompletionEngine."
   ]
  },
  {
   "cell_type": "code",
   "execution_count": 57,
   "metadata": {
    "collapsed": true,
    "deletable": true,
    "editable": true,
    "execution": {
     "iopub.execute_input": "2025-04-09T15:52:14.959941Z",
     "iopub.status.busy": "2025-04-09T15:52:14.959449Z",
     "iopub.status.idle": "2025-04-09T15:52:15.029827Z",
     "shell.execute_reply": "2025-04-09T15:52:15.029092Z"
    }
   },
   "outputs": [
    {
     "ename": "ModuleNotFoundError",
     "evalue": "No module named 'populse_db.storage'",
     "output_type": "error",
     "traceback": [
      "\u001b[0;31m---------------------------------------------------------------------------\u001b[0m",
      "\u001b[0;31mModuleNotFoundError\u001b[0m                       Traceback (most recent call last)",
      "Cell \u001b[0;32mIn[57], line 3\u001b[0m\n\u001b[1;32m      1\u001b[0m \u001b[38;5;28;01mimport\u001b[39;00m\u001b[38;5;250m \u001b[39m\u001b[38;5;21;01msys\u001b[39;00m\n\u001b[1;32m      2\u001b[0m \u001b[38;5;28;01mimport\u001b[39;00m\u001b[38;5;250m \u001b[39m\u001b[38;5;21;01mos\u001b[39;00m\n\u001b[0;32m----> 3\u001b[0m \u001b[38;5;28;01mfrom\u001b[39;00m\u001b[38;5;250m \u001b[39m\u001b[38;5;21;01mcapsul\u001b[39;00m\u001b[38;5;21;01m.\u001b[39;00m\u001b[38;5;21;01mapi\u001b[39;00m\u001b[38;5;250m \u001b[39m\u001b[38;5;28;01mimport\u001b[39;00m StudyConfig\n\u001b[1;32m      4\u001b[0m \u001b[38;5;28;01mfrom\u001b[39;00m\u001b[38;5;250m \u001b[39m\u001b[38;5;21;01mcapsul\u001b[39;00m\u001b[38;5;21;01m.\u001b[39;00m\u001b[38;5;21;01mattributes\u001b[39;00m\u001b[38;5;21;01m.\u001b[39;00m\u001b[38;5;21;01mcompletion_engine\u001b[39;00m\u001b[38;5;250m \u001b[39m\u001b[38;5;28;01mimport\u001b[39;00m ProcessCompletionEngine\n\u001b[1;32m      5\u001b[0m \u001b[38;5;28;01mif\u001b[39;00m \u001b[38;5;28mglobals\u001b[39m()\u001b[38;5;241m.\u001b[39mget(\u001b[38;5;124m'\u001b[39m\u001b[38;5;124muse_gui\u001b[39m\u001b[38;5;124m'\u001b[39m, \u001b[38;5;28;01mTrue\u001b[39;00m):\n",
      "File \u001b[0;32m~/work/capsul/capsul/capsul/api.py:41\u001b[0m\n\u001b[1;32m     39\u001b[0m \u001b[38;5;28;01mfrom\u001b[39;00m\u001b[38;5;250m \u001b[39m\u001b[38;5;21;01mcapsul\u001b[39;00m\u001b[38;5;21;01m.\u001b[39;00m\u001b[38;5;21;01mpipeline\u001b[39;00m\u001b[38;5;21;01m.\u001b[39;00m\u001b[38;5;21;01mpipeline_nodes\u001b[39;00m\u001b[38;5;250m \u001b[39m\u001b[38;5;28;01mimport\u001b[39;00m Switch\n\u001b[1;32m     40\u001b[0m \u001b[38;5;28;01mfrom\u001b[39;00m\u001b[38;5;250m \u001b[39m\u001b[38;5;21;01mcapsul\u001b[39;00m\u001b[38;5;21;01m.\u001b[39;00m\u001b[38;5;21;01mpipeline\u001b[39;00m\u001b[38;5;21;01m.\u001b[39;00m\u001b[38;5;21;01mpipeline_nodes\u001b[39;00m\u001b[38;5;250m \u001b[39m\u001b[38;5;28;01mimport\u001b[39;00m OptionalOutputSwitch\n\u001b[0;32m---> 41\u001b[0m \u001b[38;5;28;01mfrom\u001b[39;00m\u001b[38;5;250m \u001b[39m\u001b[38;5;21;01mcapsul\u001b[39;00m\u001b[38;5;21;01m.\u001b[39;00m\u001b[38;5;21;01mengine\u001b[39;00m\u001b[38;5;250m \u001b[39m\u001b[38;5;28;01mimport\u001b[39;00m capsul_engine\n\u001b[1;32m     42\u001b[0m \u001b[38;5;28;01mfrom\u001b[39;00m\u001b[38;5;250m \u001b[39m\u001b[38;5;21;01mcapsul\u001b[39;00m\u001b[38;5;21;01m.\u001b[39;00m\u001b[38;5;21;01mengine\u001b[39;00m\u001b[38;5;250m \u001b[39m\u001b[38;5;28;01mimport\u001b[39;00m activate_configuration\n\u001b[1;32m     43\u001b[0m \u001b[38;5;28;01mfrom\u001b[39;00m\u001b[38;5;250m \u001b[39m\u001b[38;5;21;01mcapsul\u001b[39;00m\u001b[38;5;21;01m.\u001b[39;00m\u001b[38;5;21;01mstudy_config\u001b[39;00m\u001b[38;5;21;01m.\u001b[39;00m\u001b[38;5;21;01mprocess_instance\u001b[39;00m\u001b[38;5;250m \u001b[39m\u001b[38;5;28;01mimport\u001b[39;00m get_process_instance\n",
      "File \u001b[0;32m~/work/capsul/capsul/capsul/engine/__init__.py:36\u001b[0m\n\u001b[1;32m     33\u001b[0m \u001b[38;5;28;01mfrom\u001b[39;00m\u001b[38;5;250m \u001b[39m\u001b[38;5;21;01msoma\u001b[39;00m\u001b[38;5;21;01m.\u001b[39;00m\u001b[38;5;21;01msorted_dictionary\u001b[39;00m\u001b[38;5;250m \u001b[39m\u001b[38;5;28;01mimport\u001b[39;00m SortedDictionary\n\u001b[1;32m     34\u001b[0m \u001b[38;5;28;01mfrom\u001b[39;00m\u001b[38;5;250m \u001b[39m\u001b[38;5;21;01msoma\u001b[39;00m\u001b[38;5;21;01m.\u001b[39;00m\u001b[38;5;21;01mutils\u001b[39;00m\u001b[38;5;21;01m.\u001b[39;00m\u001b[38;5;21;01mweak_proxy\u001b[39;00m\u001b[38;5;250m \u001b[39m\u001b[38;5;28;01mimport\u001b[39;00m get_ref\n\u001b[0;32m---> 36\u001b[0m \u001b[38;5;28;01mfrom\u001b[39;00m\u001b[38;5;250m \u001b[39m\u001b[38;5;21;01m.\u001b[39;00m\u001b[38;5;21;01mdatabase_populse\u001b[39;00m\u001b[38;5;250m \u001b[39m\u001b[38;5;28;01mimport\u001b[39;00m PopulseDBEngine\n\u001b[1;32m     38\u001b[0m \u001b[38;5;28;01mfrom\u001b[39;00m\u001b[38;5;250m \u001b[39m\u001b[38;5;21;01m.\u001b[39;00m\u001b[38;5;21;01msettings\u001b[39;00m\u001b[38;5;250m \u001b[39m\u001b[38;5;28;01mimport\u001b[39;00m Settings\n\u001b[1;32m     39\u001b[0m \u001b[38;5;28;01mfrom\u001b[39;00m\u001b[38;5;250m \u001b[39m\u001b[38;5;21;01m.\u001b[39;00m\u001b[38;5;21;01mmodule\u001b[39;00m\u001b[38;5;250m \u001b[39m\u001b[38;5;28;01mimport\u001b[39;00m default_modules\n",
      "File \u001b[0;32m~/work/capsul/capsul/capsul/engine/database_populse.py:6\u001b[0m\n\u001b[1;32m      2\u001b[0m \u001b[38;5;28;01mimport\u001b[39;00m\u001b[38;5;250m \u001b[39m\u001b[38;5;21;01mos\u001b[39;00m\u001b[38;5;21;01m.\u001b[39;00m\u001b[38;5;21;01mpath\u001b[39;00m\u001b[38;5;250m \u001b[39m\u001b[38;5;28;01mas\u001b[39;00m\u001b[38;5;250m \u001b[39m\u001b[38;5;21;01mosp\u001b[39;00m\n\u001b[1;32m      4\u001b[0m \u001b[38;5;28;01mfrom\u001b[39;00m\u001b[38;5;250m \u001b[39m\u001b[38;5;21;01mcapsul\u001b[39;00m\u001b[38;5;21;01m.\u001b[39;00m\u001b[38;5;21;01mengine\u001b[39;00m\u001b[38;5;21;01m.\u001b[39;00m\u001b[38;5;21;01mdatabase\u001b[39;00m\u001b[38;5;250m \u001b[39m\u001b[38;5;28;01mimport\u001b[39;00m DatabaseEngine\n\u001b[0;32m----> 6\u001b[0m \u001b[38;5;28;01mfrom\u001b[39;00m\u001b[38;5;250m \u001b[39m\u001b[38;5;21;01mpopulse_db\u001b[39;00m\u001b[38;5;21;01m.\u001b[39;00m\u001b[38;5;21;01mstorage\u001b[39;00m\u001b[38;5;250m \u001b[39m\u001b[38;5;28;01mimport\u001b[39;00m Storage\n\u001b[1;32m      8\u001b[0m schemas \u001b[38;5;241m=\u001b[39m [\n\u001b[1;32m      9\u001b[0m     {\n\u001b[1;32m     10\u001b[0m         \u001b[38;5;124m\"\u001b[39m\u001b[38;5;124mversion\u001b[39m\u001b[38;5;124m\"\u001b[39m: \u001b[38;5;124m\"\u001b[39m\u001b[38;5;124m1.0.0\u001b[39m\u001b[38;5;124m\"\u001b[39m,\n\u001b[0;32m   (...)\u001b[0m\n\u001b[1;32m     39\u001b[0m     },\n\u001b[1;32m     40\u001b[0m ]\n\u001b[1;32m     43\u001b[0m \u001b[38;5;28;01mclass\u001b[39;00m\u001b[38;5;250m \u001b[39m\u001b[38;5;21;01mPopulseDBEngine\u001b[39;00m(DatabaseEngine):\n",
      "\u001b[0;31mModuleNotFoundError\u001b[0m: No module named 'populse_db.storage'"
     ]
    }
   ],
   "source": [
    "import sys\n",
    "import os\n",
    "from capsul.api import StudyConfig\n",
    "from capsul.attributes.completion_engine import ProcessCompletionEngine\n",
    "if globals().get('use_gui', True):\n",
    "    from soma.qt_gui.controller_widget import ScrollControllerWidget\n",
    "    from capsul.qt_gui.widgets.attributed_process_widget import AttributedProcessWidget\n",
    "\n",
    "# the following 4 lines are a hack to add /tmp/capsul_demo to the FOM search path\n",
    "# before it is used by StudyConfig\n",
    "from soma.application import Application\n",
    "soma_app = Application('capsul', plugin_modules=['soma.fom'])\n",
    "soma_app.initialize()\n",
    "soma_app.fom_manager.paths.append('/tmp/capsul_demo')\n",
    "\n",
    "config = {\n",
    "  \"name\" : \"morphologist_fom\",\n",
    "  \"input_directory\" : \"/data/capsul_demo\",\n",
    "  \"output_directory\" : \"/data/capsul_demo\",\n",
    "  \"input_fom\" : \"demo_fom\",\n",
    "  \"output_fom\" : \"demo_fom\",\n",
    "  \"use_soma_workflow\" : True,\n",
    "  \"use_fom\" : True,\n",
    "  \"volumes_format\" : \"nii.gz\",\n",
    "  \"meshes_format\" : \"gii\",\n",
    "}\n",
    "\n",
    "study_config = StudyConfig(init_config=config, \n",
    "                           modules=StudyConfig.default_modules + ['FomConfig', 'BrainVISAConfig'])\n",
    "soma_app.fom_manager._cache = None # while debugging\n",
    "\n",
    "mp = study_config.get_process_instance(DemoPipeline)\n",
    "\n",
    "ce = ProcessCompletionEngine.get_completion_engine(mp)\n",
    "print('completion engine type:', type(ce).__name__)\n",
    "attributes = ce.get_attribute_values()\n",
    "ce.install_auto_completion()\n",
    "attributes.center = 'subjects'\n",
    "attributes.subject = 'irm2'\n",
    "\n",
    "if globals().get('use_gui', True):\n",
    "    # pipeline controller GUI\n",
    "    p_view = ScrollControllerWidget(mp, live=True)\n",
    "    p_view.show()\n",
    "    # attributed pipeline controller GUI\n",
    "    ap_view = AttributedProcessWidget(mp)\n",
    "    ap_view.show()\n",
    "\n",
    "    pv = PipelineDevelopperView(mp, allow_open_controller=True, show_sub_pipelines=True)\n",
    "    pv.show()\n",
    "\n",
    "    if run_qt_loop:\n",
    "      app.exec_()\n"
   ]
  },
  {
   "cell_type": "markdown",
   "metadata": {
    "deletable": true,
    "editable": true
   },
   "source": [
    "![pipeline with FOM](images/capsul_fom1.jpg \"pipeline with FOM\")\n",
    "![completion controller](images/capsul_fom1_compl.jpg \"completion controller\")\n",
    "![controller](images/capsul_fom1_controller.jpg \"controller\")\n",
    "\n",
    "<p>Note how the output <tt>\"image_out5\"</tt> depends on the <b>proc_select2</b> switch value:</p>\n",
    "<p>While <tt>\"image_out1\"</tt> is fixed via the FOM completion, its value \"back-propagates\" to both <tt>\"proc1.output_image\"</tt> and <tt>\"proc2.output_image\"</tt>. For <tt>\"image_out5\"</tt> the FOM does not impose its value, it is deduced from either <tt>\"proc3.output_image\"</tt> (in turn set via the global <tt>\"image_out3\"</tt>) or <tt>\"proc4.output_image\"</tt>, depending on the <b>proc_select2</b> swtch value.</p>"
   ]
  },
  {
   "cell_type": "code",
   "execution_count": 58,
   "metadata": {
    "collapsed": true,
    "deletable": true,
    "editable": true,
    "execution": {
     "iopub.execute_input": "2025-04-09T15:52:15.032246Z",
     "iopub.status.busy": "2025-04-09T15:52:15.031859Z",
     "iopub.status.idle": "2025-04-09T15:52:15.048015Z",
     "shell.execute_reply": "2025-04-09T15:52:15.047317Z"
    }
   },
   "outputs": [
    {
     "ename": "NameError",
     "evalue": "name 'mp' is not defined",
     "output_type": "error",
     "traceback": [
      "\u001b[0;31m---------------------------------------------------------------------------\u001b[0m",
      "\u001b[0;31mNameError\u001b[0m                                 Traceback (most recent call last)",
      "Cell \u001b[0;32mIn[58], line 1\u001b[0m\n\u001b[0;32m----> 1\u001b[0m \u001b[43mmp\u001b[49m\u001b[38;5;241m.\u001b[39mproc_select2 \u001b[38;5;241m=\u001b[39m \u001b[38;5;124m\"\u001b[39m\u001b[38;5;124mproc3\u001b[39m\u001b[38;5;124m\"\u001b[39m\n\u001b[1;32m      2\u001b[0m \u001b[38;5;28mprint\u001b[39m(\u001b[38;5;124m\"\u001b[39m\u001b[38;5;124mswitch proc_select2 value:\u001b[39m\u001b[38;5;124m\"\u001b[39m, mp\u001b[38;5;241m.\u001b[39mproc_select2)\n\u001b[1;32m      3\u001b[0m \u001b[38;5;28mprint\u001b[39m(\u001b[38;5;124m\"\u001b[39m\u001b[38;5;124moutput image_out5:\u001b[39m\u001b[38;5;124m\"\u001b[39m, mp\u001b[38;5;241m.\u001b[39mimage_out5)\n",
      "\u001b[0;31mNameError\u001b[0m: name 'mp' is not defined"
     ]
    }
   ],
   "source": [
    "mp.proc_select2 = \"proc3\"\n",
    "print(\"switch proc_select2 value:\", mp.proc_select2)\n",
    "print(\"output image_out5:\", mp.image_out5)\n",
    "mp.proc_select2 = \"proc4\"\n",
    "print(\"switch proc_select2 value:\", mp.proc_select2)\n",
    "print(\"output image_out5:\", mp.image_out5)"
   ]
  },
  {
   "cell_type": "markdown",
   "metadata": {
    "deletable": true,
    "editable": true
   },
   "source": [
    "![changed pipeline](images/capsul_fom2.jpg \"changed pipeline\")\n",
    "![changed completion controller](images/capsul_fom2_compl.jpg \"changed completion controller\")\n",
    "\n",
    "## Now Cleanup the files we have created..."
   ]
  },
  {
   "cell_type": "code",
   "execution_count": 59,
   "metadata": {
    "collapsed": true,
    "deletable": true,
    "editable": true,
    "execution": {
     "iopub.execute_input": "2025-04-09T15:52:15.050302Z",
     "iopub.status.busy": "2025-04-09T15:52:15.049832Z",
     "iopub.status.idle": "2025-04-09T15:52:15.209439Z",
     "shell.execute_reply": "2025-04-09T15:52:15.208840Z"
    }
   },
   "outputs": [
    {
     "ename": "FileNotFoundError",
     "evalue": "[Errno 2] No such file or directory: '/tmp/capsul_demo'",
     "output_type": "error",
     "traceback": [
      "\u001b[0;31m---------------------------------------------------------------------------\u001b[0m",
      "\u001b[0;31mFileNotFoundError\u001b[0m                         Traceback (most recent call last)",
      "Cell \u001b[0;32mIn[59], line 2\u001b[0m\n\u001b[1;32m      1\u001b[0m \u001b[38;5;28;01mimport\u001b[39;00m\u001b[38;5;250m \u001b[39m\u001b[38;5;21;01mshutil\u001b[39;00m\n\u001b[0;32m----> 2\u001b[0m \u001b[43mshutil\u001b[49m\u001b[38;5;241;43m.\u001b[39;49m\u001b[43mrmtree\u001b[49m\u001b[43m(\u001b[49m\u001b[38;5;124;43m'\u001b[39;49m\u001b[38;5;124;43m/tmp/capsul_demo\u001b[39;49m\u001b[38;5;124;43m'\u001b[39;49m\u001b[43m)\u001b[49m\n",
      "File \u001b[0;32m/opt/hostedtoolcache/Python/3.9.21/x64/lib/python3.9/shutil.py:724\u001b[0m, in \u001b[0;36mrmtree\u001b[0;34m(path, ignore_errors, onerror)\u001b[0m\n\u001b[1;32m    722\u001b[0m     orig_st \u001b[38;5;241m=\u001b[39m os\u001b[38;5;241m.\u001b[39mlstat(path)\n\u001b[1;32m    723\u001b[0m \u001b[38;5;28;01mexcept\u001b[39;00m \u001b[38;5;167;01mException\u001b[39;00m:\n\u001b[0;32m--> 724\u001b[0m     \u001b[43monerror\u001b[49m\u001b[43m(\u001b[49m\u001b[43mos\u001b[49m\u001b[38;5;241;43m.\u001b[39;49m\u001b[43mlstat\u001b[49m\u001b[43m,\u001b[49m\u001b[43m \u001b[49m\u001b[43mpath\u001b[49m\u001b[43m,\u001b[49m\u001b[43m \u001b[49m\u001b[43msys\u001b[49m\u001b[38;5;241;43m.\u001b[39;49m\u001b[43mexc_info\u001b[49m\u001b[43m(\u001b[49m\u001b[43m)\u001b[49m\u001b[43m)\u001b[49m\n\u001b[1;32m    725\u001b[0m     \u001b[38;5;28;01mreturn\u001b[39;00m\n\u001b[1;32m    726\u001b[0m \u001b[38;5;28;01mtry\u001b[39;00m:\n",
      "File \u001b[0;32m/opt/hostedtoolcache/Python/3.9.21/x64/lib/python3.9/shutil.py:722\u001b[0m, in \u001b[0;36mrmtree\u001b[0;34m(path, ignore_errors, onerror)\u001b[0m\n\u001b[1;32m    719\u001b[0m \u001b[38;5;66;03m# Note: To guard against symlink races, we use the standard\u001b[39;00m\n\u001b[1;32m    720\u001b[0m \u001b[38;5;66;03m# lstat()/open()/fstat() trick.\u001b[39;00m\n\u001b[1;32m    721\u001b[0m \u001b[38;5;28;01mtry\u001b[39;00m:\n\u001b[0;32m--> 722\u001b[0m     orig_st \u001b[38;5;241m=\u001b[39m \u001b[43mos\u001b[49m\u001b[38;5;241;43m.\u001b[39;49m\u001b[43mlstat\u001b[49m\u001b[43m(\u001b[49m\u001b[43mpath\u001b[49m\u001b[43m)\u001b[49m\n\u001b[1;32m    723\u001b[0m \u001b[38;5;28;01mexcept\u001b[39;00m \u001b[38;5;167;01mException\u001b[39;00m:\n\u001b[1;32m    724\u001b[0m     onerror(os\u001b[38;5;241m.\u001b[39mlstat, path, sys\u001b[38;5;241m.\u001b[39mexc_info())\n",
      "\u001b[0;31mFileNotFoundError\u001b[0m: [Errno 2] No such file or directory: '/tmp/capsul_demo'"
     ]
    }
   ],
   "source": [
    "import shutil\n",
    "shutil.rmtree('/tmp/capsul_demo')"
   ]
  }
 ],
 "metadata": {
  "kernelspec": {
   "display_name": "Python 3",
   "language": "python",
   "name": "python3"
  },
  "language_info": {
   "codemirror_mode": {
    "name": "ipython",
    "version": 3
   },
   "file_extension": ".py",
   "mimetype": "text/x-python",
   "name": "python",
   "nbconvert_exporter": "python",
   "pygments_lexer": "ipython3",
   "version": "3.9.21"
  }
 },
 "nbformat": 4,
 "nbformat_minor": 1
}
