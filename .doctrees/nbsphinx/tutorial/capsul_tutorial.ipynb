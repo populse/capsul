{
 "cells": [
  {
   "cell_type": "markdown",
   "metadata": {
    "deletable": true,
    "editable": true
   },
   "source": [
    "# CAPSUL: chain algorithms in pipelines"
   ]
  },
  {
   "cell_type": "markdown",
   "metadata": {
    "deletable": true,
    "editable": true
   },
   "source": [
    "<p>Capsul is a simple and efficient Python tool that aims to organize a set of processings.\n",
    "It is accessible to everybody, and is reusable in various contexts.\n",
    "The project is hosted on github: https://github.com/populse/capsul.</p>\n",
    "\n",
    "<p>Documentation: <a href=\"http://populse.github.io/capsul\">http://populse.github.io/capsul</a>\n",
    "</p>\n",
    "\n",
    "<p>The following examples are using CAPSUL, and PyQt (or PySide). To get the GUI running in a non-blocking way, the IPython notebook should be started with the option <tt>--gui=qt</tt>:\n",
    "<pre>ipython notebook --gui=qt</pre>\n",
    "Otherwise calls to the Qt loop will be blocking until windows are closed at each demo step.\n",
    "</p>\n",
    "\n",
    "<p>\n",
    "<big>Definitions</big>\n",
    "\n",
    "<ul style=\"list-style-type:disc;\">\n",
    "<li>A <b>Process</b> is a processing that can derived directly from a Python function and that can be used as a building block of a pipeline.</li>\n",
    "<li>A <b>Pipeline</b> is a series of connected processes.</li>\n",
    "</ul>\n",
    "</p>\n",
    "\n",
    "<p>\n",
    "<big>First check</big>\n",
    "\n",
    "In order to test if capsul is installed on your machine, you can ask the the Capsul version:\n",
    "</p>\n"
   ]
  },
  {
   "cell_type": "code",
   "execution_count": 1,
   "metadata": {
    "collapsed": true,
    "deletable": true,
    "editable": true,
    "execution": {
     "iopub.execute_input": "2023-06-08T11:04:13.334850Z",
     "iopub.status.busy": "2023-06-08T11:04:13.334365Z",
     "iopub.status.idle": "2023-06-08T11:04:13.350756Z",
     "shell.execute_reply": "2023-06-08T11:04:13.349729Z"
    }
   },
   "outputs": [],
   "source": [
    "# just to ensure compatibility of this notebook with python 2 and 3\n",
    "from __future__ import print_function\n",
    "# the following to avoid display when this notebook is converted to sphinx doc\n",
    "import os\n",
    "if os.environ.get('ALLOW_GUI', 'TRUE') in ('FALSE', '0'):\n",
    "    use_gui = False\n",
    "else:\n",
    "    %gui qt4\n",
    "    use_gui = True\n",
    "    from soma.qt_gui import qt_backend\n",
    "    qt_backend.set_qt_backend()"
   ]
  },
  {
   "cell_type": "code",
   "execution_count": 2,
   "metadata": {
    "collapsed": false,
    "deletable": true,
    "editable": true,
    "execution": {
     "iopub.execute_input": "2023-06-08T11:04:13.354482Z",
     "iopub.status.busy": "2023-06-08T11:04:13.354172Z",
     "iopub.status.idle": "2023-06-08T11:04:13.359968Z",
     "shell.execute_reply": "2023-06-08T11:04:13.359164Z"
    }
   },
   "outputs": [
    {
     "name": "stdout",
     "output_type": "stream",
     "text": [
      "2.4.0\n"
     ]
    }
   ],
   "source": [
    "import capsul\n",
    "print(capsul.__version__)"
   ]
  },
  {
   "cell_type": "markdown",
   "metadata": {
    "deletable": true,
    "editable": true
   },
   "source": [
    "<h1>Process and pipeline creation API</h1>\n",
    "\n",
    "A process can be either a Process class instance, or a wrapping of a function\n",
    "\n",
    "<h2>Process and parameters</h2>"
   ]
  },
  {
   "cell_type": "code",
   "execution_count": 3,
   "metadata": {
    "collapsed": false,
    "deletable": true,
    "editable": true,
    "execution": {
     "iopub.execute_input": "2023-06-08T11:04:13.407466Z",
     "iopub.status.busy": "2023-06-08T11:04:13.406729Z",
     "iopub.status.idle": "2023-06-08T11:04:14.560035Z",
     "shell.execute_reply": "2023-06-08T11:04:14.558974Z"
    }
   },
   "outputs": [
    {
     "name": "stdout",
     "output_type": "stream",
     "text": [
      "['f', 'ff', 'out']\n"
     ]
    },
    {
     "ename": "InterfaceError",
     "evalue": "Error binding parameter 1 - probably unsupported type.",
     "output_type": "error",
     "traceback": [
      "\u001b[0;31m---------------------------------------------------------------------------\u001b[0m",
      "\u001b[0;31mInterfaceError\u001b[0m                            Traceback (most recent call last)",
      "Cell \u001b[0;32mIn[3], line 26\u001b[0m\n\u001b[1;32m     23\u001b[0m process\u001b[38;5;241m.\u001b[39mf \u001b[38;5;241m=\u001b[39m \u001b[38;5;241m13.3\u001b[39m\n\u001b[1;32m     25\u001b[0m \u001b[38;5;66;03m#execution\u001b[39;00m\n\u001b[0;32m---> 26\u001b[0m \u001b[43mprocess\u001b[49m\u001b[43m(\u001b[49m\u001b[43m)\u001b[49m\n\u001b[1;32m     27\u001b[0m \u001b[38;5;28mprint\u001b[39m(\u001b[38;5;124m'\u001b[39m\u001b[38;5;124mProcess result =\u001b[39m\u001b[38;5;124m'\u001b[39m, process\u001b[38;5;241m.\u001b[39mout)\n",
      "File \u001b[0;32m~/work/capsul/capsul/capsul/process/process.py:305\u001b[0m, in \u001b[0;36mProcess.__call__\u001b[0;34m(self, **kwargs)\u001b[0m\n\u001b[1;32m    271\u001b[0m \u001b[38;5;250m\u001b[39m\u001b[38;5;124;03m\"\"\" Method to execute the Process.\u001b[39;00m\n\u001b[1;32m    272\u001b[0m \n\u001b[1;32m    273\u001b[0m \u001b[38;5;124;03mKeyword arguments may be passed to set process parameters.\u001b[39;00m\n\u001b[0;32m   (...)\u001b[0m\n\u001b[1;32m    302\u001b[0m \u001b[38;5;124;03m    contains all execution information.\u001b[39;00m\n\u001b[1;32m    303\u001b[0m \u001b[38;5;124;03m\"\"\"\u001b[39;00m\n\u001b[1;32m    304\u001b[0m \u001b[38;5;66;03m# Execute the process\u001b[39;00m\n\u001b[0;32m--> 305\u001b[0m returncode \u001b[38;5;241m=\u001b[39m \u001b[38;5;28;43mself\u001b[39;49m\u001b[38;5;241;43m.\u001b[39;49m\u001b[43mget_study_config\u001b[49m\u001b[43m(\u001b[49m\u001b[43m)\u001b[49m\u001b[38;5;241m.\u001b[39mrun(\u001b[38;5;28mself\u001b[39m, \u001b[38;5;241m*\u001b[39m\u001b[38;5;241m*\u001b[39mkwargs)\n\u001b[1;32m    306\u001b[0m \u001b[38;5;28;01mreturn\u001b[39;00m returncode\n",
      "File \u001b[0;32m~/work/capsul/capsul/capsul/process/process.py:1090\u001b[0m, in \u001b[0;36mProcess.get_study_config\u001b[0;34m(self)\u001b[0m\n\u001b[1;32m   1087\u001b[0m \u001b[38;5;28;01mif\u001b[39;00m \u001b[38;5;28mself\u001b[39m\u001b[38;5;241m.\u001b[39mstudy_config \u001b[38;5;129;01mis\u001b[39;00m \u001b[38;5;28;01mNone\u001b[39;00m:\n\u001b[1;32m   1088\u001b[0m     \u001b[38;5;66;03m# Import cannot be done on module due to circular dependencies\u001b[39;00m\n\u001b[1;32m   1089\u001b[0m     \u001b[38;5;28;01mfrom\u001b[39;00m \u001b[38;5;21;01mcapsul\u001b[39;00m\u001b[38;5;21;01m.\u001b[39;00m\u001b[38;5;21;01mstudy_config\u001b[39;00m\u001b[38;5;21;01m.\u001b[39;00m\u001b[38;5;21;01mstudy_config\u001b[39;00m \u001b[38;5;28;01mimport\u001b[39;00m default_study_config\n\u001b[0;32m-> 1090\u001b[0m     \u001b[38;5;28mself\u001b[39m\u001b[38;5;241m.\u001b[39mset_study_config(\u001b[43mdefault_study_config\u001b[49m\u001b[43m(\u001b[49m\u001b[43m)\u001b[49m)\n\u001b[1;32m   1091\u001b[0m \u001b[38;5;28;01mreturn\u001b[39;00m \u001b[38;5;28mself\u001b[39m\u001b[38;5;241m.\u001b[39mstudy_config\n",
      "File \u001b[0;32m~/work/capsul/capsul/capsul/study_config/study_config.py:762\u001b[0m, in \u001b[0;36mdefault_study_config\u001b[0;34m()\u001b[0m\n\u001b[1;32m    760\u001b[0m \u001b[38;5;28;01mglobal\u001b[39;00m _default_study_config\n\u001b[1;32m    761\u001b[0m \u001b[38;5;28;01mif\u001b[39;00m _default_study_config \u001b[38;5;129;01mis\u001b[39;00m \u001b[38;5;28;01mNone\u001b[39;00m:\n\u001b[0;32m--> 762\u001b[0m     _default_study_config \u001b[38;5;241m=\u001b[39m \u001b[43mStudyConfig\u001b[49m\u001b[43m(\u001b[49m\u001b[43m)\u001b[49m\n\u001b[1;32m    763\u001b[0m \u001b[38;5;28;01mreturn\u001b[39;00m _default_study_config\n",
      "File \u001b[0;32m~/work/capsul/capsul/capsul/study_config/study_config.py:225\u001b[0m, in \u001b[0;36mStudyConfig.__init__\u001b[0;34m(self, study_name, init_config, modules, engine, **override_config)\u001b[0m\n\u001b[1;32m    223\u001b[0m \u001b[38;5;28;01mfor\u001b[39;00m k, v \u001b[38;5;129;01min\u001b[39;00m six\u001b[38;5;241m.\u001b[39miteritems(config):\n\u001b[1;32m    224\u001b[0m     \u001b[38;5;28msetattr\u001b[39m(\u001b[38;5;28mself\u001b[39m, k, v)\n\u001b[0;32m--> 225\u001b[0m \u001b[38;5;28;43mself\u001b[39;49m\u001b[38;5;241;43m.\u001b[39;49m\u001b[43minitialize_modules\u001b[49m\u001b[43m(\u001b[49m\u001b[43m)\u001b[49m\n\u001b[1;32m    226\u001b[0m \u001b[38;5;28mself\u001b[39m\u001b[38;5;241m.\u001b[39mrun_lock \u001b[38;5;241m=\u001b[39m threading\u001b[38;5;241m.\u001b[39mRLock()\n\u001b[1;32m    227\u001b[0m \u001b[38;5;28mself\u001b[39m\u001b[38;5;241m.\u001b[39mrun_interruption_request \u001b[38;5;241m=\u001b[39m \u001b[38;5;28;01mFalse\u001b[39;00m\n",
      "File \u001b[0;32m~/work/capsul/capsul/capsul/study_config/study_config.py:256\u001b[0m, in \u001b[0;36mStudyConfig.initialize_modules\u001b[0;34m(self)\u001b[0m\n\u001b[1;32m    254\u001b[0m     \u001b[38;5;28;01mcontinue\u001b[39;00m\n\u001b[1;32m    255\u001b[0m \u001b[38;5;66;03m# Initialize a module\u001b[39;00m\n\u001b[0;32m--> 256\u001b[0m \u001b[43mmodule\u001b[49m\u001b[38;5;241;43m.\u001b[39;49m\u001b[43minitialize_module\u001b[49m\u001b[43m(\u001b[49m\u001b[43m)\u001b[49m\n\u001b[1;32m    257\u001b[0m module\u001b[38;5;241m.\u001b[39minitialize_callbacks()\n\u001b[1;32m    258\u001b[0m already_initialized\u001b[38;5;241m.\u001b[39madd(module_name)\n",
      "File \u001b[0;32m~/work/capsul/capsul/capsul/study_config/config_modules/spm_config.py:70\u001b[0m, in \u001b[0;36mSPMConfig.initialize_module\u001b[0;34m(self)\u001b[0m\n\u001b[1;32m     68\u001b[0m     \u001b[38;5;28mself\u001b[39m\u001b[38;5;241m.\u001b[39msync_from_engine()\n\u001b[1;32m     69\u001b[0m \u001b[38;5;28;01melse\u001b[39;00m:\n\u001b[0;32m---> 70\u001b[0m     \u001b[38;5;28;43mself\u001b[39;49m\u001b[38;5;241;43m.\u001b[39;49m\u001b[43msync_to_engine\u001b[49m\u001b[43m(\u001b[49m\u001b[43m)\u001b[49m\n\u001b[1;32m     71\u001b[0m \u001b[38;5;66;03m# this test aims to raise an exception in case of incorrect setting,\u001b[39;00m\n\u001b[1;32m     72\u001b[0m \u001b[38;5;66;03m# complying to capsul 2.x behavior.\u001b[39;00m\n\u001b[1;32m     73\u001b[0m \u001b[38;5;28;01mif\u001b[39;00m \u001b[38;5;28mself\u001b[39m\u001b[38;5;241m.\u001b[39mstudy_config\u001b[38;5;241m.\u001b[39muse_spm \u001b[38;5;129;01mis\u001b[39;00m \u001b[38;5;28;01mTrue\u001b[39;00m:\n",
      "File \u001b[0;32m~/work/capsul/capsul/capsul/study_config/config_modules/spm_config.py:209\u001b[0m, in \u001b[0;36mSPMConfig.sync_to_engine\u001b[0;34m(self)\u001b[0m\n\u001b[1;32m    205\u001b[0m config \u001b[38;5;241m=\u001b[39m session\u001b[38;5;241m.\u001b[39mconfig(\u001b[38;5;124m'\u001b[39m\u001b[38;5;124mmatlab\u001b[39m\u001b[38;5;124m'\u001b[39m, \u001b[38;5;124m'\u001b[39m\u001b[38;5;124mglobal\u001b[39m\u001b[38;5;124m'\u001b[39m,\n\u001b[1;32m    206\u001b[0m                         selection\u001b[38;5;241m=\u001b[39m\u001b[38;5;124m'\u001b[39m\u001b[38;5;132;01m%s\u001b[39;00m\u001b[38;5;124m == \u001b[39m\u001b[38;5;124m\"\u001b[39m\u001b[38;5;124mmatlab\u001b[39m\u001b[38;5;124m\"\u001b[39m\u001b[38;5;124m'\u001b[39m\n\u001b[1;32m    207\u001b[0m                         \u001b[38;5;241m%\u001b[39m cif)\n\u001b[1;32m    208\u001b[0m \u001b[38;5;28;01mif\u001b[39;00m config \u001b[38;5;129;01mis\u001b[39;00m \u001b[38;5;28;01mNone\u001b[39;00m:\n\u001b[0;32m--> 209\u001b[0m     \u001b[43msession\u001b[49m\u001b[38;5;241;43m.\u001b[39;49m\u001b[43mnew_config\u001b[49m\u001b[43m(\u001b[49m\n\u001b[1;32m    210\u001b[0m \u001b[43m        \u001b[49m\u001b[38;5;124;43m'\u001b[39;49m\u001b[38;5;124;43mmatlab\u001b[39;49m\u001b[38;5;124;43m'\u001b[39;49m\u001b[43m,\u001b[49m\u001b[43m \u001b[49m\u001b[38;5;124;43m'\u001b[39;49m\u001b[38;5;124;43mglobal\u001b[39;49m\u001b[38;5;124;43m'\u001b[39;49m\u001b[43m,\u001b[49m\n\u001b[1;32m    211\u001b[0m \u001b[43m        \u001b[49m\u001b[43m{\u001b[49m\u001b[38;5;124;43m'\u001b[39;49m\u001b[38;5;124;43mmcr_directory\u001b[39;49m\u001b[38;5;124;43m'\u001b[39;49m\u001b[43m:\u001b[49m\n\u001b[1;32m    212\u001b[0m \u001b[43m            \u001b[49m\u001b[38;5;28;43mself\u001b[39;49m\u001b[38;5;241;43m.\u001b[39;49m\u001b[43mstudy_config\u001b[49m\u001b[38;5;241;43m.\u001b[39;49m\u001b[43mspm_directory\u001b[49m\u001b[43m}\u001b[49m\u001b[43m)\u001b[49m\n\u001b[1;32m    213\u001b[0m \u001b[38;5;28;01melse\u001b[39;00m:\n\u001b[1;32m    214\u001b[0m     config\u001b[38;5;241m.\u001b[39mmcr_directory \\\n\u001b[1;32m    215\u001b[0m         \u001b[38;5;241m=\u001b[39m \u001b[38;5;28mself\u001b[39m\u001b[38;5;241m.\u001b[39mstudy_config\u001b[38;5;241m.\u001b[39mspm_directory\n",
      "File \u001b[0;32m~/work/capsul/capsul/capsul/engine/settings.py:405\u001b[0m, in \u001b[0;36mSettingsSession.new_config\u001b[0;34m(self, module, environment, values)\u001b[0m\n\u001b[1;32m    403\u001b[0m document[Settings\u001b[38;5;241m.\u001b[39mconfig_id_field] \u001b[38;5;241m=\u001b[39m \u001b[38;5;124m'\u001b[39m\u001b[38;5;132;01m%s\u001b[39;00m\u001b[38;5;124m-\u001b[39m\u001b[38;5;132;01m%s\u001b[39;00m\u001b[38;5;124m'\u001b[39m \u001b[38;5;241m%\u001b[39m (\u001b[38;5;28mid\u001b[39m, environment)\n\u001b[1;32m    404\u001b[0m collection \u001b[38;5;241m=\u001b[39m \u001b[38;5;28mself\u001b[39m\u001b[38;5;241m.\u001b[39mcollection_name(module)\n\u001b[0;32m--> 405\u001b[0m \u001b[38;5;28;43mself\u001b[39;49m\u001b[38;5;241;43m.\u001b[39;49m\u001b[43m_dbs\u001b[49m\u001b[38;5;241;43m.\u001b[39;49m\u001b[43madd_document\u001b[49m\u001b[43m(\u001b[49m\u001b[43mcollection\u001b[49m\u001b[43m,\u001b[49m\u001b[43m \u001b[49m\u001b[43mdocument\u001b[49m\u001b[43m)\u001b[49m\n\u001b[1;32m    406\u001b[0m config \u001b[38;5;241m=\u001b[39m SettingsConfig(\n\u001b[1;32m    407\u001b[0m     \u001b[38;5;28mself\u001b[39m\u001b[38;5;241m.\u001b[39m_dbs, collection, \u001b[38;5;28mid\u001b[39m, environment,\n\u001b[1;32m    408\u001b[0m     notifiers\u001b[38;5;241m=\u001b[39m\u001b[38;5;28mself\u001b[39m\u001b[38;5;241m.\u001b[39mmodule_notifiers\u001b[38;5;241m.\u001b[39mget(Settings\u001b[38;5;241m.\u001b[39mmodule_name(module),\n\u001b[1;32m    409\u001b[0m                                         []))\n\u001b[1;32m    410\u001b[0m config\u001b[38;5;241m.\u001b[39mnotify()\n",
      "File \u001b[0;32m/opt/hostedtoolcache/Python/3.9.16/x64/lib/python3.9/site-packages/populse_db/database.py:762\u001b[0m, in \u001b[0;36mDatabaseSession.add_document\u001b[0;34m(self, collection, document, create_missing_fields, flush)\u001b[0m\n\u001b[1;32m    760\u001b[0m \u001b[38;5;28;01mif\u001b[39;00m \u001b[38;5;129;01mnot\u001b[39;00m \u001b[38;5;28misinstance\u001b[39m(document, \u001b[38;5;28mdict\u001b[39m):\n\u001b[1;32m    761\u001b[0m     document \u001b[38;5;241m=\u001b[39m {primary_key: document}\n\u001b[0;32m--> 762\u001b[0m \u001b[38;5;28;43mself\u001b[39;49m\u001b[38;5;241;43m.\u001b[39;49m\u001b[43mengine\u001b[49m\u001b[38;5;241;43m.\u001b[39;49m\u001b[43madd_document\u001b[49m\u001b[43m(\u001b[49m\u001b[43mcollection\u001b[49m\u001b[43m,\u001b[49m\u001b[43m \u001b[49m\u001b[43mdocument\u001b[49m\u001b[43m,\u001b[49m\u001b[43m \u001b[49m\u001b[43mcreate_missing_fields\u001b[49m\u001b[43m)\u001b[49m\n",
      "File \u001b[0;32m/opt/hostedtoolcache/Python/3.9.16/x64/lib/python3.9/site-packages/populse_db/engine/sqlite.py:361\u001b[0m, in \u001b[0;36mSQLiteEngine.add_document\u001b[0;34m(self, collection, document, create_missing_fields)\u001b[0m\n\u001b[1;32m    356\u001b[0m sql \u001b[38;5;241m=\u001b[39m \u001b[38;5;124m'\u001b[39m\u001b[38;5;124mINSERT INTO [\u001b[39m\u001b[38;5;132;01m%s\u001b[39;00m\u001b[38;5;124m] (\u001b[39m\u001b[38;5;132;01m%s\u001b[39;00m\u001b[38;5;124m) VALUES (\u001b[39m\u001b[38;5;132;01m%s\u001b[39;00m\u001b[38;5;124m)\u001b[39m\u001b[38;5;124m'\u001b[39m \u001b[38;5;241m%\u001b[39m (\n\u001b[1;32m    357\u001b[0m     table,\n\u001b[1;32m    358\u001b[0m     \u001b[38;5;124m'\u001b[39m\u001b[38;5;124m,\u001b[39m\u001b[38;5;124m'\u001b[39m\u001b[38;5;241m.\u001b[39mjoin(\u001b[38;5;124m'\u001b[39m\u001b[38;5;124m[\u001b[39m\u001b[38;5;132;01m%s\u001b[39;00m\u001b[38;5;124m]\u001b[39m\u001b[38;5;124m'\u001b[39m \u001b[38;5;241m%\u001b[39m i \u001b[38;5;28;01mfor\u001b[39;00m i \u001b[38;5;129;01min\u001b[39;00m column_values\u001b[38;5;241m.\u001b[39mkeys()),\n\u001b[1;32m    359\u001b[0m     \u001b[38;5;124m'\u001b[39m\u001b[38;5;124m,\u001b[39m\u001b[38;5;124m'\u001b[39m\u001b[38;5;241m.\u001b[39mjoin(\u001b[38;5;124m'\u001b[39m\u001b[38;5;124m?\u001b[39m\u001b[38;5;124m'\u001b[39m \u001b[38;5;28;01mfor\u001b[39;00m i \u001b[38;5;129;01min\u001b[39;00m column_values))\n\u001b[1;32m    360\u001b[0m \u001b[38;5;28;01mtry\u001b[39;00m:\n\u001b[0;32m--> 361\u001b[0m     \u001b[38;5;28;43mself\u001b[39;49m\u001b[38;5;241;43m.\u001b[39;49m\u001b[43mcursor\u001b[49m\u001b[38;5;241;43m.\u001b[39;49m\u001b[43mexecute\u001b[49m\u001b[43m(\u001b[49m\u001b[43msql\u001b[49m\u001b[43m,\u001b[49m\u001b[43m \u001b[49m\u001b[38;5;28;43mlist\u001b[39;49m\u001b[43m(\u001b[49m\u001b[43mcolumn_values\u001b[49m\u001b[38;5;241;43m.\u001b[39;49m\u001b[43mvalues\u001b[49m\u001b[43m(\u001b[49m\u001b[43m)\u001b[49m\u001b[43m)\u001b[49m\u001b[43m)\u001b[49m\n\u001b[1;32m    362\u001b[0m \u001b[38;5;28;01mexcept\u001b[39;00m sqlite3\u001b[38;5;241m.\u001b[39mIntegrityError \u001b[38;5;28;01mas\u001b[39;00m e:\n\u001b[1;32m    363\u001b[0m     \u001b[38;5;28;01mraise\u001b[39;00m \u001b[38;5;167;01mValueError\u001b[39;00m(\u001b[38;5;28mstr\u001b[39m(e))\n",
      "\u001b[0;31mInterfaceError\u001b[0m: Error binding parameter 1 - probably unsupported type."
     ]
    }
   ],
   "source": [
    "# Capsul import\n",
    "from capsul.api import Process\n",
    "\n",
    "# Trait import\n",
    "from traits.api import Float\n",
    "\n",
    "class Process1(Process):\n",
    "    f = Float(output=False)\n",
    "\n",
    "    def __init__(self):\n",
    "        super(Process1, self).__init__()\n",
    "        self.add_trait(\"ff\", Float(output=False))\n",
    "        self.add_trait(\"out\", Float(output=True))\n",
    "        \n",
    "    def _run_process(self):\n",
    "        self.out = self.f + self.ff\n",
    "        print('Process1 execution, f:', self.f, ', ff:', self.ff)\n",
    "\n",
    "process = Process1()\n",
    "print(process.user_traits().keys())\n",
    "\n",
    "process.ff = 132.6\n",
    "process.f = 13.3\n",
    "\n",
    "#execution\n",
    "process()\n",
    "print('Process result =', process.out)"
   ]
  },
  {
   "cell_type": "code",
   "execution_count": 4,
   "metadata": {
    "collapsed": true,
    "deletable": true,
    "editable": true,
    "execution": {
     "iopub.execute_input": "2023-06-08T11:04:14.563470Z",
     "iopub.status.busy": "2023-06-08T11:04:14.562945Z",
     "iopub.status.idle": "2023-06-08T11:04:14.571450Z",
     "shell.execute_reply": "2023-06-08T11:04:14.570389Z"
    }
   },
   "outputs": [],
   "source": [
    "from traits.api import Str\n",
    "\n",
    "class Process2(Process):\n",
    "    \n",
    "    def __init__(self):\n",
    "        super(Process2, self).__init__()\n",
    "        self.add_trait(\"a\", Float(output=True))\n",
    "        self.add_trait(\"b\", Str(output=False))\n",
    "        \n",
    "    def get_commandline(self):\n",
    "        return ['echo', 'Process2 execution, a: %f, b: %s' % (self.a, self.b)]\n"
   ]
  },
  {
   "cell_type": "markdown",
   "metadata": {
    "deletable": true,
    "editable": true
   },
   "source": [
    "<h2>Use a function as a building block</h2>\n",
    "\n",
    "It is possible to convert a function in Process and thus use it as a building block of a pipeline. In the following example we will use an addition simple Python function:\n"
   ]
  },
  {
   "cell_type": "code",
   "execution_count": 5,
   "metadata": {
    "collapsed": true,
    "deletable": true,
    "editable": true,
    "execution": {
     "iopub.execute_input": "2023-06-08T11:04:14.575537Z",
     "iopub.status.busy": "2023-06-08T11:04:14.575226Z",
     "iopub.status.idle": "2023-06-08T11:04:14.580447Z",
     "shell.execute_reply": "2023-06-08T11:04:14.579707Z"
    }
   },
   "outputs": [],
   "source": [
    "from capsul.process.xml import xml_process\n",
    "from capsul.api import get_process_instance\n",
    "\n",
    "@xml_process('''\n",
    "<process capsul_xml=\"2.0\">\n",
    "    <input name=\"a\" type=\"int\" doc=\"An integer\"/>\n",
    "    <input name=\"b\" type=\"int\" doc=\"Another integer\"/>\n",
    "    <return name=\"addition\" type=\"int\" doc=\"a + b\"/>\n",
    "</process>\n",
    "''')\n",
    "def add(a, b):\n",
    "     return a + b"
   ]
  },
  {
   "cell_type": "markdown",
   "metadata": {
    "deletable": true,
    "editable": true
   },
   "source": [
    "<p>This is a pure Python function with an XML Process description in the @xml_process decorator. Inside <code>&lt;process&gt;</code> and <code>&lt;/process&gt;</code> elements, each input parameters are described as well as the returned value. The parameters are typed and a description is asked in order to generate proper tooltips or documentations. See <a href=\"http://populse.github.io/capsul/user_guide_tree/xml_spec.html\">XML specifications</a> for more information.</p>\n",
    "\n",
    "<p>We can now create a Process from this Python function:</p>"
   ]
  },
  {
   "cell_type": "code",
   "execution_count": 6,
   "metadata": {
    "collapsed": true,
    "deletable": true,
    "editable": true,
    "execution": {
     "iopub.execute_input": "2023-06-08T11:04:14.583893Z",
     "iopub.status.busy": "2023-06-08T11:04:14.583568Z",
     "iopub.status.idle": "2023-06-08T11:04:14.588753Z",
     "shell.execute_reply": "2023-06-08T11:04:14.587971Z"
    }
   },
   "outputs": [],
   "source": [
    "from capsul.api import get_process_instance\n",
    "\n",
    "process = get_process_instance('__main__.add')\n"
   ]
  },
  {
   "cell_type": "markdown",
   "metadata": {
    "deletable": true,
    "editable": true
   },
   "source": [
    "We can set some input parameters and execute the process:"
   ]
  },
  {
   "cell_type": "code",
   "execution_count": 7,
   "metadata": {
    "collapsed": false,
    "deletable": true,
    "editable": true,
    "execution": {
     "iopub.execute_input": "2023-06-08T11:04:14.592201Z",
     "iopub.status.busy": "2023-06-08T11:04:14.591937Z",
     "iopub.status.idle": "2023-06-08T11:04:14.731051Z",
     "shell.execute_reply": "2023-06-08T11:04:14.729956Z"
    }
   },
   "outputs": [
    {
     "ename": "InterfaceError",
     "evalue": "Error binding parameter 1 - probably unsupported type.",
     "output_type": "error",
     "traceback": [
      "\u001b[0;31m---------------------------------------------------------------------------\u001b[0m",
      "\u001b[0;31mInterfaceError\u001b[0m                            Traceback (most recent call last)",
      "Cell \u001b[0;32mIn[7], line 3\u001b[0m\n\u001b[1;32m      1\u001b[0m process\u001b[38;5;241m.\u001b[39ma \u001b[38;5;241m=\u001b[39m \u001b[38;5;241m40\u001b[39m\n\u001b[1;32m      2\u001b[0m process\u001b[38;5;241m.\u001b[39mb \u001b[38;5;241m=\u001b[39m \u001b[38;5;241m2\u001b[39m\n\u001b[0;32m----> 3\u001b[0m \u001b[43mprocess\u001b[49m\u001b[43m(\u001b[49m\u001b[43m)\u001b[49m\n\u001b[1;32m      4\u001b[0m \u001b[38;5;28mprint\u001b[39m(process\u001b[38;5;241m.\u001b[39ma, \u001b[38;5;124m'\u001b[39m\u001b[38;5;124m+\u001b[39m\u001b[38;5;124m'\u001b[39m, process\u001b[38;5;241m.\u001b[39mb, \u001b[38;5;124m'\u001b[39m\u001b[38;5;124m=\u001b[39m\u001b[38;5;124m'\u001b[39m, process\u001b[38;5;241m.\u001b[39maddition)\n",
      "File \u001b[0;32m~/work/capsul/capsul/capsul/process/process.py:305\u001b[0m, in \u001b[0;36mProcess.__call__\u001b[0;34m(self, **kwargs)\u001b[0m\n\u001b[1;32m    271\u001b[0m \u001b[38;5;250m\u001b[39m\u001b[38;5;124;03m\"\"\" Method to execute the Process.\u001b[39;00m\n\u001b[1;32m    272\u001b[0m \n\u001b[1;32m    273\u001b[0m \u001b[38;5;124;03mKeyword arguments may be passed to set process parameters.\u001b[39;00m\n\u001b[0;32m   (...)\u001b[0m\n\u001b[1;32m    302\u001b[0m \u001b[38;5;124;03m    contains all execution information.\u001b[39;00m\n\u001b[1;32m    303\u001b[0m \u001b[38;5;124;03m\"\"\"\u001b[39;00m\n\u001b[1;32m    304\u001b[0m \u001b[38;5;66;03m# Execute the process\u001b[39;00m\n\u001b[0;32m--> 305\u001b[0m returncode \u001b[38;5;241m=\u001b[39m \u001b[38;5;28;43mself\u001b[39;49m\u001b[38;5;241;43m.\u001b[39;49m\u001b[43mget_study_config\u001b[49m\u001b[43m(\u001b[49m\u001b[43m)\u001b[49m\u001b[38;5;241m.\u001b[39mrun(\u001b[38;5;28mself\u001b[39m, \u001b[38;5;241m*\u001b[39m\u001b[38;5;241m*\u001b[39mkwargs)\n\u001b[1;32m    306\u001b[0m \u001b[38;5;28;01mreturn\u001b[39;00m returncode\n",
      "File \u001b[0;32m~/work/capsul/capsul/capsul/process/process.py:1090\u001b[0m, in \u001b[0;36mProcess.get_study_config\u001b[0;34m(self)\u001b[0m\n\u001b[1;32m   1087\u001b[0m \u001b[38;5;28;01mif\u001b[39;00m \u001b[38;5;28mself\u001b[39m\u001b[38;5;241m.\u001b[39mstudy_config \u001b[38;5;129;01mis\u001b[39;00m \u001b[38;5;28;01mNone\u001b[39;00m:\n\u001b[1;32m   1088\u001b[0m     \u001b[38;5;66;03m# Import cannot be done on module due to circular dependencies\u001b[39;00m\n\u001b[1;32m   1089\u001b[0m     \u001b[38;5;28;01mfrom\u001b[39;00m \u001b[38;5;21;01mcapsul\u001b[39;00m\u001b[38;5;21;01m.\u001b[39;00m\u001b[38;5;21;01mstudy_config\u001b[39;00m\u001b[38;5;21;01m.\u001b[39;00m\u001b[38;5;21;01mstudy_config\u001b[39;00m \u001b[38;5;28;01mimport\u001b[39;00m default_study_config\n\u001b[0;32m-> 1090\u001b[0m     \u001b[38;5;28mself\u001b[39m\u001b[38;5;241m.\u001b[39mset_study_config(\u001b[43mdefault_study_config\u001b[49m\u001b[43m(\u001b[49m\u001b[43m)\u001b[49m)\n\u001b[1;32m   1091\u001b[0m \u001b[38;5;28;01mreturn\u001b[39;00m \u001b[38;5;28mself\u001b[39m\u001b[38;5;241m.\u001b[39mstudy_config\n",
      "File \u001b[0;32m~/work/capsul/capsul/capsul/study_config/study_config.py:762\u001b[0m, in \u001b[0;36mdefault_study_config\u001b[0;34m()\u001b[0m\n\u001b[1;32m    760\u001b[0m \u001b[38;5;28;01mglobal\u001b[39;00m _default_study_config\n\u001b[1;32m    761\u001b[0m \u001b[38;5;28;01mif\u001b[39;00m _default_study_config \u001b[38;5;129;01mis\u001b[39;00m \u001b[38;5;28;01mNone\u001b[39;00m:\n\u001b[0;32m--> 762\u001b[0m     _default_study_config \u001b[38;5;241m=\u001b[39m \u001b[43mStudyConfig\u001b[49m\u001b[43m(\u001b[49m\u001b[43m)\u001b[49m\n\u001b[1;32m    763\u001b[0m \u001b[38;5;28;01mreturn\u001b[39;00m _default_study_config\n",
      "File \u001b[0;32m~/work/capsul/capsul/capsul/study_config/study_config.py:225\u001b[0m, in \u001b[0;36mStudyConfig.__init__\u001b[0;34m(self, study_name, init_config, modules, engine, **override_config)\u001b[0m\n\u001b[1;32m    223\u001b[0m \u001b[38;5;28;01mfor\u001b[39;00m k, v \u001b[38;5;129;01min\u001b[39;00m six\u001b[38;5;241m.\u001b[39miteritems(config):\n\u001b[1;32m    224\u001b[0m     \u001b[38;5;28msetattr\u001b[39m(\u001b[38;5;28mself\u001b[39m, k, v)\n\u001b[0;32m--> 225\u001b[0m \u001b[38;5;28;43mself\u001b[39;49m\u001b[38;5;241;43m.\u001b[39;49m\u001b[43minitialize_modules\u001b[49m\u001b[43m(\u001b[49m\u001b[43m)\u001b[49m\n\u001b[1;32m    226\u001b[0m \u001b[38;5;28mself\u001b[39m\u001b[38;5;241m.\u001b[39mrun_lock \u001b[38;5;241m=\u001b[39m threading\u001b[38;5;241m.\u001b[39mRLock()\n\u001b[1;32m    227\u001b[0m \u001b[38;5;28mself\u001b[39m\u001b[38;5;241m.\u001b[39mrun_interruption_request \u001b[38;5;241m=\u001b[39m \u001b[38;5;28;01mFalse\u001b[39;00m\n",
      "File \u001b[0;32m~/work/capsul/capsul/capsul/study_config/study_config.py:256\u001b[0m, in \u001b[0;36mStudyConfig.initialize_modules\u001b[0;34m(self)\u001b[0m\n\u001b[1;32m    254\u001b[0m     \u001b[38;5;28;01mcontinue\u001b[39;00m\n\u001b[1;32m    255\u001b[0m \u001b[38;5;66;03m# Initialize a module\u001b[39;00m\n\u001b[0;32m--> 256\u001b[0m \u001b[43mmodule\u001b[49m\u001b[38;5;241;43m.\u001b[39;49m\u001b[43minitialize_module\u001b[49m\u001b[43m(\u001b[49m\u001b[43m)\u001b[49m\n\u001b[1;32m    257\u001b[0m module\u001b[38;5;241m.\u001b[39minitialize_callbacks()\n\u001b[1;32m    258\u001b[0m already_initialized\u001b[38;5;241m.\u001b[39madd(module_name)\n",
      "File \u001b[0;32m~/work/capsul/capsul/capsul/study_config/config_modules/spm_config.py:70\u001b[0m, in \u001b[0;36mSPMConfig.initialize_module\u001b[0;34m(self)\u001b[0m\n\u001b[1;32m     68\u001b[0m     \u001b[38;5;28mself\u001b[39m\u001b[38;5;241m.\u001b[39msync_from_engine()\n\u001b[1;32m     69\u001b[0m \u001b[38;5;28;01melse\u001b[39;00m:\n\u001b[0;32m---> 70\u001b[0m     \u001b[38;5;28;43mself\u001b[39;49m\u001b[38;5;241;43m.\u001b[39;49m\u001b[43msync_to_engine\u001b[49m\u001b[43m(\u001b[49m\u001b[43m)\u001b[49m\n\u001b[1;32m     71\u001b[0m \u001b[38;5;66;03m# this test aims to raise an exception in case of incorrect setting,\u001b[39;00m\n\u001b[1;32m     72\u001b[0m \u001b[38;5;66;03m# complying to capsul 2.x behavior.\u001b[39;00m\n\u001b[1;32m     73\u001b[0m \u001b[38;5;28;01mif\u001b[39;00m \u001b[38;5;28mself\u001b[39m\u001b[38;5;241m.\u001b[39mstudy_config\u001b[38;5;241m.\u001b[39muse_spm \u001b[38;5;129;01mis\u001b[39;00m \u001b[38;5;28;01mTrue\u001b[39;00m:\n",
      "File \u001b[0;32m~/work/capsul/capsul/capsul/study_config/config_modules/spm_config.py:209\u001b[0m, in \u001b[0;36mSPMConfig.sync_to_engine\u001b[0;34m(self)\u001b[0m\n\u001b[1;32m    205\u001b[0m config \u001b[38;5;241m=\u001b[39m session\u001b[38;5;241m.\u001b[39mconfig(\u001b[38;5;124m'\u001b[39m\u001b[38;5;124mmatlab\u001b[39m\u001b[38;5;124m'\u001b[39m, \u001b[38;5;124m'\u001b[39m\u001b[38;5;124mglobal\u001b[39m\u001b[38;5;124m'\u001b[39m,\n\u001b[1;32m    206\u001b[0m                         selection\u001b[38;5;241m=\u001b[39m\u001b[38;5;124m'\u001b[39m\u001b[38;5;132;01m%s\u001b[39;00m\u001b[38;5;124m == \u001b[39m\u001b[38;5;124m\"\u001b[39m\u001b[38;5;124mmatlab\u001b[39m\u001b[38;5;124m\"\u001b[39m\u001b[38;5;124m'\u001b[39m\n\u001b[1;32m    207\u001b[0m                         \u001b[38;5;241m%\u001b[39m cif)\n\u001b[1;32m    208\u001b[0m \u001b[38;5;28;01mif\u001b[39;00m config \u001b[38;5;129;01mis\u001b[39;00m \u001b[38;5;28;01mNone\u001b[39;00m:\n\u001b[0;32m--> 209\u001b[0m     \u001b[43msession\u001b[49m\u001b[38;5;241;43m.\u001b[39;49m\u001b[43mnew_config\u001b[49m\u001b[43m(\u001b[49m\n\u001b[1;32m    210\u001b[0m \u001b[43m        \u001b[49m\u001b[38;5;124;43m'\u001b[39;49m\u001b[38;5;124;43mmatlab\u001b[39;49m\u001b[38;5;124;43m'\u001b[39;49m\u001b[43m,\u001b[49m\u001b[43m \u001b[49m\u001b[38;5;124;43m'\u001b[39;49m\u001b[38;5;124;43mglobal\u001b[39;49m\u001b[38;5;124;43m'\u001b[39;49m\u001b[43m,\u001b[49m\n\u001b[1;32m    211\u001b[0m \u001b[43m        \u001b[49m\u001b[43m{\u001b[49m\u001b[38;5;124;43m'\u001b[39;49m\u001b[38;5;124;43mmcr_directory\u001b[39;49m\u001b[38;5;124;43m'\u001b[39;49m\u001b[43m:\u001b[49m\n\u001b[1;32m    212\u001b[0m \u001b[43m            \u001b[49m\u001b[38;5;28;43mself\u001b[39;49m\u001b[38;5;241;43m.\u001b[39;49m\u001b[43mstudy_config\u001b[49m\u001b[38;5;241;43m.\u001b[39;49m\u001b[43mspm_directory\u001b[49m\u001b[43m}\u001b[49m\u001b[43m)\u001b[49m\n\u001b[1;32m    213\u001b[0m \u001b[38;5;28;01melse\u001b[39;00m:\n\u001b[1;32m    214\u001b[0m     config\u001b[38;5;241m.\u001b[39mmcr_directory \\\n\u001b[1;32m    215\u001b[0m         \u001b[38;5;241m=\u001b[39m \u001b[38;5;28mself\u001b[39m\u001b[38;5;241m.\u001b[39mstudy_config\u001b[38;5;241m.\u001b[39mspm_directory\n",
      "File \u001b[0;32m~/work/capsul/capsul/capsul/engine/settings.py:405\u001b[0m, in \u001b[0;36mSettingsSession.new_config\u001b[0;34m(self, module, environment, values)\u001b[0m\n\u001b[1;32m    403\u001b[0m document[Settings\u001b[38;5;241m.\u001b[39mconfig_id_field] \u001b[38;5;241m=\u001b[39m \u001b[38;5;124m'\u001b[39m\u001b[38;5;132;01m%s\u001b[39;00m\u001b[38;5;124m-\u001b[39m\u001b[38;5;132;01m%s\u001b[39;00m\u001b[38;5;124m'\u001b[39m \u001b[38;5;241m%\u001b[39m (\u001b[38;5;28mid\u001b[39m, environment)\n\u001b[1;32m    404\u001b[0m collection \u001b[38;5;241m=\u001b[39m \u001b[38;5;28mself\u001b[39m\u001b[38;5;241m.\u001b[39mcollection_name(module)\n\u001b[0;32m--> 405\u001b[0m \u001b[38;5;28;43mself\u001b[39;49m\u001b[38;5;241;43m.\u001b[39;49m\u001b[43m_dbs\u001b[49m\u001b[38;5;241;43m.\u001b[39;49m\u001b[43madd_document\u001b[49m\u001b[43m(\u001b[49m\u001b[43mcollection\u001b[49m\u001b[43m,\u001b[49m\u001b[43m \u001b[49m\u001b[43mdocument\u001b[49m\u001b[43m)\u001b[49m\n\u001b[1;32m    406\u001b[0m config \u001b[38;5;241m=\u001b[39m SettingsConfig(\n\u001b[1;32m    407\u001b[0m     \u001b[38;5;28mself\u001b[39m\u001b[38;5;241m.\u001b[39m_dbs, collection, \u001b[38;5;28mid\u001b[39m, environment,\n\u001b[1;32m    408\u001b[0m     notifiers\u001b[38;5;241m=\u001b[39m\u001b[38;5;28mself\u001b[39m\u001b[38;5;241m.\u001b[39mmodule_notifiers\u001b[38;5;241m.\u001b[39mget(Settings\u001b[38;5;241m.\u001b[39mmodule_name(module),\n\u001b[1;32m    409\u001b[0m                                         []))\n\u001b[1;32m    410\u001b[0m config\u001b[38;5;241m.\u001b[39mnotify()\n",
      "File \u001b[0;32m/opt/hostedtoolcache/Python/3.9.16/x64/lib/python3.9/site-packages/populse_db/database.py:762\u001b[0m, in \u001b[0;36mDatabaseSession.add_document\u001b[0;34m(self, collection, document, create_missing_fields, flush)\u001b[0m\n\u001b[1;32m    760\u001b[0m \u001b[38;5;28;01mif\u001b[39;00m \u001b[38;5;129;01mnot\u001b[39;00m \u001b[38;5;28misinstance\u001b[39m(document, \u001b[38;5;28mdict\u001b[39m):\n\u001b[1;32m    761\u001b[0m     document \u001b[38;5;241m=\u001b[39m {primary_key: document}\n\u001b[0;32m--> 762\u001b[0m \u001b[38;5;28;43mself\u001b[39;49m\u001b[38;5;241;43m.\u001b[39;49m\u001b[43mengine\u001b[49m\u001b[38;5;241;43m.\u001b[39;49m\u001b[43madd_document\u001b[49m\u001b[43m(\u001b[49m\u001b[43mcollection\u001b[49m\u001b[43m,\u001b[49m\u001b[43m \u001b[49m\u001b[43mdocument\u001b[49m\u001b[43m,\u001b[49m\u001b[43m \u001b[49m\u001b[43mcreate_missing_fields\u001b[49m\u001b[43m)\u001b[49m\n",
      "File \u001b[0;32m/opt/hostedtoolcache/Python/3.9.16/x64/lib/python3.9/site-packages/populse_db/engine/sqlite.py:361\u001b[0m, in \u001b[0;36mSQLiteEngine.add_document\u001b[0;34m(self, collection, document, create_missing_fields)\u001b[0m\n\u001b[1;32m    356\u001b[0m sql \u001b[38;5;241m=\u001b[39m \u001b[38;5;124m'\u001b[39m\u001b[38;5;124mINSERT INTO [\u001b[39m\u001b[38;5;132;01m%s\u001b[39;00m\u001b[38;5;124m] (\u001b[39m\u001b[38;5;132;01m%s\u001b[39;00m\u001b[38;5;124m) VALUES (\u001b[39m\u001b[38;5;132;01m%s\u001b[39;00m\u001b[38;5;124m)\u001b[39m\u001b[38;5;124m'\u001b[39m \u001b[38;5;241m%\u001b[39m (\n\u001b[1;32m    357\u001b[0m     table,\n\u001b[1;32m    358\u001b[0m     \u001b[38;5;124m'\u001b[39m\u001b[38;5;124m,\u001b[39m\u001b[38;5;124m'\u001b[39m\u001b[38;5;241m.\u001b[39mjoin(\u001b[38;5;124m'\u001b[39m\u001b[38;5;124m[\u001b[39m\u001b[38;5;132;01m%s\u001b[39;00m\u001b[38;5;124m]\u001b[39m\u001b[38;5;124m'\u001b[39m \u001b[38;5;241m%\u001b[39m i \u001b[38;5;28;01mfor\u001b[39;00m i \u001b[38;5;129;01min\u001b[39;00m column_values\u001b[38;5;241m.\u001b[39mkeys()),\n\u001b[1;32m    359\u001b[0m     \u001b[38;5;124m'\u001b[39m\u001b[38;5;124m,\u001b[39m\u001b[38;5;124m'\u001b[39m\u001b[38;5;241m.\u001b[39mjoin(\u001b[38;5;124m'\u001b[39m\u001b[38;5;124m?\u001b[39m\u001b[38;5;124m'\u001b[39m \u001b[38;5;28;01mfor\u001b[39;00m i \u001b[38;5;129;01min\u001b[39;00m column_values))\n\u001b[1;32m    360\u001b[0m \u001b[38;5;28;01mtry\u001b[39;00m:\n\u001b[0;32m--> 361\u001b[0m     \u001b[38;5;28;43mself\u001b[39;49m\u001b[38;5;241;43m.\u001b[39;49m\u001b[43mcursor\u001b[49m\u001b[38;5;241;43m.\u001b[39;49m\u001b[43mexecute\u001b[49m\u001b[43m(\u001b[49m\u001b[43msql\u001b[49m\u001b[43m,\u001b[49m\u001b[43m \u001b[49m\u001b[38;5;28;43mlist\u001b[39;49m\u001b[43m(\u001b[49m\u001b[43mcolumn_values\u001b[49m\u001b[38;5;241;43m.\u001b[39;49m\u001b[43mvalues\u001b[49m\u001b[43m(\u001b[49m\u001b[43m)\u001b[49m\u001b[43m)\u001b[49m\u001b[43m)\u001b[49m\n\u001b[1;32m    362\u001b[0m \u001b[38;5;28;01mexcept\u001b[39;00m sqlite3\u001b[38;5;241m.\u001b[39mIntegrityError \u001b[38;5;28;01mas\u001b[39;00m e:\n\u001b[1;32m    363\u001b[0m     \u001b[38;5;28;01mraise\u001b[39;00m \u001b[38;5;167;01mValueError\u001b[39;00m(\u001b[38;5;28mstr\u001b[39m(e))\n",
      "\u001b[0;31mInterfaceError\u001b[0m: Error binding parameter 1 - probably unsupported type."
     ]
    }
   ],
   "source": [
    "process.a = 40\n",
    "process.b = 2\n",
    "process()\n",
    "print(process.a, '+', process.b, '=', process.addition)\n"
   ]
  },
  {
   "cell_type": "markdown",
   "metadata": {
    "deletable": true,
    "editable": true
   },
   "source": [
    "<h3>Output files</h3>\n",
    "There is a particular case for output files: a file is a filename (string) and the file itself. When the file itself is an output, the filename may in some cases be an input, when the output filename is specified in advance, or an output when the filename itself is generated by the process and output by it. For the case output file + input filename, we have to specify that the filename is actually an input, and to which parameter it is attached:"
   ]
  },
  {
   "cell_type": "code",
   "execution_count": 8,
   "metadata": {
    "collapsed": true,
    "deletable": true,
    "editable": true,
    "execution": {
     "iopub.execute_input": "2023-06-08T11:04:14.735002Z",
     "iopub.status.busy": "2023-06-08T11:04:14.734744Z",
     "iopub.status.idle": "2023-06-08T11:04:14.740485Z",
     "shell.execute_reply": "2023-06-08T11:04:14.739687Z"
    }
   },
   "outputs": [],
   "source": [
    "@xml_process('''\n",
    "<process capsul_xml=\"2.0\">\n",
    "    <input name=\"a\" type=\"file\" doc=\"A file\"/>\n",
    "    <input name=\"b\" type=\"file\" doc=\"Another file\"/>\n",
    "    <output name=\"c\" type=\"file\" input_filename=\"c\" doc=\"output concatenated file\"/>\n",
    "</process>\n",
    "''')\n",
    "def cat(a, b, c):\n",
    "     with open(c, 'w') as f:\n",
    "         f.write(open(a).read())\n",
    "         f.write(open(b).read())\n",
    "\n",
    "process = get_process_instance('__main__.cat')"
   ]
  },
  {
   "cell_type": "markdown",
   "metadata": {
    "deletable": true,
    "editable": true
   },
   "source": [
    "<h2>Pipeline</h2>\n",
    "\n",
    "<p>A pipeline uses processes, or sub-pipelines, in order to define a full processing chain, with links between building blocks. A pipeline may be defined either using the Python API, as a Pipeline subclass, or using a XML definition file.\n",
    "</p>\n",
    "\n",
    "<h3>Pipeline API</h3>"
   ]
  },
  {
   "cell_type": "code",
   "execution_count": 9,
   "metadata": {
    "collapsed": true,
    "deletable": true,
    "editable": true,
    "execution": {
     "iopub.execute_input": "2023-06-08T11:04:14.744180Z",
     "iopub.status.busy": "2023-06-08T11:04:14.743902Z",
     "iopub.status.idle": "2023-06-08T11:04:14.753759Z",
     "shell.execute_reply": "2023-06-08T11:04:14.752897Z"
    }
   },
   "outputs": [],
   "source": [
    "from capsul.api import Pipeline\n",
    "\n",
    "class Pipeline1(Pipeline):\n",
    "\n",
    "    def pipeline_definition(self):\n",
    "        # Create processes\n",
    "        self.add_process(\"node1\", Process1())\n",
    "        self.add_process(\"node2\", Process2())\n",
    "        \n",
    "pipeline1 = Pipeline1()"
   ]
  },
  {
   "cell_type": "markdown",
   "metadata": {
    "deletable": true,
    "editable": true
   },
   "source": [
    "<h3>Viewing / debugging a pipeline</h3>\n",
    "<h4>Pipeline structure</h4>"
   ]
  },
  {
   "cell_type": "code",
   "execution_count": 10,
   "metadata": {
    "collapsed": true,
    "deletable": true,
    "editable": true,
    "execution": {
     "iopub.execute_input": "2023-06-08T11:04:14.758262Z",
     "iopub.status.busy": "2023-06-08T11:04:14.757846Z",
     "iopub.status.idle": "2023-06-08T11:04:14.764487Z",
     "shell.execute_reply": "2023-06-08T11:04:14.763643Z"
    }
   },
   "outputs": [],
   "source": [
    "if globals().get('use_gui', True):\n",
    "    import sys\n",
    "    # note that the qt backend may be either PyQt4 or PySide.\n",
    "    from soma.qt_gui.qt_backend import QtGui\n",
    "    from capsul.qt_gui.widgets import PipelineDevelopperView\n",
    "\n",
    "    # here we determine whether the Qt GUI is already running or not.\n",
    "    run_qt_loop = False\n",
    "    if QtGui.QApplication.instance() is None:\n",
    "        app = QtGui.QApplication(sys.argv)\n",
    "        run_qt_loop = True\n",
    "    else:\n",
    "        app = QtGui.QApplication.instance()\n",
    "    # in the following we will reuse this run_qt_loop variable for simplicity\n",
    "\n",
    "    # now the real thing for pipeline viewing    \n",
    "    view1 = PipelineDevelopperView(pipeline1)\n",
    "    view1.show()\n",
    "\n",
    "    if run_qt_loop:\n",
    "        print('close window to gon on...')\n",
    "        app.exec_()"
   ]
  },
  {
   "cell_type": "markdown",
   "metadata": {
    "deletable": true,
    "editable": true
   },
   "source": [
    "It should display something like this:\n",
    "![capsul pipeline view](images/capsul_pipeline1.jpg \"capsul pipeline view\")\n",
    "\n",
    "#### Entering parameters"
   ]
  },
  {
   "cell_type": "code",
   "execution_count": 11,
   "metadata": {
    "collapsed": true,
    "deletable": true,
    "editable": true,
    "execution": {
     "iopub.execute_input": "2023-06-08T11:04:14.768058Z",
     "iopub.status.busy": "2023-06-08T11:04:14.767824Z",
     "iopub.status.idle": "2023-06-08T11:04:14.772830Z",
     "shell.execute_reply": "2023-06-08T11:04:14.772066Z"
    }
   },
   "outputs": [],
   "source": [
    "if globals().get('use_gui', True):\n",
    "    from soma.qt_gui.controller_widget import ControllerWidget\n",
    "\n",
    "    controller1 = ControllerWidget(pipeline1, live=True)\n",
    "    controller1.show()\n",
    "    controller2 = ControllerWidget(pipeline1, live=True)\n",
    "    controller2.show()\n",
    "    if run_qt_loop:\n",
    "        app.exec_()"
   ]
  },
  {
   "cell_type": "markdown",
   "metadata": {
    "deletable": true,
    "editable": true
   },
   "source": [
    "![controller views](images/capsul_controller1.jpg \"controller views\")\n",
    "\n",
    "### Links and exportations"
   ]
  },
  {
   "cell_type": "code",
   "execution_count": 12,
   "metadata": {
    "collapsed": true,
    "deletable": true,
    "editable": true,
    "execution": {
     "iopub.execute_input": "2023-06-08T11:04:14.776253Z",
     "iopub.status.busy": "2023-06-08T11:04:14.775971Z",
     "iopub.status.idle": "2023-06-08T11:04:14.781019Z",
     "shell.execute_reply": "2023-06-08T11:04:14.780280Z"
    }
   },
   "outputs": [],
   "source": [
    "class Pipeline2(Pipeline):\n",
    "\n",
    "    def pipeline_definition(self):\n",
    "        # Create processes\n",
    "        self.add_process(\"node1\", Process1())\n",
    "        self.add_process(\"node2\", Process2())\n",
    "        # links\n",
    "        self.add_link('node2.a->node1.ff')\n",
    "        # custom exports\n",
    "        self.export_parameter(\"node2\", \"b\", \"node_string\")"
   ]
  },
  {
   "cell_type": "code",
   "execution_count": 13,
   "metadata": {
    "collapsed": true,
    "deletable": true,
    "editable": true,
    "execution": {
     "iopub.execute_input": "2023-06-08T11:04:14.784342Z",
     "iopub.status.busy": "2023-06-08T11:04:14.784072Z",
     "iopub.status.idle": "2023-06-08T11:04:14.792080Z",
     "shell.execute_reply": "2023-06-08T11:04:14.790913Z"
    }
   },
   "outputs": [],
   "source": [
    "pipeline2 = Pipeline2()\n",
    "if globals().get('use_gui', True):\n",
    "    view2 = PipelineDevelopperView(pipeline2)\n",
    "    view2.show()\n",
    "    if run_qt_loop:\n",
    "        app.exec_()"
   ]
  },
  {
   "cell_type": "markdown",
   "metadata": {
    "deletable": true,
    "editable": true
   },
   "source": [
    "![pipeline with links](images/capsul_pipeline2.jpg \"pipeline with links\")"
   ]
  },
  {
   "cell_type": "code",
   "execution_count": 14,
   "metadata": {
    "collapsed": false,
    "deletable": true,
    "editable": true,
    "execution": {
     "iopub.execute_input": "2023-06-08T11:04:14.798235Z",
     "iopub.status.busy": "2023-06-08T11:04:14.797899Z",
     "iopub.status.idle": "2023-06-08T11:04:14.939491Z",
     "shell.execute_reply": "2023-06-08T11:04:14.938551Z"
    }
   },
   "outputs": [
    {
     "ename": "InterfaceError",
     "evalue": "Error binding parameter 1 - probably unsupported type.",
     "output_type": "error",
     "traceback": [
      "\u001b[0;31m---------------------------------------------------------------------------\u001b[0m",
      "\u001b[0;31mInterfaceError\u001b[0m                            Traceback (most recent call last)",
      "Cell \u001b[0;32mIn[14], line 3\u001b[0m\n\u001b[1;32m      1\u001b[0m pipeline2\u001b[38;5;241m.\u001b[39mf \u001b[38;5;241m=\u001b[39m \u001b[38;5;241m13.2\u001b[39m\n\u001b[1;32m      2\u001b[0m pipeline2\u001b[38;5;241m.\u001b[39mnode_string \u001b[38;5;241m=\u001b[39m \u001b[38;5;124m\"\u001b[39m\u001b[38;5;124mblop\u001b[39m\u001b[38;5;124m\"\u001b[39m\n\u001b[0;32m----> 3\u001b[0m \u001b[43mpipeline2\u001b[49m\u001b[43m(\u001b[49m\u001b[43m)\u001b[49m\n",
      "File \u001b[0;32m~/work/capsul/capsul/capsul/process/process.py:305\u001b[0m, in \u001b[0;36mProcess.__call__\u001b[0;34m(self, **kwargs)\u001b[0m\n\u001b[1;32m    271\u001b[0m \u001b[38;5;250m\u001b[39m\u001b[38;5;124;03m\"\"\" Method to execute the Process.\u001b[39;00m\n\u001b[1;32m    272\u001b[0m \n\u001b[1;32m    273\u001b[0m \u001b[38;5;124;03mKeyword arguments may be passed to set process parameters.\u001b[39;00m\n\u001b[0;32m   (...)\u001b[0m\n\u001b[1;32m    302\u001b[0m \u001b[38;5;124;03m    contains all execution information.\u001b[39;00m\n\u001b[1;32m    303\u001b[0m \u001b[38;5;124;03m\"\"\"\u001b[39;00m\n\u001b[1;32m    304\u001b[0m \u001b[38;5;66;03m# Execute the process\u001b[39;00m\n\u001b[0;32m--> 305\u001b[0m returncode \u001b[38;5;241m=\u001b[39m \u001b[38;5;28;43mself\u001b[39;49m\u001b[38;5;241;43m.\u001b[39;49m\u001b[43mget_study_config\u001b[49m\u001b[43m(\u001b[49m\u001b[43m)\u001b[49m\u001b[38;5;241m.\u001b[39mrun(\u001b[38;5;28mself\u001b[39m, \u001b[38;5;241m*\u001b[39m\u001b[38;5;241m*\u001b[39mkwargs)\n\u001b[1;32m    306\u001b[0m \u001b[38;5;28;01mreturn\u001b[39;00m returncode\n",
      "File \u001b[0;32m~/work/capsul/capsul/capsul/process/process.py:1090\u001b[0m, in \u001b[0;36mProcess.get_study_config\u001b[0;34m(self)\u001b[0m\n\u001b[1;32m   1087\u001b[0m \u001b[38;5;28;01mif\u001b[39;00m \u001b[38;5;28mself\u001b[39m\u001b[38;5;241m.\u001b[39mstudy_config \u001b[38;5;129;01mis\u001b[39;00m \u001b[38;5;28;01mNone\u001b[39;00m:\n\u001b[1;32m   1088\u001b[0m     \u001b[38;5;66;03m# Import cannot be done on module due to circular dependencies\u001b[39;00m\n\u001b[1;32m   1089\u001b[0m     \u001b[38;5;28;01mfrom\u001b[39;00m \u001b[38;5;21;01mcapsul\u001b[39;00m\u001b[38;5;21;01m.\u001b[39;00m\u001b[38;5;21;01mstudy_config\u001b[39;00m\u001b[38;5;21;01m.\u001b[39;00m\u001b[38;5;21;01mstudy_config\u001b[39;00m \u001b[38;5;28;01mimport\u001b[39;00m default_study_config\n\u001b[0;32m-> 1090\u001b[0m     \u001b[38;5;28mself\u001b[39m\u001b[38;5;241m.\u001b[39mset_study_config(\u001b[43mdefault_study_config\u001b[49m\u001b[43m(\u001b[49m\u001b[43m)\u001b[49m)\n\u001b[1;32m   1091\u001b[0m \u001b[38;5;28;01mreturn\u001b[39;00m \u001b[38;5;28mself\u001b[39m\u001b[38;5;241m.\u001b[39mstudy_config\n",
      "File \u001b[0;32m~/work/capsul/capsul/capsul/study_config/study_config.py:762\u001b[0m, in \u001b[0;36mdefault_study_config\u001b[0;34m()\u001b[0m\n\u001b[1;32m    760\u001b[0m \u001b[38;5;28;01mglobal\u001b[39;00m _default_study_config\n\u001b[1;32m    761\u001b[0m \u001b[38;5;28;01mif\u001b[39;00m _default_study_config \u001b[38;5;129;01mis\u001b[39;00m \u001b[38;5;28;01mNone\u001b[39;00m:\n\u001b[0;32m--> 762\u001b[0m     _default_study_config \u001b[38;5;241m=\u001b[39m \u001b[43mStudyConfig\u001b[49m\u001b[43m(\u001b[49m\u001b[43m)\u001b[49m\n\u001b[1;32m    763\u001b[0m \u001b[38;5;28;01mreturn\u001b[39;00m _default_study_config\n",
      "File \u001b[0;32m~/work/capsul/capsul/capsul/study_config/study_config.py:225\u001b[0m, in \u001b[0;36mStudyConfig.__init__\u001b[0;34m(self, study_name, init_config, modules, engine, **override_config)\u001b[0m\n\u001b[1;32m    223\u001b[0m \u001b[38;5;28;01mfor\u001b[39;00m k, v \u001b[38;5;129;01min\u001b[39;00m six\u001b[38;5;241m.\u001b[39miteritems(config):\n\u001b[1;32m    224\u001b[0m     \u001b[38;5;28msetattr\u001b[39m(\u001b[38;5;28mself\u001b[39m, k, v)\n\u001b[0;32m--> 225\u001b[0m \u001b[38;5;28;43mself\u001b[39;49m\u001b[38;5;241;43m.\u001b[39;49m\u001b[43minitialize_modules\u001b[49m\u001b[43m(\u001b[49m\u001b[43m)\u001b[49m\n\u001b[1;32m    226\u001b[0m \u001b[38;5;28mself\u001b[39m\u001b[38;5;241m.\u001b[39mrun_lock \u001b[38;5;241m=\u001b[39m threading\u001b[38;5;241m.\u001b[39mRLock()\n\u001b[1;32m    227\u001b[0m \u001b[38;5;28mself\u001b[39m\u001b[38;5;241m.\u001b[39mrun_interruption_request \u001b[38;5;241m=\u001b[39m \u001b[38;5;28;01mFalse\u001b[39;00m\n",
      "File \u001b[0;32m~/work/capsul/capsul/capsul/study_config/study_config.py:256\u001b[0m, in \u001b[0;36mStudyConfig.initialize_modules\u001b[0;34m(self)\u001b[0m\n\u001b[1;32m    254\u001b[0m     \u001b[38;5;28;01mcontinue\u001b[39;00m\n\u001b[1;32m    255\u001b[0m \u001b[38;5;66;03m# Initialize a module\u001b[39;00m\n\u001b[0;32m--> 256\u001b[0m \u001b[43mmodule\u001b[49m\u001b[38;5;241;43m.\u001b[39;49m\u001b[43minitialize_module\u001b[49m\u001b[43m(\u001b[49m\u001b[43m)\u001b[49m\n\u001b[1;32m    257\u001b[0m module\u001b[38;5;241m.\u001b[39minitialize_callbacks()\n\u001b[1;32m    258\u001b[0m already_initialized\u001b[38;5;241m.\u001b[39madd(module_name)\n",
      "File \u001b[0;32m~/work/capsul/capsul/capsul/study_config/config_modules/spm_config.py:70\u001b[0m, in \u001b[0;36mSPMConfig.initialize_module\u001b[0;34m(self)\u001b[0m\n\u001b[1;32m     68\u001b[0m     \u001b[38;5;28mself\u001b[39m\u001b[38;5;241m.\u001b[39msync_from_engine()\n\u001b[1;32m     69\u001b[0m \u001b[38;5;28;01melse\u001b[39;00m:\n\u001b[0;32m---> 70\u001b[0m     \u001b[38;5;28;43mself\u001b[39;49m\u001b[38;5;241;43m.\u001b[39;49m\u001b[43msync_to_engine\u001b[49m\u001b[43m(\u001b[49m\u001b[43m)\u001b[49m\n\u001b[1;32m     71\u001b[0m \u001b[38;5;66;03m# this test aims to raise an exception in case of incorrect setting,\u001b[39;00m\n\u001b[1;32m     72\u001b[0m \u001b[38;5;66;03m# complying to capsul 2.x behavior.\u001b[39;00m\n\u001b[1;32m     73\u001b[0m \u001b[38;5;28;01mif\u001b[39;00m \u001b[38;5;28mself\u001b[39m\u001b[38;5;241m.\u001b[39mstudy_config\u001b[38;5;241m.\u001b[39muse_spm \u001b[38;5;129;01mis\u001b[39;00m \u001b[38;5;28;01mTrue\u001b[39;00m:\n",
      "File \u001b[0;32m~/work/capsul/capsul/capsul/study_config/config_modules/spm_config.py:209\u001b[0m, in \u001b[0;36mSPMConfig.sync_to_engine\u001b[0;34m(self)\u001b[0m\n\u001b[1;32m    205\u001b[0m config \u001b[38;5;241m=\u001b[39m session\u001b[38;5;241m.\u001b[39mconfig(\u001b[38;5;124m'\u001b[39m\u001b[38;5;124mmatlab\u001b[39m\u001b[38;5;124m'\u001b[39m, \u001b[38;5;124m'\u001b[39m\u001b[38;5;124mglobal\u001b[39m\u001b[38;5;124m'\u001b[39m,\n\u001b[1;32m    206\u001b[0m                         selection\u001b[38;5;241m=\u001b[39m\u001b[38;5;124m'\u001b[39m\u001b[38;5;132;01m%s\u001b[39;00m\u001b[38;5;124m == \u001b[39m\u001b[38;5;124m\"\u001b[39m\u001b[38;5;124mmatlab\u001b[39m\u001b[38;5;124m\"\u001b[39m\u001b[38;5;124m'\u001b[39m\n\u001b[1;32m    207\u001b[0m                         \u001b[38;5;241m%\u001b[39m cif)\n\u001b[1;32m    208\u001b[0m \u001b[38;5;28;01mif\u001b[39;00m config \u001b[38;5;129;01mis\u001b[39;00m \u001b[38;5;28;01mNone\u001b[39;00m:\n\u001b[0;32m--> 209\u001b[0m     \u001b[43msession\u001b[49m\u001b[38;5;241;43m.\u001b[39;49m\u001b[43mnew_config\u001b[49m\u001b[43m(\u001b[49m\n\u001b[1;32m    210\u001b[0m \u001b[43m        \u001b[49m\u001b[38;5;124;43m'\u001b[39;49m\u001b[38;5;124;43mmatlab\u001b[39;49m\u001b[38;5;124;43m'\u001b[39;49m\u001b[43m,\u001b[49m\u001b[43m \u001b[49m\u001b[38;5;124;43m'\u001b[39;49m\u001b[38;5;124;43mglobal\u001b[39;49m\u001b[38;5;124;43m'\u001b[39;49m\u001b[43m,\u001b[49m\n\u001b[1;32m    211\u001b[0m \u001b[43m        \u001b[49m\u001b[43m{\u001b[49m\u001b[38;5;124;43m'\u001b[39;49m\u001b[38;5;124;43mmcr_directory\u001b[39;49m\u001b[38;5;124;43m'\u001b[39;49m\u001b[43m:\u001b[49m\n\u001b[1;32m    212\u001b[0m \u001b[43m            \u001b[49m\u001b[38;5;28;43mself\u001b[39;49m\u001b[38;5;241;43m.\u001b[39;49m\u001b[43mstudy_config\u001b[49m\u001b[38;5;241;43m.\u001b[39;49m\u001b[43mspm_directory\u001b[49m\u001b[43m}\u001b[49m\u001b[43m)\u001b[49m\n\u001b[1;32m    213\u001b[0m \u001b[38;5;28;01melse\u001b[39;00m:\n\u001b[1;32m    214\u001b[0m     config\u001b[38;5;241m.\u001b[39mmcr_directory \\\n\u001b[1;32m    215\u001b[0m         \u001b[38;5;241m=\u001b[39m \u001b[38;5;28mself\u001b[39m\u001b[38;5;241m.\u001b[39mstudy_config\u001b[38;5;241m.\u001b[39mspm_directory\n",
      "File \u001b[0;32m~/work/capsul/capsul/capsul/engine/settings.py:405\u001b[0m, in \u001b[0;36mSettingsSession.new_config\u001b[0;34m(self, module, environment, values)\u001b[0m\n\u001b[1;32m    403\u001b[0m document[Settings\u001b[38;5;241m.\u001b[39mconfig_id_field] \u001b[38;5;241m=\u001b[39m \u001b[38;5;124m'\u001b[39m\u001b[38;5;132;01m%s\u001b[39;00m\u001b[38;5;124m-\u001b[39m\u001b[38;5;132;01m%s\u001b[39;00m\u001b[38;5;124m'\u001b[39m \u001b[38;5;241m%\u001b[39m (\u001b[38;5;28mid\u001b[39m, environment)\n\u001b[1;32m    404\u001b[0m collection \u001b[38;5;241m=\u001b[39m \u001b[38;5;28mself\u001b[39m\u001b[38;5;241m.\u001b[39mcollection_name(module)\n\u001b[0;32m--> 405\u001b[0m \u001b[38;5;28;43mself\u001b[39;49m\u001b[38;5;241;43m.\u001b[39;49m\u001b[43m_dbs\u001b[49m\u001b[38;5;241;43m.\u001b[39;49m\u001b[43madd_document\u001b[49m\u001b[43m(\u001b[49m\u001b[43mcollection\u001b[49m\u001b[43m,\u001b[49m\u001b[43m \u001b[49m\u001b[43mdocument\u001b[49m\u001b[43m)\u001b[49m\n\u001b[1;32m    406\u001b[0m config \u001b[38;5;241m=\u001b[39m SettingsConfig(\n\u001b[1;32m    407\u001b[0m     \u001b[38;5;28mself\u001b[39m\u001b[38;5;241m.\u001b[39m_dbs, collection, \u001b[38;5;28mid\u001b[39m, environment,\n\u001b[1;32m    408\u001b[0m     notifiers\u001b[38;5;241m=\u001b[39m\u001b[38;5;28mself\u001b[39m\u001b[38;5;241m.\u001b[39mmodule_notifiers\u001b[38;5;241m.\u001b[39mget(Settings\u001b[38;5;241m.\u001b[39mmodule_name(module),\n\u001b[1;32m    409\u001b[0m                                         []))\n\u001b[1;32m    410\u001b[0m config\u001b[38;5;241m.\u001b[39mnotify()\n",
      "File \u001b[0;32m/opt/hostedtoolcache/Python/3.9.16/x64/lib/python3.9/site-packages/populse_db/database.py:762\u001b[0m, in \u001b[0;36mDatabaseSession.add_document\u001b[0;34m(self, collection, document, create_missing_fields, flush)\u001b[0m\n\u001b[1;32m    760\u001b[0m \u001b[38;5;28;01mif\u001b[39;00m \u001b[38;5;129;01mnot\u001b[39;00m \u001b[38;5;28misinstance\u001b[39m(document, \u001b[38;5;28mdict\u001b[39m):\n\u001b[1;32m    761\u001b[0m     document \u001b[38;5;241m=\u001b[39m {primary_key: document}\n\u001b[0;32m--> 762\u001b[0m \u001b[38;5;28;43mself\u001b[39;49m\u001b[38;5;241;43m.\u001b[39;49m\u001b[43mengine\u001b[49m\u001b[38;5;241;43m.\u001b[39;49m\u001b[43madd_document\u001b[49m\u001b[43m(\u001b[49m\u001b[43mcollection\u001b[49m\u001b[43m,\u001b[49m\u001b[43m \u001b[49m\u001b[43mdocument\u001b[49m\u001b[43m,\u001b[49m\u001b[43m \u001b[49m\u001b[43mcreate_missing_fields\u001b[49m\u001b[43m)\u001b[49m\n",
      "File \u001b[0;32m/opt/hostedtoolcache/Python/3.9.16/x64/lib/python3.9/site-packages/populse_db/engine/sqlite.py:361\u001b[0m, in \u001b[0;36mSQLiteEngine.add_document\u001b[0;34m(self, collection, document, create_missing_fields)\u001b[0m\n\u001b[1;32m    356\u001b[0m sql \u001b[38;5;241m=\u001b[39m \u001b[38;5;124m'\u001b[39m\u001b[38;5;124mINSERT INTO [\u001b[39m\u001b[38;5;132;01m%s\u001b[39;00m\u001b[38;5;124m] (\u001b[39m\u001b[38;5;132;01m%s\u001b[39;00m\u001b[38;5;124m) VALUES (\u001b[39m\u001b[38;5;132;01m%s\u001b[39;00m\u001b[38;5;124m)\u001b[39m\u001b[38;5;124m'\u001b[39m \u001b[38;5;241m%\u001b[39m (\n\u001b[1;32m    357\u001b[0m     table,\n\u001b[1;32m    358\u001b[0m     \u001b[38;5;124m'\u001b[39m\u001b[38;5;124m,\u001b[39m\u001b[38;5;124m'\u001b[39m\u001b[38;5;241m.\u001b[39mjoin(\u001b[38;5;124m'\u001b[39m\u001b[38;5;124m[\u001b[39m\u001b[38;5;132;01m%s\u001b[39;00m\u001b[38;5;124m]\u001b[39m\u001b[38;5;124m'\u001b[39m \u001b[38;5;241m%\u001b[39m i \u001b[38;5;28;01mfor\u001b[39;00m i \u001b[38;5;129;01min\u001b[39;00m column_values\u001b[38;5;241m.\u001b[39mkeys()),\n\u001b[1;32m    359\u001b[0m     \u001b[38;5;124m'\u001b[39m\u001b[38;5;124m,\u001b[39m\u001b[38;5;124m'\u001b[39m\u001b[38;5;241m.\u001b[39mjoin(\u001b[38;5;124m'\u001b[39m\u001b[38;5;124m?\u001b[39m\u001b[38;5;124m'\u001b[39m \u001b[38;5;28;01mfor\u001b[39;00m i \u001b[38;5;129;01min\u001b[39;00m column_values))\n\u001b[1;32m    360\u001b[0m \u001b[38;5;28;01mtry\u001b[39;00m:\n\u001b[0;32m--> 361\u001b[0m     \u001b[38;5;28;43mself\u001b[39;49m\u001b[38;5;241;43m.\u001b[39;49m\u001b[43mcursor\u001b[49m\u001b[38;5;241;43m.\u001b[39;49m\u001b[43mexecute\u001b[49m\u001b[43m(\u001b[49m\u001b[43msql\u001b[49m\u001b[43m,\u001b[49m\u001b[43m \u001b[49m\u001b[38;5;28;43mlist\u001b[39;49m\u001b[43m(\u001b[49m\u001b[43mcolumn_values\u001b[49m\u001b[38;5;241;43m.\u001b[39;49m\u001b[43mvalues\u001b[49m\u001b[43m(\u001b[49m\u001b[43m)\u001b[49m\u001b[43m)\u001b[49m\u001b[43m)\u001b[49m\n\u001b[1;32m    362\u001b[0m \u001b[38;5;28;01mexcept\u001b[39;00m sqlite3\u001b[38;5;241m.\u001b[39mIntegrityError \u001b[38;5;28;01mas\u001b[39;00m e:\n\u001b[1;32m    363\u001b[0m     \u001b[38;5;28;01mraise\u001b[39;00m \u001b[38;5;167;01mValueError\u001b[39;00m(\u001b[38;5;28mstr\u001b[39m(e))\n",
      "\u001b[0;31mInterfaceError\u001b[0m: Error binding parameter 1 - probably unsupported type."
     ]
    }
   ],
   "source": [
    "pipeline2.f = 13.2\n",
    "pipeline2.node_string = \"blop\"\n",
    "pipeline2()"
   ]
  },
  {
   "cell_type": "markdown",
   "metadata": {
    "deletable": true,
    "editable": true
   },
   "source": [
    "<h3>Defining a Pipeline from XML a file</h3>\n",
    "\n",
    "A Pipeline can be described from an xml file. For the documentation of the description glossary, please refer to the capsul documentation. In the following example we will use the 'xml_pipeline.xml' test description. See <a href=\"http://populse.github.io/capsul/user_guide_tree/xml_spec.html\">XML specifications</a> for more information."
   ]
  },
  {
   "cell_type": "code",
   "execution_count": 15,
   "metadata": {
    "collapsed": false,
    "deletable": true,
    "editable": true,
    "execution": {
     "iopub.execute_input": "2023-06-08T11:04:14.943913Z",
     "iopub.status.busy": "2023-06-08T11:04:14.943612Z",
     "iopub.status.idle": "2023-06-08T11:04:14.953205Z",
     "shell.execute_reply": "2023-06-08T11:04:14.952228Z"
    },
    "scrolled": false
   },
   "outputs": [
    {
     "name": "stdout",
     "output_type": "stream",
     "text": [
      "<pipeline>\n",
      "    <doc>\n",
      "        Auto Generated Pipeline Test\n",
      "    </doc>\n",
      "    <process name=\"p1\"\n",
      "             module=\"capsul.process.test.test_load_from_description.a_function_to_wrap\">\n",
      "        <set name=\"list_of_str\" value=\"['test']\"/>\n",
      "    </process>\n",
      "    <process name=\"p2\"\n",
      "             module=\"capsul.process.test.test_load_from_description.a_function_to_wrap\"/>\n",
      "    <link source=\"p1.string\" dest=\"p2.fname\"/>\n",
      "    <link source=\"pdirectory\" dest=\"p2.directory\"/>\n",
      "    <link source=\"value\" dest=\"p2.value\"/>\n",
      "    <link source=\"enum\" dest=\"p2.enum\"/>\n",
      "    <link source=\"list_of_str\" dest=\"p2.list_of_str\"/>\n",
      "    <link source=\"value\" dest=\"p1.value\"/>\n",
      "    <link source=\"enum\" dest=\"p1.enum\"/>\n",
      "    <link source=\"fname\" dest=\"p1.fname\"/>\n",
      "    <link source=\"list_of_str\" dest=\"p1.list_of_str\"/>\n",
      "    <link source=\"pdirectory\" dest=\"p1.directory\"/>\n",
      "    <link dest=\"out1\" source=\"p2.string\"/>\n",
      "    <gui>\n",
      "        <position name=\"inputs\" x=\"0\" y=\"0\"/>\n",
      "        <position name=\"p1\" x=\"200\" y=\"200\"/>\n",
      "        <position name=\"p2\" x=\"400\" y=\"-200\"/>\n",
      "        <position name=\"outputs\" x=\"600\" y=\"0\"/>\n",
      "        <zoom level=\"1\"/> \n",
      "    </gui>\n",
      "</pipeline>\n",
      "\n"
     ]
    }
   ],
   "source": [
    "import os\n",
    "import capsul.process.test as test\n",
    "\n",
    "xmldesc = os.path.join(os.path.dirname(test.__file__), \"xml_pipeline.xml\")\n",
    "with open(xmldesc, \"r\") as openfile:\n",
    "    print(\"\".join(openfile.readlines()))"
   ]
  },
  {
   "cell_type": "markdown",
   "metadata": {
    "deletable": true,
    "editable": true
   },
   "source": [
    "Two building blocks are connected in this example. We will soon have a graphical representation of the pipeline, which in turn will clarify the xml sections. But first we must create a Pipeline from this xml description:"
   ]
  },
  {
   "cell_type": "code",
   "execution_count": 16,
   "metadata": {
    "collapsed": false,
    "deletable": true,
    "editable": true,
    "execution": {
     "iopub.execute_input": "2023-06-08T11:04:14.958982Z",
     "iopub.status.busy": "2023-06-08T11:04:14.958452Z",
     "iopub.status.idle": "2023-06-08T11:04:14.990179Z",
     "shell.execute_reply": "2023-06-08T11:04:14.989427Z"
    }
   },
   "outputs": [
    {
     "name": "stdout",
     "output_type": "stream",
     "text": [
      "\n",
      "Auto Generated Pipeline Test\n",
      "\n",
      ".. note::\n",
      "\n",
      "    * Type 'ProcessMeta.help()' for a full description of this process parameters.\n",
      "    * Type '<ProcessMeta>.get_input_spec()' for a full description of this process input trait types.\n",
      "    * Type '<ProcessMeta>.get_output_spec()' for a full description of this process output trait types.\n",
      "\n",
      "\n",
      "Inputs\n",
      "~~~~~~\n",
      "\n",
      "[Mandatory]\n",
      "\n",
      "nodes_activation: a legal value (['ControllerTrait'] - mandatory)\n",
      "    No description.\n",
      "pdirectory: a string or os.PathLike object (['Directory'] - mandatory)\n",
      "    test\n",
      "value: a float (['Float'] - mandatory)\n",
      "    test\n",
      "enum: a string (['String'] - mandatory)\n",
      "    test\n",
      "list_of_str: a legal value (['List_String'] - mandatory)\n",
      "    test\n",
      "fname: a string or os.PathLike object (['File'] - mandatory)\n",
      "    test\n",
      "\n",
      "Outputs\n",
      "~~~~~~~\n",
      "\n",
      "out1: a string (['String'] - mandatory)\n",
      "    test\n",
      "\n"
     ]
    }
   ],
   "source": [
    "from capsul.api import get_process_instance\n",
    "\n",
    "xmlpipe = get_process_instance(\"capsul.process.test.xml_pipeline\")\n",
    "xmlpipe.help()"
   ]
  },
  {
   "cell_type": "markdown",
   "metadata": {
    "deletable": true,
    "editable": true
   },
   "source": [
    "One major advantage of the capsul pipeline system is to be able to represent graphically the processing sequence:"
   ]
  },
  {
   "cell_type": "code",
   "execution_count": 17,
   "metadata": {
    "collapsed": true,
    "deletable": true,
    "editable": true,
    "execution": {
     "iopub.execute_input": "2023-06-08T11:04:14.993240Z",
     "iopub.status.busy": "2023-06-08T11:04:14.992997Z",
     "iopub.status.idle": "2023-06-08T11:04:14.997828Z",
     "shell.execute_reply": "2023-06-08T11:04:14.997074Z"
    }
   },
   "outputs": [],
   "source": [
    "if globals().get('use_gui', True):\n",
    "    import sys\n",
    "    from soma.qt_gui.qt_backend import QtGui\n",
    "    from capsul.qt_gui.widgets import PipelineDevelopperView\n",
    "    from soma.qt_gui.controller_widget import ControllerWidget\n",
    "\n",
    "    view = PipelineDevelopperView(xmlpipe)\n",
    "    controller = ControllerWidget(xmlpipe, live=True)\n",
    "    view.show()\n",
    "    controller.show()\n",
    "    if run_qt_loop:\n",
    "        app.exec_()"
   ]
  },
  {
   "cell_type": "markdown",
   "metadata": {
    "deletable": true,
    "editable": true
   },
   "source": [
    "![xml pipeline](images/capsul_pipeline_xml1.jpg \"xml pipeline\")\n",
    "![xml pipeline controller](images/capsul_pipeline_xml1_controller.jpg \"xml pipeline controller\")\n",
    "\n",
    "## Switches\n",
    "\n",
    "In Capsul it is possible to define a building block which aims to select a sequence of processings. It is done with a Switch building block as follows:\n",
    "\n",
    "### Using the Python API"
   ]
  },
  {
   "cell_type": "code",
   "execution_count": 18,
   "metadata": {
    "collapsed": true,
    "deletable": true,
    "editable": true,
    "execution": {
     "iopub.execute_input": "2023-06-08T11:04:15.000947Z",
     "iopub.status.busy": "2023-06-08T11:04:15.000636Z",
     "iopub.status.idle": "2023-06-08T11:04:15.005725Z",
     "shell.execute_reply": "2023-06-08T11:04:15.004942Z"
    }
   },
   "outputs": [],
   "source": [
    "class Pipeline3(Pipeline):\n",
    "    \n",
    "    def pipeline_definition(self):\n",
    "        # Create processes\n",
    "        self.add_process(\"node1\", Process1())\n",
    "        self.add_process(\"node2\", Process2())\n",
    "        self.add_switch(\"switch\", [\"case1\", \"case2\"], [\"output\"])\n",
    "        #links\n",
    "        self.add_link(\"node1.out->switch.case1_switch_output\")\n",
    "        self.add_link(\"node2.a->switch.case2_switch_output\")"
   ]
  },
  {
   "cell_type": "code",
   "execution_count": 19,
   "metadata": {
    "collapsed": true,
    "deletable": true,
    "editable": true,
    "execution": {
     "iopub.execute_input": "2023-06-08T11:04:15.008933Z",
     "iopub.status.busy": "2023-06-08T11:04:15.008679Z",
     "iopub.status.idle": "2023-06-08T11:04:15.020682Z",
     "shell.execute_reply": "2023-06-08T11:04:15.019802Z"
    }
   },
   "outputs": [],
   "source": [
    "pipeline3 = Pipeline3()\n",
    "if globals().get('use_gui', True):\n",
    "    view3 = PipelineDevelopperView(pipeline3, allow_open_controller=True, show_sub_pipelines=True)\n",
    "    view3.show()\n",
    "    if run_qt_loop:\n",
    "        app.exec_()"
   ]
  },
  {
   "cell_type": "markdown",
   "metadata": {
    "deletable": true,
    "editable": true
   },
   "source": [
    "![pipeline3](images/capsul_pipeline3.jpg \"pipeline3\")"
   ]
  },
  {
   "cell_type": "code",
   "execution_count": 20,
   "metadata": {
    "collapsed": true,
    "deletable": true,
    "editable": true,
    "execution": {
     "iopub.execute_input": "2023-06-08T11:04:15.025016Z",
     "iopub.status.busy": "2023-06-08T11:04:15.024711Z",
     "iopub.status.idle": "2023-06-08T11:04:15.029635Z",
     "shell.execute_reply": "2023-06-08T11:04:15.028737Z"
    }
   },
   "outputs": [],
   "source": [
    "pipeline3.switch = \"case2\"\n",
    "\n",
    "if globals().get('use_gui', True):\n",
    "    view3.show()\n",
    "    if run_qt_loop:\n",
    "        app.exec_()"
   ]
  },
  {
   "cell_type": "code",
   "execution_count": 21,
   "metadata": {
    "collapsed": true,
    "deletable": true,
    "editable": true,
    "execution": {
     "iopub.execute_input": "2023-06-08T11:04:15.033445Z",
     "iopub.status.busy": "2023-06-08T11:04:15.032913Z",
     "iopub.status.idle": "2023-06-08T11:04:15.184245Z",
     "shell.execute_reply": "2023-06-08T11:04:15.183206Z"
    }
   },
   "outputs": [
    {
     "ename": "InterfaceError",
     "evalue": "Error binding parameter 1 - probably unsupported type.",
     "output_type": "error",
     "traceback": [
      "\u001b[0;31m---------------------------------------------------------------------------\u001b[0m",
      "\u001b[0;31mInterfaceError\u001b[0m                            Traceback (most recent call last)",
      "Cell \u001b[0;32mIn[21], line 1\u001b[0m\n\u001b[0;32m----> 1\u001b[0m \u001b[43mpipeline3\u001b[49m\u001b[43m(\u001b[49m\u001b[43mb\u001b[49m\u001b[38;5;241;43m=\u001b[39;49m\u001b[38;5;124;43m'\u001b[39;49m\u001b[38;5;124;43myup\u001b[39;49m\u001b[38;5;124;43m'\u001b[39;49m\u001b[43m)\u001b[49m\n",
      "File \u001b[0;32m~/work/capsul/capsul/capsul/process/process.py:305\u001b[0m, in \u001b[0;36mProcess.__call__\u001b[0;34m(self, **kwargs)\u001b[0m\n\u001b[1;32m    271\u001b[0m \u001b[38;5;250m\u001b[39m\u001b[38;5;124;03m\"\"\" Method to execute the Process.\u001b[39;00m\n\u001b[1;32m    272\u001b[0m \n\u001b[1;32m    273\u001b[0m \u001b[38;5;124;03mKeyword arguments may be passed to set process parameters.\u001b[39;00m\n\u001b[0;32m   (...)\u001b[0m\n\u001b[1;32m    302\u001b[0m \u001b[38;5;124;03m    contains all execution information.\u001b[39;00m\n\u001b[1;32m    303\u001b[0m \u001b[38;5;124;03m\"\"\"\u001b[39;00m\n\u001b[1;32m    304\u001b[0m \u001b[38;5;66;03m# Execute the process\u001b[39;00m\n\u001b[0;32m--> 305\u001b[0m returncode \u001b[38;5;241m=\u001b[39m \u001b[38;5;28;43mself\u001b[39;49m\u001b[38;5;241;43m.\u001b[39;49m\u001b[43mget_study_config\u001b[49m\u001b[43m(\u001b[49m\u001b[43m)\u001b[49m\u001b[38;5;241m.\u001b[39mrun(\u001b[38;5;28mself\u001b[39m, \u001b[38;5;241m*\u001b[39m\u001b[38;5;241m*\u001b[39mkwargs)\n\u001b[1;32m    306\u001b[0m \u001b[38;5;28;01mreturn\u001b[39;00m returncode\n",
      "File \u001b[0;32m~/work/capsul/capsul/capsul/process/process.py:1090\u001b[0m, in \u001b[0;36mProcess.get_study_config\u001b[0;34m(self)\u001b[0m\n\u001b[1;32m   1087\u001b[0m \u001b[38;5;28;01mif\u001b[39;00m \u001b[38;5;28mself\u001b[39m\u001b[38;5;241m.\u001b[39mstudy_config \u001b[38;5;129;01mis\u001b[39;00m \u001b[38;5;28;01mNone\u001b[39;00m:\n\u001b[1;32m   1088\u001b[0m     \u001b[38;5;66;03m# Import cannot be done on module due to circular dependencies\u001b[39;00m\n\u001b[1;32m   1089\u001b[0m     \u001b[38;5;28;01mfrom\u001b[39;00m \u001b[38;5;21;01mcapsul\u001b[39;00m\u001b[38;5;21;01m.\u001b[39;00m\u001b[38;5;21;01mstudy_config\u001b[39;00m\u001b[38;5;21;01m.\u001b[39;00m\u001b[38;5;21;01mstudy_config\u001b[39;00m \u001b[38;5;28;01mimport\u001b[39;00m default_study_config\n\u001b[0;32m-> 1090\u001b[0m     \u001b[38;5;28mself\u001b[39m\u001b[38;5;241m.\u001b[39mset_study_config(\u001b[43mdefault_study_config\u001b[49m\u001b[43m(\u001b[49m\u001b[43m)\u001b[49m)\n\u001b[1;32m   1091\u001b[0m \u001b[38;5;28;01mreturn\u001b[39;00m \u001b[38;5;28mself\u001b[39m\u001b[38;5;241m.\u001b[39mstudy_config\n",
      "File \u001b[0;32m~/work/capsul/capsul/capsul/study_config/study_config.py:762\u001b[0m, in \u001b[0;36mdefault_study_config\u001b[0;34m()\u001b[0m\n\u001b[1;32m    760\u001b[0m \u001b[38;5;28;01mglobal\u001b[39;00m _default_study_config\n\u001b[1;32m    761\u001b[0m \u001b[38;5;28;01mif\u001b[39;00m _default_study_config \u001b[38;5;129;01mis\u001b[39;00m \u001b[38;5;28;01mNone\u001b[39;00m:\n\u001b[0;32m--> 762\u001b[0m     _default_study_config \u001b[38;5;241m=\u001b[39m \u001b[43mStudyConfig\u001b[49m\u001b[43m(\u001b[49m\u001b[43m)\u001b[49m\n\u001b[1;32m    763\u001b[0m \u001b[38;5;28;01mreturn\u001b[39;00m _default_study_config\n",
      "File \u001b[0;32m~/work/capsul/capsul/capsul/study_config/study_config.py:225\u001b[0m, in \u001b[0;36mStudyConfig.__init__\u001b[0;34m(self, study_name, init_config, modules, engine, **override_config)\u001b[0m\n\u001b[1;32m    223\u001b[0m \u001b[38;5;28;01mfor\u001b[39;00m k, v \u001b[38;5;129;01min\u001b[39;00m six\u001b[38;5;241m.\u001b[39miteritems(config):\n\u001b[1;32m    224\u001b[0m     \u001b[38;5;28msetattr\u001b[39m(\u001b[38;5;28mself\u001b[39m, k, v)\n\u001b[0;32m--> 225\u001b[0m \u001b[38;5;28;43mself\u001b[39;49m\u001b[38;5;241;43m.\u001b[39;49m\u001b[43minitialize_modules\u001b[49m\u001b[43m(\u001b[49m\u001b[43m)\u001b[49m\n\u001b[1;32m    226\u001b[0m \u001b[38;5;28mself\u001b[39m\u001b[38;5;241m.\u001b[39mrun_lock \u001b[38;5;241m=\u001b[39m threading\u001b[38;5;241m.\u001b[39mRLock()\n\u001b[1;32m    227\u001b[0m \u001b[38;5;28mself\u001b[39m\u001b[38;5;241m.\u001b[39mrun_interruption_request \u001b[38;5;241m=\u001b[39m \u001b[38;5;28;01mFalse\u001b[39;00m\n",
      "File \u001b[0;32m~/work/capsul/capsul/capsul/study_config/study_config.py:256\u001b[0m, in \u001b[0;36mStudyConfig.initialize_modules\u001b[0;34m(self)\u001b[0m\n\u001b[1;32m    254\u001b[0m     \u001b[38;5;28;01mcontinue\u001b[39;00m\n\u001b[1;32m    255\u001b[0m \u001b[38;5;66;03m# Initialize a module\u001b[39;00m\n\u001b[0;32m--> 256\u001b[0m \u001b[43mmodule\u001b[49m\u001b[38;5;241;43m.\u001b[39;49m\u001b[43minitialize_module\u001b[49m\u001b[43m(\u001b[49m\u001b[43m)\u001b[49m\n\u001b[1;32m    257\u001b[0m module\u001b[38;5;241m.\u001b[39minitialize_callbacks()\n\u001b[1;32m    258\u001b[0m already_initialized\u001b[38;5;241m.\u001b[39madd(module_name)\n",
      "File \u001b[0;32m~/work/capsul/capsul/capsul/study_config/config_modules/spm_config.py:70\u001b[0m, in \u001b[0;36mSPMConfig.initialize_module\u001b[0;34m(self)\u001b[0m\n\u001b[1;32m     68\u001b[0m     \u001b[38;5;28mself\u001b[39m\u001b[38;5;241m.\u001b[39msync_from_engine()\n\u001b[1;32m     69\u001b[0m \u001b[38;5;28;01melse\u001b[39;00m:\n\u001b[0;32m---> 70\u001b[0m     \u001b[38;5;28;43mself\u001b[39;49m\u001b[38;5;241;43m.\u001b[39;49m\u001b[43msync_to_engine\u001b[49m\u001b[43m(\u001b[49m\u001b[43m)\u001b[49m\n\u001b[1;32m     71\u001b[0m \u001b[38;5;66;03m# this test aims to raise an exception in case of incorrect setting,\u001b[39;00m\n\u001b[1;32m     72\u001b[0m \u001b[38;5;66;03m# complying to capsul 2.x behavior.\u001b[39;00m\n\u001b[1;32m     73\u001b[0m \u001b[38;5;28;01mif\u001b[39;00m \u001b[38;5;28mself\u001b[39m\u001b[38;5;241m.\u001b[39mstudy_config\u001b[38;5;241m.\u001b[39muse_spm \u001b[38;5;129;01mis\u001b[39;00m \u001b[38;5;28;01mTrue\u001b[39;00m:\n",
      "File \u001b[0;32m~/work/capsul/capsul/capsul/study_config/config_modules/spm_config.py:209\u001b[0m, in \u001b[0;36mSPMConfig.sync_to_engine\u001b[0;34m(self)\u001b[0m\n\u001b[1;32m    205\u001b[0m config \u001b[38;5;241m=\u001b[39m session\u001b[38;5;241m.\u001b[39mconfig(\u001b[38;5;124m'\u001b[39m\u001b[38;5;124mmatlab\u001b[39m\u001b[38;5;124m'\u001b[39m, \u001b[38;5;124m'\u001b[39m\u001b[38;5;124mglobal\u001b[39m\u001b[38;5;124m'\u001b[39m,\n\u001b[1;32m    206\u001b[0m                         selection\u001b[38;5;241m=\u001b[39m\u001b[38;5;124m'\u001b[39m\u001b[38;5;132;01m%s\u001b[39;00m\u001b[38;5;124m == \u001b[39m\u001b[38;5;124m\"\u001b[39m\u001b[38;5;124mmatlab\u001b[39m\u001b[38;5;124m\"\u001b[39m\u001b[38;5;124m'\u001b[39m\n\u001b[1;32m    207\u001b[0m                         \u001b[38;5;241m%\u001b[39m cif)\n\u001b[1;32m    208\u001b[0m \u001b[38;5;28;01mif\u001b[39;00m config \u001b[38;5;129;01mis\u001b[39;00m \u001b[38;5;28;01mNone\u001b[39;00m:\n\u001b[0;32m--> 209\u001b[0m     \u001b[43msession\u001b[49m\u001b[38;5;241;43m.\u001b[39;49m\u001b[43mnew_config\u001b[49m\u001b[43m(\u001b[49m\n\u001b[1;32m    210\u001b[0m \u001b[43m        \u001b[49m\u001b[38;5;124;43m'\u001b[39;49m\u001b[38;5;124;43mmatlab\u001b[39;49m\u001b[38;5;124;43m'\u001b[39;49m\u001b[43m,\u001b[49m\u001b[43m \u001b[49m\u001b[38;5;124;43m'\u001b[39;49m\u001b[38;5;124;43mglobal\u001b[39;49m\u001b[38;5;124;43m'\u001b[39;49m\u001b[43m,\u001b[49m\n\u001b[1;32m    211\u001b[0m \u001b[43m        \u001b[49m\u001b[43m{\u001b[49m\u001b[38;5;124;43m'\u001b[39;49m\u001b[38;5;124;43mmcr_directory\u001b[39;49m\u001b[38;5;124;43m'\u001b[39;49m\u001b[43m:\u001b[49m\n\u001b[1;32m    212\u001b[0m \u001b[43m            \u001b[49m\u001b[38;5;28;43mself\u001b[39;49m\u001b[38;5;241;43m.\u001b[39;49m\u001b[43mstudy_config\u001b[49m\u001b[38;5;241;43m.\u001b[39;49m\u001b[43mspm_directory\u001b[49m\u001b[43m}\u001b[49m\u001b[43m)\u001b[49m\n\u001b[1;32m    213\u001b[0m \u001b[38;5;28;01melse\u001b[39;00m:\n\u001b[1;32m    214\u001b[0m     config\u001b[38;5;241m.\u001b[39mmcr_directory \\\n\u001b[1;32m    215\u001b[0m         \u001b[38;5;241m=\u001b[39m \u001b[38;5;28mself\u001b[39m\u001b[38;5;241m.\u001b[39mstudy_config\u001b[38;5;241m.\u001b[39mspm_directory\n",
      "File \u001b[0;32m~/work/capsul/capsul/capsul/engine/settings.py:405\u001b[0m, in \u001b[0;36mSettingsSession.new_config\u001b[0;34m(self, module, environment, values)\u001b[0m\n\u001b[1;32m    403\u001b[0m document[Settings\u001b[38;5;241m.\u001b[39mconfig_id_field] \u001b[38;5;241m=\u001b[39m \u001b[38;5;124m'\u001b[39m\u001b[38;5;132;01m%s\u001b[39;00m\u001b[38;5;124m-\u001b[39m\u001b[38;5;132;01m%s\u001b[39;00m\u001b[38;5;124m'\u001b[39m \u001b[38;5;241m%\u001b[39m (\u001b[38;5;28mid\u001b[39m, environment)\n\u001b[1;32m    404\u001b[0m collection \u001b[38;5;241m=\u001b[39m \u001b[38;5;28mself\u001b[39m\u001b[38;5;241m.\u001b[39mcollection_name(module)\n\u001b[0;32m--> 405\u001b[0m \u001b[38;5;28;43mself\u001b[39;49m\u001b[38;5;241;43m.\u001b[39;49m\u001b[43m_dbs\u001b[49m\u001b[38;5;241;43m.\u001b[39;49m\u001b[43madd_document\u001b[49m\u001b[43m(\u001b[49m\u001b[43mcollection\u001b[49m\u001b[43m,\u001b[49m\u001b[43m \u001b[49m\u001b[43mdocument\u001b[49m\u001b[43m)\u001b[49m\n\u001b[1;32m    406\u001b[0m config \u001b[38;5;241m=\u001b[39m SettingsConfig(\n\u001b[1;32m    407\u001b[0m     \u001b[38;5;28mself\u001b[39m\u001b[38;5;241m.\u001b[39m_dbs, collection, \u001b[38;5;28mid\u001b[39m, environment,\n\u001b[1;32m    408\u001b[0m     notifiers\u001b[38;5;241m=\u001b[39m\u001b[38;5;28mself\u001b[39m\u001b[38;5;241m.\u001b[39mmodule_notifiers\u001b[38;5;241m.\u001b[39mget(Settings\u001b[38;5;241m.\u001b[39mmodule_name(module),\n\u001b[1;32m    409\u001b[0m                                         []))\n\u001b[1;32m    410\u001b[0m config\u001b[38;5;241m.\u001b[39mnotify()\n",
      "File \u001b[0;32m/opt/hostedtoolcache/Python/3.9.16/x64/lib/python3.9/site-packages/populse_db/database.py:762\u001b[0m, in \u001b[0;36mDatabaseSession.add_document\u001b[0;34m(self, collection, document, create_missing_fields, flush)\u001b[0m\n\u001b[1;32m    760\u001b[0m \u001b[38;5;28;01mif\u001b[39;00m \u001b[38;5;129;01mnot\u001b[39;00m \u001b[38;5;28misinstance\u001b[39m(document, \u001b[38;5;28mdict\u001b[39m):\n\u001b[1;32m    761\u001b[0m     document \u001b[38;5;241m=\u001b[39m {primary_key: document}\n\u001b[0;32m--> 762\u001b[0m \u001b[38;5;28;43mself\u001b[39;49m\u001b[38;5;241;43m.\u001b[39;49m\u001b[43mengine\u001b[49m\u001b[38;5;241;43m.\u001b[39;49m\u001b[43madd_document\u001b[49m\u001b[43m(\u001b[49m\u001b[43mcollection\u001b[49m\u001b[43m,\u001b[49m\u001b[43m \u001b[49m\u001b[43mdocument\u001b[49m\u001b[43m,\u001b[49m\u001b[43m \u001b[49m\u001b[43mcreate_missing_fields\u001b[49m\u001b[43m)\u001b[49m\n",
      "File \u001b[0;32m/opt/hostedtoolcache/Python/3.9.16/x64/lib/python3.9/site-packages/populse_db/engine/sqlite.py:361\u001b[0m, in \u001b[0;36mSQLiteEngine.add_document\u001b[0;34m(self, collection, document, create_missing_fields)\u001b[0m\n\u001b[1;32m    356\u001b[0m sql \u001b[38;5;241m=\u001b[39m \u001b[38;5;124m'\u001b[39m\u001b[38;5;124mINSERT INTO [\u001b[39m\u001b[38;5;132;01m%s\u001b[39;00m\u001b[38;5;124m] (\u001b[39m\u001b[38;5;132;01m%s\u001b[39;00m\u001b[38;5;124m) VALUES (\u001b[39m\u001b[38;5;132;01m%s\u001b[39;00m\u001b[38;5;124m)\u001b[39m\u001b[38;5;124m'\u001b[39m \u001b[38;5;241m%\u001b[39m (\n\u001b[1;32m    357\u001b[0m     table,\n\u001b[1;32m    358\u001b[0m     \u001b[38;5;124m'\u001b[39m\u001b[38;5;124m,\u001b[39m\u001b[38;5;124m'\u001b[39m\u001b[38;5;241m.\u001b[39mjoin(\u001b[38;5;124m'\u001b[39m\u001b[38;5;124m[\u001b[39m\u001b[38;5;132;01m%s\u001b[39;00m\u001b[38;5;124m]\u001b[39m\u001b[38;5;124m'\u001b[39m \u001b[38;5;241m%\u001b[39m i \u001b[38;5;28;01mfor\u001b[39;00m i \u001b[38;5;129;01min\u001b[39;00m column_values\u001b[38;5;241m.\u001b[39mkeys()),\n\u001b[1;32m    359\u001b[0m     \u001b[38;5;124m'\u001b[39m\u001b[38;5;124m,\u001b[39m\u001b[38;5;124m'\u001b[39m\u001b[38;5;241m.\u001b[39mjoin(\u001b[38;5;124m'\u001b[39m\u001b[38;5;124m?\u001b[39m\u001b[38;5;124m'\u001b[39m \u001b[38;5;28;01mfor\u001b[39;00m i \u001b[38;5;129;01min\u001b[39;00m column_values))\n\u001b[1;32m    360\u001b[0m \u001b[38;5;28;01mtry\u001b[39;00m:\n\u001b[0;32m--> 361\u001b[0m     \u001b[38;5;28;43mself\u001b[39;49m\u001b[38;5;241;43m.\u001b[39;49m\u001b[43mcursor\u001b[49m\u001b[38;5;241;43m.\u001b[39;49m\u001b[43mexecute\u001b[49m\u001b[43m(\u001b[49m\u001b[43msql\u001b[49m\u001b[43m,\u001b[49m\u001b[43m \u001b[49m\u001b[38;5;28;43mlist\u001b[39;49m\u001b[43m(\u001b[49m\u001b[43mcolumn_values\u001b[49m\u001b[38;5;241;43m.\u001b[39;49m\u001b[43mvalues\u001b[49m\u001b[43m(\u001b[49m\u001b[43m)\u001b[49m\u001b[43m)\u001b[49m\u001b[43m)\u001b[49m\n\u001b[1;32m    362\u001b[0m \u001b[38;5;28;01mexcept\u001b[39;00m sqlite3\u001b[38;5;241m.\u001b[39mIntegrityError \u001b[38;5;28;01mas\u001b[39;00m e:\n\u001b[1;32m    363\u001b[0m     \u001b[38;5;28;01mraise\u001b[39;00m \u001b[38;5;167;01mValueError\u001b[39;00m(\u001b[38;5;28mstr\u001b[39m(e))\n",
      "\u001b[0;31mInterfaceError\u001b[0m: Error binding parameter 1 - probably unsupported type."
     ]
    }
   ],
   "source": [
    "pipeline3(b='yup')"
   ]
  },
  {
   "cell_type": "markdown",
   "metadata": {
    "deletable": true,
    "editable": true
   },
   "source": [
    "<h3>Using XML definition</h3>"
   ]
  },
  {
   "cell_type": "code",
   "execution_count": 22,
   "metadata": {
    "collapsed": false,
    "deletable": true,
    "editable": true,
    "execution": {
     "iopub.execute_input": "2023-06-08T11:04:15.188150Z",
     "iopub.status.busy": "2023-06-08T11:04:15.187866Z",
     "iopub.status.idle": "2023-06-08T11:04:15.194312Z",
     "shell.execute_reply": "2023-06-08T11:04:15.193520Z"
    }
   },
   "outputs": [
    {
     "name": "stdout",
     "output_type": "stream",
     "text": [
      "<pipeline capsul_xml=\"2.0\">\n",
      "    <process name=\"threshold_gt_1\" \n",
      "     module=\"capsul.process.test.test_load_from_description.threshold\">\n",
      "        <set name=\"threshold\" value=\"1\"/>\n",
      "        <set name=\"method\" value=\"'gt'\"/>\n",
      "    </process>\n",
      "    <process name=\"threshold_gt_10\" \n",
      "     module=\"capsul.process.test.test_load_from_description.threshold\">\n",
      "        <set name=\"threshold\" value=\"10\"/>\n",
      "        <set name=\"method\" value=\"'gt'\"/>\n",
      "    </process>\n",
      "    <process name=\"threshold_gt_100\" \n",
      "     module=\"capsul.process.test.test_load_from_description.threshold\">\n",
      "        <set name=\"threshold\" value=\"100\"/>\n",
      "        <set name=\"method\" value=\"'gt'\"/>\n",
      "    </process>\n",
      "    <process name=\"threshold_lt_1\" \n",
      "     module=\"capsul.process.test.test_load_from_description.threshold\">\n",
      "        <set name=\"threshold\" value=\"1\"/>\n",
      "        <set name=\"method\" value=\"'lt'\"/>\n",
      "    </process>\n",
      "    <process name=\"threshold_lt_10\" \n",
      "     module=\"capsul.process.test.test_load_from_description.threshold\">\n",
      "        <set name=\"threshold\" value=\"10\"/>\n",
      "        <set name=\"method\" value=\"'lt'\"/>\n",
      "    </process>\n",
      "    <process name=\"threshold_lt_100\" \n",
      "     module=\"capsul.process.test.test_load_from_description.threshold\">\n",
      "        <set name=\"threshold\" value=\"100\"/>\n",
      "        <set name=\"method\" value=\"'lt'\"/>\n",
      "    </process>\n",
      "    <process name=\"mask_1\" \n",
      "     module=\"capsul.process.test.test_load_from_description.mask\">\n",
      "    </process>\n",
      "    <process name=\"mask_10\" \n",
      "     module=\"capsul.process.test.test_load_from_description.mask\">\n",
      "    </process>\n",
      "    <process name=\"mask_100\" \n",
      "     module=\"capsul.process.test.test_load_from_description.mask\">\n",
      "    </process>\n",
      "\n",
      "    <link source=\"input_image\" dest=\"threshold_gt_1.input_image\"/>\n",
      "    <link source=\"input_image\" dest=\"threshold_gt_10.input_image\"/>\n",
      "    <link source=\"input_image\" dest=\"threshold_gt_100.input_image\"/>\n",
      "    \n",
      "    <link source=\"input_image\" dest=\"threshold_lt_1.input_image\"/>\n",
      "    <link source=\"input_image\" dest=\"threshold_lt_10.input_image\"/>\n",
      "    <link source=\"input_image\" dest=\"threshold_lt_100.input_image\"/>\n",
      "\n",
      "    <link source=\"input_image\" dest=\"mask_1.input_image\"/>\n",
      "    <link source=\"input_image\" dest=\"mask_10.input_image\"/>\n",
      "    <link source=\"input_image\" dest=\"mask_100.input_image\"/>\n",
      "\n",
      "    <link source=\"threshold_gt_1.output_image\" dest=\"mask_1.mask\"/>\n",
      "    <link source=\"threshold_gt_10.output_image\" dest=\"mask_10.mask\"/>\n",
      "    <link source=\"threshold_gt_100.output_image\" dest=\"mask_100.mask\"/>\n",
      "    <link source=\"threshold_lt_1.output_image\" dest=\"mask_1.mask\"/>\n",
      "    <link source=\"threshold_lt_10.output_image\" dest=\"mask_10.mask\"/>\n",
      "    <link source=\"threshold_lt_100.output_image\" dest=\"mask_100.mask\"/>\n",
      "\n",
      "    <link source=\"mask_1.output_image\" dest=\"output_1\"/>\n",
      "    <link source=\"mask_10.output_image\" dest=\"output_10\"/>\n",
      "    <link source=\"mask_100.output_image\" dest=\"output_100\"/>\n",
      "\n",
      "    <processes_selection name=\"select_method\">\n",
      "        <processes_group name=\"greater than\">\n",
      "            <process name=\"threshold_gt_1\"/>\n",
      "            <process name=\"threshold_gt_10\"/>\n",
      "            <process name=\"threshold_gt_100\"/>\n",
      "        </processes_group>\n",
      "        <processes_group name=\"lower than\">\n",
      "            <process name=\"threshold_lt_1\"/>\n",
      "            <process name=\"threshold_lt_10\"/>\n",
      "            <process name=\"threshold_lt_100\"/>\n",
      "        </processes_group>\n",
      "    </processes_selection>\n",
      "    \n",
      "    <gui>\n",
      "        <position name=\"threshold_gt_100\" x=\"386.0\" y=\"403.0\"/>\n",
      "        <position name=\"inputs\" x=\"50.0\" y=\"50.0\"/>\n",
      "        <position name=\"mask_1\" x=\"815.0\" y=\"153.0\"/>\n",
      "        <position name=\"threshold_gt_10\" x=\"374.0\" y=\"242.0\"/>\n",
      "        <position name=\"threshold_lt_100\" x=\"556.0\" y=\"314.0\"/>\n",
      "        <position name=\"threshold_gt_1\" x=\"371.0\" y=\"88.0\"/>\n",
      "        <position name=\"mask_10\" x=\"820.0\" y=\"293.0\"/>\n",
      "        <position name=\"mask_100\" x=\"826.0\" y=\"451.0\"/>\n",
      "        <position name=\"threshold_lt_1\" x=\"570.0\" y=\"6.0\"/>\n",
      "        <position name=\"threshold_lt_10\" x=\"568.0\" y=\"145.0\"/>\n",
      "        <position name=\"outputs\" x=\"1000\" y=\"100\" />\n",
      "\n",
      "        <!--\n",
      "        <position name=\"threshold_gt_100\" x=\"182.35615\" y=\"658.8043\">\n",
      "        <position name=\"mask_1\" x=\"348.3267625\" y=\"205.125\">\n",
      "        <position name=\"threshold_gt_10\" x=\"183.6139625\" y=\"329.3854\">\n",
      "        <position name=\"inputs\" x=\"0.0\" y=\"488.9169\">\n",
      "        <position name=\"outputs\" x=\"512.08755\" y=\"488.9169\">\n",
      "        <position name=\"mask_100\" x=\"348.3267625\" y=\"744.8167\">\n",
      "        <position name=\"threshold_lt_1\" x=\"183.6139625\" y=\"146.998\">\n",
      "        <position name=\"threshold_gt_1\" x=\"183.6139625\" y=\"0.0\">\n",
      "        <position name=\"threshold_lt_100\" x=\"183.6139625\" y=\"805.8291\">\n",
      "        <position name=\"mask_10\" x=\"348.3267625\" y=\"488.9169\">\n",
      "        <position name=\"threshold_lt_10\" x=\"183.6139625\" y=\"476.4169\">\n",
      "        -->\n",
      "    </gui>\n",
      "</pipeline>\n"
     ]
    },
    {
     "name": "stdout",
     "output_type": "stream",
     "text": [
      "\n"
     ]
    }
   ],
   "source": [
    "import os\n",
    "import capsul.process.test as test\n",
    "\n",
    "xmldesc = os.path.join(os.path.dirname(test.__file__), \"test_pipeline.xml\")\n",
    "with open(xmldesc, \"r\") as openfile:\n",
    "    print(\"\".join(openfile.readlines()))"
   ]
  },
  {
   "cell_type": "markdown",
   "metadata": {
    "deletable": true,
    "editable": true
   },
   "source": [
    "Again we can create a Pipeline from his xml description:"
   ]
  },
  {
   "cell_type": "code",
   "execution_count": 23,
   "metadata": {
    "collapsed": false,
    "deletable": true,
    "editable": true,
    "execution": {
     "iopub.execute_input": "2023-06-08T11:04:15.199798Z",
     "iopub.status.busy": "2023-06-08T11:04:15.199523Z",
     "iopub.status.idle": "2023-06-08T11:04:15.244250Z",
     "shell.execute_reply": "2023-06-08T11:04:15.243195Z"
    }
   },
   "outputs": [
    {
     "name": "stdout",
     "output_type": "stream",
     "text": [
      "\n",
      "\n",
      "\n",
      ".. note::\n",
      "\n",
      "    * Type 'test_pipeline.help()' for a full description of this process parameters.\n",
      "    * Type '<test_pipeline>.get_input_spec()' for a full description of this process input trait types.\n",
      "    * Type '<test_pipeline>.get_output_spec()' for a full description of this process output trait types.\n",
      "\n",
      "\n",
      "Inputs\n",
      "~~~~~~\n",
      "\n",
      "[Mandatory]\n",
      "\n",
      "nodes_activation: a legal value (['ControllerTrait'] - mandatory)\n",
      "    No description.\n",
      "input_image: a string or os.PathLike object (['File'] - mandatory)\n",
      "    Path of a NIFTI-1 image file.\n",
      "select_method: a legal value (['Enum'] - mandatory)\n",
      "    No description.\n",
      "\n",
      "Outputs\n",
      "~~~~~~~\n",
      "\n",
      "output_1: a string or os.PathLike object (['File (filename: output)']\n",
      "    - mandatory)\n",
      "    Output file name.\n",
      "output_10: a string or os.PathLike object (['File (filename: output)']\n",
      "    - mandatory)\n",
      "    Output file name.\n",
      "output_100: a string or os.PathLike object (['File (filename:\n",
      "    output)'] - mandatory)\n",
      "    Output file name.\n",
      "\n"
     ]
    }
   ],
   "source": [
    "from capsul.api import get_process_instance\n",
    "\n",
    "xmlpipe = get_process_instance(\"capsul.process.test.test_pipeline\")\n",
    "xmlpipe.help()"
   ]
  },
  {
   "cell_type": "markdown",
   "metadata": {
    "deletable": true,
    "editable": true
   },
   "source": [
    "And generate its graphical representation:"
   ]
  },
  {
   "cell_type": "code",
   "execution_count": 24,
   "metadata": {
    "collapsed": true,
    "deletable": true,
    "editable": true,
    "execution": {
     "iopub.execute_input": "2023-06-08T11:04:15.248352Z",
     "iopub.status.busy": "2023-06-08T11:04:15.248077Z",
     "iopub.status.idle": "2023-06-08T11:04:15.253235Z",
     "shell.execute_reply": "2023-06-08T11:04:15.252477Z"
    }
   },
   "outputs": [],
   "source": [
    "if globals().get('use_gui', True):\n",
    "    from soma.qt_gui.qt_backend import QtGui\n",
    "    from capsul.qt_gui.widgets import PipelineDevelopperView\n",
    "    from soma.qt_gui.controller_widget import ControllerWidget\n",
    "\n",
    "    view = PipelineDevelopperView(xmlpipe)\n",
    "    controller = ControllerWidget(xmlpipe, live=True)\n",
    "    view.show()\n",
    "    controller.show()\n",
    "    if run_qt_loop:\n",
    "        app.exec_()\n"
   ]
  },
  {
   "cell_type": "markdown",
   "metadata": {
    "deletable": true,
    "editable": true
   },
   "source": [
    "![xml pipeline](images/capsul_pipeline_xml2.jpg \"xml pipeline\")\n",
    "![xml pipeline controller](images/capsul_pipeline_xml2_controller.jpg \"xml pipeline controller\")\n",
    "\n",
    "## Iteration over a process or pipeline\n",
    "A process can be used several times in parallel: some of its parameters will be changed for lists"
   ]
  },
  {
   "cell_type": "code",
   "execution_count": 25,
   "metadata": {
    "collapsed": true,
    "deletable": true,
    "editable": true,
    "execution": {
     "iopub.execute_input": "2023-06-08T11:04:15.256885Z",
     "iopub.status.busy": "2023-06-08T11:04:15.256624Z",
     "iopub.status.idle": "2023-06-08T11:04:15.262654Z",
     "shell.execute_reply": "2023-06-08T11:04:15.261560Z"
    }
   },
   "outputs": [],
   "source": [
    "@xml_process('''<process capsul_xml=\"2.0\">\n",
    "    <input name=\"inputs\" type=\"list_float\" doc=\"numbers\"/>\n",
    "    <return name=\"addition\" type=\"float\" doc=\"sum all inputs\"/>\n",
    "</process>\n",
    "''')\n",
    "def sum_node(inputs):\n",
    "    return sum(inputs)\n",
    "\n",
    "@xml_process('''<process capsul_xml=\"2.0\">\n",
    "    <input name=\"a\" type=\"float\" doc=\"number\"/>\n",
    "    <return name=\"b\" type=\"float\" doc=\"a + 12\"/>\n",
    "</process>\n",
    "''')\n",
    "def add_12(a):\n",
    "    return a + 12\n",
    "\n",
    "class Pipeline4(Pipeline):\n",
    "    \n",
    "    def pipeline_definition(self):\n",
    "        self.add_iterative_process(\"add_12\", '__main__.add_12', iterative_plugs=['a', 'b'])\n",
    "        self.add_process(\"sum_node\", '__main__.sum_node')\n",
    "        self.add_link('add_12.b->sum_node.inputs')\n"
   ]
  },
  {
   "cell_type": "code",
   "execution_count": 26,
   "metadata": {
    "collapsed": true,
    "deletable": true,
    "editable": true,
    "execution": {
     "iopub.execute_input": "2023-06-08T11:04:15.266724Z",
     "iopub.status.busy": "2023-06-08T11:04:15.266475Z",
     "iopub.status.idle": "2023-06-08T11:04:15.276315Z",
     "shell.execute_reply": "2023-06-08T11:04:15.275219Z"
    }
   },
   "outputs": [],
   "source": [
    "pipeline4 = Pipeline4()\n",
    "if globals().get('use_gui', True):\n",
    "    view4 = PipelineDevelopperView(pipeline4, allow_open_controller=True, show_sub_pipelines=True)\n",
    "    view4.show()\n",
    "    if run_qt_loop:\n",
    "        app.exec_()"
   ]
  },
  {
   "cell_type": "markdown",
   "metadata": {
    "deletable": true,
    "editable": true
   },
   "source": [
    "![iteration](images/capsul_iter1.jpg \"iteration\")\n",
    "The green node here is an iterative node, it can be opened (double-clicked) to see what is inside it."
   ]
  },
  {
   "cell_type": "markdown",
   "metadata": {
    "deletable": true,
    "editable": true
   },
   "source": [
    "Set input parameters and run.\n",
    "\n",
    "We set 3 inputs, 4.2, 6.8 and 7.\n",
    "\n",
    "Each should be added 12, then all outputs will be summed up.\n",
    "\n",
    "This should make (4.2 + 12) + (6.8 + 12) + (7. + 12) = 54."
   ]
  },
  {
   "cell_type": "code",
   "execution_count": 27,
   "metadata": {
    "collapsed": false,
    "deletable": true,
    "editable": true,
    "execution": {
     "iopub.execute_input": "2023-06-08T11:04:15.279504Z",
     "iopub.status.busy": "2023-06-08T11:04:15.279276Z",
     "iopub.status.idle": "2023-06-08T11:04:15.433719Z",
     "shell.execute_reply": "2023-06-08T11:04:15.432623Z"
    }
   },
   "outputs": [
    {
     "ename": "InterfaceError",
     "evalue": "Error binding parameter 1 - probably unsupported type.",
     "output_type": "error",
     "traceback": [
      "\u001b[0;31m---------------------------------------------------------------------------\u001b[0m",
      "\u001b[0;31mInterfaceError\u001b[0m                            Traceback (most recent call last)",
      "Cell \u001b[0;32mIn[27], line 2\u001b[0m\n\u001b[1;32m      1\u001b[0m pipeline4\u001b[38;5;241m.\u001b[39ma \u001b[38;5;241m=\u001b[39m [\u001b[38;5;241m4.2\u001b[39m, \u001b[38;5;241m6.8\u001b[39m, \u001b[38;5;241m7.\u001b[39m]\n\u001b[0;32m----> 2\u001b[0m \u001b[43mpipeline4\u001b[49m\u001b[43m(\u001b[49m\u001b[43m)\u001b[49m\n\u001b[1;32m      3\u001b[0m \u001b[38;5;28mprint\u001b[39m(pipeline4\u001b[38;5;241m.\u001b[39maddition)\n\u001b[1;32m      4\u001b[0m \u001b[38;5;28;01massert\u001b[39;00m(pipeline4\u001b[38;5;241m.\u001b[39maddition \u001b[38;5;241m==\u001b[39m \u001b[38;5;241m54\u001b[39m)\n",
      "File \u001b[0;32m~/work/capsul/capsul/capsul/process/process.py:305\u001b[0m, in \u001b[0;36mProcess.__call__\u001b[0;34m(self, **kwargs)\u001b[0m\n\u001b[1;32m    271\u001b[0m \u001b[38;5;250m\u001b[39m\u001b[38;5;124;03m\"\"\" Method to execute the Process.\u001b[39;00m\n\u001b[1;32m    272\u001b[0m \n\u001b[1;32m    273\u001b[0m \u001b[38;5;124;03mKeyword arguments may be passed to set process parameters.\u001b[39;00m\n\u001b[0;32m   (...)\u001b[0m\n\u001b[1;32m    302\u001b[0m \u001b[38;5;124;03m    contains all execution information.\u001b[39;00m\n\u001b[1;32m    303\u001b[0m \u001b[38;5;124;03m\"\"\"\u001b[39;00m\n\u001b[1;32m    304\u001b[0m \u001b[38;5;66;03m# Execute the process\u001b[39;00m\n\u001b[0;32m--> 305\u001b[0m returncode \u001b[38;5;241m=\u001b[39m \u001b[38;5;28;43mself\u001b[39;49m\u001b[38;5;241;43m.\u001b[39;49m\u001b[43mget_study_config\u001b[49m\u001b[43m(\u001b[49m\u001b[43m)\u001b[49m\u001b[38;5;241m.\u001b[39mrun(\u001b[38;5;28mself\u001b[39m, \u001b[38;5;241m*\u001b[39m\u001b[38;5;241m*\u001b[39mkwargs)\n\u001b[1;32m    306\u001b[0m \u001b[38;5;28;01mreturn\u001b[39;00m returncode\n",
      "File \u001b[0;32m~/work/capsul/capsul/capsul/process/process.py:1090\u001b[0m, in \u001b[0;36mProcess.get_study_config\u001b[0;34m(self)\u001b[0m\n\u001b[1;32m   1087\u001b[0m \u001b[38;5;28;01mif\u001b[39;00m \u001b[38;5;28mself\u001b[39m\u001b[38;5;241m.\u001b[39mstudy_config \u001b[38;5;129;01mis\u001b[39;00m \u001b[38;5;28;01mNone\u001b[39;00m:\n\u001b[1;32m   1088\u001b[0m     \u001b[38;5;66;03m# Import cannot be done on module due to circular dependencies\u001b[39;00m\n\u001b[1;32m   1089\u001b[0m     \u001b[38;5;28;01mfrom\u001b[39;00m \u001b[38;5;21;01mcapsul\u001b[39;00m\u001b[38;5;21;01m.\u001b[39;00m\u001b[38;5;21;01mstudy_config\u001b[39;00m\u001b[38;5;21;01m.\u001b[39;00m\u001b[38;5;21;01mstudy_config\u001b[39;00m \u001b[38;5;28;01mimport\u001b[39;00m default_study_config\n\u001b[0;32m-> 1090\u001b[0m     \u001b[38;5;28mself\u001b[39m\u001b[38;5;241m.\u001b[39mset_study_config(\u001b[43mdefault_study_config\u001b[49m\u001b[43m(\u001b[49m\u001b[43m)\u001b[49m)\n\u001b[1;32m   1091\u001b[0m \u001b[38;5;28;01mreturn\u001b[39;00m \u001b[38;5;28mself\u001b[39m\u001b[38;5;241m.\u001b[39mstudy_config\n",
      "File \u001b[0;32m~/work/capsul/capsul/capsul/study_config/study_config.py:762\u001b[0m, in \u001b[0;36mdefault_study_config\u001b[0;34m()\u001b[0m\n\u001b[1;32m    760\u001b[0m \u001b[38;5;28;01mglobal\u001b[39;00m _default_study_config\n\u001b[1;32m    761\u001b[0m \u001b[38;5;28;01mif\u001b[39;00m _default_study_config \u001b[38;5;129;01mis\u001b[39;00m \u001b[38;5;28;01mNone\u001b[39;00m:\n\u001b[0;32m--> 762\u001b[0m     _default_study_config \u001b[38;5;241m=\u001b[39m \u001b[43mStudyConfig\u001b[49m\u001b[43m(\u001b[49m\u001b[43m)\u001b[49m\n\u001b[1;32m    763\u001b[0m \u001b[38;5;28;01mreturn\u001b[39;00m _default_study_config\n",
      "File \u001b[0;32m~/work/capsul/capsul/capsul/study_config/study_config.py:225\u001b[0m, in \u001b[0;36mStudyConfig.__init__\u001b[0;34m(self, study_name, init_config, modules, engine, **override_config)\u001b[0m\n\u001b[1;32m    223\u001b[0m \u001b[38;5;28;01mfor\u001b[39;00m k, v \u001b[38;5;129;01min\u001b[39;00m six\u001b[38;5;241m.\u001b[39miteritems(config):\n\u001b[1;32m    224\u001b[0m     \u001b[38;5;28msetattr\u001b[39m(\u001b[38;5;28mself\u001b[39m, k, v)\n\u001b[0;32m--> 225\u001b[0m \u001b[38;5;28;43mself\u001b[39;49m\u001b[38;5;241;43m.\u001b[39;49m\u001b[43minitialize_modules\u001b[49m\u001b[43m(\u001b[49m\u001b[43m)\u001b[49m\n\u001b[1;32m    226\u001b[0m \u001b[38;5;28mself\u001b[39m\u001b[38;5;241m.\u001b[39mrun_lock \u001b[38;5;241m=\u001b[39m threading\u001b[38;5;241m.\u001b[39mRLock()\n\u001b[1;32m    227\u001b[0m \u001b[38;5;28mself\u001b[39m\u001b[38;5;241m.\u001b[39mrun_interruption_request \u001b[38;5;241m=\u001b[39m \u001b[38;5;28;01mFalse\u001b[39;00m\n",
      "File \u001b[0;32m~/work/capsul/capsul/capsul/study_config/study_config.py:256\u001b[0m, in \u001b[0;36mStudyConfig.initialize_modules\u001b[0;34m(self)\u001b[0m\n\u001b[1;32m    254\u001b[0m     \u001b[38;5;28;01mcontinue\u001b[39;00m\n\u001b[1;32m    255\u001b[0m \u001b[38;5;66;03m# Initialize a module\u001b[39;00m\n\u001b[0;32m--> 256\u001b[0m \u001b[43mmodule\u001b[49m\u001b[38;5;241;43m.\u001b[39;49m\u001b[43minitialize_module\u001b[49m\u001b[43m(\u001b[49m\u001b[43m)\u001b[49m\n\u001b[1;32m    257\u001b[0m module\u001b[38;5;241m.\u001b[39minitialize_callbacks()\n\u001b[1;32m    258\u001b[0m already_initialized\u001b[38;5;241m.\u001b[39madd(module_name)\n",
      "File \u001b[0;32m~/work/capsul/capsul/capsul/study_config/config_modules/spm_config.py:70\u001b[0m, in \u001b[0;36mSPMConfig.initialize_module\u001b[0;34m(self)\u001b[0m\n\u001b[1;32m     68\u001b[0m     \u001b[38;5;28mself\u001b[39m\u001b[38;5;241m.\u001b[39msync_from_engine()\n\u001b[1;32m     69\u001b[0m \u001b[38;5;28;01melse\u001b[39;00m:\n\u001b[0;32m---> 70\u001b[0m     \u001b[38;5;28;43mself\u001b[39;49m\u001b[38;5;241;43m.\u001b[39;49m\u001b[43msync_to_engine\u001b[49m\u001b[43m(\u001b[49m\u001b[43m)\u001b[49m\n\u001b[1;32m     71\u001b[0m \u001b[38;5;66;03m# this test aims to raise an exception in case of incorrect setting,\u001b[39;00m\n\u001b[1;32m     72\u001b[0m \u001b[38;5;66;03m# complying to capsul 2.x behavior.\u001b[39;00m\n\u001b[1;32m     73\u001b[0m \u001b[38;5;28;01mif\u001b[39;00m \u001b[38;5;28mself\u001b[39m\u001b[38;5;241m.\u001b[39mstudy_config\u001b[38;5;241m.\u001b[39muse_spm \u001b[38;5;129;01mis\u001b[39;00m \u001b[38;5;28;01mTrue\u001b[39;00m:\n",
      "File \u001b[0;32m~/work/capsul/capsul/capsul/study_config/config_modules/spm_config.py:209\u001b[0m, in \u001b[0;36mSPMConfig.sync_to_engine\u001b[0;34m(self)\u001b[0m\n\u001b[1;32m    205\u001b[0m config \u001b[38;5;241m=\u001b[39m session\u001b[38;5;241m.\u001b[39mconfig(\u001b[38;5;124m'\u001b[39m\u001b[38;5;124mmatlab\u001b[39m\u001b[38;5;124m'\u001b[39m, \u001b[38;5;124m'\u001b[39m\u001b[38;5;124mglobal\u001b[39m\u001b[38;5;124m'\u001b[39m,\n\u001b[1;32m    206\u001b[0m                         selection\u001b[38;5;241m=\u001b[39m\u001b[38;5;124m'\u001b[39m\u001b[38;5;132;01m%s\u001b[39;00m\u001b[38;5;124m == \u001b[39m\u001b[38;5;124m\"\u001b[39m\u001b[38;5;124mmatlab\u001b[39m\u001b[38;5;124m\"\u001b[39m\u001b[38;5;124m'\u001b[39m\n\u001b[1;32m    207\u001b[0m                         \u001b[38;5;241m%\u001b[39m cif)\n\u001b[1;32m    208\u001b[0m \u001b[38;5;28;01mif\u001b[39;00m config \u001b[38;5;129;01mis\u001b[39;00m \u001b[38;5;28;01mNone\u001b[39;00m:\n\u001b[0;32m--> 209\u001b[0m     \u001b[43msession\u001b[49m\u001b[38;5;241;43m.\u001b[39;49m\u001b[43mnew_config\u001b[49m\u001b[43m(\u001b[49m\n\u001b[1;32m    210\u001b[0m \u001b[43m        \u001b[49m\u001b[38;5;124;43m'\u001b[39;49m\u001b[38;5;124;43mmatlab\u001b[39;49m\u001b[38;5;124;43m'\u001b[39;49m\u001b[43m,\u001b[49m\u001b[43m \u001b[49m\u001b[38;5;124;43m'\u001b[39;49m\u001b[38;5;124;43mglobal\u001b[39;49m\u001b[38;5;124;43m'\u001b[39;49m\u001b[43m,\u001b[49m\n\u001b[1;32m    211\u001b[0m \u001b[43m        \u001b[49m\u001b[43m{\u001b[49m\u001b[38;5;124;43m'\u001b[39;49m\u001b[38;5;124;43mmcr_directory\u001b[39;49m\u001b[38;5;124;43m'\u001b[39;49m\u001b[43m:\u001b[49m\n\u001b[1;32m    212\u001b[0m \u001b[43m            \u001b[49m\u001b[38;5;28;43mself\u001b[39;49m\u001b[38;5;241;43m.\u001b[39;49m\u001b[43mstudy_config\u001b[49m\u001b[38;5;241;43m.\u001b[39;49m\u001b[43mspm_directory\u001b[49m\u001b[43m}\u001b[49m\u001b[43m)\u001b[49m\n\u001b[1;32m    213\u001b[0m \u001b[38;5;28;01melse\u001b[39;00m:\n\u001b[1;32m    214\u001b[0m     config\u001b[38;5;241m.\u001b[39mmcr_directory \\\n\u001b[1;32m    215\u001b[0m         \u001b[38;5;241m=\u001b[39m \u001b[38;5;28mself\u001b[39m\u001b[38;5;241m.\u001b[39mstudy_config\u001b[38;5;241m.\u001b[39mspm_directory\n",
      "File \u001b[0;32m~/work/capsul/capsul/capsul/engine/settings.py:405\u001b[0m, in \u001b[0;36mSettingsSession.new_config\u001b[0;34m(self, module, environment, values)\u001b[0m\n\u001b[1;32m    403\u001b[0m document[Settings\u001b[38;5;241m.\u001b[39mconfig_id_field] \u001b[38;5;241m=\u001b[39m \u001b[38;5;124m'\u001b[39m\u001b[38;5;132;01m%s\u001b[39;00m\u001b[38;5;124m-\u001b[39m\u001b[38;5;132;01m%s\u001b[39;00m\u001b[38;5;124m'\u001b[39m \u001b[38;5;241m%\u001b[39m (\u001b[38;5;28mid\u001b[39m, environment)\n\u001b[1;32m    404\u001b[0m collection \u001b[38;5;241m=\u001b[39m \u001b[38;5;28mself\u001b[39m\u001b[38;5;241m.\u001b[39mcollection_name(module)\n\u001b[0;32m--> 405\u001b[0m \u001b[38;5;28;43mself\u001b[39;49m\u001b[38;5;241;43m.\u001b[39;49m\u001b[43m_dbs\u001b[49m\u001b[38;5;241;43m.\u001b[39;49m\u001b[43madd_document\u001b[49m\u001b[43m(\u001b[49m\u001b[43mcollection\u001b[49m\u001b[43m,\u001b[49m\u001b[43m \u001b[49m\u001b[43mdocument\u001b[49m\u001b[43m)\u001b[49m\n\u001b[1;32m    406\u001b[0m config \u001b[38;5;241m=\u001b[39m SettingsConfig(\n\u001b[1;32m    407\u001b[0m     \u001b[38;5;28mself\u001b[39m\u001b[38;5;241m.\u001b[39m_dbs, collection, \u001b[38;5;28mid\u001b[39m, environment,\n\u001b[1;32m    408\u001b[0m     notifiers\u001b[38;5;241m=\u001b[39m\u001b[38;5;28mself\u001b[39m\u001b[38;5;241m.\u001b[39mmodule_notifiers\u001b[38;5;241m.\u001b[39mget(Settings\u001b[38;5;241m.\u001b[39mmodule_name(module),\n\u001b[1;32m    409\u001b[0m                                         []))\n\u001b[1;32m    410\u001b[0m config\u001b[38;5;241m.\u001b[39mnotify()\n",
      "File \u001b[0;32m/opt/hostedtoolcache/Python/3.9.16/x64/lib/python3.9/site-packages/populse_db/database.py:762\u001b[0m, in \u001b[0;36mDatabaseSession.add_document\u001b[0;34m(self, collection, document, create_missing_fields, flush)\u001b[0m\n\u001b[1;32m    760\u001b[0m \u001b[38;5;28;01mif\u001b[39;00m \u001b[38;5;129;01mnot\u001b[39;00m \u001b[38;5;28misinstance\u001b[39m(document, \u001b[38;5;28mdict\u001b[39m):\n\u001b[1;32m    761\u001b[0m     document \u001b[38;5;241m=\u001b[39m {primary_key: document}\n\u001b[0;32m--> 762\u001b[0m \u001b[38;5;28;43mself\u001b[39;49m\u001b[38;5;241;43m.\u001b[39;49m\u001b[43mengine\u001b[49m\u001b[38;5;241;43m.\u001b[39;49m\u001b[43madd_document\u001b[49m\u001b[43m(\u001b[49m\u001b[43mcollection\u001b[49m\u001b[43m,\u001b[49m\u001b[43m \u001b[49m\u001b[43mdocument\u001b[49m\u001b[43m,\u001b[49m\u001b[43m \u001b[49m\u001b[43mcreate_missing_fields\u001b[49m\u001b[43m)\u001b[49m\n",
      "File \u001b[0;32m/opt/hostedtoolcache/Python/3.9.16/x64/lib/python3.9/site-packages/populse_db/engine/sqlite.py:361\u001b[0m, in \u001b[0;36mSQLiteEngine.add_document\u001b[0;34m(self, collection, document, create_missing_fields)\u001b[0m\n\u001b[1;32m    356\u001b[0m sql \u001b[38;5;241m=\u001b[39m \u001b[38;5;124m'\u001b[39m\u001b[38;5;124mINSERT INTO [\u001b[39m\u001b[38;5;132;01m%s\u001b[39;00m\u001b[38;5;124m] (\u001b[39m\u001b[38;5;132;01m%s\u001b[39;00m\u001b[38;5;124m) VALUES (\u001b[39m\u001b[38;5;132;01m%s\u001b[39;00m\u001b[38;5;124m)\u001b[39m\u001b[38;5;124m'\u001b[39m \u001b[38;5;241m%\u001b[39m (\n\u001b[1;32m    357\u001b[0m     table,\n\u001b[1;32m    358\u001b[0m     \u001b[38;5;124m'\u001b[39m\u001b[38;5;124m,\u001b[39m\u001b[38;5;124m'\u001b[39m\u001b[38;5;241m.\u001b[39mjoin(\u001b[38;5;124m'\u001b[39m\u001b[38;5;124m[\u001b[39m\u001b[38;5;132;01m%s\u001b[39;00m\u001b[38;5;124m]\u001b[39m\u001b[38;5;124m'\u001b[39m \u001b[38;5;241m%\u001b[39m i \u001b[38;5;28;01mfor\u001b[39;00m i \u001b[38;5;129;01min\u001b[39;00m column_values\u001b[38;5;241m.\u001b[39mkeys()),\n\u001b[1;32m    359\u001b[0m     \u001b[38;5;124m'\u001b[39m\u001b[38;5;124m,\u001b[39m\u001b[38;5;124m'\u001b[39m\u001b[38;5;241m.\u001b[39mjoin(\u001b[38;5;124m'\u001b[39m\u001b[38;5;124m?\u001b[39m\u001b[38;5;124m'\u001b[39m \u001b[38;5;28;01mfor\u001b[39;00m i \u001b[38;5;129;01min\u001b[39;00m column_values))\n\u001b[1;32m    360\u001b[0m \u001b[38;5;28;01mtry\u001b[39;00m:\n\u001b[0;32m--> 361\u001b[0m     \u001b[38;5;28;43mself\u001b[39;49m\u001b[38;5;241;43m.\u001b[39;49m\u001b[43mcursor\u001b[49m\u001b[38;5;241;43m.\u001b[39;49m\u001b[43mexecute\u001b[49m\u001b[43m(\u001b[49m\u001b[43msql\u001b[49m\u001b[43m,\u001b[49m\u001b[43m \u001b[49m\u001b[38;5;28;43mlist\u001b[39;49m\u001b[43m(\u001b[49m\u001b[43mcolumn_values\u001b[49m\u001b[38;5;241;43m.\u001b[39;49m\u001b[43mvalues\u001b[49m\u001b[43m(\u001b[49m\u001b[43m)\u001b[49m\u001b[43m)\u001b[49m\u001b[43m)\u001b[49m\n\u001b[1;32m    362\u001b[0m \u001b[38;5;28;01mexcept\u001b[39;00m sqlite3\u001b[38;5;241m.\u001b[39mIntegrityError \u001b[38;5;28;01mas\u001b[39;00m e:\n\u001b[1;32m    363\u001b[0m     \u001b[38;5;28;01mraise\u001b[39;00m \u001b[38;5;167;01mValueError\u001b[39;00m(\u001b[38;5;28mstr\u001b[39m(e))\n",
      "\u001b[0;31mInterfaceError\u001b[0m: Error binding parameter 1 - probably unsupported type."
     ]
    }
   ],
   "source": [
    "pipeline4.a = [4.2, 6.8, 7.]\n",
    "pipeline4()\n",
    "print(pipeline4.addition)\n",
    "assert(pipeline4.addition == 54)"
   ]
  },
  {
   "cell_type": "markdown",
   "metadata": {
    "deletable": true,
    "editable": true
   },
   "source": [
    "<h2>Optional outputs and temporary files</h2>\n",
    "Let's consider the following pipeline, with an **optional output** from the intermediate output:"
   ]
  },
  {
   "cell_type": "code",
   "execution_count": 28,
   "metadata": {
    "collapsed": true,
    "deletable": true,
    "editable": true,
    "execution": {
     "iopub.execute_input": "2023-06-08T11:04:15.437974Z",
     "iopub.status.busy": "2023-06-08T11:04:15.437396Z",
     "iopub.status.idle": "2023-06-08T11:04:15.445055Z",
     "shell.execute_reply": "2023-06-08T11:04:15.444285Z"
    }
   },
   "outputs": [],
   "source": [
    "@xml_process('''<process capsul_xml=\"2.0\">\n",
    "    <input name=\"input\" type=\"file\" doc=\"input file\"/>\n",
    "    <output name=\"output\" type=\"file\" input_filename=\"output\" doc=\"output file\"/>\n",
    "</process>\n",
    "''')\n",
    "def node_first(input, output):\n",
    "    lines = open(input).readlines()\n",
    "    with open(output, 'w') as f:\n",
    "        f.write('\\n'.join(['* %s *' % l[:-1] for l in lines]))\n",
    "\n",
    "@xml_process('''<process capsul_xml=\"2.0\">\n",
    "    <input name=\"a\" type=\"file\" doc=\"input file\"/>\n",
    "    <output name=\"b\" type=\"file\" input_filename=\"b\" doc=\"output file\"/>\n",
    "</process>\n",
    "''')\n",
    "def node_second(a, b):\n",
    "    lines = open(a).readlines()\n",
    "    with open(b, 'w') as f:\n",
    "        f.write(''.join([l.replace('*', '^') for l in lines]))\n",
    "\n",
    "class Pipeline5(Pipeline):\n",
    "    \n",
    "    def pipeline_definition(self):\n",
    "        self.add_process(\"node1\", '__main__.node_first')\n",
    "        self.add_process(\"node2\", '__main__.node_second')\n",
    "        self.add_link('node1.output->node2.a')\n",
    "        self.export_parameter('node1', 'output', 'intermediate', is_optional=True)"
   ]
  },
  {
   "cell_type": "code",
   "execution_count": 29,
   "metadata": {
    "collapsed": true,
    "deletable": true,
    "editable": true,
    "execution": {
     "iopub.execute_input": "2023-06-08T11:04:15.449212Z",
     "iopub.status.busy": "2023-06-08T11:04:15.448736Z",
     "iopub.status.idle": "2023-06-08T11:04:15.457099Z",
     "shell.execute_reply": "2023-06-08T11:04:15.456331Z"
    }
   },
   "outputs": [],
   "source": [
    "pipeline5 = Pipeline5()\n",
    "if globals().get('use_gui', True):\n",
    "    view5 = PipelineDevelopperView(pipeline5, allow_open_controller=True, show_sub_pipelines=True)\n",
    "    view5.show()\n",
    "    if run_qt_loop:\n",
    "        app.exec_()"
   ]
  },
  {
   "cell_type": "markdown",
   "metadata": {
    "deletable": true,
    "editable": true
   },
   "source": [
    "![pipeline5](images/capsul_pipeline5.jpg \"pipeline5\")\n",
    "\n",
    "But there is really a problem here now: if we do not specify pipeline5.intermediate, even when it is optional, the pipeline will not work because *node1* needs to write its output into a file. As its *output* is exported, it will not get a temporary value. Thus in the current state, *pipeline5.intermediate* is actually mandatory."
   ]
  },
  {
   "cell_type": "code",
   "execution_count": 30,
   "metadata": {
    "collapsed": false,
    "deletable": true,
    "editable": true,
    "execution": {
     "iopub.execute_input": "2023-06-08T11:04:15.460876Z",
     "iopub.status.busy": "2023-06-08T11:04:15.460412Z",
     "iopub.status.idle": "2023-06-08T11:04:15.617176Z",
     "shell.execute_reply": "2023-06-08T11:04:15.616286Z"
    }
   },
   "outputs": [
    {
     "ename": "InterfaceError",
     "evalue": "Error binding parameter 1 - probably unsupported type.",
     "output_type": "error",
     "traceback": [
      "\u001b[0;31m---------------------------------------------------------------------------\u001b[0m",
      "\u001b[0;31mInterfaceError\u001b[0m                            Traceback (most recent call last)",
      "Cell \u001b[0;32mIn[30], line 8\u001b[0m\n\u001b[1;32m      6\u001b[0m pipeline5\u001b[38;5;241m.\u001b[39mb \u001b[38;5;241m=\u001b[39m outfile\n\u001b[1;32m      7\u001b[0m pipeline5\u001b[38;5;241m.\u001b[39mintermediate \u001b[38;5;241m=\u001b[39m intermediate\n\u001b[0;32m----> 8\u001b[0m \u001b[43mpipeline5\u001b[49m\u001b[43m(\u001b[49m\u001b[43m)\u001b[49m\n\u001b[1;32m      9\u001b[0m \u001b[38;5;28mprint\u001b[39m(\u001b[38;5;28mopen\u001b[39m(outfile)\u001b[38;5;241m.\u001b[39mread())\n",
      "File \u001b[0;32m~/work/capsul/capsul/capsul/process/process.py:305\u001b[0m, in \u001b[0;36mProcess.__call__\u001b[0;34m(self, **kwargs)\u001b[0m\n\u001b[1;32m    271\u001b[0m \u001b[38;5;250m\u001b[39m\u001b[38;5;124;03m\"\"\" Method to execute the Process.\u001b[39;00m\n\u001b[1;32m    272\u001b[0m \n\u001b[1;32m    273\u001b[0m \u001b[38;5;124;03mKeyword arguments may be passed to set process parameters.\u001b[39;00m\n\u001b[0;32m   (...)\u001b[0m\n\u001b[1;32m    302\u001b[0m \u001b[38;5;124;03m    contains all execution information.\u001b[39;00m\n\u001b[1;32m    303\u001b[0m \u001b[38;5;124;03m\"\"\"\u001b[39;00m\n\u001b[1;32m    304\u001b[0m \u001b[38;5;66;03m# Execute the process\u001b[39;00m\n\u001b[0;32m--> 305\u001b[0m returncode \u001b[38;5;241m=\u001b[39m \u001b[38;5;28;43mself\u001b[39;49m\u001b[38;5;241;43m.\u001b[39;49m\u001b[43mget_study_config\u001b[49m\u001b[43m(\u001b[49m\u001b[43m)\u001b[49m\u001b[38;5;241m.\u001b[39mrun(\u001b[38;5;28mself\u001b[39m, \u001b[38;5;241m*\u001b[39m\u001b[38;5;241m*\u001b[39mkwargs)\n\u001b[1;32m    306\u001b[0m \u001b[38;5;28;01mreturn\u001b[39;00m returncode\n",
      "File \u001b[0;32m~/work/capsul/capsul/capsul/process/process.py:1090\u001b[0m, in \u001b[0;36mProcess.get_study_config\u001b[0;34m(self)\u001b[0m\n\u001b[1;32m   1087\u001b[0m \u001b[38;5;28;01mif\u001b[39;00m \u001b[38;5;28mself\u001b[39m\u001b[38;5;241m.\u001b[39mstudy_config \u001b[38;5;129;01mis\u001b[39;00m \u001b[38;5;28;01mNone\u001b[39;00m:\n\u001b[1;32m   1088\u001b[0m     \u001b[38;5;66;03m# Import cannot be done on module due to circular dependencies\u001b[39;00m\n\u001b[1;32m   1089\u001b[0m     \u001b[38;5;28;01mfrom\u001b[39;00m \u001b[38;5;21;01mcapsul\u001b[39;00m\u001b[38;5;21;01m.\u001b[39;00m\u001b[38;5;21;01mstudy_config\u001b[39;00m\u001b[38;5;21;01m.\u001b[39;00m\u001b[38;5;21;01mstudy_config\u001b[39;00m \u001b[38;5;28;01mimport\u001b[39;00m default_study_config\n\u001b[0;32m-> 1090\u001b[0m     \u001b[38;5;28mself\u001b[39m\u001b[38;5;241m.\u001b[39mset_study_config(\u001b[43mdefault_study_config\u001b[49m\u001b[43m(\u001b[49m\u001b[43m)\u001b[49m)\n\u001b[1;32m   1091\u001b[0m \u001b[38;5;28;01mreturn\u001b[39;00m \u001b[38;5;28mself\u001b[39m\u001b[38;5;241m.\u001b[39mstudy_config\n",
      "File \u001b[0;32m~/work/capsul/capsul/capsul/study_config/study_config.py:762\u001b[0m, in \u001b[0;36mdefault_study_config\u001b[0;34m()\u001b[0m\n\u001b[1;32m    760\u001b[0m \u001b[38;5;28;01mglobal\u001b[39;00m _default_study_config\n\u001b[1;32m    761\u001b[0m \u001b[38;5;28;01mif\u001b[39;00m _default_study_config \u001b[38;5;129;01mis\u001b[39;00m \u001b[38;5;28;01mNone\u001b[39;00m:\n\u001b[0;32m--> 762\u001b[0m     _default_study_config \u001b[38;5;241m=\u001b[39m \u001b[43mStudyConfig\u001b[49m\u001b[43m(\u001b[49m\u001b[43m)\u001b[49m\n\u001b[1;32m    763\u001b[0m \u001b[38;5;28;01mreturn\u001b[39;00m _default_study_config\n",
      "File \u001b[0;32m~/work/capsul/capsul/capsul/study_config/study_config.py:225\u001b[0m, in \u001b[0;36mStudyConfig.__init__\u001b[0;34m(self, study_name, init_config, modules, engine, **override_config)\u001b[0m\n\u001b[1;32m    223\u001b[0m \u001b[38;5;28;01mfor\u001b[39;00m k, v \u001b[38;5;129;01min\u001b[39;00m six\u001b[38;5;241m.\u001b[39miteritems(config):\n\u001b[1;32m    224\u001b[0m     \u001b[38;5;28msetattr\u001b[39m(\u001b[38;5;28mself\u001b[39m, k, v)\n\u001b[0;32m--> 225\u001b[0m \u001b[38;5;28;43mself\u001b[39;49m\u001b[38;5;241;43m.\u001b[39;49m\u001b[43minitialize_modules\u001b[49m\u001b[43m(\u001b[49m\u001b[43m)\u001b[49m\n\u001b[1;32m    226\u001b[0m \u001b[38;5;28mself\u001b[39m\u001b[38;5;241m.\u001b[39mrun_lock \u001b[38;5;241m=\u001b[39m threading\u001b[38;5;241m.\u001b[39mRLock()\n\u001b[1;32m    227\u001b[0m \u001b[38;5;28mself\u001b[39m\u001b[38;5;241m.\u001b[39mrun_interruption_request \u001b[38;5;241m=\u001b[39m \u001b[38;5;28;01mFalse\u001b[39;00m\n",
      "File \u001b[0;32m~/work/capsul/capsul/capsul/study_config/study_config.py:256\u001b[0m, in \u001b[0;36mStudyConfig.initialize_modules\u001b[0;34m(self)\u001b[0m\n\u001b[1;32m    254\u001b[0m     \u001b[38;5;28;01mcontinue\u001b[39;00m\n\u001b[1;32m    255\u001b[0m \u001b[38;5;66;03m# Initialize a module\u001b[39;00m\n\u001b[0;32m--> 256\u001b[0m \u001b[43mmodule\u001b[49m\u001b[38;5;241;43m.\u001b[39;49m\u001b[43minitialize_module\u001b[49m\u001b[43m(\u001b[49m\u001b[43m)\u001b[49m\n\u001b[1;32m    257\u001b[0m module\u001b[38;5;241m.\u001b[39minitialize_callbacks()\n\u001b[1;32m    258\u001b[0m already_initialized\u001b[38;5;241m.\u001b[39madd(module_name)\n",
      "File \u001b[0;32m~/work/capsul/capsul/capsul/study_config/config_modules/spm_config.py:70\u001b[0m, in \u001b[0;36mSPMConfig.initialize_module\u001b[0;34m(self)\u001b[0m\n\u001b[1;32m     68\u001b[0m     \u001b[38;5;28mself\u001b[39m\u001b[38;5;241m.\u001b[39msync_from_engine()\n\u001b[1;32m     69\u001b[0m \u001b[38;5;28;01melse\u001b[39;00m:\n\u001b[0;32m---> 70\u001b[0m     \u001b[38;5;28;43mself\u001b[39;49m\u001b[38;5;241;43m.\u001b[39;49m\u001b[43msync_to_engine\u001b[49m\u001b[43m(\u001b[49m\u001b[43m)\u001b[49m\n\u001b[1;32m     71\u001b[0m \u001b[38;5;66;03m# this test aims to raise an exception in case of incorrect setting,\u001b[39;00m\n\u001b[1;32m     72\u001b[0m \u001b[38;5;66;03m# complying to capsul 2.x behavior.\u001b[39;00m\n\u001b[1;32m     73\u001b[0m \u001b[38;5;28;01mif\u001b[39;00m \u001b[38;5;28mself\u001b[39m\u001b[38;5;241m.\u001b[39mstudy_config\u001b[38;5;241m.\u001b[39muse_spm \u001b[38;5;129;01mis\u001b[39;00m \u001b[38;5;28;01mTrue\u001b[39;00m:\n",
      "File \u001b[0;32m~/work/capsul/capsul/capsul/study_config/config_modules/spm_config.py:209\u001b[0m, in \u001b[0;36mSPMConfig.sync_to_engine\u001b[0;34m(self)\u001b[0m\n\u001b[1;32m    205\u001b[0m config \u001b[38;5;241m=\u001b[39m session\u001b[38;5;241m.\u001b[39mconfig(\u001b[38;5;124m'\u001b[39m\u001b[38;5;124mmatlab\u001b[39m\u001b[38;5;124m'\u001b[39m, \u001b[38;5;124m'\u001b[39m\u001b[38;5;124mglobal\u001b[39m\u001b[38;5;124m'\u001b[39m,\n\u001b[1;32m    206\u001b[0m                         selection\u001b[38;5;241m=\u001b[39m\u001b[38;5;124m'\u001b[39m\u001b[38;5;132;01m%s\u001b[39;00m\u001b[38;5;124m == \u001b[39m\u001b[38;5;124m\"\u001b[39m\u001b[38;5;124mmatlab\u001b[39m\u001b[38;5;124m\"\u001b[39m\u001b[38;5;124m'\u001b[39m\n\u001b[1;32m    207\u001b[0m                         \u001b[38;5;241m%\u001b[39m cif)\n\u001b[1;32m    208\u001b[0m \u001b[38;5;28;01mif\u001b[39;00m config \u001b[38;5;129;01mis\u001b[39;00m \u001b[38;5;28;01mNone\u001b[39;00m:\n\u001b[0;32m--> 209\u001b[0m     \u001b[43msession\u001b[49m\u001b[38;5;241;43m.\u001b[39;49m\u001b[43mnew_config\u001b[49m\u001b[43m(\u001b[49m\n\u001b[1;32m    210\u001b[0m \u001b[43m        \u001b[49m\u001b[38;5;124;43m'\u001b[39;49m\u001b[38;5;124;43mmatlab\u001b[39;49m\u001b[38;5;124;43m'\u001b[39;49m\u001b[43m,\u001b[49m\u001b[43m \u001b[49m\u001b[38;5;124;43m'\u001b[39;49m\u001b[38;5;124;43mglobal\u001b[39;49m\u001b[38;5;124;43m'\u001b[39;49m\u001b[43m,\u001b[49m\n\u001b[1;32m    211\u001b[0m \u001b[43m        \u001b[49m\u001b[43m{\u001b[49m\u001b[38;5;124;43m'\u001b[39;49m\u001b[38;5;124;43mmcr_directory\u001b[39;49m\u001b[38;5;124;43m'\u001b[39;49m\u001b[43m:\u001b[49m\n\u001b[1;32m    212\u001b[0m \u001b[43m            \u001b[49m\u001b[38;5;28;43mself\u001b[39;49m\u001b[38;5;241;43m.\u001b[39;49m\u001b[43mstudy_config\u001b[49m\u001b[38;5;241;43m.\u001b[39;49m\u001b[43mspm_directory\u001b[49m\u001b[43m}\u001b[49m\u001b[43m)\u001b[49m\n\u001b[1;32m    213\u001b[0m \u001b[38;5;28;01melse\u001b[39;00m:\n\u001b[1;32m    214\u001b[0m     config\u001b[38;5;241m.\u001b[39mmcr_directory \\\n\u001b[1;32m    215\u001b[0m         \u001b[38;5;241m=\u001b[39m \u001b[38;5;28mself\u001b[39m\u001b[38;5;241m.\u001b[39mstudy_config\u001b[38;5;241m.\u001b[39mspm_directory\n",
      "File \u001b[0;32m~/work/capsul/capsul/capsul/engine/settings.py:405\u001b[0m, in \u001b[0;36mSettingsSession.new_config\u001b[0;34m(self, module, environment, values)\u001b[0m\n\u001b[1;32m    403\u001b[0m document[Settings\u001b[38;5;241m.\u001b[39mconfig_id_field] \u001b[38;5;241m=\u001b[39m \u001b[38;5;124m'\u001b[39m\u001b[38;5;132;01m%s\u001b[39;00m\u001b[38;5;124m-\u001b[39m\u001b[38;5;132;01m%s\u001b[39;00m\u001b[38;5;124m'\u001b[39m \u001b[38;5;241m%\u001b[39m (\u001b[38;5;28mid\u001b[39m, environment)\n\u001b[1;32m    404\u001b[0m collection \u001b[38;5;241m=\u001b[39m \u001b[38;5;28mself\u001b[39m\u001b[38;5;241m.\u001b[39mcollection_name(module)\n\u001b[0;32m--> 405\u001b[0m \u001b[38;5;28;43mself\u001b[39;49m\u001b[38;5;241;43m.\u001b[39;49m\u001b[43m_dbs\u001b[49m\u001b[38;5;241;43m.\u001b[39;49m\u001b[43madd_document\u001b[49m\u001b[43m(\u001b[49m\u001b[43mcollection\u001b[49m\u001b[43m,\u001b[49m\u001b[43m \u001b[49m\u001b[43mdocument\u001b[49m\u001b[43m)\u001b[49m\n\u001b[1;32m    406\u001b[0m config \u001b[38;5;241m=\u001b[39m SettingsConfig(\n\u001b[1;32m    407\u001b[0m     \u001b[38;5;28mself\u001b[39m\u001b[38;5;241m.\u001b[39m_dbs, collection, \u001b[38;5;28mid\u001b[39m, environment,\n\u001b[1;32m    408\u001b[0m     notifiers\u001b[38;5;241m=\u001b[39m\u001b[38;5;28mself\u001b[39m\u001b[38;5;241m.\u001b[39mmodule_notifiers\u001b[38;5;241m.\u001b[39mget(Settings\u001b[38;5;241m.\u001b[39mmodule_name(module),\n\u001b[1;32m    409\u001b[0m                                         []))\n\u001b[1;32m    410\u001b[0m config\u001b[38;5;241m.\u001b[39mnotify()\n",
      "File \u001b[0;32m/opt/hostedtoolcache/Python/3.9.16/x64/lib/python3.9/site-packages/populse_db/database.py:762\u001b[0m, in \u001b[0;36mDatabaseSession.add_document\u001b[0;34m(self, collection, document, create_missing_fields, flush)\u001b[0m\n\u001b[1;32m    760\u001b[0m \u001b[38;5;28;01mif\u001b[39;00m \u001b[38;5;129;01mnot\u001b[39;00m \u001b[38;5;28misinstance\u001b[39m(document, \u001b[38;5;28mdict\u001b[39m):\n\u001b[1;32m    761\u001b[0m     document \u001b[38;5;241m=\u001b[39m {primary_key: document}\n\u001b[0;32m--> 762\u001b[0m \u001b[38;5;28;43mself\u001b[39;49m\u001b[38;5;241;43m.\u001b[39;49m\u001b[43mengine\u001b[49m\u001b[38;5;241;43m.\u001b[39;49m\u001b[43madd_document\u001b[49m\u001b[43m(\u001b[49m\u001b[43mcollection\u001b[49m\u001b[43m,\u001b[49m\u001b[43m \u001b[49m\u001b[43mdocument\u001b[49m\u001b[43m,\u001b[49m\u001b[43m \u001b[49m\u001b[43mcreate_missing_fields\u001b[49m\u001b[43m)\u001b[49m\n",
      "File \u001b[0;32m/opt/hostedtoolcache/Python/3.9.16/x64/lib/python3.9/site-packages/populse_db/engine/sqlite.py:361\u001b[0m, in \u001b[0;36mSQLiteEngine.add_document\u001b[0;34m(self, collection, document, create_missing_fields)\u001b[0m\n\u001b[1;32m    356\u001b[0m sql \u001b[38;5;241m=\u001b[39m \u001b[38;5;124m'\u001b[39m\u001b[38;5;124mINSERT INTO [\u001b[39m\u001b[38;5;132;01m%s\u001b[39;00m\u001b[38;5;124m] (\u001b[39m\u001b[38;5;132;01m%s\u001b[39;00m\u001b[38;5;124m) VALUES (\u001b[39m\u001b[38;5;132;01m%s\u001b[39;00m\u001b[38;5;124m)\u001b[39m\u001b[38;5;124m'\u001b[39m \u001b[38;5;241m%\u001b[39m (\n\u001b[1;32m    357\u001b[0m     table,\n\u001b[1;32m    358\u001b[0m     \u001b[38;5;124m'\u001b[39m\u001b[38;5;124m,\u001b[39m\u001b[38;5;124m'\u001b[39m\u001b[38;5;241m.\u001b[39mjoin(\u001b[38;5;124m'\u001b[39m\u001b[38;5;124m[\u001b[39m\u001b[38;5;132;01m%s\u001b[39;00m\u001b[38;5;124m]\u001b[39m\u001b[38;5;124m'\u001b[39m \u001b[38;5;241m%\u001b[39m i \u001b[38;5;28;01mfor\u001b[39;00m i \u001b[38;5;129;01min\u001b[39;00m column_values\u001b[38;5;241m.\u001b[39mkeys()),\n\u001b[1;32m    359\u001b[0m     \u001b[38;5;124m'\u001b[39m\u001b[38;5;124m,\u001b[39m\u001b[38;5;124m'\u001b[39m\u001b[38;5;241m.\u001b[39mjoin(\u001b[38;5;124m'\u001b[39m\u001b[38;5;124m?\u001b[39m\u001b[38;5;124m'\u001b[39m \u001b[38;5;28;01mfor\u001b[39;00m i \u001b[38;5;129;01min\u001b[39;00m column_values))\n\u001b[1;32m    360\u001b[0m \u001b[38;5;28;01mtry\u001b[39;00m:\n\u001b[0;32m--> 361\u001b[0m     \u001b[38;5;28;43mself\u001b[39;49m\u001b[38;5;241;43m.\u001b[39;49m\u001b[43mcursor\u001b[49m\u001b[38;5;241;43m.\u001b[39;49m\u001b[43mexecute\u001b[49m\u001b[43m(\u001b[49m\u001b[43msql\u001b[49m\u001b[43m,\u001b[49m\u001b[43m \u001b[49m\u001b[38;5;28;43mlist\u001b[39;49m\u001b[43m(\u001b[49m\u001b[43mcolumn_values\u001b[49m\u001b[38;5;241;43m.\u001b[39;49m\u001b[43mvalues\u001b[49m\u001b[43m(\u001b[49m\u001b[43m)\u001b[49m\u001b[43m)\u001b[49m\u001b[43m)\u001b[49m\n\u001b[1;32m    362\u001b[0m \u001b[38;5;28;01mexcept\u001b[39;00m sqlite3\u001b[38;5;241m.\u001b[39mIntegrityError \u001b[38;5;28;01mas\u001b[39;00m e:\n\u001b[1;32m    363\u001b[0m     \u001b[38;5;28;01mraise\u001b[39;00m \u001b[38;5;167;01mValueError\u001b[39;00m(\u001b[38;5;28mstr\u001b[39m(e))\n",
      "\u001b[0;31mInterfaceError\u001b[0m: Error binding parameter 1 - probably unsupported type."
     ]
    }
   ],
   "source": [
    "infile = '/tmp/dummy.txt'\n",
    "outfile = '/tmp/dummy_modified.txt'\n",
    "intermediate = '/tmp/dummy_intermediate.txt'\n",
    "open(infile, 'w').write('I ate 5 cakes this morning.\\nLet\\'s eat 3 or 4 more.\\n')\n",
    "pipeline5.input = infile\n",
    "pipeline5.b = outfile\n",
    "pipeline5.intermediate = intermediate\n",
    "pipeline5()\n",
    "print(open(outfile).read())"
   ]
  },
  {
   "cell_type": "code",
   "execution_count": 31,
   "metadata": {
    "collapsed": true,
    "deletable": true,
    "editable": true,
    "execution": {
     "iopub.execute_input": "2023-06-08T11:04:15.622305Z",
     "iopub.status.busy": "2023-06-08T11:04:15.621913Z",
     "iopub.status.idle": "2023-06-08T11:04:15.644328Z",
     "shell.execute_reply": "2023-06-08T11:04:15.643491Z"
    }
   },
   "outputs": [
    {
     "ename": "FileNotFoundError",
     "evalue": "[Errno 2] No such file or directory: '/tmp/dummy_modified.txt'",
     "output_type": "error",
     "traceback": [
      "\u001b[0;31m---------------------------------------------------------------------------\u001b[0m",
      "\u001b[0;31mFileNotFoundError\u001b[0m                         Traceback (most recent call last)",
      "Cell \u001b[0;32mIn[31], line 2\u001b[0m\n\u001b[1;32m      1\u001b[0m \u001b[38;5;66;03m# cleanup\u001b[39;00m\n\u001b[0;32m----> 2\u001b[0m \u001b[43mos\u001b[49m\u001b[38;5;241;43m.\u001b[39;49m\u001b[43munlink\u001b[49m\u001b[43m(\u001b[49m\u001b[43moutfile\u001b[49m\u001b[43m)\u001b[49m\n\u001b[1;32m      3\u001b[0m os\u001b[38;5;241m.\u001b[39munlink(intermediate)\n",
      "\u001b[0;31mFileNotFoundError\u001b[0m: [Errno 2] No such file or directory: '/tmp/dummy_modified.txt'"
     ]
    }
   ],
   "source": [
    "# cleanup\n",
    "os.unlink(outfile)\n",
    "os.unlink(intermediate)"
   ]
  },
  {
   "cell_type": "markdown",
   "metadata": {
    "deletable": true,
    "editable": true
   },
   "source": [
    "To solve this issue, we need an element which conditionally bridges or breaks the link between *node1.output* and *intermediate*. This is the job of **optional output switches**:"
   ]
  },
  {
   "cell_type": "code",
   "execution_count": 32,
   "metadata": {
    "collapsed": true,
    "deletable": true,
    "editable": true,
    "execution": {
     "iopub.execute_input": "2023-06-08T11:04:15.647805Z",
     "iopub.status.busy": "2023-06-08T11:04:15.647496Z",
     "iopub.status.idle": "2023-06-08T11:04:15.656083Z",
     "shell.execute_reply": "2023-06-08T11:04:15.655132Z"
    }
   },
   "outputs": [],
   "source": [
    "class Pipeline6(Pipeline):\n",
    "    \n",
    "    def pipeline_definition(self):\n",
    "        self.add_process(\"node1\", '__main__.node_first')\n",
    "        self.add_process(\"node2\", '__main__.node_second')\n",
    "        self.add_optional_output_switch('b', 'input')\n",
    "        self.add_link('node1.output->node2.a')\n",
    "        self.add_link('node1.output->b.input_switch_b')\n",
    "        self.export_parameter('b', 'b', 'intermediate', is_optional=True)"
   ]
  },
  {
   "cell_type": "code",
   "execution_count": 33,
   "metadata": {
    "collapsed": true,
    "deletable": true,
    "editable": true,
    "execution": {
     "iopub.execute_input": "2023-06-08T11:04:15.661580Z",
     "iopub.status.busy": "2023-06-08T11:04:15.660916Z",
     "iopub.status.idle": "2023-06-08T11:04:15.673614Z",
     "shell.execute_reply": "2023-06-08T11:04:15.672653Z"
    }
   },
   "outputs": [],
   "source": [
    "pipeline6 = Pipeline6()\n",
    "if globals().get('use_gui', True):\n",
    "    view6 = PipelineDevelopperView(pipeline6, allow_open_controller=True, show_sub_pipelines=True)\n",
    "    view6.show()\n",
    "    if run_qt_loop:\n",
    "        app.exec_()"
   ]
  },
  {
   "cell_type": "markdown",
   "metadata": {
    "deletable": true,
    "editable": true
   },
   "source": [
    "![pipeline6](images/capsul_pipeline6.jpg \"pipeline6\")\n",
    "\n",
    "as long as pipeline6.intermediate is empty, the switch is off. *node1.output* gets a temporary value."
   ]
  },
  {
   "cell_type": "code",
   "execution_count": 34,
   "metadata": {
    "collapsed": false,
    "deletable": true,
    "editable": true,
    "execution": {
     "iopub.execute_input": "2023-06-08T11:04:15.677144Z",
     "iopub.status.busy": "2023-06-08T11:04:15.676748Z",
     "iopub.status.idle": "2023-06-08T11:04:15.841696Z",
     "shell.execute_reply": "2023-06-08T11:04:15.840534Z"
    }
   },
   "outputs": [
    {
     "ename": "InterfaceError",
     "evalue": "Error binding parameter 1 - probably unsupported type.",
     "output_type": "error",
     "traceback": [
      "\u001b[0;31m---------------------------------------------------------------------------\u001b[0m",
      "\u001b[0;31mInterfaceError\u001b[0m                            Traceback (most recent call last)",
      "Cell \u001b[0;32mIn[34], line 3\u001b[0m\n\u001b[1;32m      1\u001b[0m pipeline6\u001b[38;5;241m.\u001b[39minput \u001b[38;5;241m=\u001b[39m infile\n\u001b[1;32m      2\u001b[0m pipeline6\u001b[38;5;241m.\u001b[39mb \u001b[38;5;241m=\u001b[39m outfile\n\u001b[0;32m----> 3\u001b[0m \u001b[43mpipeline6\u001b[49m\u001b[43m(\u001b[49m\u001b[43m)\u001b[49m\n\u001b[1;32m      4\u001b[0m \u001b[38;5;28mprint\u001b[39m(\u001b[38;5;28mopen\u001b[39m(outfile)\u001b[38;5;241m.\u001b[39mread())\n",
      "File \u001b[0;32m~/work/capsul/capsul/capsul/process/process.py:305\u001b[0m, in \u001b[0;36mProcess.__call__\u001b[0;34m(self, **kwargs)\u001b[0m\n\u001b[1;32m    271\u001b[0m \u001b[38;5;250m\u001b[39m\u001b[38;5;124;03m\"\"\" Method to execute the Process.\u001b[39;00m\n\u001b[1;32m    272\u001b[0m \n\u001b[1;32m    273\u001b[0m \u001b[38;5;124;03mKeyword arguments may be passed to set process parameters.\u001b[39;00m\n\u001b[0;32m   (...)\u001b[0m\n\u001b[1;32m    302\u001b[0m \u001b[38;5;124;03m    contains all execution information.\u001b[39;00m\n\u001b[1;32m    303\u001b[0m \u001b[38;5;124;03m\"\"\"\u001b[39;00m\n\u001b[1;32m    304\u001b[0m \u001b[38;5;66;03m# Execute the process\u001b[39;00m\n\u001b[0;32m--> 305\u001b[0m returncode \u001b[38;5;241m=\u001b[39m \u001b[38;5;28;43mself\u001b[39;49m\u001b[38;5;241;43m.\u001b[39;49m\u001b[43mget_study_config\u001b[49m\u001b[43m(\u001b[49m\u001b[43m)\u001b[49m\u001b[38;5;241m.\u001b[39mrun(\u001b[38;5;28mself\u001b[39m, \u001b[38;5;241m*\u001b[39m\u001b[38;5;241m*\u001b[39mkwargs)\n\u001b[1;32m    306\u001b[0m \u001b[38;5;28;01mreturn\u001b[39;00m returncode\n",
      "File \u001b[0;32m~/work/capsul/capsul/capsul/process/process.py:1090\u001b[0m, in \u001b[0;36mProcess.get_study_config\u001b[0;34m(self)\u001b[0m\n\u001b[1;32m   1087\u001b[0m \u001b[38;5;28;01mif\u001b[39;00m \u001b[38;5;28mself\u001b[39m\u001b[38;5;241m.\u001b[39mstudy_config \u001b[38;5;129;01mis\u001b[39;00m \u001b[38;5;28;01mNone\u001b[39;00m:\n\u001b[1;32m   1088\u001b[0m     \u001b[38;5;66;03m# Import cannot be done on module due to circular dependencies\u001b[39;00m\n\u001b[1;32m   1089\u001b[0m     \u001b[38;5;28;01mfrom\u001b[39;00m \u001b[38;5;21;01mcapsul\u001b[39;00m\u001b[38;5;21;01m.\u001b[39;00m\u001b[38;5;21;01mstudy_config\u001b[39;00m\u001b[38;5;21;01m.\u001b[39;00m\u001b[38;5;21;01mstudy_config\u001b[39;00m \u001b[38;5;28;01mimport\u001b[39;00m default_study_config\n\u001b[0;32m-> 1090\u001b[0m     \u001b[38;5;28mself\u001b[39m\u001b[38;5;241m.\u001b[39mset_study_config(\u001b[43mdefault_study_config\u001b[49m\u001b[43m(\u001b[49m\u001b[43m)\u001b[49m)\n\u001b[1;32m   1091\u001b[0m \u001b[38;5;28;01mreturn\u001b[39;00m \u001b[38;5;28mself\u001b[39m\u001b[38;5;241m.\u001b[39mstudy_config\n",
      "File \u001b[0;32m~/work/capsul/capsul/capsul/study_config/study_config.py:762\u001b[0m, in \u001b[0;36mdefault_study_config\u001b[0;34m()\u001b[0m\n\u001b[1;32m    760\u001b[0m \u001b[38;5;28;01mglobal\u001b[39;00m _default_study_config\n\u001b[1;32m    761\u001b[0m \u001b[38;5;28;01mif\u001b[39;00m _default_study_config \u001b[38;5;129;01mis\u001b[39;00m \u001b[38;5;28;01mNone\u001b[39;00m:\n\u001b[0;32m--> 762\u001b[0m     _default_study_config \u001b[38;5;241m=\u001b[39m \u001b[43mStudyConfig\u001b[49m\u001b[43m(\u001b[49m\u001b[43m)\u001b[49m\n\u001b[1;32m    763\u001b[0m \u001b[38;5;28;01mreturn\u001b[39;00m _default_study_config\n",
      "File \u001b[0;32m~/work/capsul/capsul/capsul/study_config/study_config.py:225\u001b[0m, in \u001b[0;36mStudyConfig.__init__\u001b[0;34m(self, study_name, init_config, modules, engine, **override_config)\u001b[0m\n\u001b[1;32m    223\u001b[0m \u001b[38;5;28;01mfor\u001b[39;00m k, v \u001b[38;5;129;01min\u001b[39;00m six\u001b[38;5;241m.\u001b[39miteritems(config):\n\u001b[1;32m    224\u001b[0m     \u001b[38;5;28msetattr\u001b[39m(\u001b[38;5;28mself\u001b[39m, k, v)\n\u001b[0;32m--> 225\u001b[0m \u001b[38;5;28;43mself\u001b[39;49m\u001b[38;5;241;43m.\u001b[39;49m\u001b[43minitialize_modules\u001b[49m\u001b[43m(\u001b[49m\u001b[43m)\u001b[49m\n\u001b[1;32m    226\u001b[0m \u001b[38;5;28mself\u001b[39m\u001b[38;5;241m.\u001b[39mrun_lock \u001b[38;5;241m=\u001b[39m threading\u001b[38;5;241m.\u001b[39mRLock()\n\u001b[1;32m    227\u001b[0m \u001b[38;5;28mself\u001b[39m\u001b[38;5;241m.\u001b[39mrun_interruption_request \u001b[38;5;241m=\u001b[39m \u001b[38;5;28;01mFalse\u001b[39;00m\n",
      "File \u001b[0;32m~/work/capsul/capsul/capsul/study_config/study_config.py:256\u001b[0m, in \u001b[0;36mStudyConfig.initialize_modules\u001b[0;34m(self)\u001b[0m\n\u001b[1;32m    254\u001b[0m     \u001b[38;5;28;01mcontinue\u001b[39;00m\n\u001b[1;32m    255\u001b[0m \u001b[38;5;66;03m# Initialize a module\u001b[39;00m\n\u001b[0;32m--> 256\u001b[0m \u001b[43mmodule\u001b[49m\u001b[38;5;241;43m.\u001b[39;49m\u001b[43minitialize_module\u001b[49m\u001b[43m(\u001b[49m\u001b[43m)\u001b[49m\n\u001b[1;32m    257\u001b[0m module\u001b[38;5;241m.\u001b[39minitialize_callbacks()\n\u001b[1;32m    258\u001b[0m already_initialized\u001b[38;5;241m.\u001b[39madd(module_name)\n",
      "File \u001b[0;32m~/work/capsul/capsul/capsul/study_config/config_modules/spm_config.py:70\u001b[0m, in \u001b[0;36mSPMConfig.initialize_module\u001b[0;34m(self)\u001b[0m\n\u001b[1;32m     68\u001b[0m     \u001b[38;5;28mself\u001b[39m\u001b[38;5;241m.\u001b[39msync_from_engine()\n\u001b[1;32m     69\u001b[0m \u001b[38;5;28;01melse\u001b[39;00m:\n\u001b[0;32m---> 70\u001b[0m     \u001b[38;5;28;43mself\u001b[39;49m\u001b[38;5;241;43m.\u001b[39;49m\u001b[43msync_to_engine\u001b[49m\u001b[43m(\u001b[49m\u001b[43m)\u001b[49m\n\u001b[1;32m     71\u001b[0m \u001b[38;5;66;03m# this test aims to raise an exception in case of incorrect setting,\u001b[39;00m\n\u001b[1;32m     72\u001b[0m \u001b[38;5;66;03m# complying to capsul 2.x behavior.\u001b[39;00m\n\u001b[1;32m     73\u001b[0m \u001b[38;5;28;01mif\u001b[39;00m \u001b[38;5;28mself\u001b[39m\u001b[38;5;241m.\u001b[39mstudy_config\u001b[38;5;241m.\u001b[39muse_spm \u001b[38;5;129;01mis\u001b[39;00m \u001b[38;5;28;01mTrue\u001b[39;00m:\n",
      "File \u001b[0;32m~/work/capsul/capsul/capsul/study_config/config_modules/spm_config.py:209\u001b[0m, in \u001b[0;36mSPMConfig.sync_to_engine\u001b[0;34m(self)\u001b[0m\n\u001b[1;32m    205\u001b[0m config \u001b[38;5;241m=\u001b[39m session\u001b[38;5;241m.\u001b[39mconfig(\u001b[38;5;124m'\u001b[39m\u001b[38;5;124mmatlab\u001b[39m\u001b[38;5;124m'\u001b[39m, \u001b[38;5;124m'\u001b[39m\u001b[38;5;124mglobal\u001b[39m\u001b[38;5;124m'\u001b[39m,\n\u001b[1;32m    206\u001b[0m                         selection\u001b[38;5;241m=\u001b[39m\u001b[38;5;124m'\u001b[39m\u001b[38;5;132;01m%s\u001b[39;00m\u001b[38;5;124m == \u001b[39m\u001b[38;5;124m\"\u001b[39m\u001b[38;5;124mmatlab\u001b[39m\u001b[38;5;124m\"\u001b[39m\u001b[38;5;124m'\u001b[39m\n\u001b[1;32m    207\u001b[0m                         \u001b[38;5;241m%\u001b[39m cif)\n\u001b[1;32m    208\u001b[0m \u001b[38;5;28;01mif\u001b[39;00m config \u001b[38;5;129;01mis\u001b[39;00m \u001b[38;5;28;01mNone\u001b[39;00m:\n\u001b[0;32m--> 209\u001b[0m     \u001b[43msession\u001b[49m\u001b[38;5;241;43m.\u001b[39;49m\u001b[43mnew_config\u001b[49m\u001b[43m(\u001b[49m\n\u001b[1;32m    210\u001b[0m \u001b[43m        \u001b[49m\u001b[38;5;124;43m'\u001b[39;49m\u001b[38;5;124;43mmatlab\u001b[39;49m\u001b[38;5;124;43m'\u001b[39;49m\u001b[43m,\u001b[49m\u001b[43m \u001b[49m\u001b[38;5;124;43m'\u001b[39;49m\u001b[38;5;124;43mglobal\u001b[39;49m\u001b[38;5;124;43m'\u001b[39;49m\u001b[43m,\u001b[49m\n\u001b[1;32m    211\u001b[0m \u001b[43m        \u001b[49m\u001b[43m{\u001b[49m\u001b[38;5;124;43m'\u001b[39;49m\u001b[38;5;124;43mmcr_directory\u001b[39;49m\u001b[38;5;124;43m'\u001b[39;49m\u001b[43m:\u001b[49m\n\u001b[1;32m    212\u001b[0m \u001b[43m            \u001b[49m\u001b[38;5;28;43mself\u001b[39;49m\u001b[38;5;241;43m.\u001b[39;49m\u001b[43mstudy_config\u001b[49m\u001b[38;5;241;43m.\u001b[39;49m\u001b[43mspm_directory\u001b[49m\u001b[43m}\u001b[49m\u001b[43m)\u001b[49m\n\u001b[1;32m    213\u001b[0m \u001b[38;5;28;01melse\u001b[39;00m:\n\u001b[1;32m    214\u001b[0m     config\u001b[38;5;241m.\u001b[39mmcr_directory \\\n\u001b[1;32m    215\u001b[0m         \u001b[38;5;241m=\u001b[39m \u001b[38;5;28mself\u001b[39m\u001b[38;5;241m.\u001b[39mstudy_config\u001b[38;5;241m.\u001b[39mspm_directory\n",
      "File \u001b[0;32m~/work/capsul/capsul/capsul/engine/settings.py:405\u001b[0m, in \u001b[0;36mSettingsSession.new_config\u001b[0;34m(self, module, environment, values)\u001b[0m\n\u001b[1;32m    403\u001b[0m document[Settings\u001b[38;5;241m.\u001b[39mconfig_id_field] \u001b[38;5;241m=\u001b[39m \u001b[38;5;124m'\u001b[39m\u001b[38;5;132;01m%s\u001b[39;00m\u001b[38;5;124m-\u001b[39m\u001b[38;5;132;01m%s\u001b[39;00m\u001b[38;5;124m'\u001b[39m \u001b[38;5;241m%\u001b[39m (\u001b[38;5;28mid\u001b[39m, environment)\n\u001b[1;32m    404\u001b[0m collection \u001b[38;5;241m=\u001b[39m \u001b[38;5;28mself\u001b[39m\u001b[38;5;241m.\u001b[39mcollection_name(module)\n\u001b[0;32m--> 405\u001b[0m \u001b[38;5;28;43mself\u001b[39;49m\u001b[38;5;241;43m.\u001b[39;49m\u001b[43m_dbs\u001b[49m\u001b[38;5;241;43m.\u001b[39;49m\u001b[43madd_document\u001b[49m\u001b[43m(\u001b[49m\u001b[43mcollection\u001b[49m\u001b[43m,\u001b[49m\u001b[43m \u001b[49m\u001b[43mdocument\u001b[49m\u001b[43m)\u001b[49m\n\u001b[1;32m    406\u001b[0m config \u001b[38;5;241m=\u001b[39m SettingsConfig(\n\u001b[1;32m    407\u001b[0m     \u001b[38;5;28mself\u001b[39m\u001b[38;5;241m.\u001b[39m_dbs, collection, \u001b[38;5;28mid\u001b[39m, environment,\n\u001b[1;32m    408\u001b[0m     notifiers\u001b[38;5;241m=\u001b[39m\u001b[38;5;28mself\u001b[39m\u001b[38;5;241m.\u001b[39mmodule_notifiers\u001b[38;5;241m.\u001b[39mget(Settings\u001b[38;5;241m.\u001b[39mmodule_name(module),\n\u001b[1;32m    409\u001b[0m                                         []))\n\u001b[1;32m    410\u001b[0m config\u001b[38;5;241m.\u001b[39mnotify()\n",
      "File \u001b[0;32m/opt/hostedtoolcache/Python/3.9.16/x64/lib/python3.9/site-packages/populse_db/database.py:762\u001b[0m, in \u001b[0;36mDatabaseSession.add_document\u001b[0;34m(self, collection, document, create_missing_fields, flush)\u001b[0m\n\u001b[1;32m    760\u001b[0m \u001b[38;5;28;01mif\u001b[39;00m \u001b[38;5;129;01mnot\u001b[39;00m \u001b[38;5;28misinstance\u001b[39m(document, \u001b[38;5;28mdict\u001b[39m):\n\u001b[1;32m    761\u001b[0m     document \u001b[38;5;241m=\u001b[39m {primary_key: document}\n\u001b[0;32m--> 762\u001b[0m \u001b[38;5;28;43mself\u001b[39;49m\u001b[38;5;241;43m.\u001b[39;49m\u001b[43mengine\u001b[49m\u001b[38;5;241;43m.\u001b[39;49m\u001b[43madd_document\u001b[49m\u001b[43m(\u001b[49m\u001b[43mcollection\u001b[49m\u001b[43m,\u001b[49m\u001b[43m \u001b[49m\u001b[43mdocument\u001b[49m\u001b[43m,\u001b[49m\u001b[43m \u001b[49m\u001b[43mcreate_missing_fields\u001b[49m\u001b[43m)\u001b[49m\n",
      "File \u001b[0;32m/opt/hostedtoolcache/Python/3.9.16/x64/lib/python3.9/site-packages/populse_db/engine/sqlite.py:361\u001b[0m, in \u001b[0;36mSQLiteEngine.add_document\u001b[0;34m(self, collection, document, create_missing_fields)\u001b[0m\n\u001b[1;32m    356\u001b[0m sql \u001b[38;5;241m=\u001b[39m \u001b[38;5;124m'\u001b[39m\u001b[38;5;124mINSERT INTO [\u001b[39m\u001b[38;5;132;01m%s\u001b[39;00m\u001b[38;5;124m] (\u001b[39m\u001b[38;5;132;01m%s\u001b[39;00m\u001b[38;5;124m) VALUES (\u001b[39m\u001b[38;5;132;01m%s\u001b[39;00m\u001b[38;5;124m)\u001b[39m\u001b[38;5;124m'\u001b[39m \u001b[38;5;241m%\u001b[39m (\n\u001b[1;32m    357\u001b[0m     table,\n\u001b[1;32m    358\u001b[0m     \u001b[38;5;124m'\u001b[39m\u001b[38;5;124m,\u001b[39m\u001b[38;5;124m'\u001b[39m\u001b[38;5;241m.\u001b[39mjoin(\u001b[38;5;124m'\u001b[39m\u001b[38;5;124m[\u001b[39m\u001b[38;5;132;01m%s\u001b[39;00m\u001b[38;5;124m]\u001b[39m\u001b[38;5;124m'\u001b[39m \u001b[38;5;241m%\u001b[39m i \u001b[38;5;28;01mfor\u001b[39;00m i \u001b[38;5;129;01min\u001b[39;00m column_values\u001b[38;5;241m.\u001b[39mkeys()),\n\u001b[1;32m    359\u001b[0m     \u001b[38;5;124m'\u001b[39m\u001b[38;5;124m,\u001b[39m\u001b[38;5;124m'\u001b[39m\u001b[38;5;241m.\u001b[39mjoin(\u001b[38;5;124m'\u001b[39m\u001b[38;5;124m?\u001b[39m\u001b[38;5;124m'\u001b[39m \u001b[38;5;28;01mfor\u001b[39;00m i \u001b[38;5;129;01min\u001b[39;00m column_values))\n\u001b[1;32m    360\u001b[0m \u001b[38;5;28;01mtry\u001b[39;00m:\n\u001b[0;32m--> 361\u001b[0m     \u001b[38;5;28;43mself\u001b[39;49m\u001b[38;5;241;43m.\u001b[39;49m\u001b[43mcursor\u001b[49m\u001b[38;5;241;43m.\u001b[39;49m\u001b[43mexecute\u001b[49m\u001b[43m(\u001b[49m\u001b[43msql\u001b[49m\u001b[43m,\u001b[49m\u001b[43m \u001b[49m\u001b[38;5;28;43mlist\u001b[39;49m\u001b[43m(\u001b[49m\u001b[43mcolumn_values\u001b[49m\u001b[38;5;241;43m.\u001b[39;49m\u001b[43mvalues\u001b[49m\u001b[43m(\u001b[49m\u001b[43m)\u001b[49m\u001b[43m)\u001b[49m\u001b[43m)\u001b[49m\n\u001b[1;32m    362\u001b[0m \u001b[38;5;28;01mexcept\u001b[39;00m sqlite3\u001b[38;5;241m.\u001b[39mIntegrityError \u001b[38;5;28;01mas\u001b[39;00m e:\n\u001b[1;32m    363\u001b[0m     \u001b[38;5;28;01mraise\u001b[39;00m \u001b[38;5;167;01mValueError\u001b[39;00m(\u001b[38;5;28mstr\u001b[39m(e))\n",
      "\u001b[0;31mInterfaceError\u001b[0m: Error binding parameter 1 - probably unsupported type."
     ]
    }
   ],
   "source": [
    "pipeline6.input = infile\n",
    "pipeline6.b = outfile\n",
    "pipeline6()\n",
    "print(open(outfile).read())"
   ]
  },
  {
   "cell_type": "code",
   "execution_count": 35,
   "metadata": {
    "collapsed": true,
    "deletable": true,
    "editable": true,
    "execution": {
     "iopub.execute_input": "2023-06-08T11:04:15.846015Z",
     "iopub.status.busy": "2023-06-08T11:04:15.845749Z",
     "iopub.status.idle": "2023-06-08T11:04:15.867013Z",
     "shell.execute_reply": "2023-06-08T11:04:15.866077Z"
    }
   },
   "outputs": [
    {
     "ename": "FileNotFoundError",
     "evalue": "[Errno 2] No such file or directory: '/tmp/dummy_modified.txt'",
     "output_type": "error",
     "traceback": [
      "\u001b[0;31m---------------------------------------------------------------------------\u001b[0m",
      "\u001b[0;31mFileNotFoundError\u001b[0m                         Traceback (most recent call last)",
      "Cell \u001b[0;32mIn[35], line 2\u001b[0m\n\u001b[1;32m      1\u001b[0m \u001b[38;5;66;03m# cleanup\u001b[39;00m\n\u001b[0;32m----> 2\u001b[0m \u001b[43mos\u001b[49m\u001b[38;5;241;43m.\u001b[39;49m\u001b[43munlink\u001b[49m\u001b[43m(\u001b[49m\u001b[43moutfile\u001b[49m\u001b[43m)\u001b[49m\n",
      "\u001b[0;31mFileNotFoundError\u001b[0m: [Errno 2] No such file or directory: '/tmp/dummy_modified.txt'"
     ]
    }
   ],
   "source": [
    "# cleanup\n",
    "os.unlink(outfile)"
   ]
  },
  {
   "cell_type": "code",
   "execution_count": 36,
   "metadata": {
    "collapsed": true,
    "deletable": true,
    "editable": true,
    "execution": {
     "iopub.execute_input": "2023-06-08T11:04:15.870979Z",
     "iopub.status.busy": "2023-06-08T11:04:15.870742Z",
     "iopub.status.idle": "2023-06-08T11:04:15.875372Z",
     "shell.execute_reply": "2023-06-08T11:04:15.874550Z"
    }
   },
   "outputs": [],
   "source": [
    "pipeline6.intermediate = intermediate"
   ]
  },
  {
   "cell_type": "code",
   "execution_count": 37,
   "metadata": {
    "collapsed": true,
    "deletable": true,
    "editable": true,
    "execution": {
     "iopub.execute_input": "2023-06-08T11:04:15.879520Z",
     "iopub.status.busy": "2023-06-08T11:04:15.879239Z",
     "iopub.status.idle": "2023-06-08T11:04:15.883176Z",
     "shell.execute_reply": "2023-06-08T11:04:15.882382Z"
    }
   },
   "outputs": [],
   "source": [
    "# the switch has been switched on automatically\n",
    "# node1.output gets the value assigned to pipeline6.intermediate\n",
    "if globals().get('use_gui', True):\n",
    "    view6.show()\n",
    "    if run_qt_loop:\n",
    "        app.exec_()"
   ]
  },
  {
   "cell_type": "markdown",
   "metadata": {
    "deletable": true,
    "editable": true
   },
   "source": [
    "![pipeline6 connected](images/capsul_pipeline6b.jpg \"pipeline6 connected\")"
   ]
  },
  {
   "cell_type": "code",
   "execution_count": 38,
   "metadata": {
    "collapsed": false,
    "deletable": true,
    "editable": true,
    "execution": {
     "iopub.execute_input": "2023-06-08T11:04:15.888071Z",
     "iopub.status.busy": "2023-06-08T11:04:15.887167Z",
     "iopub.status.idle": "2023-06-08T11:04:16.043024Z",
     "shell.execute_reply": "2023-06-08T11:04:16.042065Z"
    }
   },
   "outputs": [
    {
     "ename": "InterfaceError",
     "evalue": "Error binding parameter 1 - probably unsupported type.",
     "output_type": "error",
     "traceback": [
      "\u001b[0;31m---------------------------------------------------------------------------\u001b[0m",
      "\u001b[0;31mInterfaceError\u001b[0m                            Traceback (most recent call last)",
      "Cell \u001b[0;32mIn[38], line 1\u001b[0m\n\u001b[0;32m----> 1\u001b[0m \u001b[43mpipeline6\u001b[49m\u001b[43m(\u001b[49m\u001b[43m)\u001b[49m\n\u001b[1;32m      2\u001b[0m \u001b[38;5;28mprint\u001b[39m(\u001b[38;5;28mopen\u001b[39m(intermediate)\u001b[38;5;241m.\u001b[39mread())\n",
      "File \u001b[0;32m~/work/capsul/capsul/capsul/process/process.py:305\u001b[0m, in \u001b[0;36mProcess.__call__\u001b[0;34m(self, **kwargs)\u001b[0m\n\u001b[1;32m    271\u001b[0m \u001b[38;5;250m\u001b[39m\u001b[38;5;124;03m\"\"\" Method to execute the Process.\u001b[39;00m\n\u001b[1;32m    272\u001b[0m \n\u001b[1;32m    273\u001b[0m \u001b[38;5;124;03mKeyword arguments may be passed to set process parameters.\u001b[39;00m\n\u001b[0;32m   (...)\u001b[0m\n\u001b[1;32m    302\u001b[0m \u001b[38;5;124;03m    contains all execution information.\u001b[39;00m\n\u001b[1;32m    303\u001b[0m \u001b[38;5;124;03m\"\"\"\u001b[39;00m\n\u001b[1;32m    304\u001b[0m \u001b[38;5;66;03m# Execute the process\u001b[39;00m\n\u001b[0;32m--> 305\u001b[0m returncode \u001b[38;5;241m=\u001b[39m \u001b[38;5;28;43mself\u001b[39;49m\u001b[38;5;241;43m.\u001b[39;49m\u001b[43mget_study_config\u001b[49m\u001b[43m(\u001b[49m\u001b[43m)\u001b[49m\u001b[38;5;241m.\u001b[39mrun(\u001b[38;5;28mself\u001b[39m, \u001b[38;5;241m*\u001b[39m\u001b[38;5;241m*\u001b[39mkwargs)\n\u001b[1;32m    306\u001b[0m \u001b[38;5;28;01mreturn\u001b[39;00m returncode\n",
      "File \u001b[0;32m~/work/capsul/capsul/capsul/process/process.py:1090\u001b[0m, in \u001b[0;36mProcess.get_study_config\u001b[0;34m(self)\u001b[0m\n\u001b[1;32m   1087\u001b[0m \u001b[38;5;28;01mif\u001b[39;00m \u001b[38;5;28mself\u001b[39m\u001b[38;5;241m.\u001b[39mstudy_config \u001b[38;5;129;01mis\u001b[39;00m \u001b[38;5;28;01mNone\u001b[39;00m:\n\u001b[1;32m   1088\u001b[0m     \u001b[38;5;66;03m# Import cannot be done on module due to circular dependencies\u001b[39;00m\n\u001b[1;32m   1089\u001b[0m     \u001b[38;5;28;01mfrom\u001b[39;00m \u001b[38;5;21;01mcapsul\u001b[39;00m\u001b[38;5;21;01m.\u001b[39;00m\u001b[38;5;21;01mstudy_config\u001b[39;00m\u001b[38;5;21;01m.\u001b[39;00m\u001b[38;5;21;01mstudy_config\u001b[39;00m \u001b[38;5;28;01mimport\u001b[39;00m default_study_config\n\u001b[0;32m-> 1090\u001b[0m     \u001b[38;5;28mself\u001b[39m\u001b[38;5;241m.\u001b[39mset_study_config(\u001b[43mdefault_study_config\u001b[49m\u001b[43m(\u001b[49m\u001b[43m)\u001b[49m)\n\u001b[1;32m   1091\u001b[0m \u001b[38;5;28;01mreturn\u001b[39;00m \u001b[38;5;28mself\u001b[39m\u001b[38;5;241m.\u001b[39mstudy_config\n",
      "File \u001b[0;32m~/work/capsul/capsul/capsul/study_config/study_config.py:762\u001b[0m, in \u001b[0;36mdefault_study_config\u001b[0;34m()\u001b[0m\n\u001b[1;32m    760\u001b[0m \u001b[38;5;28;01mglobal\u001b[39;00m _default_study_config\n\u001b[1;32m    761\u001b[0m \u001b[38;5;28;01mif\u001b[39;00m _default_study_config \u001b[38;5;129;01mis\u001b[39;00m \u001b[38;5;28;01mNone\u001b[39;00m:\n\u001b[0;32m--> 762\u001b[0m     _default_study_config \u001b[38;5;241m=\u001b[39m \u001b[43mStudyConfig\u001b[49m\u001b[43m(\u001b[49m\u001b[43m)\u001b[49m\n\u001b[1;32m    763\u001b[0m \u001b[38;5;28;01mreturn\u001b[39;00m _default_study_config\n",
      "File \u001b[0;32m~/work/capsul/capsul/capsul/study_config/study_config.py:225\u001b[0m, in \u001b[0;36mStudyConfig.__init__\u001b[0;34m(self, study_name, init_config, modules, engine, **override_config)\u001b[0m\n\u001b[1;32m    223\u001b[0m \u001b[38;5;28;01mfor\u001b[39;00m k, v \u001b[38;5;129;01min\u001b[39;00m six\u001b[38;5;241m.\u001b[39miteritems(config):\n\u001b[1;32m    224\u001b[0m     \u001b[38;5;28msetattr\u001b[39m(\u001b[38;5;28mself\u001b[39m, k, v)\n\u001b[0;32m--> 225\u001b[0m \u001b[38;5;28;43mself\u001b[39;49m\u001b[38;5;241;43m.\u001b[39;49m\u001b[43minitialize_modules\u001b[49m\u001b[43m(\u001b[49m\u001b[43m)\u001b[49m\n\u001b[1;32m    226\u001b[0m \u001b[38;5;28mself\u001b[39m\u001b[38;5;241m.\u001b[39mrun_lock \u001b[38;5;241m=\u001b[39m threading\u001b[38;5;241m.\u001b[39mRLock()\n\u001b[1;32m    227\u001b[0m \u001b[38;5;28mself\u001b[39m\u001b[38;5;241m.\u001b[39mrun_interruption_request \u001b[38;5;241m=\u001b[39m \u001b[38;5;28;01mFalse\u001b[39;00m\n",
      "File \u001b[0;32m~/work/capsul/capsul/capsul/study_config/study_config.py:256\u001b[0m, in \u001b[0;36mStudyConfig.initialize_modules\u001b[0;34m(self)\u001b[0m\n\u001b[1;32m    254\u001b[0m     \u001b[38;5;28;01mcontinue\u001b[39;00m\n\u001b[1;32m    255\u001b[0m \u001b[38;5;66;03m# Initialize a module\u001b[39;00m\n\u001b[0;32m--> 256\u001b[0m \u001b[43mmodule\u001b[49m\u001b[38;5;241;43m.\u001b[39;49m\u001b[43minitialize_module\u001b[49m\u001b[43m(\u001b[49m\u001b[43m)\u001b[49m\n\u001b[1;32m    257\u001b[0m module\u001b[38;5;241m.\u001b[39minitialize_callbacks()\n\u001b[1;32m    258\u001b[0m already_initialized\u001b[38;5;241m.\u001b[39madd(module_name)\n",
      "File \u001b[0;32m~/work/capsul/capsul/capsul/study_config/config_modules/spm_config.py:70\u001b[0m, in \u001b[0;36mSPMConfig.initialize_module\u001b[0;34m(self)\u001b[0m\n\u001b[1;32m     68\u001b[0m     \u001b[38;5;28mself\u001b[39m\u001b[38;5;241m.\u001b[39msync_from_engine()\n\u001b[1;32m     69\u001b[0m \u001b[38;5;28;01melse\u001b[39;00m:\n\u001b[0;32m---> 70\u001b[0m     \u001b[38;5;28;43mself\u001b[39;49m\u001b[38;5;241;43m.\u001b[39;49m\u001b[43msync_to_engine\u001b[49m\u001b[43m(\u001b[49m\u001b[43m)\u001b[49m\n\u001b[1;32m     71\u001b[0m \u001b[38;5;66;03m# this test aims to raise an exception in case of incorrect setting,\u001b[39;00m\n\u001b[1;32m     72\u001b[0m \u001b[38;5;66;03m# complying to capsul 2.x behavior.\u001b[39;00m\n\u001b[1;32m     73\u001b[0m \u001b[38;5;28;01mif\u001b[39;00m \u001b[38;5;28mself\u001b[39m\u001b[38;5;241m.\u001b[39mstudy_config\u001b[38;5;241m.\u001b[39muse_spm \u001b[38;5;129;01mis\u001b[39;00m \u001b[38;5;28;01mTrue\u001b[39;00m:\n",
      "File \u001b[0;32m~/work/capsul/capsul/capsul/study_config/config_modules/spm_config.py:209\u001b[0m, in \u001b[0;36mSPMConfig.sync_to_engine\u001b[0;34m(self)\u001b[0m\n\u001b[1;32m    205\u001b[0m config \u001b[38;5;241m=\u001b[39m session\u001b[38;5;241m.\u001b[39mconfig(\u001b[38;5;124m'\u001b[39m\u001b[38;5;124mmatlab\u001b[39m\u001b[38;5;124m'\u001b[39m, \u001b[38;5;124m'\u001b[39m\u001b[38;5;124mglobal\u001b[39m\u001b[38;5;124m'\u001b[39m,\n\u001b[1;32m    206\u001b[0m                         selection\u001b[38;5;241m=\u001b[39m\u001b[38;5;124m'\u001b[39m\u001b[38;5;132;01m%s\u001b[39;00m\u001b[38;5;124m == \u001b[39m\u001b[38;5;124m\"\u001b[39m\u001b[38;5;124mmatlab\u001b[39m\u001b[38;5;124m\"\u001b[39m\u001b[38;5;124m'\u001b[39m\n\u001b[1;32m    207\u001b[0m                         \u001b[38;5;241m%\u001b[39m cif)\n\u001b[1;32m    208\u001b[0m \u001b[38;5;28;01mif\u001b[39;00m config \u001b[38;5;129;01mis\u001b[39;00m \u001b[38;5;28;01mNone\u001b[39;00m:\n\u001b[0;32m--> 209\u001b[0m     \u001b[43msession\u001b[49m\u001b[38;5;241;43m.\u001b[39;49m\u001b[43mnew_config\u001b[49m\u001b[43m(\u001b[49m\n\u001b[1;32m    210\u001b[0m \u001b[43m        \u001b[49m\u001b[38;5;124;43m'\u001b[39;49m\u001b[38;5;124;43mmatlab\u001b[39;49m\u001b[38;5;124;43m'\u001b[39;49m\u001b[43m,\u001b[49m\u001b[43m \u001b[49m\u001b[38;5;124;43m'\u001b[39;49m\u001b[38;5;124;43mglobal\u001b[39;49m\u001b[38;5;124;43m'\u001b[39;49m\u001b[43m,\u001b[49m\n\u001b[1;32m    211\u001b[0m \u001b[43m        \u001b[49m\u001b[43m{\u001b[49m\u001b[38;5;124;43m'\u001b[39;49m\u001b[38;5;124;43mmcr_directory\u001b[39;49m\u001b[38;5;124;43m'\u001b[39;49m\u001b[43m:\u001b[49m\n\u001b[1;32m    212\u001b[0m \u001b[43m            \u001b[49m\u001b[38;5;28;43mself\u001b[39;49m\u001b[38;5;241;43m.\u001b[39;49m\u001b[43mstudy_config\u001b[49m\u001b[38;5;241;43m.\u001b[39;49m\u001b[43mspm_directory\u001b[49m\u001b[43m}\u001b[49m\u001b[43m)\u001b[49m\n\u001b[1;32m    213\u001b[0m \u001b[38;5;28;01melse\u001b[39;00m:\n\u001b[1;32m    214\u001b[0m     config\u001b[38;5;241m.\u001b[39mmcr_directory \\\n\u001b[1;32m    215\u001b[0m         \u001b[38;5;241m=\u001b[39m \u001b[38;5;28mself\u001b[39m\u001b[38;5;241m.\u001b[39mstudy_config\u001b[38;5;241m.\u001b[39mspm_directory\n",
      "File \u001b[0;32m~/work/capsul/capsul/capsul/engine/settings.py:405\u001b[0m, in \u001b[0;36mSettingsSession.new_config\u001b[0;34m(self, module, environment, values)\u001b[0m\n\u001b[1;32m    403\u001b[0m document[Settings\u001b[38;5;241m.\u001b[39mconfig_id_field] \u001b[38;5;241m=\u001b[39m \u001b[38;5;124m'\u001b[39m\u001b[38;5;132;01m%s\u001b[39;00m\u001b[38;5;124m-\u001b[39m\u001b[38;5;132;01m%s\u001b[39;00m\u001b[38;5;124m'\u001b[39m \u001b[38;5;241m%\u001b[39m (\u001b[38;5;28mid\u001b[39m, environment)\n\u001b[1;32m    404\u001b[0m collection \u001b[38;5;241m=\u001b[39m \u001b[38;5;28mself\u001b[39m\u001b[38;5;241m.\u001b[39mcollection_name(module)\n\u001b[0;32m--> 405\u001b[0m \u001b[38;5;28;43mself\u001b[39;49m\u001b[38;5;241;43m.\u001b[39;49m\u001b[43m_dbs\u001b[49m\u001b[38;5;241;43m.\u001b[39;49m\u001b[43madd_document\u001b[49m\u001b[43m(\u001b[49m\u001b[43mcollection\u001b[49m\u001b[43m,\u001b[49m\u001b[43m \u001b[49m\u001b[43mdocument\u001b[49m\u001b[43m)\u001b[49m\n\u001b[1;32m    406\u001b[0m config \u001b[38;5;241m=\u001b[39m SettingsConfig(\n\u001b[1;32m    407\u001b[0m     \u001b[38;5;28mself\u001b[39m\u001b[38;5;241m.\u001b[39m_dbs, collection, \u001b[38;5;28mid\u001b[39m, environment,\n\u001b[1;32m    408\u001b[0m     notifiers\u001b[38;5;241m=\u001b[39m\u001b[38;5;28mself\u001b[39m\u001b[38;5;241m.\u001b[39mmodule_notifiers\u001b[38;5;241m.\u001b[39mget(Settings\u001b[38;5;241m.\u001b[39mmodule_name(module),\n\u001b[1;32m    409\u001b[0m                                         []))\n\u001b[1;32m    410\u001b[0m config\u001b[38;5;241m.\u001b[39mnotify()\n",
      "File \u001b[0;32m/opt/hostedtoolcache/Python/3.9.16/x64/lib/python3.9/site-packages/populse_db/database.py:762\u001b[0m, in \u001b[0;36mDatabaseSession.add_document\u001b[0;34m(self, collection, document, create_missing_fields, flush)\u001b[0m\n\u001b[1;32m    760\u001b[0m \u001b[38;5;28;01mif\u001b[39;00m \u001b[38;5;129;01mnot\u001b[39;00m \u001b[38;5;28misinstance\u001b[39m(document, \u001b[38;5;28mdict\u001b[39m):\n\u001b[1;32m    761\u001b[0m     document \u001b[38;5;241m=\u001b[39m {primary_key: document}\n\u001b[0;32m--> 762\u001b[0m \u001b[38;5;28;43mself\u001b[39;49m\u001b[38;5;241;43m.\u001b[39;49m\u001b[43mengine\u001b[49m\u001b[38;5;241;43m.\u001b[39;49m\u001b[43madd_document\u001b[49m\u001b[43m(\u001b[49m\u001b[43mcollection\u001b[49m\u001b[43m,\u001b[49m\u001b[43m \u001b[49m\u001b[43mdocument\u001b[49m\u001b[43m,\u001b[49m\u001b[43m \u001b[49m\u001b[43mcreate_missing_fields\u001b[49m\u001b[43m)\u001b[49m\n",
      "File \u001b[0;32m/opt/hostedtoolcache/Python/3.9.16/x64/lib/python3.9/site-packages/populse_db/engine/sqlite.py:361\u001b[0m, in \u001b[0;36mSQLiteEngine.add_document\u001b[0;34m(self, collection, document, create_missing_fields)\u001b[0m\n\u001b[1;32m    356\u001b[0m sql \u001b[38;5;241m=\u001b[39m \u001b[38;5;124m'\u001b[39m\u001b[38;5;124mINSERT INTO [\u001b[39m\u001b[38;5;132;01m%s\u001b[39;00m\u001b[38;5;124m] (\u001b[39m\u001b[38;5;132;01m%s\u001b[39;00m\u001b[38;5;124m) VALUES (\u001b[39m\u001b[38;5;132;01m%s\u001b[39;00m\u001b[38;5;124m)\u001b[39m\u001b[38;5;124m'\u001b[39m \u001b[38;5;241m%\u001b[39m (\n\u001b[1;32m    357\u001b[0m     table,\n\u001b[1;32m    358\u001b[0m     \u001b[38;5;124m'\u001b[39m\u001b[38;5;124m,\u001b[39m\u001b[38;5;124m'\u001b[39m\u001b[38;5;241m.\u001b[39mjoin(\u001b[38;5;124m'\u001b[39m\u001b[38;5;124m[\u001b[39m\u001b[38;5;132;01m%s\u001b[39;00m\u001b[38;5;124m]\u001b[39m\u001b[38;5;124m'\u001b[39m \u001b[38;5;241m%\u001b[39m i \u001b[38;5;28;01mfor\u001b[39;00m i \u001b[38;5;129;01min\u001b[39;00m column_values\u001b[38;5;241m.\u001b[39mkeys()),\n\u001b[1;32m    359\u001b[0m     \u001b[38;5;124m'\u001b[39m\u001b[38;5;124m,\u001b[39m\u001b[38;5;124m'\u001b[39m\u001b[38;5;241m.\u001b[39mjoin(\u001b[38;5;124m'\u001b[39m\u001b[38;5;124m?\u001b[39m\u001b[38;5;124m'\u001b[39m \u001b[38;5;28;01mfor\u001b[39;00m i \u001b[38;5;129;01min\u001b[39;00m column_values))\n\u001b[1;32m    360\u001b[0m \u001b[38;5;28;01mtry\u001b[39;00m:\n\u001b[0;32m--> 361\u001b[0m     \u001b[38;5;28;43mself\u001b[39;49m\u001b[38;5;241;43m.\u001b[39;49m\u001b[43mcursor\u001b[49m\u001b[38;5;241;43m.\u001b[39;49m\u001b[43mexecute\u001b[49m\u001b[43m(\u001b[49m\u001b[43msql\u001b[49m\u001b[43m,\u001b[49m\u001b[43m \u001b[49m\u001b[38;5;28;43mlist\u001b[39;49m\u001b[43m(\u001b[49m\u001b[43mcolumn_values\u001b[49m\u001b[38;5;241;43m.\u001b[39;49m\u001b[43mvalues\u001b[49m\u001b[43m(\u001b[49m\u001b[43m)\u001b[49m\u001b[43m)\u001b[49m\u001b[43m)\u001b[49m\n\u001b[1;32m    362\u001b[0m \u001b[38;5;28;01mexcept\u001b[39;00m sqlite3\u001b[38;5;241m.\u001b[39mIntegrityError \u001b[38;5;28;01mas\u001b[39;00m e:\n\u001b[1;32m    363\u001b[0m     \u001b[38;5;28;01mraise\u001b[39;00m \u001b[38;5;167;01mValueError\u001b[39;00m(\u001b[38;5;28mstr\u001b[39m(e))\n",
      "\u001b[0;31mInterfaceError\u001b[0m: Error binding parameter 1 - probably unsupported type."
     ]
    }
   ],
   "source": [
    "pipeline6()\n",
    "print(open(intermediate).read())"
   ]
  },
  {
   "cell_type": "code",
   "execution_count": 39,
   "metadata": {
    "collapsed": true,
    "deletable": true,
    "editable": true,
    "execution": {
     "iopub.execute_input": "2023-06-08T11:04:16.046955Z",
     "iopub.status.busy": "2023-06-08T11:04:16.046675Z",
     "iopub.status.idle": "2023-06-08T11:04:16.073875Z",
     "shell.execute_reply": "2023-06-08T11:04:16.073002Z"
    }
   },
   "outputs": [
    {
     "ename": "FileNotFoundError",
     "evalue": "[Errno 2] No such file or directory: '/tmp/dummy_modified.txt'",
     "output_type": "error",
     "traceback": [
      "\u001b[0;31m---------------------------------------------------------------------------\u001b[0m",
      "\u001b[0;31mFileNotFoundError\u001b[0m                         Traceback (most recent call last)",
      "Cell \u001b[0;32mIn[39], line 2\u001b[0m\n\u001b[1;32m      1\u001b[0m \u001b[38;5;66;03m# cleanup\u001b[39;00m\n\u001b[0;32m----> 2\u001b[0m \u001b[43mos\u001b[49m\u001b[38;5;241;43m.\u001b[39;49m\u001b[43munlink\u001b[49m\u001b[43m(\u001b[49m\u001b[43moutfile\u001b[49m\u001b[43m)\u001b[49m\n\u001b[1;32m      3\u001b[0m os\u001b[38;5;241m.\u001b[39munlink(intermediate)\n\u001b[1;32m      4\u001b[0m os\u001b[38;5;241m.\u001b[39munlink(infile)\n",
      "\u001b[0;31mFileNotFoundError\u001b[0m: [Errno 2] No such file or directory: '/tmp/dummy_modified.txt'"
     ]
    }
   ],
   "source": [
    "# cleanup\n",
    "os.unlink(outfile)\n",
    "os.unlink(intermediate)\n",
    "os.unlink(infile)"
   ]
  },
  {
   "cell_type": "markdown",
   "metadata": {
    "deletable": true,
    "editable": true
   },
   "source": [
    "<h1>StudyConfig</h1>\n",
    "\n",
    "<p>StudyConfig is a placeholder for study-wide parameters, settings, paths and so on. It is a modular configuration tool, which has modules to configure some external software.\n",
    "</p>\n",
    "\n",
    "<h2>A helper to configure state of the art medical software</h2>\n",
    "\n",
    "Capsul propose a module to configure external software:\n",
    "\n",
    "<ul style=\"list-style-type:disc;\">\n",
    "<li>FSL</li>\n",
    "<li>SPM</li>\n",
    "<li>FreeSurfer</li>\n",
    "<li>BrainVisa</li>\n",
    "</ul>\n",
    "\n",
    "With this module it is also possible to configure the execution of the pipeline:\n",
    "\n",
    "<ul style=\"list-style-type:disc;\">\n",
    "<li>Use smart caching</li>\n",
    "<li>Generate some logging</li>\n",
    "<li>Soma-Worflow to handle population imaging</li>\n",
    "</ul>\n",
    "\n",
    "For instance:"
   ]
  },
  {
   "cell_type": "code",
   "execution_count": 40,
   "metadata": {
    "collapsed": false,
    "deletable": true,
    "editable": true,
    "execution": {
     "iopub.execute_input": "2023-06-08T11:04:16.080210Z",
     "iopub.status.busy": "2023-06-08T11:04:16.078618Z",
     "iopub.status.idle": "2023-06-08T11:04:16.238465Z",
     "shell.execute_reply": "2023-06-08T11:04:16.237298Z"
    }
   },
   "outputs": [
    {
     "ename": "InterfaceError",
     "evalue": "Error binding parameter 1 - probably unsupported type.",
     "output_type": "error",
     "traceback": [
      "\u001b[0;31m---------------------------------------------------------------------------\u001b[0m",
      "\u001b[0;31mInterfaceError\u001b[0m                            Traceback (most recent call last)",
      "Cell \u001b[0;32mIn[40], line 7\u001b[0m\n\u001b[1;32m      2\u001b[0m \u001b[38;5;66;03m# optional config modules, need not to be explicitly loaded\u001b[39;00m\n\u001b[1;32m      3\u001b[0m \u001b[38;5;66;03m# from capsul.study_config.config_modules.freesurfer_config import FreeSurferConfig\u001b[39;00m\n\u001b[1;32m      4\u001b[0m \u001b[38;5;66;03m# from capsul.study_config.config_modules.brainvisa_config import BrainVISAConfig\u001b[39;00m\n\u001b[1;32m      6\u001b[0m default_config \u001b[38;5;241m=\u001b[39m {\u001b[38;5;124m\"\u001b[39m\u001b[38;5;124muse_soma_workflow\u001b[39m\u001b[38;5;124m\"\u001b[39m: \u001b[38;5;28;01mTrue\u001b[39;00m}\n\u001b[0;32m----> 7\u001b[0m study_config \u001b[38;5;241m=\u001b[39m \u001b[43mStudyConfig\u001b[49m\u001b[43m(\u001b[49m\u001b[43minitial_config\u001b[49m\u001b[38;5;241;43m=\u001b[39;49m\u001b[43mdefault_config\u001b[49m\u001b[43m,\u001b[49m\u001b[43m \u001b[49m\n\u001b[1;32m      8\u001b[0m \u001b[43m                           \u001b[49m\u001b[43mmodules\u001b[49m\u001b[38;5;241;43m=\u001b[39;49m\u001b[43mStudyConfig\u001b[49m\u001b[38;5;241;43m.\u001b[39;49m\u001b[43mdefault_modules\u001b[49m\u001b[43m \u001b[49m\u001b[38;5;241;43m+\u001b[39;49m\u001b[43m \u001b[49m\u001b[43m\\\u001b[49m\n\u001b[1;32m      9\u001b[0m \u001b[43m                           \u001b[49m\u001b[43m[\u001b[49m\u001b[38;5;124;43m'\u001b[39;49m\u001b[38;5;124;43mBrainVISAConfig\u001b[39;49m\u001b[38;5;124;43m'\u001b[39;49m\u001b[43m,\u001b[49m\u001b[43m \u001b[49m\u001b[38;5;124;43m'\u001b[39;49m\u001b[38;5;124;43mFSLConfig\u001b[39;49m\u001b[38;5;124;43m'\u001b[39;49m\u001b[43m,\u001b[49m\u001b[43m \u001b[49m\u001b[38;5;124;43m'\u001b[39;49m\u001b[38;5;124;43mFomConfig\u001b[39;49m\u001b[38;5;124;43m'\u001b[39;49m\u001b[43m]\u001b[49m\u001b[43m)\u001b[49m\n\u001b[1;32m     11\u001b[0m \u001b[38;5;66;03m# inspect config options\u001b[39;00m\n\u001b[1;32m     12\u001b[0m \u001b[38;5;28;01mfor\u001b[39;00m k \u001b[38;5;129;01min\u001b[39;00m study_config\u001b[38;5;241m.\u001b[39muser_traits()\u001b[38;5;241m.\u001b[39mkeys(): \u001b[38;5;28mprint\u001b[39m(k, \u001b[38;5;124m'\u001b[39m\u001b[38;5;124m:  \u001b[39m\u001b[38;5;124m'\u001b[39m, \u001b[38;5;28mgetattr\u001b[39m(study_config, k))\n",
      "File \u001b[0;32m~/work/capsul/capsul/capsul/study_config/study_config.py:225\u001b[0m, in \u001b[0;36mStudyConfig.__init__\u001b[0;34m(self, study_name, init_config, modules, engine, **override_config)\u001b[0m\n\u001b[1;32m    223\u001b[0m \u001b[38;5;28;01mfor\u001b[39;00m k, v \u001b[38;5;129;01min\u001b[39;00m six\u001b[38;5;241m.\u001b[39miteritems(config):\n\u001b[1;32m    224\u001b[0m     \u001b[38;5;28msetattr\u001b[39m(\u001b[38;5;28mself\u001b[39m, k, v)\n\u001b[0;32m--> 225\u001b[0m \u001b[38;5;28;43mself\u001b[39;49m\u001b[38;5;241;43m.\u001b[39;49m\u001b[43minitialize_modules\u001b[49m\u001b[43m(\u001b[49m\u001b[43m)\u001b[49m\n\u001b[1;32m    226\u001b[0m \u001b[38;5;28mself\u001b[39m\u001b[38;5;241m.\u001b[39mrun_lock \u001b[38;5;241m=\u001b[39m threading\u001b[38;5;241m.\u001b[39mRLock()\n\u001b[1;32m    227\u001b[0m \u001b[38;5;28mself\u001b[39m\u001b[38;5;241m.\u001b[39mrun_interruption_request \u001b[38;5;241m=\u001b[39m \u001b[38;5;28;01mFalse\u001b[39;00m\n",
      "File \u001b[0;32m~/work/capsul/capsul/capsul/study_config/study_config.py:256\u001b[0m, in \u001b[0;36mStudyConfig.initialize_modules\u001b[0;34m(self)\u001b[0m\n\u001b[1;32m    254\u001b[0m     \u001b[38;5;28;01mcontinue\u001b[39;00m\n\u001b[1;32m    255\u001b[0m \u001b[38;5;66;03m# Initialize a module\u001b[39;00m\n\u001b[0;32m--> 256\u001b[0m \u001b[43mmodule\u001b[49m\u001b[38;5;241;43m.\u001b[39;49m\u001b[43minitialize_module\u001b[49m\u001b[43m(\u001b[49m\u001b[43m)\u001b[49m\n\u001b[1;32m    257\u001b[0m module\u001b[38;5;241m.\u001b[39minitialize_callbacks()\n\u001b[1;32m    258\u001b[0m already_initialized\u001b[38;5;241m.\u001b[39madd(module_name)\n",
      "File \u001b[0;32m~/work/capsul/capsul/capsul/study_config/config_modules/spm_config.py:70\u001b[0m, in \u001b[0;36mSPMConfig.initialize_module\u001b[0;34m(self)\u001b[0m\n\u001b[1;32m     68\u001b[0m     \u001b[38;5;28mself\u001b[39m\u001b[38;5;241m.\u001b[39msync_from_engine()\n\u001b[1;32m     69\u001b[0m \u001b[38;5;28;01melse\u001b[39;00m:\n\u001b[0;32m---> 70\u001b[0m     \u001b[38;5;28;43mself\u001b[39;49m\u001b[38;5;241;43m.\u001b[39;49m\u001b[43msync_to_engine\u001b[49m\u001b[43m(\u001b[49m\u001b[43m)\u001b[49m\n\u001b[1;32m     71\u001b[0m \u001b[38;5;66;03m# this test aims to raise an exception in case of incorrect setting,\u001b[39;00m\n\u001b[1;32m     72\u001b[0m \u001b[38;5;66;03m# complying to capsul 2.x behavior.\u001b[39;00m\n\u001b[1;32m     73\u001b[0m \u001b[38;5;28;01mif\u001b[39;00m \u001b[38;5;28mself\u001b[39m\u001b[38;5;241m.\u001b[39mstudy_config\u001b[38;5;241m.\u001b[39muse_spm \u001b[38;5;129;01mis\u001b[39;00m \u001b[38;5;28;01mTrue\u001b[39;00m:\n",
      "File \u001b[0;32m~/work/capsul/capsul/capsul/study_config/config_modules/spm_config.py:209\u001b[0m, in \u001b[0;36mSPMConfig.sync_to_engine\u001b[0;34m(self)\u001b[0m\n\u001b[1;32m    205\u001b[0m config \u001b[38;5;241m=\u001b[39m session\u001b[38;5;241m.\u001b[39mconfig(\u001b[38;5;124m'\u001b[39m\u001b[38;5;124mmatlab\u001b[39m\u001b[38;5;124m'\u001b[39m, \u001b[38;5;124m'\u001b[39m\u001b[38;5;124mglobal\u001b[39m\u001b[38;5;124m'\u001b[39m,\n\u001b[1;32m    206\u001b[0m                         selection\u001b[38;5;241m=\u001b[39m\u001b[38;5;124m'\u001b[39m\u001b[38;5;132;01m%s\u001b[39;00m\u001b[38;5;124m == \u001b[39m\u001b[38;5;124m\"\u001b[39m\u001b[38;5;124mmatlab\u001b[39m\u001b[38;5;124m\"\u001b[39m\u001b[38;5;124m'\u001b[39m\n\u001b[1;32m    207\u001b[0m                         \u001b[38;5;241m%\u001b[39m cif)\n\u001b[1;32m    208\u001b[0m \u001b[38;5;28;01mif\u001b[39;00m config \u001b[38;5;129;01mis\u001b[39;00m \u001b[38;5;28;01mNone\u001b[39;00m:\n\u001b[0;32m--> 209\u001b[0m     \u001b[43msession\u001b[49m\u001b[38;5;241;43m.\u001b[39;49m\u001b[43mnew_config\u001b[49m\u001b[43m(\u001b[49m\n\u001b[1;32m    210\u001b[0m \u001b[43m        \u001b[49m\u001b[38;5;124;43m'\u001b[39;49m\u001b[38;5;124;43mmatlab\u001b[39;49m\u001b[38;5;124;43m'\u001b[39;49m\u001b[43m,\u001b[49m\u001b[43m \u001b[49m\u001b[38;5;124;43m'\u001b[39;49m\u001b[38;5;124;43mglobal\u001b[39;49m\u001b[38;5;124;43m'\u001b[39;49m\u001b[43m,\u001b[49m\n\u001b[1;32m    211\u001b[0m \u001b[43m        \u001b[49m\u001b[43m{\u001b[49m\u001b[38;5;124;43m'\u001b[39;49m\u001b[38;5;124;43mmcr_directory\u001b[39;49m\u001b[38;5;124;43m'\u001b[39;49m\u001b[43m:\u001b[49m\n\u001b[1;32m    212\u001b[0m \u001b[43m            \u001b[49m\u001b[38;5;28;43mself\u001b[39;49m\u001b[38;5;241;43m.\u001b[39;49m\u001b[43mstudy_config\u001b[49m\u001b[38;5;241;43m.\u001b[39;49m\u001b[43mspm_directory\u001b[49m\u001b[43m}\u001b[49m\u001b[43m)\u001b[49m\n\u001b[1;32m    213\u001b[0m \u001b[38;5;28;01melse\u001b[39;00m:\n\u001b[1;32m    214\u001b[0m     config\u001b[38;5;241m.\u001b[39mmcr_directory \\\n\u001b[1;32m    215\u001b[0m         \u001b[38;5;241m=\u001b[39m \u001b[38;5;28mself\u001b[39m\u001b[38;5;241m.\u001b[39mstudy_config\u001b[38;5;241m.\u001b[39mspm_directory\n",
      "File \u001b[0;32m~/work/capsul/capsul/capsul/engine/settings.py:405\u001b[0m, in \u001b[0;36mSettingsSession.new_config\u001b[0;34m(self, module, environment, values)\u001b[0m\n\u001b[1;32m    403\u001b[0m document[Settings\u001b[38;5;241m.\u001b[39mconfig_id_field] \u001b[38;5;241m=\u001b[39m \u001b[38;5;124m'\u001b[39m\u001b[38;5;132;01m%s\u001b[39;00m\u001b[38;5;124m-\u001b[39m\u001b[38;5;132;01m%s\u001b[39;00m\u001b[38;5;124m'\u001b[39m \u001b[38;5;241m%\u001b[39m (\u001b[38;5;28mid\u001b[39m, environment)\n\u001b[1;32m    404\u001b[0m collection \u001b[38;5;241m=\u001b[39m \u001b[38;5;28mself\u001b[39m\u001b[38;5;241m.\u001b[39mcollection_name(module)\n\u001b[0;32m--> 405\u001b[0m \u001b[38;5;28;43mself\u001b[39;49m\u001b[38;5;241;43m.\u001b[39;49m\u001b[43m_dbs\u001b[49m\u001b[38;5;241;43m.\u001b[39;49m\u001b[43madd_document\u001b[49m\u001b[43m(\u001b[49m\u001b[43mcollection\u001b[49m\u001b[43m,\u001b[49m\u001b[43m \u001b[49m\u001b[43mdocument\u001b[49m\u001b[43m)\u001b[49m\n\u001b[1;32m    406\u001b[0m config \u001b[38;5;241m=\u001b[39m SettingsConfig(\n\u001b[1;32m    407\u001b[0m     \u001b[38;5;28mself\u001b[39m\u001b[38;5;241m.\u001b[39m_dbs, collection, \u001b[38;5;28mid\u001b[39m, environment,\n\u001b[1;32m    408\u001b[0m     notifiers\u001b[38;5;241m=\u001b[39m\u001b[38;5;28mself\u001b[39m\u001b[38;5;241m.\u001b[39mmodule_notifiers\u001b[38;5;241m.\u001b[39mget(Settings\u001b[38;5;241m.\u001b[39mmodule_name(module),\n\u001b[1;32m    409\u001b[0m                                         []))\n\u001b[1;32m    410\u001b[0m config\u001b[38;5;241m.\u001b[39mnotify()\n",
      "File \u001b[0;32m/opt/hostedtoolcache/Python/3.9.16/x64/lib/python3.9/site-packages/populse_db/database.py:762\u001b[0m, in \u001b[0;36mDatabaseSession.add_document\u001b[0;34m(self, collection, document, create_missing_fields, flush)\u001b[0m\n\u001b[1;32m    760\u001b[0m \u001b[38;5;28;01mif\u001b[39;00m \u001b[38;5;129;01mnot\u001b[39;00m \u001b[38;5;28misinstance\u001b[39m(document, \u001b[38;5;28mdict\u001b[39m):\n\u001b[1;32m    761\u001b[0m     document \u001b[38;5;241m=\u001b[39m {primary_key: document}\n\u001b[0;32m--> 762\u001b[0m \u001b[38;5;28;43mself\u001b[39;49m\u001b[38;5;241;43m.\u001b[39;49m\u001b[43mengine\u001b[49m\u001b[38;5;241;43m.\u001b[39;49m\u001b[43madd_document\u001b[49m\u001b[43m(\u001b[49m\u001b[43mcollection\u001b[49m\u001b[43m,\u001b[49m\u001b[43m \u001b[49m\u001b[43mdocument\u001b[49m\u001b[43m,\u001b[49m\u001b[43m \u001b[49m\u001b[43mcreate_missing_fields\u001b[49m\u001b[43m)\u001b[49m\n",
      "File \u001b[0;32m/opt/hostedtoolcache/Python/3.9.16/x64/lib/python3.9/site-packages/populse_db/engine/sqlite.py:361\u001b[0m, in \u001b[0;36mSQLiteEngine.add_document\u001b[0;34m(self, collection, document, create_missing_fields)\u001b[0m\n\u001b[1;32m    356\u001b[0m sql \u001b[38;5;241m=\u001b[39m \u001b[38;5;124m'\u001b[39m\u001b[38;5;124mINSERT INTO [\u001b[39m\u001b[38;5;132;01m%s\u001b[39;00m\u001b[38;5;124m] (\u001b[39m\u001b[38;5;132;01m%s\u001b[39;00m\u001b[38;5;124m) VALUES (\u001b[39m\u001b[38;5;132;01m%s\u001b[39;00m\u001b[38;5;124m)\u001b[39m\u001b[38;5;124m'\u001b[39m \u001b[38;5;241m%\u001b[39m (\n\u001b[1;32m    357\u001b[0m     table,\n\u001b[1;32m    358\u001b[0m     \u001b[38;5;124m'\u001b[39m\u001b[38;5;124m,\u001b[39m\u001b[38;5;124m'\u001b[39m\u001b[38;5;241m.\u001b[39mjoin(\u001b[38;5;124m'\u001b[39m\u001b[38;5;124m[\u001b[39m\u001b[38;5;132;01m%s\u001b[39;00m\u001b[38;5;124m]\u001b[39m\u001b[38;5;124m'\u001b[39m \u001b[38;5;241m%\u001b[39m i \u001b[38;5;28;01mfor\u001b[39;00m i \u001b[38;5;129;01min\u001b[39;00m column_values\u001b[38;5;241m.\u001b[39mkeys()),\n\u001b[1;32m    359\u001b[0m     \u001b[38;5;124m'\u001b[39m\u001b[38;5;124m,\u001b[39m\u001b[38;5;124m'\u001b[39m\u001b[38;5;241m.\u001b[39mjoin(\u001b[38;5;124m'\u001b[39m\u001b[38;5;124m?\u001b[39m\u001b[38;5;124m'\u001b[39m \u001b[38;5;28;01mfor\u001b[39;00m i \u001b[38;5;129;01min\u001b[39;00m column_values))\n\u001b[1;32m    360\u001b[0m \u001b[38;5;28;01mtry\u001b[39;00m:\n\u001b[0;32m--> 361\u001b[0m     \u001b[38;5;28;43mself\u001b[39;49m\u001b[38;5;241;43m.\u001b[39;49m\u001b[43mcursor\u001b[49m\u001b[38;5;241;43m.\u001b[39;49m\u001b[43mexecute\u001b[49m\u001b[43m(\u001b[49m\u001b[43msql\u001b[49m\u001b[43m,\u001b[49m\u001b[43m \u001b[49m\u001b[38;5;28;43mlist\u001b[39;49m\u001b[43m(\u001b[49m\u001b[43mcolumn_values\u001b[49m\u001b[38;5;241;43m.\u001b[39;49m\u001b[43mvalues\u001b[49m\u001b[43m(\u001b[49m\u001b[43m)\u001b[49m\u001b[43m)\u001b[49m\u001b[43m)\u001b[49m\n\u001b[1;32m    362\u001b[0m \u001b[38;5;28;01mexcept\u001b[39;00m sqlite3\u001b[38;5;241m.\u001b[39mIntegrityError \u001b[38;5;28;01mas\u001b[39;00m e:\n\u001b[1;32m    363\u001b[0m     \u001b[38;5;28;01mraise\u001b[39;00m \u001b[38;5;167;01mValueError\u001b[39;00m(\u001b[38;5;28mstr\u001b[39m(e))\n",
      "\u001b[0;31mInterfaceError\u001b[0m: Error binding parameter 1 - probably unsupported type."
     ]
    }
   ],
   "source": [
    "from capsul.api import StudyConfig\n",
    "# optional config modules, need not to be explicitly loaded\n",
    "# from capsul.study_config.config_modules.freesurfer_config import FreeSurferConfig\n",
    "# from capsul.study_config.config_modules.brainvisa_config import BrainVISAConfig\n",
    "\n",
    "default_config = {\"use_soma_workflow\": True}\n",
    "study_config = StudyConfig(initial_config=default_config, \n",
    "                           modules=StudyConfig.default_modules + \\\n",
    "                           ['BrainVISAConfig', 'FSLConfig', 'FomConfig'])\n",
    "\n",
    "# inspect config options\n",
    "for k in study_config.user_traits().keys(): print(k, ':  ', getattr(study_config, k))"
   ]
  },
  {
   "cell_type": "markdown",
   "metadata": {
    "deletable": true,
    "editable": true
   },
   "source": [
    "Let show how to configure FSL:"
   ]
  },
  {
   "cell_type": "code",
   "execution_count": 41,
   "metadata": {
    "collapsed": false,
    "deletable": true,
    "editable": true,
    "execution": {
     "iopub.execute_input": "2023-06-08T11:04:16.243916Z",
     "iopub.status.busy": "2023-06-08T11:04:16.243511Z",
     "iopub.status.idle": "2023-06-08T11:04:16.272673Z",
     "shell.execute_reply": "2023-06-08T11:04:16.271912Z"
    }
   },
   "outputs": [
    {
     "name": "stdout",
     "output_type": "stream",
     "text": [
      "Method to execute a process or a pipeline in a study configuration\n",
      "         environment.\n",
      "\n",
      "         Depending on the studies_config settings, it may be a sequential run,\n",
      "         or a parallel run, which can involve remote execution (through soma-\n",
      "         workflow).\n",
      "\n",
      "         Only pipeline nodes can be filtered on the 'execute_qc_nodes'\n",
      "         attribute.\n",
      "\n",
      "         A valid output directory is expected to execute the process or the\n",
      "         pepeline without soma-workflow.\n",
      "\n",
      "        Parameters\n",
      "        ----------\n",
      "        process_or_pipeline: Process or Pipeline instance (mandatory)\n",
      "            the process or pipeline we want to execute\n",
      "        output_directory: Directory name (optional)\n",
      "            the output directory to use for process execution. This replaces\n",
      "            self.output_directory but left it unchanged.\n",
      "        execute_qc_nodes: bool (optional, default False)\n",
      "            if True execute process nodes that are tagged as qualtity control\n",
      "            process nodes.\n",
      "        verbose: int\n",
      "            if different from zero, print console messages.\n",
      "        configuration_dict: dict (optional)\n",
      "            configuration dictionary\n",
      "        \n"
     ]
    }
   ],
   "source": [
    "from capsul.api import StudyConfig\n",
    "\n",
    "study_config = StudyConfig(\n",
    "    modules=[\"FSLConfig\"],\n",
    "    fsl_config=\"/etc/fsl/5.0/fsl.sh\",\n",
    "    use_smart_caching=True,\n",
    "    output_directory=\"/tmp/capsul_demo\")\n",
    "print(study_config.run.__doc__)"
   ]
  },
  {
   "cell_type": "markdown",
   "metadata": {
    "deletable": true,
    "editable": true
   },
   "source": [
    "<h2>Execution of the pipeline</h2>\n",
    "\n",
    "In this section a simple execution is performed on your machine using one CPU (if more than one CPU are used it means that the called external software is parallelized). We just have to call the StudyConfig run method:"
   ]
  },
  {
   "cell_type": "code",
   "execution_count": 42,
   "metadata": {
    "collapsed": false,
    "deletable": true,
    "editable": true,
    "execution": {
     "iopub.execute_input": "2023-06-08T11:04:16.276242Z",
     "iopub.status.busy": "2023-06-08T11:04:16.275979Z",
     "iopub.status.idle": "2023-06-08T11:04:16.473059Z",
     "shell.execute_reply": "2023-06-08T11:04:16.471731Z"
    }
   },
   "outputs": [
    {
     "ename": "InterfaceError",
     "evalue": "Error binding parameter 1 - probably unsupported type.",
     "output_type": "error",
     "traceback": [
      "\u001b[0;31m---------------------------------------------------------------------------\u001b[0m",
      "\u001b[0;31mInterfaceError\u001b[0m                            Traceback (most recent call last)",
      "Cell \u001b[0;32mIn[42], line 2\u001b[0m\n\u001b[1;32m      1\u001b[0m study_config\u001b[38;5;241m.\u001b[39mreset_process_counter()\n\u001b[0;32m----> 2\u001b[0m \u001b[43mstudy_config\u001b[49m\u001b[38;5;241;43m.\u001b[39;49m\u001b[43mrun\u001b[49m\u001b[43m(\u001b[49m\u001b[43mpipeline2\u001b[49m\u001b[43m,\u001b[49m\u001b[43m \u001b[49m\u001b[43mverbose\u001b[49m\u001b[38;5;241;43m=\u001b[39;49m\u001b[38;5;241;43m1\u001b[39;49m\u001b[43m)\u001b[49m\n",
      "File \u001b[0;32m~/work/capsul/capsul/capsul/study_config/study_config.py:415\u001b[0m, in \u001b[0;36mStudyConfig.run\u001b[0;34m(self, process_or_pipeline, output_directory, execute_qc_nodes, verbose, configuration_dict, **kwargs)\u001b[0m\n\u001b[1;32m    412\u001b[0m \u001b[38;5;28;01mfor\u001b[39;00m process_node \u001b[38;5;129;01min\u001b[39;00m execution_list:\n\u001b[1;32m    413\u001b[0m     \u001b[38;5;66;03m# Execute the process instance contained in the node\u001b[39;00m\n\u001b[1;32m    414\u001b[0m     \u001b[38;5;28;01mif\u001b[39;00m \u001b[38;5;28misinstance\u001b[39m(process_node, Node):\n\u001b[0;32m--> 415\u001b[0m         result, log_file \u001b[38;5;241m=\u001b[39m \u001b[43mrun_process\u001b[49m\u001b[43m(\u001b[49m\n\u001b[1;32m    416\u001b[0m \u001b[43m            \u001b[49m\u001b[43moutput_directory\u001b[49m\u001b[43m,\u001b[49m\n\u001b[1;32m    417\u001b[0m \u001b[43m            \u001b[49m\u001b[43mprocess_node\u001b[49m\u001b[38;5;241;43m.\u001b[39;49m\u001b[43mprocess\u001b[49m\u001b[43m,\u001b[49m\n\u001b[1;32m    418\u001b[0m \u001b[43m            \u001b[49m\u001b[43mgenerate_logging\u001b[49m\u001b[38;5;241;43m=\u001b[39;49m\u001b[38;5;28;43mself\u001b[39;49m\u001b[38;5;241;43m.\u001b[39;49m\u001b[43mgenerate_logging\u001b[49m\u001b[43m,\u001b[49m\n\u001b[1;32m    419\u001b[0m \u001b[43m            \u001b[49m\u001b[43mverbose\u001b[49m\u001b[38;5;241;43m=\u001b[39;49m\u001b[43mverbose\u001b[49m\u001b[43m,\u001b[49m\n\u001b[1;32m    420\u001b[0m \u001b[43m            \u001b[49m\u001b[43mconfiguration_dict\u001b[49m\u001b[38;5;241;43m=\u001b[39;49m\u001b[43mconfiguration_dict\u001b[49m\u001b[43m)\u001b[49m\n\u001b[1;32m    422\u001b[0m     \u001b[38;5;66;03m# Execute the process instance\u001b[39;00m\n\u001b[1;32m    423\u001b[0m     \u001b[38;5;28;01melse\u001b[39;00m:\n\u001b[1;32m    424\u001b[0m         result, log_file \u001b[38;5;241m=\u001b[39m run_process(\n\u001b[1;32m    425\u001b[0m             output_directory,\n\u001b[1;32m    426\u001b[0m             process_node,\n\u001b[1;32m    427\u001b[0m             generate_logging\u001b[38;5;241m=\u001b[39m\u001b[38;5;28mself\u001b[39m\u001b[38;5;241m.\u001b[39mgenerate_logging,\n\u001b[1;32m    428\u001b[0m             verbose\u001b[38;5;241m=\u001b[39mverbose,\n\u001b[1;32m    429\u001b[0m             configuration_dict\u001b[38;5;241m=\u001b[39mconfiguration_dict)\n",
      "File \u001b[0;32m~/work/capsul/capsul/capsul/study_config/run.py:63\u001b[0m, in \u001b[0;36mrun_process\u001b[0;34m(output_dir, process_instance, generate_logging, verbose, configuration_dict, cachedir, **kwargs)\u001b[0m\n\u001b[1;32m     59\u001b[0m \u001b[38;5;66;03m# Message\u001b[39;00m\n\u001b[1;32m     60\u001b[0m logger\u001b[38;5;241m.\u001b[39minfo(\u001b[38;5;124m\"\u001b[39m\u001b[38;5;124mStudy Config: executing process \u001b[39m\u001b[38;5;124m'\u001b[39m\u001b[38;5;132;01m{0}\u001b[39;00m\u001b[38;5;124m'\u001b[39m\u001b[38;5;124m...\u001b[39m\u001b[38;5;124m\"\u001b[39m\u001b[38;5;241m.\u001b[39mformat(\n\u001b[1;32m     61\u001b[0m     process_instance\u001b[38;5;241m.\u001b[39mid))\n\u001b[0;32m---> 63\u001b[0m study_config \u001b[38;5;241m=\u001b[39m \u001b[43mprocess_instance\u001b[49m\u001b[38;5;241;43m.\u001b[39;49m\u001b[43mget_study_config\u001b[49m\u001b[43m(\u001b[49m\u001b[43m)\u001b[49m\n\u001b[1;32m     65\u001b[0m \u001b[38;5;28;01mif\u001b[39;00m configuration_dict \u001b[38;5;129;01mis\u001b[39;00m \u001b[38;5;28;01mNone\u001b[39;00m:\n\u001b[1;32m     66\u001b[0m     configuration_dict \\\n\u001b[1;32m     67\u001b[0m         \u001b[38;5;241m=\u001b[39m process_instance\u001b[38;5;241m.\u001b[39mcheck_requirements(\u001b[38;5;124m'\u001b[39m\u001b[38;5;124mglobal\u001b[39m\u001b[38;5;124m'\u001b[39m)\n",
      "File \u001b[0;32m~/work/capsul/capsul/capsul/process/process.py:1090\u001b[0m, in \u001b[0;36mProcess.get_study_config\u001b[0;34m(self)\u001b[0m\n\u001b[1;32m   1087\u001b[0m \u001b[38;5;28;01mif\u001b[39;00m \u001b[38;5;28mself\u001b[39m\u001b[38;5;241m.\u001b[39mstudy_config \u001b[38;5;129;01mis\u001b[39;00m \u001b[38;5;28;01mNone\u001b[39;00m:\n\u001b[1;32m   1088\u001b[0m     \u001b[38;5;66;03m# Import cannot be done on module due to circular dependencies\u001b[39;00m\n\u001b[1;32m   1089\u001b[0m     \u001b[38;5;28;01mfrom\u001b[39;00m \u001b[38;5;21;01mcapsul\u001b[39;00m\u001b[38;5;21;01m.\u001b[39;00m\u001b[38;5;21;01mstudy_config\u001b[39;00m\u001b[38;5;21;01m.\u001b[39;00m\u001b[38;5;21;01mstudy_config\u001b[39;00m \u001b[38;5;28;01mimport\u001b[39;00m default_study_config\n\u001b[0;32m-> 1090\u001b[0m     \u001b[38;5;28mself\u001b[39m\u001b[38;5;241m.\u001b[39mset_study_config(\u001b[43mdefault_study_config\u001b[49m\u001b[43m(\u001b[49m\u001b[43m)\u001b[49m)\n\u001b[1;32m   1091\u001b[0m \u001b[38;5;28;01mreturn\u001b[39;00m \u001b[38;5;28mself\u001b[39m\u001b[38;5;241m.\u001b[39mstudy_config\n",
      "File \u001b[0;32m~/work/capsul/capsul/capsul/study_config/study_config.py:762\u001b[0m, in \u001b[0;36mdefault_study_config\u001b[0;34m()\u001b[0m\n\u001b[1;32m    760\u001b[0m \u001b[38;5;28;01mglobal\u001b[39;00m _default_study_config\n\u001b[1;32m    761\u001b[0m \u001b[38;5;28;01mif\u001b[39;00m _default_study_config \u001b[38;5;129;01mis\u001b[39;00m \u001b[38;5;28;01mNone\u001b[39;00m:\n\u001b[0;32m--> 762\u001b[0m     _default_study_config \u001b[38;5;241m=\u001b[39m \u001b[43mStudyConfig\u001b[49m\u001b[43m(\u001b[49m\u001b[43m)\u001b[49m\n\u001b[1;32m    763\u001b[0m \u001b[38;5;28;01mreturn\u001b[39;00m _default_study_config\n",
      "File \u001b[0;32m~/work/capsul/capsul/capsul/study_config/study_config.py:225\u001b[0m, in \u001b[0;36mStudyConfig.__init__\u001b[0;34m(self, study_name, init_config, modules, engine, **override_config)\u001b[0m\n\u001b[1;32m    223\u001b[0m \u001b[38;5;28;01mfor\u001b[39;00m k, v \u001b[38;5;129;01min\u001b[39;00m six\u001b[38;5;241m.\u001b[39miteritems(config):\n\u001b[1;32m    224\u001b[0m     \u001b[38;5;28msetattr\u001b[39m(\u001b[38;5;28mself\u001b[39m, k, v)\n\u001b[0;32m--> 225\u001b[0m \u001b[38;5;28;43mself\u001b[39;49m\u001b[38;5;241;43m.\u001b[39;49m\u001b[43minitialize_modules\u001b[49m\u001b[43m(\u001b[49m\u001b[43m)\u001b[49m\n\u001b[1;32m    226\u001b[0m \u001b[38;5;28mself\u001b[39m\u001b[38;5;241m.\u001b[39mrun_lock \u001b[38;5;241m=\u001b[39m threading\u001b[38;5;241m.\u001b[39mRLock()\n\u001b[1;32m    227\u001b[0m \u001b[38;5;28mself\u001b[39m\u001b[38;5;241m.\u001b[39mrun_interruption_request \u001b[38;5;241m=\u001b[39m \u001b[38;5;28;01mFalse\u001b[39;00m\n",
      "File \u001b[0;32m~/work/capsul/capsul/capsul/study_config/study_config.py:256\u001b[0m, in \u001b[0;36mStudyConfig.initialize_modules\u001b[0;34m(self)\u001b[0m\n\u001b[1;32m    254\u001b[0m     \u001b[38;5;28;01mcontinue\u001b[39;00m\n\u001b[1;32m    255\u001b[0m \u001b[38;5;66;03m# Initialize a module\u001b[39;00m\n\u001b[0;32m--> 256\u001b[0m \u001b[43mmodule\u001b[49m\u001b[38;5;241;43m.\u001b[39;49m\u001b[43minitialize_module\u001b[49m\u001b[43m(\u001b[49m\u001b[43m)\u001b[49m\n\u001b[1;32m    257\u001b[0m module\u001b[38;5;241m.\u001b[39minitialize_callbacks()\n\u001b[1;32m    258\u001b[0m already_initialized\u001b[38;5;241m.\u001b[39madd(module_name)\n",
      "File \u001b[0;32m~/work/capsul/capsul/capsul/study_config/config_modules/spm_config.py:70\u001b[0m, in \u001b[0;36mSPMConfig.initialize_module\u001b[0;34m(self)\u001b[0m\n\u001b[1;32m     68\u001b[0m     \u001b[38;5;28mself\u001b[39m\u001b[38;5;241m.\u001b[39msync_from_engine()\n\u001b[1;32m     69\u001b[0m \u001b[38;5;28;01melse\u001b[39;00m:\n\u001b[0;32m---> 70\u001b[0m     \u001b[38;5;28;43mself\u001b[39;49m\u001b[38;5;241;43m.\u001b[39;49m\u001b[43msync_to_engine\u001b[49m\u001b[43m(\u001b[49m\u001b[43m)\u001b[49m\n\u001b[1;32m     71\u001b[0m \u001b[38;5;66;03m# this test aims to raise an exception in case of incorrect setting,\u001b[39;00m\n\u001b[1;32m     72\u001b[0m \u001b[38;5;66;03m# complying to capsul 2.x behavior.\u001b[39;00m\n\u001b[1;32m     73\u001b[0m \u001b[38;5;28;01mif\u001b[39;00m \u001b[38;5;28mself\u001b[39m\u001b[38;5;241m.\u001b[39mstudy_config\u001b[38;5;241m.\u001b[39muse_spm \u001b[38;5;129;01mis\u001b[39;00m \u001b[38;5;28;01mTrue\u001b[39;00m:\n",
      "File \u001b[0;32m~/work/capsul/capsul/capsul/study_config/config_modules/spm_config.py:209\u001b[0m, in \u001b[0;36mSPMConfig.sync_to_engine\u001b[0;34m(self)\u001b[0m\n\u001b[1;32m    205\u001b[0m config \u001b[38;5;241m=\u001b[39m session\u001b[38;5;241m.\u001b[39mconfig(\u001b[38;5;124m'\u001b[39m\u001b[38;5;124mmatlab\u001b[39m\u001b[38;5;124m'\u001b[39m, \u001b[38;5;124m'\u001b[39m\u001b[38;5;124mglobal\u001b[39m\u001b[38;5;124m'\u001b[39m,\n\u001b[1;32m    206\u001b[0m                         selection\u001b[38;5;241m=\u001b[39m\u001b[38;5;124m'\u001b[39m\u001b[38;5;132;01m%s\u001b[39;00m\u001b[38;5;124m == \u001b[39m\u001b[38;5;124m\"\u001b[39m\u001b[38;5;124mmatlab\u001b[39m\u001b[38;5;124m\"\u001b[39m\u001b[38;5;124m'\u001b[39m\n\u001b[1;32m    207\u001b[0m                         \u001b[38;5;241m%\u001b[39m cif)\n\u001b[1;32m    208\u001b[0m \u001b[38;5;28;01mif\u001b[39;00m config \u001b[38;5;129;01mis\u001b[39;00m \u001b[38;5;28;01mNone\u001b[39;00m:\n\u001b[0;32m--> 209\u001b[0m     \u001b[43msession\u001b[49m\u001b[38;5;241;43m.\u001b[39;49m\u001b[43mnew_config\u001b[49m\u001b[43m(\u001b[49m\n\u001b[1;32m    210\u001b[0m \u001b[43m        \u001b[49m\u001b[38;5;124;43m'\u001b[39;49m\u001b[38;5;124;43mmatlab\u001b[39;49m\u001b[38;5;124;43m'\u001b[39;49m\u001b[43m,\u001b[49m\u001b[43m \u001b[49m\u001b[38;5;124;43m'\u001b[39;49m\u001b[38;5;124;43mglobal\u001b[39;49m\u001b[38;5;124;43m'\u001b[39;49m\u001b[43m,\u001b[49m\n\u001b[1;32m    211\u001b[0m \u001b[43m        \u001b[49m\u001b[43m{\u001b[49m\u001b[38;5;124;43m'\u001b[39;49m\u001b[38;5;124;43mmcr_directory\u001b[39;49m\u001b[38;5;124;43m'\u001b[39;49m\u001b[43m:\u001b[49m\n\u001b[1;32m    212\u001b[0m \u001b[43m            \u001b[49m\u001b[38;5;28;43mself\u001b[39;49m\u001b[38;5;241;43m.\u001b[39;49m\u001b[43mstudy_config\u001b[49m\u001b[38;5;241;43m.\u001b[39;49m\u001b[43mspm_directory\u001b[49m\u001b[43m}\u001b[49m\u001b[43m)\u001b[49m\n\u001b[1;32m    213\u001b[0m \u001b[38;5;28;01melse\u001b[39;00m:\n\u001b[1;32m    214\u001b[0m     config\u001b[38;5;241m.\u001b[39mmcr_directory \\\n\u001b[1;32m    215\u001b[0m         \u001b[38;5;241m=\u001b[39m \u001b[38;5;28mself\u001b[39m\u001b[38;5;241m.\u001b[39mstudy_config\u001b[38;5;241m.\u001b[39mspm_directory\n",
      "File \u001b[0;32m~/work/capsul/capsul/capsul/engine/settings.py:405\u001b[0m, in \u001b[0;36mSettingsSession.new_config\u001b[0;34m(self, module, environment, values)\u001b[0m\n\u001b[1;32m    403\u001b[0m document[Settings\u001b[38;5;241m.\u001b[39mconfig_id_field] \u001b[38;5;241m=\u001b[39m \u001b[38;5;124m'\u001b[39m\u001b[38;5;132;01m%s\u001b[39;00m\u001b[38;5;124m-\u001b[39m\u001b[38;5;132;01m%s\u001b[39;00m\u001b[38;5;124m'\u001b[39m \u001b[38;5;241m%\u001b[39m (\u001b[38;5;28mid\u001b[39m, environment)\n\u001b[1;32m    404\u001b[0m collection \u001b[38;5;241m=\u001b[39m \u001b[38;5;28mself\u001b[39m\u001b[38;5;241m.\u001b[39mcollection_name(module)\n\u001b[0;32m--> 405\u001b[0m \u001b[38;5;28;43mself\u001b[39;49m\u001b[38;5;241;43m.\u001b[39;49m\u001b[43m_dbs\u001b[49m\u001b[38;5;241;43m.\u001b[39;49m\u001b[43madd_document\u001b[49m\u001b[43m(\u001b[49m\u001b[43mcollection\u001b[49m\u001b[43m,\u001b[49m\u001b[43m \u001b[49m\u001b[43mdocument\u001b[49m\u001b[43m)\u001b[49m\n\u001b[1;32m    406\u001b[0m config \u001b[38;5;241m=\u001b[39m SettingsConfig(\n\u001b[1;32m    407\u001b[0m     \u001b[38;5;28mself\u001b[39m\u001b[38;5;241m.\u001b[39m_dbs, collection, \u001b[38;5;28mid\u001b[39m, environment,\n\u001b[1;32m    408\u001b[0m     notifiers\u001b[38;5;241m=\u001b[39m\u001b[38;5;28mself\u001b[39m\u001b[38;5;241m.\u001b[39mmodule_notifiers\u001b[38;5;241m.\u001b[39mget(Settings\u001b[38;5;241m.\u001b[39mmodule_name(module),\n\u001b[1;32m    409\u001b[0m                                         []))\n\u001b[1;32m    410\u001b[0m config\u001b[38;5;241m.\u001b[39mnotify()\n",
      "File \u001b[0;32m/opt/hostedtoolcache/Python/3.9.16/x64/lib/python3.9/site-packages/populse_db/database.py:762\u001b[0m, in \u001b[0;36mDatabaseSession.add_document\u001b[0;34m(self, collection, document, create_missing_fields, flush)\u001b[0m\n\u001b[1;32m    760\u001b[0m \u001b[38;5;28;01mif\u001b[39;00m \u001b[38;5;129;01mnot\u001b[39;00m \u001b[38;5;28misinstance\u001b[39m(document, \u001b[38;5;28mdict\u001b[39m):\n\u001b[1;32m    761\u001b[0m     document \u001b[38;5;241m=\u001b[39m {primary_key: document}\n\u001b[0;32m--> 762\u001b[0m \u001b[38;5;28;43mself\u001b[39;49m\u001b[38;5;241;43m.\u001b[39;49m\u001b[43mengine\u001b[49m\u001b[38;5;241;43m.\u001b[39;49m\u001b[43madd_document\u001b[49m\u001b[43m(\u001b[49m\u001b[43mcollection\u001b[49m\u001b[43m,\u001b[49m\u001b[43m \u001b[49m\u001b[43mdocument\u001b[49m\u001b[43m,\u001b[49m\u001b[43m \u001b[49m\u001b[43mcreate_missing_fields\u001b[49m\u001b[43m)\u001b[49m\n",
      "File \u001b[0;32m/opt/hostedtoolcache/Python/3.9.16/x64/lib/python3.9/site-packages/populse_db/engine/sqlite.py:361\u001b[0m, in \u001b[0;36mSQLiteEngine.add_document\u001b[0;34m(self, collection, document, create_missing_fields)\u001b[0m\n\u001b[1;32m    356\u001b[0m sql \u001b[38;5;241m=\u001b[39m \u001b[38;5;124m'\u001b[39m\u001b[38;5;124mINSERT INTO [\u001b[39m\u001b[38;5;132;01m%s\u001b[39;00m\u001b[38;5;124m] (\u001b[39m\u001b[38;5;132;01m%s\u001b[39;00m\u001b[38;5;124m) VALUES (\u001b[39m\u001b[38;5;132;01m%s\u001b[39;00m\u001b[38;5;124m)\u001b[39m\u001b[38;5;124m'\u001b[39m \u001b[38;5;241m%\u001b[39m (\n\u001b[1;32m    357\u001b[0m     table,\n\u001b[1;32m    358\u001b[0m     \u001b[38;5;124m'\u001b[39m\u001b[38;5;124m,\u001b[39m\u001b[38;5;124m'\u001b[39m\u001b[38;5;241m.\u001b[39mjoin(\u001b[38;5;124m'\u001b[39m\u001b[38;5;124m[\u001b[39m\u001b[38;5;132;01m%s\u001b[39;00m\u001b[38;5;124m]\u001b[39m\u001b[38;5;124m'\u001b[39m \u001b[38;5;241m%\u001b[39m i \u001b[38;5;28;01mfor\u001b[39;00m i \u001b[38;5;129;01min\u001b[39;00m column_values\u001b[38;5;241m.\u001b[39mkeys()),\n\u001b[1;32m    359\u001b[0m     \u001b[38;5;124m'\u001b[39m\u001b[38;5;124m,\u001b[39m\u001b[38;5;124m'\u001b[39m\u001b[38;5;241m.\u001b[39mjoin(\u001b[38;5;124m'\u001b[39m\u001b[38;5;124m?\u001b[39m\u001b[38;5;124m'\u001b[39m \u001b[38;5;28;01mfor\u001b[39;00m i \u001b[38;5;129;01min\u001b[39;00m column_values))\n\u001b[1;32m    360\u001b[0m \u001b[38;5;28;01mtry\u001b[39;00m:\n\u001b[0;32m--> 361\u001b[0m     \u001b[38;5;28;43mself\u001b[39;49m\u001b[38;5;241;43m.\u001b[39;49m\u001b[43mcursor\u001b[49m\u001b[38;5;241;43m.\u001b[39;49m\u001b[43mexecute\u001b[49m\u001b[43m(\u001b[49m\u001b[43msql\u001b[49m\u001b[43m,\u001b[49m\u001b[43m \u001b[49m\u001b[38;5;28;43mlist\u001b[39;49m\u001b[43m(\u001b[49m\u001b[43mcolumn_values\u001b[49m\u001b[38;5;241;43m.\u001b[39;49m\u001b[43mvalues\u001b[49m\u001b[43m(\u001b[49m\u001b[43m)\u001b[49m\u001b[43m)\u001b[49m\u001b[43m)\u001b[49m\n\u001b[1;32m    362\u001b[0m \u001b[38;5;28;01mexcept\u001b[39;00m sqlite3\u001b[38;5;241m.\u001b[39mIntegrityError \u001b[38;5;28;01mas\u001b[39;00m e:\n\u001b[1;32m    363\u001b[0m     \u001b[38;5;28;01mraise\u001b[39;00m \u001b[38;5;167;01mValueError\u001b[39;00m(\u001b[38;5;28mstr\u001b[39m(e))\n",
      "\u001b[0;31mInterfaceError\u001b[0m: Error binding parameter 1 - probably unsupported type."
     ]
    }
   ],
   "source": [
    "study_config.reset_process_counter()\n",
    "study_config.run(pipeline2, verbose=1)"
   ]
  },
  {
   "cell_type": "markdown",
   "metadata": {
    "deletable": true,
    "editable": true
   },
   "source": [
    "<h1>Distributed execution using Soma-Workflow</h1>\n",
    "\n",
    "Capsul can execute a pipeline through <a href=\"http://brainvisa.info/soma-workflow/\">Soma-Workflow</a> in order to address large parallelized pipelines, or huge datasets in the case of population imaging studies.\n",
    "\n",
    "**Limitation:**\n",
    "\n",
    "Currently, when used in Soma-Workflow, process outputs can only be files. Output numbers, strings, etc. will be lost."
   ]
  },
  {
   "cell_type": "code",
   "execution_count": 43,
   "metadata": {
    "collapsed": true,
    "deletable": true,
    "editable": true,
    "execution": {
     "iopub.execute_input": "2023-06-08T11:04:16.477113Z",
     "iopub.status.busy": "2023-06-08T11:04:16.476768Z",
     "iopub.status.idle": "2023-06-08T11:04:16.485187Z",
     "shell.execute_reply": "2023-06-08T11:04:16.484490Z"
    }
   },
   "outputs": [],
   "source": [
    "class Process1(Process):\n",
    "    f = Float(output=False)\n",
    "\n",
    "    def __init__(self):\n",
    "        super(Process1, self).__init__()\n",
    "        self.add_trait(\"ff\", Float(output=False))\n",
    "        self.add_trait(\"out\", Float(output=True))\n",
    "        \n",
    "    def get_commandline(self):\n",
    "        return ['echo', 'Process1 execution, f: %f, ff: %f' % (self.f, self.ff)]\n",
    "\n",
    "class Process2(Process):\n",
    "    \n",
    "    def __init__(self):\n",
    "        super(Process2, self).__init__()\n",
    "        self.add_trait(\"a\", Float(output=True))\n",
    "        self.add_trait(\"b\", Str(output=False))\n",
    "        \n",
    "    def get_commandline(self):\n",
    "        return ['echo', 'Process2 execution, a: %f, b: %s' % (self.a, self.b)]\n",
    "\n",
    "class Pipeline2(Pipeline):\n",
    "\n",
    "    def pipeline_definition(self):\n",
    "        # Create processes\n",
    "        self.add_process(\"node1\", Process1())\n",
    "        self.add_process(\"node2\", Process2())\n",
    "        # links\n",
    "        self.add_link('node2.a->node1.ff')\n",
    "        # custom exports\n",
    "        self.export_parameter(\"node2\", \"b\", \"node_string\")"
   ]
  },
  {
   "cell_type": "code",
   "execution_count": 44,
   "metadata": {
    "collapsed": false,
    "deletable": true,
    "editable": true,
    "execution": {
     "iopub.execute_input": "2023-06-08T11:04:16.488224Z",
     "iopub.status.busy": "2023-06-08T11:04:16.487893Z",
     "iopub.status.idle": "2023-06-08T11:04:17.041721Z",
     "shell.execute_reply": "2023-06-08T11:04:17.040674Z"
    }
   },
   "outputs": [
    {
     "ename": "InterfaceError",
     "evalue": "Error binding parameter 1 - probably unsupported type.",
     "output_type": "error",
     "traceback": [
      "\u001b[0;31m---------------------------------------------------------------------------\u001b[0m",
      "\u001b[0;31mInterfaceError\u001b[0m                            Traceback (most recent call last)",
      "Cell \u001b[0;32mIn[44], line 4\u001b[0m\n\u001b[1;32m      1\u001b[0m \u001b[38;5;28;01mfrom\u001b[39;00m \u001b[38;5;21;01mcapsul\u001b[39;00m\u001b[38;5;21;01m.\u001b[39;00m\u001b[38;5;21;01mpipeline\u001b[39;00m\u001b[38;5;21;01m.\u001b[39;00m\u001b[38;5;21;01mpipeline_workflow\u001b[39;00m \u001b[38;5;28;01mimport\u001b[39;00m workflow_from_pipeline\n\u001b[1;32m      3\u001b[0m pipeline2 \u001b[38;5;241m=\u001b[39m get_process_instance(Pipeline2)\n\u001b[0;32m----> 4\u001b[0m workflow \u001b[38;5;241m=\u001b[39m \u001b[43mworkflow_from_pipeline\u001b[49m\u001b[43m(\u001b[49m\u001b[43mpipeline2\u001b[49m\u001b[43m)\u001b[49m\n\u001b[1;32m      5\u001b[0m \u001b[38;5;28mprint\u001b[39m(\u001b[38;5;124m'\u001b[39m\u001b[38;5;124mjobs:\u001b[39m\u001b[38;5;124m'\u001b[39m, workflow\u001b[38;5;241m.\u001b[39mjobs)\n\u001b[1;32m      6\u001b[0m \u001b[38;5;28mprint\u001b[39m(\u001b[38;5;124m'\u001b[39m\u001b[38;5;124mdependencies:\u001b[39m\u001b[38;5;124m'\u001b[39m, workflow\u001b[38;5;241m.\u001b[39mdependencies)\n",
      "File \u001b[0;32m~/work/capsul/capsul/capsul/pipeline/pipeline_workflow.py:1532\u001b[0m, in \u001b[0;36mworkflow_from_pipeline\u001b[0;34m(pipeline, study_config, disabled_nodes, jobs_priority, create_directories, environment, check_requirements, complete_parameters)\u001b[0m\n\u001b[1;32m   1529\u001b[0m     merged_formats\u001b[38;5;241m.\u001b[39mupdate(values)\n\u001b[1;32m   1531\u001b[0m \u001b[38;5;28;01mif\u001b[39;00m study_config \u001b[38;5;129;01mis\u001b[39;00m \u001b[38;5;28;01mNone\u001b[39;00m:\n\u001b[0;32m-> 1532\u001b[0m     study_config \u001b[38;5;241m=\u001b[39m \u001b[43mpipeline\u001b[49m\u001b[38;5;241;43m.\u001b[39;49m\u001b[43mget_study_config\u001b[49m\u001b[43m(\u001b[49m\u001b[43m)\u001b[49m\n\u001b[1;32m   1533\u001b[0m engine \u001b[38;5;241m=\u001b[39m study_config\u001b[38;5;241m.\u001b[39mengine\n\u001b[1;32m   1535\u001b[0m \u001b[38;5;28;01mif\u001b[39;00m check_requirements:\n",
      "File \u001b[0;32m~/work/capsul/capsul/capsul/process/process.py:1090\u001b[0m, in \u001b[0;36mProcess.get_study_config\u001b[0;34m(self)\u001b[0m\n\u001b[1;32m   1087\u001b[0m \u001b[38;5;28;01mif\u001b[39;00m \u001b[38;5;28mself\u001b[39m\u001b[38;5;241m.\u001b[39mstudy_config \u001b[38;5;129;01mis\u001b[39;00m \u001b[38;5;28;01mNone\u001b[39;00m:\n\u001b[1;32m   1088\u001b[0m     \u001b[38;5;66;03m# Import cannot be done on module due to circular dependencies\u001b[39;00m\n\u001b[1;32m   1089\u001b[0m     \u001b[38;5;28;01mfrom\u001b[39;00m \u001b[38;5;21;01mcapsul\u001b[39;00m\u001b[38;5;21;01m.\u001b[39;00m\u001b[38;5;21;01mstudy_config\u001b[39;00m\u001b[38;5;21;01m.\u001b[39;00m\u001b[38;5;21;01mstudy_config\u001b[39;00m \u001b[38;5;28;01mimport\u001b[39;00m default_study_config\n\u001b[0;32m-> 1090\u001b[0m     \u001b[38;5;28mself\u001b[39m\u001b[38;5;241m.\u001b[39mset_study_config(\u001b[43mdefault_study_config\u001b[49m\u001b[43m(\u001b[49m\u001b[43m)\u001b[49m)\n\u001b[1;32m   1091\u001b[0m \u001b[38;5;28;01mreturn\u001b[39;00m \u001b[38;5;28mself\u001b[39m\u001b[38;5;241m.\u001b[39mstudy_config\n",
      "File \u001b[0;32m~/work/capsul/capsul/capsul/study_config/study_config.py:762\u001b[0m, in \u001b[0;36mdefault_study_config\u001b[0;34m()\u001b[0m\n\u001b[1;32m    760\u001b[0m \u001b[38;5;28;01mglobal\u001b[39;00m _default_study_config\n\u001b[1;32m    761\u001b[0m \u001b[38;5;28;01mif\u001b[39;00m _default_study_config \u001b[38;5;129;01mis\u001b[39;00m \u001b[38;5;28;01mNone\u001b[39;00m:\n\u001b[0;32m--> 762\u001b[0m     _default_study_config \u001b[38;5;241m=\u001b[39m \u001b[43mStudyConfig\u001b[49m\u001b[43m(\u001b[49m\u001b[43m)\u001b[49m\n\u001b[1;32m    763\u001b[0m \u001b[38;5;28;01mreturn\u001b[39;00m _default_study_config\n",
      "File \u001b[0;32m~/work/capsul/capsul/capsul/study_config/study_config.py:225\u001b[0m, in \u001b[0;36mStudyConfig.__init__\u001b[0;34m(self, study_name, init_config, modules, engine, **override_config)\u001b[0m\n\u001b[1;32m    223\u001b[0m \u001b[38;5;28;01mfor\u001b[39;00m k, v \u001b[38;5;129;01min\u001b[39;00m six\u001b[38;5;241m.\u001b[39miteritems(config):\n\u001b[1;32m    224\u001b[0m     \u001b[38;5;28msetattr\u001b[39m(\u001b[38;5;28mself\u001b[39m, k, v)\n\u001b[0;32m--> 225\u001b[0m \u001b[38;5;28;43mself\u001b[39;49m\u001b[38;5;241;43m.\u001b[39;49m\u001b[43minitialize_modules\u001b[49m\u001b[43m(\u001b[49m\u001b[43m)\u001b[49m\n\u001b[1;32m    226\u001b[0m \u001b[38;5;28mself\u001b[39m\u001b[38;5;241m.\u001b[39mrun_lock \u001b[38;5;241m=\u001b[39m threading\u001b[38;5;241m.\u001b[39mRLock()\n\u001b[1;32m    227\u001b[0m \u001b[38;5;28mself\u001b[39m\u001b[38;5;241m.\u001b[39mrun_interruption_request \u001b[38;5;241m=\u001b[39m \u001b[38;5;28;01mFalse\u001b[39;00m\n",
      "File \u001b[0;32m~/work/capsul/capsul/capsul/study_config/study_config.py:256\u001b[0m, in \u001b[0;36mStudyConfig.initialize_modules\u001b[0;34m(self)\u001b[0m\n\u001b[1;32m    254\u001b[0m     \u001b[38;5;28;01mcontinue\u001b[39;00m\n\u001b[1;32m    255\u001b[0m \u001b[38;5;66;03m# Initialize a module\u001b[39;00m\n\u001b[0;32m--> 256\u001b[0m \u001b[43mmodule\u001b[49m\u001b[38;5;241;43m.\u001b[39;49m\u001b[43minitialize_module\u001b[49m\u001b[43m(\u001b[49m\u001b[43m)\u001b[49m\n\u001b[1;32m    257\u001b[0m module\u001b[38;5;241m.\u001b[39minitialize_callbacks()\n\u001b[1;32m    258\u001b[0m already_initialized\u001b[38;5;241m.\u001b[39madd(module_name)\n",
      "File \u001b[0;32m~/work/capsul/capsul/capsul/study_config/config_modules/spm_config.py:70\u001b[0m, in \u001b[0;36mSPMConfig.initialize_module\u001b[0;34m(self)\u001b[0m\n\u001b[1;32m     68\u001b[0m     \u001b[38;5;28mself\u001b[39m\u001b[38;5;241m.\u001b[39msync_from_engine()\n\u001b[1;32m     69\u001b[0m \u001b[38;5;28;01melse\u001b[39;00m:\n\u001b[0;32m---> 70\u001b[0m     \u001b[38;5;28;43mself\u001b[39;49m\u001b[38;5;241;43m.\u001b[39;49m\u001b[43msync_to_engine\u001b[49m\u001b[43m(\u001b[49m\u001b[43m)\u001b[49m\n\u001b[1;32m     71\u001b[0m \u001b[38;5;66;03m# this test aims to raise an exception in case of incorrect setting,\u001b[39;00m\n\u001b[1;32m     72\u001b[0m \u001b[38;5;66;03m# complying to capsul 2.x behavior.\u001b[39;00m\n\u001b[1;32m     73\u001b[0m \u001b[38;5;28;01mif\u001b[39;00m \u001b[38;5;28mself\u001b[39m\u001b[38;5;241m.\u001b[39mstudy_config\u001b[38;5;241m.\u001b[39muse_spm \u001b[38;5;129;01mis\u001b[39;00m \u001b[38;5;28;01mTrue\u001b[39;00m:\n",
      "File \u001b[0;32m~/work/capsul/capsul/capsul/study_config/config_modules/spm_config.py:209\u001b[0m, in \u001b[0;36mSPMConfig.sync_to_engine\u001b[0;34m(self)\u001b[0m\n\u001b[1;32m    205\u001b[0m config \u001b[38;5;241m=\u001b[39m session\u001b[38;5;241m.\u001b[39mconfig(\u001b[38;5;124m'\u001b[39m\u001b[38;5;124mmatlab\u001b[39m\u001b[38;5;124m'\u001b[39m, \u001b[38;5;124m'\u001b[39m\u001b[38;5;124mglobal\u001b[39m\u001b[38;5;124m'\u001b[39m,\n\u001b[1;32m    206\u001b[0m                         selection\u001b[38;5;241m=\u001b[39m\u001b[38;5;124m'\u001b[39m\u001b[38;5;132;01m%s\u001b[39;00m\u001b[38;5;124m == \u001b[39m\u001b[38;5;124m\"\u001b[39m\u001b[38;5;124mmatlab\u001b[39m\u001b[38;5;124m\"\u001b[39m\u001b[38;5;124m'\u001b[39m\n\u001b[1;32m    207\u001b[0m                         \u001b[38;5;241m%\u001b[39m cif)\n\u001b[1;32m    208\u001b[0m \u001b[38;5;28;01mif\u001b[39;00m config \u001b[38;5;129;01mis\u001b[39;00m \u001b[38;5;28;01mNone\u001b[39;00m:\n\u001b[0;32m--> 209\u001b[0m     \u001b[43msession\u001b[49m\u001b[38;5;241;43m.\u001b[39;49m\u001b[43mnew_config\u001b[49m\u001b[43m(\u001b[49m\n\u001b[1;32m    210\u001b[0m \u001b[43m        \u001b[49m\u001b[38;5;124;43m'\u001b[39;49m\u001b[38;5;124;43mmatlab\u001b[39;49m\u001b[38;5;124;43m'\u001b[39;49m\u001b[43m,\u001b[49m\u001b[43m \u001b[49m\u001b[38;5;124;43m'\u001b[39;49m\u001b[38;5;124;43mglobal\u001b[39;49m\u001b[38;5;124;43m'\u001b[39;49m\u001b[43m,\u001b[49m\n\u001b[1;32m    211\u001b[0m \u001b[43m        \u001b[49m\u001b[43m{\u001b[49m\u001b[38;5;124;43m'\u001b[39;49m\u001b[38;5;124;43mmcr_directory\u001b[39;49m\u001b[38;5;124;43m'\u001b[39;49m\u001b[43m:\u001b[49m\n\u001b[1;32m    212\u001b[0m \u001b[43m            \u001b[49m\u001b[38;5;28;43mself\u001b[39;49m\u001b[38;5;241;43m.\u001b[39;49m\u001b[43mstudy_config\u001b[49m\u001b[38;5;241;43m.\u001b[39;49m\u001b[43mspm_directory\u001b[49m\u001b[43m}\u001b[49m\u001b[43m)\u001b[49m\n\u001b[1;32m    213\u001b[0m \u001b[38;5;28;01melse\u001b[39;00m:\n\u001b[1;32m    214\u001b[0m     config\u001b[38;5;241m.\u001b[39mmcr_directory \\\n\u001b[1;32m    215\u001b[0m         \u001b[38;5;241m=\u001b[39m \u001b[38;5;28mself\u001b[39m\u001b[38;5;241m.\u001b[39mstudy_config\u001b[38;5;241m.\u001b[39mspm_directory\n",
      "File \u001b[0;32m~/work/capsul/capsul/capsul/engine/settings.py:405\u001b[0m, in \u001b[0;36mSettingsSession.new_config\u001b[0;34m(self, module, environment, values)\u001b[0m\n\u001b[1;32m    403\u001b[0m document[Settings\u001b[38;5;241m.\u001b[39mconfig_id_field] \u001b[38;5;241m=\u001b[39m \u001b[38;5;124m'\u001b[39m\u001b[38;5;132;01m%s\u001b[39;00m\u001b[38;5;124m-\u001b[39m\u001b[38;5;132;01m%s\u001b[39;00m\u001b[38;5;124m'\u001b[39m \u001b[38;5;241m%\u001b[39m (\u001b[38;5;28mid\u001b[39m, environment)\n\u001b[1;32m    404\u001b[0m collection \u001b[38;5;241m=\u001b[39m \u001b[38;5;28mself\u001b[39m\u001b[38;5;241m.\u001b[39mcollection_name(module)\n\u001b[0;32m--> 405\u001b[0m \u001b[38;5;28;43mself\u001b[39;49m\u001b[38;5;241;43m.\u001b[39;49m\u001b[43m_dbs\u001b[49m\u001b[38;5;241;43m.\u001b[39;49m\u001b[43madd_document\u001b[49m\u001b[43m(\u001b[49m\u001b[43mcollection\u001b[49m\u001b[43m,\u001b[49m\u001b[43m \u001b[49m\u001b[43mdocument\u001b[49m\u001b[43m)\u001b[49m\n\u001b[1;32m    406\u001b[0m config \u001b[38;5;241m=\u001b[39m SettingsConfig(\n\u001b[1;32m    407\u001b[0m     \u001b[38;5;28mself\u001b[39m\u001b[38;5;241m.\u001b[39m_dbs, collection, \u001b[38;5;28mid\u001b[39m, environment,\n\u001b[1;32m    408\u001b[0m     notifiers\u001b[38;5;241m=\u001b[39m\u001b[38;5;28mself\u001b[39m\u001b[38;5;241m.\u001b[39mmodule_notifiers\u001b[38;5;241m.\u001b[39mget(Settings\u001b[38;5;241m.\u001b[39mmodule_name(module),\n\u001b[1;32m    409\u001b[0m                                         []))\n\u001b[1;32m    410\u001b[0m config\u001b[38;5;241m.\u001b[39mnotify()\n",
      "File \u001b[0;32m/opt/hostedtoolcache/Python/3.9.16/x64/lib/python3.9/site-packages/populse_db/database.py:762\u001b[0m, in \u001b[0;36mDatabaseSession.add_document\u001b[0;34m(self, collection, document, create_missing_fields, flush)\u001b[0m\n\u001b[1;32m    760\u001b[0m \u001b[38;5;28;01mif\u001b[39;00m \u001b[38;5;129;01mnot\u001b[39;00m \u001b[38;5;28misinstance\u001b[39m(document, \u001b[38;5;28mdict\u001b[39m):\n\u001b[1;32m    761\u001b[0m     document \u001b[38;5;241m=\u001b[39m {primary_key: document}\n\u001b[0;32m--> 762\u001b[0m \u001b[38;5;28;43mself\u001b[39;49m\u001b[38;5;241;43m.\u001b[39;49m\u001b[43mengine\u001b[49m\u001b[38;5;241;43m.\u001b[39;49m\u001b[43madd_document\u001b[49m\u001b[43m(\u001b[49m\u001b[43mcollection\u001b[49m\u001b[43m,\u001b[49m\u001b[43m \u001b[49m\u001b[43mdocument\u001b[49m\u001b[43m,\u001b[49m\u001b[43m \u001b[49m\u001b[43mcreate_missing_fields\u001b[49m\u001b[43m)\u001b[49m\n",
      "File \u001b[0;32m/opt/hostedtoolcache/Python/3.9.16/x64/lib/python3.9/site-packages/populse_db/engine/sqlite.py:361\u001b[0m, in \u001b[0;36mSQLiteEngine.add_document\u001b[0;34m(self, collection, document, create_missing_fields)\u001b[0m\n\u001b[1;32m    356\u001b[0m sql \u001b[38;5;241m=\u001b[39m \u001b[38;5;124m'\u001b[39m\u001b[38;5;124mINSERT INTO [\u001b[39m\u001b[38;5;132;01m%s\u001b[39;00m\u001b[38;5;124m] (\u001b[39m\u001b[38;5;132;01m%s\u001b[39;00m\u001b[38;5;124m) VALUES (\u001b[39m\u001b[38;5;132;01m%s\u001b[39;00m\u001b[38;5;124m)\u001b[39m\u001b[38;5;124m'\u001b[39m \u001b[38;5;241m%\u001b[39m (\n\u001b[1;32m    357\u001b[0m     table,\n\u001b[1;32m    358\u001b[0m     \u001b[38;5;124m'\u001b[39m\u001b[38;5;124m,\u001b[39m\u001b[38;5;124m'\u001b[39m\u001b[38;5;241m.\u001b[39mjoin(\u001b[38;5;124m'\u001b[39m\u001b[38;5;124m[\u001b[39m\u001b[38;5;132;01m%s\u001b[39;00m\u001b[38;5;124m]\u001b[39m\u001b[38;5;124m'\u001b[39m \u001b[38;5;241m%\u001b[39m i \u001b[38;5;28;01mfor\u001b[39;00m i \u001b[38;5;129;01min\u001b[39;00m column_values\u001b[38;5;241m.\u001b[39mkeys()),\n\u001b[1;32m    359\u001b[0m     \u001b[38;5;124m'\u001b[39m\u001b[38;5;124m,\u001b[39m\u001b[38;5;124m'\u001b[39m\u001b[38;5;241m.\u001b[39mjoin(\u001b[38;5;124m'\u001b[39m\u001b[38;5;124m?\u001b[39m\u001b[38;5;124m'\u001b[39m \u001b[38;5;28;01mfor\u001b[39;00m i \u001b[38;5;129;01min\u001b[39;00m column_values))\n\u001b[1;32m    360\u001b[0m \u001b[38;5;28;01mtry\u001b[39;00m:\n\u001b[0;32m--> 361\u001b[0m     \u001b[38;5;28;43mself\u001b[39;49m\u001b[38;5;241;43m.\u001b[39;49m\u001b[43mcursor\u001b[49m\u001b[38;5;241;43m.\u001b[39;49m\u001b[43mexecute\u001b[49m\u001b[43m(\u001b[49m\u001b[43msql\u001b[49m\u001b[43m,\u001b[49m\u001b[43m \u001b[49m\u001b[38;5;28;43mlist\u001b[39;49m\u001b[43m(\u001b[49m\u001b[43mcolumn_values\u001b[49m\u001b[38;5;241;43m.\u001b[39;49m\u001b[43mvalues\u001b[49m\u001b[43m(\u001b[49m\u001b[43m)\u001b[49m\u001b[43m)\u001b[49m\u001b[43m)\u001b[49m\n\u001b[1;32m    362\u001b[0m \u001b[38;5;28;01mexcept\u001b[39;00m sqlite3\u001b[38;5;241m.\u001b[39mIntegrityError \u001b[38;5;28;01mas\u001b[39;00m e:\n\u001b[1;32m    363\u001b[0m     \u001b[38;5;28;01mraise\u001b[39;00m \u001b[38;5;167;01mValueError\u001b[39;00m(\u001b[38;5;28mstr\u001b[39m(e))\n",
      "\u001b[0;31mInterfaceError\u001b[0m: Error binding parameter 1 - probably unsupported type."
     ]
    }
   ],
   "source": [
    "from capsul.pipeline.pipeline_workflow import workflow_from_pipeline\n",
    "\n",
    "pipeline2 = get_process_instance(Pipeline2)\n",
    "workflow = workflow_from_pipeline(pipeline2)\n",
    "print('jobs:', workflow.jobs)\n",
    "print('dependencies:', workflow.dependencies)"
   ]
  },
  {
   "cell_type": "markdown",
   "metadata": {
    "deletable": true,
    "editable": true
   },
   "source": [
    "The workwlow can be saved and reloaded in soma_workflow_gui, or used in a <a href=\"http://www.brainvisa.info/doc/soma-workflow/sphinx/client_API.html\">soma-workflow controller</a>:"
   ]
  },
  {
   "cell_type": "code",
   "execution_count": 45,
   "metadata": {
    "collapsed": false,
    "deletable": true,
    "editable": true,
    "execution": {
     "iopub.execute_input": "2023-06-08T11:04:17.045356Z",
     "iopub.status.busy": "2023-06-08T11:04:17.045070Z",
     "iopub.status.idle": "2023-06-08T11:04:17.069658Z",
     "shell.execute_reply": "2023-06-08T11:04:17.068532Z"
    }
   },
   "outputs": [
    {
     "ename": "NameError",
     "evalue": "name 'workflow' is not defined",
     "output_type": "error",
     "traceback": [
      "\u001b[0;31m---------------------------------------------------------------------------\u001b[0m",
      "\u001b[0;31mNameError\u001b[0m                                 Traceback (most recent call last)",
      "Cell \u001b[0;32mIn[45], line 4\u001b[0m\n\u001b[1;32m      1\u001b[0m \u001b[38;5;28;01mfrom\u001b[39;00m \u001b[38;5;21;01msoma_workflow\u001b[39;00m \u001b[38;5;28;01mimport\u001b[39;00m client \u001b[38;5;28;01mas\u001b[39;00m swclient\n\u001b[1;32m      3\u001b[0m \u001b[38;5;66;03m# save workflow to disk in json format\u001b[39;00m\n\u001b[0;32m----> 4\u001b[0m swclient\u001b[38;5;241m.\u001b[39mHelper\u001b[38;5;241m.\u001b[39mserialize(\u001b[38;5;124m'\u001b[39m\u001b[38;5;124m/tmp/pipeline2.workflow\u001b[39m\u001b[38;5;124m'\u001b[39m, \u001b[43mworkflow\u001b[49m)\n\u001b[1;32m      6\u001b[0m \u001b[38;5;66;03m# run locally via a workflow controller\u001b[39;00m\n\u001b[1;32m      7\u001b[0m wc \u001b[38;5;241m=\u001b[39m swclient\u001b[38;5;241m.\u001b[39mWorkflowController()\n",
      "\u001b[0;31mNameError\u001b[0m: name 'workflow' is not defined"
     ]
    }
   ],
   "source": [
    "from soma_workflow import client as swclient\n",
    "\n",
    "# save workflow to disk in json format\n",
    "swclient.Helper.serialize('/tmp/pipeline2.workflow', workflow)\n",
    "\n",
    "# run locally via a workflow controller\n",
    "wc = swclient.WorkflowController()\n",
    "wf_id = wc.submit_workflow(workflow)\n",
    "swclient.Helper.wait_workflow(wf_id, wc)\n",
    "print('execution status:', wc.workflow_status(wf_id))\n",
    "wc.delete_workflow(wf_id)"
   ]
  },
  {
   "cell_type": "markdown",
   "metadata": {
    "deletable": true,
    "editable": true
   },
   "source": [
    "ok if we don't use it anymore, we can remove this workflow file."
   ]
  },
  {
   "cell_type": "code",
   "execution_count": 46,
   "metadata": {
    "collapsed": true,
    "deletable": true,
    "editable": true,
    "execution": {
     "iopub.execute_input": "2023-06-08T11:04:17.074600Z",
     "iopub.status.busy": "2023-06-08T11:04:17.074292Z",
     "iopub.status.idle": "2023-06-08T11:04:17.095561Z",
     "shell.execute_reply": "2023-06-08T11:04:17.094681Z"
    }
   },
   "outputs": [
    {
     "ename": "FileNotFoundError",
     "evalue": "[Errno 2] No such file or directory: '/tmp/pipeline2.workflow'",
     "output_type": "error",
     "traceback": [
      "\u001b[0;31m---------------------------------------------------------------------------\u001b[0m",
      "\u001b[0;31mFileNotFoundError\u001b[0m                         Traceback (most recent call last)",
      "Cell \u001b[0;32mIn[46], line 2\u001b[0m\n\u001b[1;32m      1\u001b[0m \u001b[38;5;28;01mimport\u001b[39;00m \u001b[38;5;21;01mos\u001b[39;00m\n\u001b[0;32m----> 2\u001b[0m \u001b[43mos\u001b[49m\u001b[38;5;241;43m.\u001b[39;49m\u001b[43munlink\u001b[49m\u001b[43m(\u001b[49m\u001b[38;5;124;43m'\u001b[39;49m\u001b[38;5;124;43m/tmp/pipeline2.workflow\u001b[39;49m\u001b[38;5;124;43m'\u001b[39;49m\u001b[43m)\u001b[49m\n",
      "\u001b[0;31mFileNotFoundError\u001b[0m: [Errno 2] No such file or directory: '/tmp/pipeline2.workflow'"
     ]
    }
   ],
   "source": [
    "import os\n",
    "os.unlink('/tmp/pipeline2.workflow')"
   ]
  },
  {
   "cell_type": "markdown",
   "metadata": {
    "deletable": true,
    "editable": true
   },
   "source": [
    "More transparently, Soma-Workflow execution can be used from StudyConfig:\n",
    "For this, StudyConfig should have \"SomaWorkflowConfig\" amongst its modules, and it should be enabled (which should be the default when the module is loaded in the config)."
   ]
  },
  {
   "cell_type": "code",
   "execution_count": 47,
   "metadata": {
    "collapsed": false,
    "deletable": true,
    "editable": true,
    "execution": {
     "iopub.execute_input": "2023-06-08T11:04:17.099290Z",
     "iopub.status.busy": "2023-06-08T11:04:17.098779Z",
     "iopub.status.idle": "2023-06-08T11:04:17.720435Z",
     "shell.execute_reply": "2023-06-08T11:04:17.718601Z"
    }
   },
   "outputs": [
    {
     "name": "stdout",
     "output_type": "stream",
     "text": [
      "soma-workflow starting in light mode\n",
      "Workflow controller initialised\n"
     ]
    },
    {
     "ename": "InterfaceError",
     "evalue": "Error binding parameter 1 - probably unsupported type.",
     "output_type": "error",
     "traceback": [
      "\u001b[0;31m---------------------------------------------------------------------------\u001b[0m",
      "\u001b[0;31mInterfaceError\u001b[0m                            Traceback (most recent call last)",
      "Cell \u001b[0;32mIn[47], line 3\u001b[0m\n\u001b[1;32m      1\u001b[0m study_config \u001b[38;5;241m=\u001b[39m StudyConfig(modules\u001b[38;5;241m=\u001b[39m[\u001b[38;5;124m'\u001b[39m\u001b[38;5;124mSomaWorkflowConfig\u001b[39m\u001b[38;5;124m'\u001b[39m])\n\u001b[1;32m      2\u001b[0m study_config\u001b[38;5;241m.\u001b[39muse_soma_workflow \u001b[38;5;241m=\u001b[39m \u001b[38;5;28;01mTrue\u001b[39;00m\n\u001b[0;32m----> 3\u001b[0m \u001b[43mstudy_config\u001b[49m\u001b[38;5;241;43m.\u001b[39;49m\u001b[43mrun\u001b[49m\u001b[43m(\u001b[49m\u001b[43mpipeline2\u001b[49m\u001b[43m)\u001b[49m\n\u001b[1;32m      4\u001b[0m \u001b[38;5;66;03m# if execution fails, an exception should be raised.\u001b[39;00m\n",
      "File \u001b[0;32m~/work/capsul/capsul/capsul/study_config/study_config.py:330\u001b[0m, in \u001b[0;36mStudyConfig.run\u001b[0;34m(self, process_or_pipeline, output_directory, execute_qc_nodes, verbose, configuration_dict, **kwargs)\u001b[0m\n\u001b[1;32m    327\u001b[0m \u001b[38;5;66;03m# Use soma workflow to execute the pipeline or process in parallel\u001b[39;00m\n\u001b[1;32m    328\u001b[0m \u001b[38;5;66;03m# on the local machine. This has now moved to CapsulEngine.\u001b[39;00m\n\u001b[1;32m    329\u001b[0m \u001b[38;5;28;01mif\u001b[39;00m \u001b[38;5;28mself\u001b[39m\u001b[38;5;241m.\u001b[39mget_trait_value(\u001b[38;5;124m\"\u001b[39m\u001b[38;5;124muse_soma_workflow\u001b[39m\u001b[38;5;124m\"\u001b[39m):\n\u001b[0;32m--> 330\u001b[0m     \u001b[38;5;28;01mreturn\u001b[39;00m \u001b[38;5;28;43mself\u001b[39;49m\u001b[38;5;241;43m.\u001b[39;49m\u001b[43mengine\u001b[49m\u001b[38;5;241;43m.\u001b[39;49m\u001b[43mcheck_call\u001b[49m\u001b[43m(\u001b[49m\u001b[43mprocess_or_pipeline\u001b[49m\u001b[43m,\u001b[49m\u001b[43m \u001b[49m\u001b[38;5;241;43m*\u001b[39;49m\u001b[38;5;241;43m*\u001b[39;49m\u001b[43mkwargs\u001b[49m\u001b[43m)\u001b[49m\n\u001b[1;32m    332\u001b[0m \u001b[38;5;66;03m# here we only deal with the (obsolete) local execution mode.\u001b[39;00m\n\u001b[1;32m    334\u001b[0m \u001b[38;5;28;01mwith\u001b[39;00m \u001b[38;5;28mself\u001b[39m\u001b[38;5;241m.\u001b[39mrun_lock:\n",
      "File \u001b[0;32m~/work/capsul/capsul/capsul/engine/__init__.py:489\u001b[0m, in \u001b[0;36mCapsulEngine.check_call\u001b[0;34m(self, process, history, **kwargs)\u001b[0m\n\u001b[1;32m    488\u001b[0m \u001b[38;5;28;01mdef\u001b[39;00m \u001b[38;5;21mcheck_call\u001b[39m(\u001b[38;5;28mself\u001b[39m, process, history\u001b[38;5;241m=\u001b[39m\u001b[38;5;28;01mTrue\u001b[39;00m, \u001b[38;5;241m*\u001b[39m\u001b[38;5;241m*\u001b[39mkwargs):\n\u001b[0;32m--> 489\u001b[0m     \u001b[38;5;28;01mreturn\u001b[39;00m \u001b[43mrun\u001b[49m\u001b[38;5;241;43m.\u001b[39;49m\u001b[43mcheck_call\u001b[49m\u001b[43m(\u001b[49m\u001b[38;5;28;43mself\u001b[39;49m\u001b[43m,\u001b[49m\u001b[43m \u001b[49m\u001b[43mprocess\u001b[49m\u001b[43m,\u001b[49m\u001b[43m \u001b[49m\u001b[43mhistory\u001b[49m\u001b[38;5;241;43m=\u001b[39;49m\u001b[43mhistory\u001b[49m\u001b[43m,\u001b[49m\u001b[43m \u001b[49m\u001b[38;5;241;43m*\u001b[39;49m\u001b[38;5;241;43m*\u001b[39;49m\u001b[43mkwargs\u001b[49m\u001b[43m)\u001b[49m\n",
      "File \u001b[0;32m~/work/capsul/capsul/capsul/engine/run.py:359\u001b[0m, in \u001b[0;36mcheck_call\u001b[0;34m(engine, process, history, **kwargs)\u001b[0m\n\u001b[1;32m    358\u001b[0m \u001b[38;5;28;01mdef\u001b[39;00m \u001b[38;5;21mcheck_call\u001b[39m(engine, process, history\u001b[38;5;241m=\u001b[39m\u001b[38;5;28;01mTrue\u001b[39;00m, \u001b[38;5;241m*\u001b[39m\u001b[38;5;241m*\u001b[39mkwargs):\n\u001b[0;32m--> 359\u001b[0m     eid, pipeline \u001b[38;5;241m=\u001b[39m \u001b[43mengine\u001b[49m\u001b[38;5;241;43m.\u001b[39;49m\u001b[43mstart\u001b[49m\u001b[43m(\u001b[49m\u001b[43mprocess\u001b[49m\u001b[43m,\u001b[49m\u001b[43m \u001b[49m\u001b[43mworkflow\u001b[49m\u001b[38;5;241;43m=\u001b[39;49m\u001b[38;5;28;43;01mNone\u001b[39;49;00m\u001b[43m,\u001b[49m\u001b[43m \u001b[49m\u001b[43mhistory\u001b[49m\u001b[38;5;241;43m=\u001b[39;49m\u001b[43mhistory\u001b[49m\u001b[43m,\u001b[49m\u001b[43m \u001b[49m\u001b[43mget_pipeline\u001b[49m\u001b[38;5;241;43m=\u001b[39;49m\u001b[38;5;28;43;01mTrue\u001b[39;49;00m\u001b[43m,\u001b[49m\n\u001b[1;32m    360\u001b[0m \u001b[43m                                 \u001b[49m\u001b[38;5;241;43m*\u001b[39;49m\u001b[38;5;241;43m*\u001b[39;49m\u001b[43mkwargs\u001b[49m\u001b[43m)\u001b[49m\n\u001b[1;32m    361\u001b[0m     status \u001b[38;5;241m=\u001b[39m engine\u001b[38;5;241m.\u001b[39mwait(eid, pipeline\u001b[38;5;241m=\u001b[39mpipeline)\n\u001b[1;32m    362\u001b[0m     \u001b[38;5;28;01mtry\u001b[39;00m:\n",
      "File \u001b[0;32m~/work/capsul/capsul/capsul/engine/__init__.py:416\u001b[0m, in \u001b[0;36mCapsulEngine.start\u001b[0;34m(self, process, workflow, history, get_pipeline, **kwargs)\u001b[0m\n\u001b[1;32m    381\u001b[0m \u001b[38;5;28;01mdef\u001b[39;00m \u001b[38;5;21mstart\u001b[39m(\u001b[38;5;28mself\u001b[39m, process, workflow\u001b[38;5;241m=\u001b[39m\u001b[38;5;28;01mNone\u001b[39;00m, history\u001b[38;5;241m=\u001b[39m\u001b[38;5;28;01mTrue\u001b[39;00m, get_pipeline\u001b[38;5;241m=\u001b[39m\u001b[38;5;28;01mFalse\u001b[39;00m, \u001b[38;5;241m*\u001b[39m\u001b[38;5;241m*\u001b[39mkwargs):\n\u001b[1;32m    382\u001b[0m \u001b[38;5;250m    \u001b[39m\u001b[38;5;124;03m'''\u001b[39;00m\n\u001b[1;32m    383\u001b[0m \u001b[38;5;124;03m    Asynchronously start the execution of a process or pipeline in the\u001b[39;00m\n\u001b[1;32m    384\u001b[0m \u001b[38;5;124;03m    connected computing environment. Returns an identifier of\u001b[39;00m\n\u001b[0;32m   (...)\u001b[0m\n\u001b[1;32m    414\u001b[0m \u001b[38;5;124;03m        only returned if get_pipeline is True.\u001b[39;00m\n\u001b[1;32m    415\u001b[0m \u001b[38;5;124;03m    '''\u001b[39;00m\n\u001b[0;32m--> 416\u001b[0m     \u001b[38;5;28;01mreturn\u001b[39;00m \u001b[43mrun\u001b[49m\u001b[38;5;241;43m.\u001b[39;49m\u001b[43mstart\u001b[49m\u001b[43m(\u001b[49m\u001b[38;5;28;43mself\u001b[39;49m\u001b[43m,\u001b[49m\u001b[43m \u001b[49m\u001b[43mprocess\u001b[49m\u001b[43m,\u001b[49m\u001b[43m \u001b[49m\u001b[43mworkflow\u001b[49m\u001b[43m,\u001b[49m\u001b[43m \u001b[49m\u001b[43mhistory\u001b[49m\u001b[43m,\u001b[49m\u001b[43m \u001b[49m\u001b[43mget_pipeline\u001b[49m\u001b[43m,\u001b[49m\u001b[43m \u001b[49m\u001b[38;5;241;43m*\u001b[39;49m\u001b[38;5;241;43m*\u001b[39;49m\u001b[43mkwargs\u001b[49m\u001b[43m)\u001b[49m\n",
      "File \u001b[0;32m~/work/capsul/capsul/capsul/engine/run.py:193\u001b[0m, in \u001b[0;36mstart\u001b[0;34m(engine, process, workflow, history, get_pipeline, **kwargs)\u001b[0m\n\u001b[1;32m    190\u001b[0m     environment \u001b[38;5;241m=\u001b[39m \u001b[38;5;124m'\u001b[39m\u001b[38;5;124mglobal\u001b[39m\u001b[38;5;124m'\u001b[39m\n\u001b[1;32m    192\u001b[0m \u001b[38;5;28;01mif\u001b[39;00m workflow \u001b[38;5;129;01mis\u001b[39;00m \u001b[38;5;28;01mNone\u001b[39;00m:\n\u001b[0;32m--> 193\u001b[0m     workflow \u001b[38;5;241m=\u001b[39m \u001b[43mworkflow_from_pipeline\u001b[49m\u001b[43m(\u001b[49m\u001b[43mprocess\u001b[49m\u001b[43m,\u001b[49m\u001b[43m \u001b[49m\u001b[43menvironment\u001b[49m\u001b[38;5;241;43m=\u001b[39;49m\u001b[43menvironment\u001b[49m\u001b[43m)\u001b[49m\n\u001b[1;32m    195\u001b[0m queue \u001b[38;5;241m=\u001b[39m \u001b[38;5;28mgetattr\u001b[39m(resource_config, \u001b[38;5;124m'\u001b[39m\u001b[38;5;124mqueue\u001b[39m\u001b[38;5;124m'\u001b[39m, \u001b[38;5;28;01mNone\u001b[39;00m)\n\u001b[1;32m    196\u001b[0m \u001b[38;5;66;03m#if hasattr(engine.study_config.somaworkflow_computing_resources_config,\u001b[39;00m\n\u001b[1;32m    197\u001b[0m            \u001b[38;5;66;03m#resource_id):\u001b[39;00m\n\u001b[1;32m    198\u001b[0m     \u001b[38;5;66;03m#res_conf = getattr(\u001b[39;00m\n\u001b[0;32m   (...)\u001b[0m\n\u001b[1;32m    202\u001b[0m     \u001b[38;5;66;03m#if queue is Undefined:\u001b[39;00m\n\u001b[1;32m    203\u001b[0m         \u001b[38;5;66;03m#queue = None\u001b[39;00m\n",
      "File \u001b[0;32m~/work/capsul/capsul/capsul/pipeline/pipeline_workflow.py:1532\u001b[0m, in \u001b[0;36mworkflow_from_pipeline\u001b[0;34m(pipeline, study_config, disabled_nodes, jobs_priority, create_directories, environment, check_requirements, complete_parameters)\u001b[0m\n\u001b[1;32m   1529\u001b[0m     merged_formats\u001b[38;5;241m.\u001b[39mupdate(values)\n\u001b[1;32m   1531\u001b[0m \u001b[38;5;28;01mif\u001b[39;00m study_config \u001b[38;5;129;01mis\u001b[39;00m \u001b[38;5;28;01mNone\u001b[39;00m:\n\u001b[0;32m-> 1532\u001b[0m     study_config \u001b[38;5;241m=\u001b[39m \u001b[43mpipeline\u001b[49m\u001b[38;5;241;43m.\u001b[39;49m\u001b[43mget_study_config\u001b[49m\u001b[43m(\u001b[49m\u001b[43m)\u001b[49m\n\u001b[1;32m   1533\u001b[0m engine \u001b[38;5;241m=\u001b[39m study_config\u001b[38;5;241m.\u001b[39mengine\n\u001b[1;32m   1535\u001b[0m \u001b[38;5;28;01mif\u001b[39;00m check_requirements:\n",
      "File \u001b[0;32m~/work/capsul/capsul/capsul/process/process.py:1090\u001b[0m, in \u001b[0;36mProcess.get_study_config\u001b[0;34m(self)\u001b[0m\n\u001b[1;32m   1087\u001b[0m \u001b[38;5;28;01mif\u001b[39;00m \u001b[38;5;28mself\u001b[39m\u001b[38;5;241m.\u001b[39mstudy_config \u001b[38;5;129;01mis\u001b[39;00m \u001b[38;5;28;01mNone\u001b[39;00m:\n\u001b[1;32m   1088\u001b[0m     \u001b[38;5;66;03m# Import cannot be done on module due to circular dependencies\u001b[39;00m\n\u001b[1;32m   1089\u001b[0m     \u001b[38;5;28;01mfrom\u001b[39;00m \u001b[38;5;21;01mcapsul\u001b[39;00m\u001b[38;5;21;01m.\u001b[39;00m\u001b[38;5;21;01mstudy_config\u001b[39;00m\u001b[38;5;21;01m.\u001b[39;00m\u001b[38;5;21;01mstudy_config\u001b[39;00m \u001b[38;5;28;01mimport\u001b[39;00m default_study_config\n\u001b[0;32m-> 1090\u001b[0m     \u001b[38;5;28mself\u001b[39m\u001b[38;5;241m.\u001b[39mset_study_config(\u001b[43mdefault_study_config\u001b[49m\u001b[43m(\u001b[49m\u001b[43m)\u001b[49m)\n\u001b[1;32m   1091\u001b[0m \u001b[38;5;28;01mreturn\u001b[39;00m \u001b[38;5;28mself\u001b[39m\u001b[38;5;241m.\u001b[39mstudy_config\n",
      "File \u001b[0;32m~/work/capsul/capsul/capsul/study_config/study_config.py:762\u001b[0m, in \u001b[0;36mdefault_study_config\u001b[0;34m()\u001b[0m\n\u001b[1;32m    760\u001b[0m \u001b[38;5;28;01mglobal\u001b[39;00m _default_study_config\n\u001b[1;32m    761\u001b[0m \u001b[38;5;28;01mif\u001b[39;00m _default_study_config \u001b[38;5;129;01mis\u001b[39;00m \u001b[38;5;28;01mNone\u001b[39;00m:\n\u001b[0;32m--> 762\u001b[0m     _default_study_config \u001b[38;5;241m=\u001b[39m \u001b[43mStudyConfig\u001b[49m\u001b[43m(\u001b[49m\u001b[43m)\u001b[49m\n\u001b[1;32m    763\u001b[0m \u001b[38;5;28;01mreturn\u001b[39;00m _default_study_config\n",
      "File \u001b[0;32m~/work/capsul/capsul/capsul/study_config/study_config.py:225\u001b[0m, in \u001b[0;36mStudyConfig.__init__\u001b[0;34m(self, study_name, init_config, modules, engine, **override_config)\u001b[0m\n\u001b[1;32m    223\u001b[0m \u001b[38;5;28;01mfor\u001b[39;00m k, v \u001b[38;5;129;01min\u001b[39;00m six\u001b[38;5;241m.\u001b[39miteritems(config):\n\u001b[1;32m    224\u001b[0m     \u001b[38;5;28msetattr\u001b[39m(\u001b[38;5;28mself\u001b[39m, k, v)\n\u001b[0;32m--> 225\u001b[0m \u001b[38;5;28;43mself\u001b[39;49m\u001b[38;5;241;43m.\u001b[39;49m\u001b[43minitialize_modules\u001b[49m\u001b[43m(\u001b[49m\u001b[43m)\u001b[49m\n\u001b[1;32m    226\u001b[0m \u001b[38;5;28mself\u001b[39m\u001b[38;5;241m.\u001b[39mrun_lock \u001b[38;5;241m=\u001b[39m threading\u001b[38;5;241m.\u001b[39mRLock()\n\u001b[1;32m    227\u001b[0m \u001b[38;5;28mself\u001b[39m\u001b[38;5;241m.\u001b[39mrun_interruption_request \u001b[38;5;241m=\u001b[39m \u001b[38;5;28;01mFalse\u001b[39;00m\n",
      "File \u001b[0;32m~/work/capsul/capsul/capsul/study_config/study_config.py:256\u001b[0m, in \u001b[0;36mStudyConfig.initialize_modules\u001b[0;34m(self)\u001b[0m\n\u001b[1;32m    254\u001b[0m     \u001b[38;5;28;01mcontinue\u001b[39;00m\n\u001b[1;32m    255\u001b[0m \u001b[38;5;66;03m# Initialize a module\u001b[39;00m\n\u001b[0;32m--> 256\u001b[0m \u001b[43mmodule\u001b[49m\u001b[38;5;241;43m.\u001b[39;49m\u001b[43minitialize_module\u001b[49m\u001b[43m(\u001b[49m\u001b[43m)\u001b[49m\n\u001b[1;32m    257\u001b[0m module\u001b[38;5;241m.\u001b[39minitialize_callbacks()\n\u001b[1;32m    258\u001b[0m already_initialized\u001b[38;5;241m.\u001b[39madd(module_name)\n",
      "File \u001b[0;32m~/work/capsul/capsul/capsul/study_config/config_modules/spm_config.py:70\u001b[0m, in \u001b[0;36mSPMConfig.initialize_module\u001b[0;34m(self)\u001b[0m\n\u001b[1;32m     68\u001b[0m     \u001b[38;5;28mself\u001b[39m\u001b[38;5;241m.\u001b[39msync_from_engine()\n\u001b[1;32m     69\u001b[0m \u001b[38;5;28;01melse\u001b[39;00m:\n\u001b[0;32m---> 70\u001b[0m     \u001b[38;5;28;43mself\u001b[39;49m\u001b[38;5;241;43m.\u001b[39;49m\u001b[43msync_to_engine\u001b[49m\u001b[43m(\u001b[49m\u001b[43m)\u001b[49m\n\u001b[1;32m     71\u001b[0m \u001b[38;5;66;03m# this test aims to raise an exception in case of incorrect setting,\u001b[39;00m\n\u001b[1;32m     72\u001b[0m \u001b[38;5;66;03m# complying to capsul 2.x behavior.\u001b[39;00m\n\u001b[1;32m     73\u001b[0m \u001b[38;5;28;01mif\u001b[39;00m \u001b[38;5;28mself\u001b[39m\u001b[38;5;241m.\u001b[39mstudy_config\u001b[38;5;241m.\u001b[39muse_spm \u001b[38;5;129;01mis\u001b[39;00m \u001b[38;5;28;01mTrue\u001b[39;00m:\n",
      "File \u001b[0;32m~/work/capsul/capsul/capsul/study_config/config_modules/spm_config.py:209\u001b[0m, in \u001b[0;36mSPMConfig.sync_to_engine\u001b[0;34m(self)\u001b[0m\n\u001b[1;32m    205\u001b[0m config \u001b[38;5;241m=\u001b[39m session\u001b[38;5;241m.\u001b[39mconfig(\u001b[38;5;124m'\u001b[39m\u001b[38;5;124mmatlab\u001b[39m\u001b[38;5;124m'\u001b[39m, \u001b[38;5;124m'\u001b[39m\u001b[38;5;124mglobal\u001b[39m\u001b[38;5;124m'\u001b[39m,\n\u001b[1;32m    206\u001b[0m                         selection\u001b[38;5;241m=\u001b[39m\u001b[38;5;124m'\u001b[39m\u001b[38;5;132;01m%s\u001b[39;00m\u001b[38;5;124m == \u001b[39m\u001b[38;5;124m\"\u001b[39m\u001b[38;5;124mmatlab\u001b[39m\u001b[38;5;124m\"\u001b[39m\u001b[38;5;124m'\u001b[39m\n\u001b[1;32m    207\u001b[0m                         \u001b[38;5;241m%\u001b[39m cif)\n\u001b[1;32m    208\u001b[0m \u001b[38;5;28;01mif\u001b[39;00m config \u001b[38;5;129;01mis\u001b[39;00m \u001b[38;5;28;01mNone\u001b[39;00m:\n\u001b[0;32m--> 209\u001b[0m     \u001b[43msession\u001b[49m\u001b[38;5;241;43m.\u001b[39;49m\u001b[43mnew_config\u001b[49m\u001b[43m(\u001b[49m\n\u001b[1;32m    210\u001b[0m \u001b[43m        \u001b[49m\u001b[38;5;124;43m'\u001b[39;49m\u001b[38;5;124;43mmatlab\u001b[39;49m\u001b[38;5;124;43m'\u001b[39;49m\u001b[43m,\u001b[49m\u001b[43m \u001b[49m\u001b[38;5;124;43m'\u001b[39;49m\u001b[38;5;124;43mglobal\u001b[39;49m\u001b[38;5;124;43m'\u001b[39;49m\u001b[43m,\u001b[49m\n\u001b[1;32m    211\u001b[0m \u001b[43m        \u001b[49m\u001b[43m{\u001b[49m\u001b[38;5;124;43m'\u001b[39;49m\u001b[38;5;124;43mmcr_directory\u001b[39;49m\u001b[38;5;124;43m'\u001b[39;49m\u001b[43m:\u001b[49m\n\u001b[1;32m    212\u001b[0m \u001b[43m            \u001b[49m\u001b[38;5;28;43mself\u001b[39;49m\u001b[38;5;241;43m.\u001b[39;49m\u001b[43mstudy_config\u001b[49m\u001b[38;5;241;43m.\u001b[39;49m\u001b[43mspm_directory\u001b[49m\u001b[43m}\u001b[49m\u001b[43m)\u001b[49m\n\u001b[1;32m    213\u001b[0m \u001b[38;5;28;01melse\u001b[39;00m:\n\u001b[1;32m    214\u001b[0m     config\u001b[38;5;241m.\u001b[39mmcr_directory \\\n\u001b[1;32m    215\u001b[0m         \u001b[38;5;241m=\u001b[39m \u001b[38;5;28mself\u001b[39m\u001b[38;5;241m.\u001b[39mstudy_config\u001b[38;5;241m.\u001b[39mspm_directory\n",
      "File \u001b[0;32m~/work/capsul/capsul/capsul/engine/settings.py:405\u001b[0m, in \u001b[0;36mSettingsSession.new_config\u001b[0;34m(self, module, environment, values)\u001b[0m\n\u001b[1;32m    403\u001b[0m document[Settings\u001b[38;5;241m.\u001b[39mconfig_id_field] \u001b[38;5;241m=\u001b[39m \u001b[38;5;124m'\u001b[39m\u001b[38;5;132;01m%s\u001b[39;00m\u001b[38;5;124m-\u001b[39m\u001b[38;5;132;01m%s\u001b[39;00m\u001b[38;5;124m'\u001b[39m \u001b[38;5;241m%\u001b[39m (\u001b[38;5;28mid\u001b[39m, environment)\n\u001b[1;32m    404\u001b[0m collection \u001b[38;5;241m=\u001b[39m \u001b[38;5;28mself\u001b[39m\u001b[38;5;241m.\u001b[39mcollection_name(module)\n\u001b[0;32m--> 405\u001b[0m \u001b[38;5;28;43mself\u001b[39;49m\u001b[38;5;241;43m.\u001b[39;49m\u001b[43m_dbs\u001b[49m\u001b[38;5;241;43m.\u001b[39;49m\u001b[43madd_document\u001b[49m\u001b[43m(\u001b[49m\u001b[43mcollection\u001b[49m\u001b[43m,\u001b[49m\u001b[43m \u001b[49m\u001b[43mdocument\u001b[49m\u001b[43m)\u001b[49m\n\u001b[1;32m    406\u001b[0m config \u001b[38;5;241m=\u001b[39m SettingsConfig(\n\u001b[1;32m    407\u001b[0m     \u001b[38;5;28mself\u001b[39m\u001b[38;5;241m.\u001b[39m_dbs, collection, \u001b[38;5;28mid\u001b[39m, environment,\n\u001b[1;32m    408\u001b[0m     notifiers\u001b[38;5;241m=\u001b[39m\u001b[38;5;28mself\u001b[39m\u001b[38;5;241m.\u001b[39mmodule_notifiers\u001b[38;5;241m.\u001b[39mget(Settings\u001b[38;5;241m.\u001b[39mmodule_name(module),\n\u001b[1;32m    409\u001b[0m                                         []))\n\u001b[1;32m    410\u001b[0m config\u001b[38;5;241m.\u001b[39mnotify()\n",
      "File \u001b[0;32m/opt/hostedtoolcache/Python/3.9.16/x64/lib/python3.9/site-packages/populse_db/database.py:762\u001b[0m, in \u001b[0;36mDatabaseSession.add_document\u001b[0;34m(self, collection, document, create_missing_fields, flush)\u001b[0m\n\u001b[1;32m    760\u001b[0m \u001b[38;5;28;01mif\u001b[39;00m \u001b[38;5;129;01mnot\u001b[39;00m \u001b[38;5;28misinstance\u001b[39m(document, \u001b[38;5;28mdict\u001b[39m):\n\u001b[1;32m    761\u001b[0m     document \u001b[38;5;241m=\u001b[39m {primary_key: document}\n\u001b[0;32m--> 762\u001b[0m \u001b[38;5;28;43mself\u001b[39;49m\u001b[38;5;241;43m.\u001b[39;49m\u001b[43mengine\u001b[49m\u001b[38;5;241;43m.\u001b[39;49m\u001b[43madd_document\u001b[49m\u001b[43m(\u001b[49m\u001b[43mcollection\u001b[49m\u001b[43m,\u001b[49m\u001b[43m \u001b[49m\u001b[43mdocument\u001b[49m\u001b[43m,\u001b[49m\u001b[43m \u001b[49m\u001b[43mcreate_missing_fields\u001b[49m\u001b[43m)\u001b[49m\n",
      "File \u001b[0;32m/opt/hostedtoolcache/Python/3.9.16/x64/lib/python3.9/site-packages/populse_db/engine/sqlite.py:361\u001b[0m, in \u001b[0;36mSQLiteEngine.add_document\u001b[0;34m(self, collection, document, create_missing_fields)\u001b[0m\n\u001b[1;32m    356\u001b[0m sql \u001b[38;5;241m=\u001b[39m \u001b[38;5;124m'\u001b[39m\u001b[38;5;124mINSERT INTO [\u001b[39m\u001b[38;5;132;01m%s\u001b[39;00m\u001b[38;5;124m] (\u001b[39m\u001b[38;5;132;01m%s\u001b[39;00m\u001b[38;5;124m) VALUES (\u001b[39m\u001b[38;5;132;01m%s\u001b[39;00m\u001b[38;5;124m)\u001b[39m\u001b[38;5;124m'\u001b[39m \u001b[38;5;241m%\u001b[39m (\n\u001b[1;32m    357\u001b[0m     table,\n\u001b[1;32m    358\u001b[0m     \u001b[38;5;124m'\u001b[39m\u001b[38;5;124m,\u001b[39m\u001b[38;5;124m'\u001b[39m\u001b[38;5;241m.\u001b[39mjoin(\u001b[38;5;124m'\u001b[39m\u001b[38;5;124m[\u001b[39m\u001b[38;5;132;01m%s\u001b[39;00m\u001b[38;5;124m]\u001b[39m\u001b[38;5;124m'\u001b[39m \u001b[38;5;241m%\u001b[39m i \u001b[38;5;28;01mfor\u001b[39;00m i \u001b[38;5;129;01min\u001b[39;00m column_values\u001b[38;5;241m.\u001b[39mkeys()),\n\u001b[1;32m    359\u001b[0m     \u001b[38;5;124m'\u001b[39m\u001b[38;5;124m,\u001b[39m\u001b[38;5;124m'\u001b[39m\u001b[38;5;241m.\u001b[39mjoin(\u001b[38;5;124m'\u001b[39m\u001b[38;5;124m?\u001b[39m\u001b[38;5;124m'\u001b[39m \u001b[38;5;28;01mfor\u001b[39;00m i \u001b[38;5;129;01min\u001b[39;00m column_values))\n\u001b[1;32m    360\u001b[0m \u001b[38;5;28;01mtry\u001b[39;00m:\n\u001b[0;32m--> 361\u001b[0m     \u001b[38;5;28;43mself\u001b[39;49m\u001b[38;5;241;43m.\u001b[39;49m\u001b[43mcursor\u001b[49m\u001b[38;5;241;43m.\u001b[39;49m\u001b[43mexecute\u001b[49m\u001b[43m(\u001b[49m\u001b[43msql\u001b[49m\u001b[43m,\u001b[49m\u001b[43m \u001b[49m\u001b[38;5;28;43mlist\u001b[39;49m\u001b[43m(\u001b[49m\u001b[43mcolumn_values\u001b[49m\u001b[38;5;241;43m.\u001b[39;49m\u001b[43mvalues\u001b[49m\u001b[43m(\u001b[49m\u001b[43m)\u001b[49m\u001b[43m)\u001b[49m\u001b[43m)\u001b[49m\n\u001b[1;32m    362\u001b[0m \u001b[38;5;28;01mexcept\u001b[39;00m sqlite3\u001b[38;5;241m.\u001b[39mIntegrityError \u001b[38;5;28;01mas\u001b[39;00m e:\n\u001b[1;32m    363\u001b[0m     \u001b[38;5;28;01mraise\u001b[39;00m \u001b[38;5;167;01mValueError\u001b[39;00m(\u001b[38;5;28mstr\u001b[39m(e))\n",
      "\u001b[0;31mInterfaceError\u001b[0m: Error binding parameter 1 - probably unsupported type."
     ]
    }
   ],
   "source": [
    "study_config = StudyConfig(modules=['SomaWorkflowConfig'])\n",
    "study_config.use_soma_workflow = True\n",
    "study_config.run(pipeline2)\n",
    "# if execution fails, an exception should be raised."
   ]
  },
  {
   "cell_type": "markdown",
   "metadata": {
    "deletable": true,
    "editable": true
   },
   "source": [
    "If we wanted more control over the executed workflow, we could have added things:"
   ]
  },
  {
   "cell_type": "code",
   "execution_count": 48,
   "metadata": {
    "collapsed": false,
    "deletable": true,
    "editable": true,
    "execution": {
     "iopub.execute_input": "2023-06-08T11:04:17.724417Z",
     "iopub.status.busy": "2023-06-08T11:04:17.724226Z",
     "iopub.status.idle": "2023-06-08T11:04:17.795995Z",
     "shell.execute_reply": "2023-06-08T11:04:17.795038Z"
    }
   },
   "outputs": [
    {
     "name": "stdout",
     "output_type": "stream",
     "text": [
      "Workflow failed: Error binding parameter 1 - probably unsupported type.\n"
     ]
    },
    {
     "ename": "IndexError",
     "evalue": "list index out of range",
     "output_type": "error",
     "traceback": [
      "\u001b[0;31m---------------------------------------------------------------------------\u001b[0m",
      "\u001b[0;31mIndexError\u001b[0m                                Traceback (most recent call last)",
      "Cell \u001b[0;32mIn[48], line 14\u001b[0m\n\u001b[1;32m     12\u001b[0m wc \u001b[38;5;241m=\u001b[39m study_config\u001b[38;5;241m.\u001b[39mmodules[\u001b[38;5;124m'\u001b[39m\u001b[38;5;124mSomaWorkflowConfig\u001b[39m\u001b[38;5;124m'\u001b[39m]\u001b[38;5;241m.\u001b[39mget_workflow_controller()\n\u001b[1;32m     13\u001b[0m wf_list \u001b[38;5;241m=\u001b[39m wc\u001b[38;5;241m.\u001b[39mworkflows()\u001b[38;5;241m.\u001b[39mkeys()\n\u001b[0;32m---> 14\u001b[0m wf_id \u001b[38;5;241m=\u001b[39m \u001b[43m[\u001b[49m\u001b[43mwf\u001b[49m\u001b[43m \u001b[49m\u001b[38;5;28;43;01mfor\u001b[39;49;00m\u001b[43m \u001b[49m\u001b[43mwf\u001b[49m\u001b[43m \u001b[49m\u001b[38;5;129;43;01min\u001b[39;49;00m\u001b[43m \u001b[49m\u001b[43mwf_list\u001b[49m\u001b[43m \u001b[49m\u001b[38;5;28;43;01mif\u001b[39;49;00m\u001b[43m \u001b[49m\u001b[43mwf\u001b[49m\u001b[43m \u001b[49m\u001b[38;5;129;43;01mnot\u001b[39;49;00m\u001b[43m \u001b[49m\u001b[38;5;129;43;01min\u001b[39;49;00m\u001b[43m \u001b[49m\u001b[43minit_wf_list\u001b[49m\u001b[43m]\u001b[49m\u001b[43m[\u001b[49m\u001b[38;5;241;43m0\u001b[39;49m\u001b[43m]\u001b[49m\n\u001b[1;32m     15\u001b[0m \u001b[38;5;28mprint\u001b[39m(\u001b[38;5;124m'\u001b[39m\u001b[38;5;124mworkflow id:\u001b[39m\u001b[38;5;124m'\u001b[39m, wf_id)\n\u001b[1;32m     16\u001b[0m wc\u001b[38;5;241m.\u001b[39mdelete_workflow(wf_id)\n",
      "\u001b[0;31mIndexError\u001b[0m: list index out of range"
     ]
    }
   ],
   "source": [
    "study_config.somaworkflow_keep_succeeded_workflows = True\n",
    "wc = study_config.modules['SomaWorkflowConfig'].get_workflow_controller()\n",
    "if wc is not None:\n",
    "    init_wf_list = wc.workflows().keys()\n",
    "else:\n",
    "    init_wf_list = []\n",
    "try:\n",
    "    study_config.run(pipeline2)\n",
    "except Exception as e:\n",
    "    print('Workflow failed:', e)\n",
    "# get workflow after running\n",
    "wc = study_config.modules['SomaWorkflowConfig'].get_workflow_controller()\n",
    "wf_list = wc.workflows().keys()\n",
    "wf_id = [wf for wf in wf_list if wf not in init_wf_list][0]\n",
    "print('workflow id:', wf_id)\n",
    "wc.delete_workflow(wf_id)"
   ]
  },
  {
   "cell_type": "markdown",
   "metadata": {
    "deletable": true,
    "editable": true
   },
   "source": [
    "<h1>Use thirdparty software in Capsul</h1>\n",
    "\n",
    "Some thirdparty software need to be configured before they are called. StudyConfig is used to hold this\n",
    "configuration. There are a set of modules that can be modified to enable/disable configuration of thirdparty \n",
    "software.\n"
   ]
  },
  {
   "cell_type": "code",
   "execution_count": 49,
   "metadata": {
    "collapsed": false,
    "deletable": true,
    "editable": true,
    "execution": {
     "iopub.execute_input": "2023-06-08T11:04:17.802609Z",
     "iopub.status.busy": "2023-06-08T11:04:17.802142Z",
     "iopub.status.idle": "2023-06-08T11:04:17.806975Z",
     "shell.execute_reply": "2023-06-08T11:04:17.806226Z"
    }
   },
   "outputs": [
    {
     "name": "stdout",
     "output_type": "stream",
     "text": [
      "['AFNIConfig', 'ANTSConfig', 'FSLConfig', 'MatlabConfig', 'SmartCachingConfig', 'SomaWorkflowConfig', 'SPMConfig']\n"
     ]
    }
   ],
   "source": [
    "from capsul.api import StudyConfig\n",
    "\n",
    "print(StudyConfig.default_modules)"
   ]
  },
  {
   "cell_type": "markdown",
   "metadata": {
    "deletable": true,
    "editable": true
   },
   "source": [
    "In order to change modules that are used, one must give a full module list to StudyConfig():"
   ]
  },
  {
   "cell_type": "code",
   "execution_count": 50,
   "metadata": {
    "collapsed": true,
    "deletable": true,
    "editable": true,
    "execution": {
     "iopub.execute_input": "2023-06-08T11:04:17.812700Z",
     "iopub.status.busy": "2023-06-08T11:04:17.812511Z",
     "iopub.status.idle": "2023-06-08T11:04:17.947405Z",
     "shell.execute_reply": "2023-06-08T11:04:17.946283Z"
    }
   },
   "outputs": [
    {
     "ename": "InterfaceError",
     "evalue": "Error binding parameter 1 - probably unsupported type.",
     "output_type": "error",
     "traceback": [
      "\u001b[0;31m---------------------------------------------------------------------------\u001b[0m",
      "\u001b[0;31mInterfaceError\u001b[0m                            Traceback (most recent call last)",
      "Cell \u001b[0;32mIn[50], line 1\u001b[0m\n\u001b[0;32m----> 1\u001b[0m study_config \u001b[38;5;241m=\u001b[39m \u001b[43mStudyConfig\u001b[49m\u001b[43m(\u001b[49m\u001b[43mmodules\u001b[49m\u001b[38;5;241;43m=\u001b[39;49m\u001b[43mStudyConfig\u001b[49m\u001b[38;5;241;43m.\u001b[39;49m\u001b[43mdefault_modules\u001b[49m\u001b[43m \u001b[49m\u001b[38;5;241;43m+\u001b[39;49m\u001b[43m \u001b[49m\u001b[43m[\u001b[49m\u001b[38;5;124;43m'\u001b[39;49m\u001b[38;5;124;43mBrainVISAConfig\u001b[39;49m\u001b[38;5;124;43m'\u001b[39;49m\u001b[43m,\u001b[49m\u001b[43m \u001b[49m\u001b[38;5;124;43m'\u001b[39;49m\u001b[38;5;124;43mNipypeConfig\u001b[39;49m\u001b[38;5;124;43m'\u001b[39;49m\u001b[43m]\u001b[49m\u001b[43m)\u001b[49m\n",
      "File \u001b[0;32m~/work/capsul/capsul/capsul/study_config/study_config.py:225\u001b[0m, in \u001b[0;36mStudyConfig.__init__\u001b[0;34m(self, study_name, init_config, modules, engine, **override_config)\u001b[0m\n\u001b[1;32m    223\u001b[0m \u001b[38;5;28;01mfor\u001b[39;00m k, v \u001b[38;5;129;01min\u001b[39;00m six\u001b[38;5;241m.\u001b[39miteritems(config):\n\u001b[1;32m    224\u001b[0m     \u001b[38;5;28msetattr\u001b[39m(\u001b[38;5;28mself\u001b[39m, k, v)\n\u001b[0;32m--> 225\u001b[0m \u001b[38;5;28;43mself\u001b[39;49m\u001b[38;5;241;43m.\u001b[39;49m\u001b[43minitialize_modules\u001b[49m\u001b[43m(\u001b[49m\u001b[43m)\u001b[49m\n\u001b[1;32m    226\u001b[0m \u001b[38;5;28mself\u001b[39m\u001b[38;5;241m.\u001b[39mrun_lock \u001b[38;5;241m=\u001b[39m threading\u001b[38;5;241m.\u001b[39mRLock()\n\u001b[1;32m    227\u001b[0m \u001b[38;5;28mself\u001b[39m\u001b[38;5;241m.\u001b[39mrun_interruption_request \u001b[38;5;241m=\u001b[39m \u001b[38;5;28;01mFalse\u001b[39;00m\n",
      "File \u001b[0;32m~/work/capsul/capsul/capsul/study_config/study_config.py:256\u001b[0m, in \u001b[0;36mStudyConfig.initialize_modules\u001b[0;34m(self)\u001b[0m\n\u001b[1;32m    254\u001b[0m     \u001b[38;5;28;01mcontinue\u001b[39;00m\n\u001b[1;32m    255\u001b[0m \u001b[38;5;66;03m# Initialize a module\u001b[39;00m\n\u001b[0;32m--> 256\u001b[0m \u001b[43mmodule\u001b[49m\u001b[38;5;241;43m.\u001b[39;49m\u001b[43minitialize_module\u001b[49m\u001b[43m(\u001b[49m\u001b[43m)\u001b[49m\n\u001b[1;32m    257\u001b[0m module\u001b[38;5;241m.\u001b[39minitialize_callbacks()\n\u001b[1;32m    258\u001b[0m already_initialized\u001b[38;5;241m.\u001b[39madd(module_name)\n",
      "File \u001b[0;32m~/work/capsul/capsul/capsul/study_config/config_modules/spm_config.py:70\u001b[0m, in \u001b[0;36mSPMConfig.initialize_module\u001b[0;34m(self)\u001b[0m\n\u001b[1;32m     68\u001b[0m     \u001b[38;5;28mself\u001b[39m\u001b[38;5;241m.\u001b[39msync_from_engine()\n\u001b[1;32m     69\u001b[0m \u001b[38;5;28;01melse\u001b[39;00m:\n\u001b[0;32m---> 70\u001b[0m     \u001b[38;5;28;43mself\u001b[39;49m\u001b[38;5;241;43m.\u001b[39;49m\u001b[43msync_to_engine\u001b[49m\u001b[43m(\u001b[49m\u001b[43m)\u001b[49m\n\u001b[1;32m     71\u001b[0m \u001b[38;5;66;03m# this test aims to raise an exception in case of incorrect setting,\u001b[39;00m\n\u001b[1;32m     72\u001b[0m \u001b[38;5;66;03m# complying to capsul 2.x behavior.\u001b[39;00m\n\u001b[1;32m     73\u001b[0m \u001b[38;5;28;01mif\u001b[39;00m \u001b[38;5;28mself\u001b[39m\u001b[38;5;241m.\u001b[39mstudy_config\u001b[38;5;241m.\u001b[39muse_spm \u001b[38;5;129;01mis\u001b[39;00m \u001b[38;5;28;01mTrue\u001b[39;00m:\n",
      "File \u001b[0;32m~/work/capsul/capsul/capsul/study_config/config_modules/spm_config.py:209\u001b[0m, in \u001b[0;36mSPMConfig.sync_to_engine\u001b[0;34m(self)\u001b[0m\n\u001b[1;32m    205\u001b[0m config \u001b[38;5;241m=\u001b[39m session\u001b[38;5;241m.\u001b[39mconfig(\u001b[38;5;124m'\u001b[39m\u001b[38;5;124mmatlab\u001b[39m\u001b[38;5;124m'\u001b[39m, \u001b[38;5;124m'\u001b[39m\u001b[38;5;124mglobal\u001b[39m\u001b[38;5;124m'\u001b[39m,\n\u001b[1;32m    206\u001b[0m                         selection\u001b[38;5;241m=\u001b[39m\u001b[38;5;124m'\u001b[39m\u001b[38;5;132;01m%s\u001b[39;00m\u001b[38;5;124m == \u001b[39m\u001b[38;5;124m\"\u001b[39m\u001b[38;5;124mmatlab\u001b[39m\u001b[38;5;124m\"\u001b[39m\u001b[38;5;124m'\u001b[39m\n\u001b[1;32m    207\u001b[0m                         \u001b[38;5;241m%\u001b[39m cif)\n\u001b[1;32m    208\u001b[0m \u001b[38;5;28;01mif\u001b[39;00m config \u001b[38;5;129;01mis\u001b[39;00m \u001b[38;5;28;01mNone\u001b[39;00m:\n\u001b[0;32m--> 209\u001b[0m     \u001b[43msession\u001b[49m\u001b[38;5;241;43m.\u001b[39;49m\u001b[43mnew_config\u001b[49m\u001b[43m(\u001b[49m\n\u001b[1;32m    210\u001b[0m \u001b[43m        \u001b[49m\u001b[38;5;124;43m'\u001b[39;49m\u001b[38;5;124;43mmatlab\u001b[39;49m\u001b[38;5;124;43m'\u001b[39;49m\u001b[43m,\u001b[49m\u001b[43m \u001b[49m\u001b[38;5;124;43m'\u001b[39;49m\u001b[38;5;124;43mglobal\u001b[39;49m\u001b[38;5;124;43m'\u001b[39;49m\u001b[43m,\u001b[49m\n\u001b[1;32m    211\u001b[0m \u001b[43m        \u001b[49m\u001b[43m{\u001b[49m\u001b[38;5;124;43m'\u001b[39;49m\u001b[38;5;124;43mmcr_directory\u001b[39;49m\u001b[38;5;124;43m'\u001b[39;49m\u001b[43m:\u001b[49m\n\u001b[1;32m    212\u001b[0m \u001b[43m            \u001b[49m\u001b[38;5;28;43mself\u001b[39;49m\u001b[38;5;241;43m.\u001b[39;49m\u001b[43mstudy_config\u001b[49m\u001b[38;5;241;43m.\u001b[39;49m\u001b[43mspm_directory\u001b[49m\u001b[43m}\u001b[49m\u001b[43m)\u001b[49m\n\u001b[1;32m    213\u001b[0m \u001b[38;5;28;01melse\u001b[39;00m:\n\u001b[1;32m    214\u001b[0m     config\u001b[38;5;241m.\u001b[39mmcr_directory \\\n\u001b[1;32m    215\u001b[0m         \u001b[38;5;241m=\u001b[39m \u001b[38;5;28mself\u001b[39m\u001b[38;5;241m.\u001b[39mstudy_config\u001b[38;5;241m.\u001b[39mspm_directory\n",
      "File \u001b[0;32m~/work/capsul/capsul/capsul/engine/settings.py:405\u001b[0m, in \u001b[0;36mSettingsSession.new_config\u001b[0;34m(self, module, environment, values)\u001b[0m\n\u001b[1;32m    403\u001b[0m document[Settings\u001b[38;5;241m.\u001b[39mconfig_id_field] \u001b[38;5;241m=\u001b[39m \u001b[38;5;124m'\u001b[39m\u001b[38;5;132;01m%s\u001b[39;00m\u001b[38;5;124m-\u001b[39m\u001b[38;5;132;01m%s\u001b[39;00m\u001b[38;5;124m'\u001b[39m \u001b[38;5;241m%\u001b[39m (\u001b[38;5;28mid\u001b[39m, environment)\n\u001b[1;32m    404\u001b[0m collection \u001b[38;5;241m=\u001b[39m \u001b[38;5;28mself\u001b[39m\u001b[38;5;241m.\u001b[39mcollection_name(module)\n\u001b[0;32m--> 405\u001b[0m \u001b[38;5;28;43mself\u001b[39;49m\u001b[38;5;241;43m.\u001b[39;49m\u001b[43m_dbs\u001b[49m\u001b[38;5;241;43m.\u001b[39;49m\u001b[43madd_document\u001b[49m\u001b[43m(\u001b[49m\u001b[43mcollection\u001b[49m\u001b[43m,\u001b[49m\u001b[43m \u001b[49m\u001b[43mdocument\u001b[49m\u001b[43m)\u001b[49m\n\u001b[1;32m    406\u001b[0m config \u001b[38;5;241m=\u001b[39m SettingsConfig(\n\u001b[1;32m    407\u001b[0m     \u001b[38;5;28mself\u001b[39m\u001b[38;5;241m.\u001b[39m_dbs, collection, \u001b[38;5;28mid\u001b[39m, environment,\n\u001b[1;32m    408\u001b[0m     notifiers\u001b[38;5;241m=\u001b[39m\u001b[38;5;28mself\u001b[39m\u001b[38;5;241m.\u001b[39mmodule_notifiers\u001b[38;5;241m.\u001b[39mget(Settings\u001b[38;5;241m.\u001b[39mmodule_name(module),\n\u001b[1;32m    409\u001b[0m                                         []))\n\u001b[1;32m    410\u001b[0m config\u001b[38;5;241m.\u001b[39mnotify()\n",
      "File \u001b[0;32m/opt/hostedtoolcache/Python/3.9.16/x64/lib/python3.9/site-packages/populse_db/database.py:762\u001b[0m, in \u001b[0;36mDatabaseSession.add_document\u001b[0;34m(self, collection, document, create_missing_fields, flush)\u001b[0m\n\u001b[1;32m    760\u001b[0m \u001b[38;5;28;01mif\u001b[39;00m \u001b[38;5;129;01mnot\u001b[39;00m \u001b[38;5;28misinstance\u001b[39m(document, \u001b[38;5;28mdict\u001b[39m):\n\u001b[1;32m    761\u001b[0m     document \u001b[38;5;241m=\u001b[39m {primary_key: document}\n\u001b[0;32m--> 762\u001b[0m \u001b[38;5;28;43mself\u001b[39;49m\u001b[38;5;241;43m.\u001b[39;49m\u001b[43mengine\u001b[49m\u001b[38;5;241;43m.\u001b[39;49m\u001b[43madd_document\u001b[49m\u001b[43m(\u001b[49m\u001b[43mcollection\u001b[49m\u001b[43m,\u001b[49m\u001b[43m \u001b[49m\u001b[43mdocument\u001b[49m\u001b[43m,\u001b[49m\u001b[43m \u001b[49m\u001b[43mcreate_missing_fields\u001b[49m\u001b[43m)\u001b[49m\n",
      "File \u001b[0;32m/opt/hostedtoolcache/Python/3.9.16/x64/lib/python3.9/site-packages/populse_db/engine/sqlite.py:361\u001b[0m, in \u001b[0;36mSQLiteEngine.add_document\u001b[0;34m(self, collection, document, create_missing_fields)\u001b[0m\n\u001b[1;32m    356\u001b[0m sql \u001b[38;5;241m=\u001b[39m \u001b[38;5;124m'\u001b[39m\u001b[38;5;124mINSERT INTO [\u001b[39m\u001b[38;5;132;01m%s\u001b[39;00m\u001b[38;5;124m] (\u001b[39m\u001b[38;5;132;01m%s\u001b[39;00m\u001b[38;5;124m) VALUES (\u001b[39m\u001b[38;5;132;01m%s\u001b[39;00m\u001b[38;5;124m)\u001b[39m\u001b[38;5;124m'\u001b[39m \u001b[38;5;241m%\u001b[39m (\n\u001b[1;32m    357\u001b[0m     table,\n\u001b[1;32m    358\u001b[0m     \u001b[38;5;124m'\u001b[39m\u001b[38;5;124m,\u001b[39m\u001b[38;5;124m'\u001b[39m\u001b[38;5;241m.\u001b[39mjoin(\u001b[38;5;124m'\u001b[39m\u001b[38;5;124m[\u001b[39m\u001b[38;5;132;01m%s\u001b[39;00m\u001b[38;5;124m]\u001b[39m\u001b[38;5;124m'\u001b[39m \u001b[38;5;241m%\u001b[39m i \u001b[38;5;28;01mfor\u001b[39;00m i \u001b[38;5;129;01min\u001b[39;00m column_values\u001b[38;5;241m.\u001b[39mkeys()),\n\u001b[1;32m    359\u001b[0m     \u001b[38;5;124m'\u001b[39m\u001b[38;5;124m,\u001b[39m\u001b[38;5;124m'\u001b[39m\u001b[38;5;241m.\u001b[39mjoin(\u001b[38;5;124m'\u001b[39m\u001b[38;5;124m?\u001b[39m\u001b[38;5;124m'\u001b[39m \u001b[38;5;28;01mfor\u001b[39;00m i \u001b[38;5;129;01min\u001b[39;00m column_values))\n\u001b[1;32m    360\u001b[0m \u001b[38;5;28;01mtry\u001b[39;00m:\n\u001b[0;32m--> 361\u001b[0m     \u001b[38;5;28;43mself\u001b[39;49m\u001b[38;5;241;43m.\u001b[39;49m\u001b[43mcursor\u001b[49m\u001b[38;5;241;43m.\u001b[39;49m\u001b[43mexecute\u001b[49m\u001b[43m(\u001b[49m\u001b[43msql\u001b[49m\u001b[43m,\u001b[49m\u001b[43m \u001b[49m\u001b[38;5;28;43mlist\u001b[39;49m\u001b[43m(\u001b[49m\u001b[43mcolumn_values\u001b[49m\u001b[38;5;241;43m.\u001b[39;49m\u001b[43mvalues\u001b[49m\u001b[43m(\u001b[49m\u001b[43m)\u001b[49m\u001b[43m)\u001b[49m\u001b[43m)\u001b[49m\n\u001b[1;32m    362\u001b[0m \u001b[38;5;28;01mexcept\u001b[39;00m sqlite3\u001b[38;5;241m.\u001b[39mIntegrityError \u001b[38;5;28;01mas\u001b[39;00m e:\n\u001b[1;32m    363\u001b[0m     \u001b[38;5;28;01mraise\u001b[39;00m \u001b[38;5;167;01mValueError\u001b[39;00m(\u001b[38;5;28mstr\u001b[39m(e))\n",
      "\u001b[0;31mInterfaceError\u001b[0m: Error binding parameter 1 - probably unsupported type."
     ]
    }
   ],
   "source": [
    "study_config = StudyConfig(modules=StudyConfig.default_modules + ['BrainVISAConfig', 'NipypeConfig'])"
   ]
  },
  {
   "cell_type": "markdown",
   "metadata": {
    "deletable": true,
    "editable": true
   },
   "source": [
    "<h2>Use FSL in Capsul</h2>\n",
    "\n",
    "FSL is called via specific subprocess-like functions taking into account a \n",
    "configuration done in StudyConfig. If a StudyConfig is not\n",
    "configured to use FSL, it may be automatically configured. Automatic\n",
    "configuration had been tested in the two following cases :\n",
    "<ol>\n",
    "    <li>FSL was installed from the FMRIB site and, at least, FSLDIR \n",
    "    environment variable is set (fsl.sh can be sourced or not)</li>\n",
    "    <li>FSL was installed from Neurodebian packages</li>\n",
    "</ol>\n",
    "\n",
    "Automatic configuration is done lazily. To start it, one must either use `StudyConfig(use_fsl=True)` or use one of the calling functions of `capsul.subprocess.fsl`.\n",
    "\n",
    "For calling FSL command with `capsul.subprocess.fsl` module, the first argument of\n",
    "command line must be the FSL executable without any path nor prefix. \n",
    "Prefix are used in Neurodebian install. For instance on Ubuntu 16.04 \n",
    "Neurodebian FSL commands are prefixed with `fsl5.0-`.\n",
    "The appropriate path and eventually prefix are added from the configuration\n",
    "of the `StudyConfig` instance."
   ]
  },
  {
   "cell_type": "code",
   "execution_count": 51,
   "metadata": {
    "collapsed": false,
    "deletable": true,
    "editable": true,
    "execution": {
     "iopub.execute_input": "2023-06-08T11:04:17.954955Z",
     "iopub.status.busy": "2023-06-08T11:04:17.954182Z",
     "iopub.status.idle": "2023-06-08T11:04:18.001465Z",
     "shell.execute_reply": "2023-06-08T11:04:18.000485Z"
    }
   },
   "outputs": [
    {
     "name": "stdout",
     "output_type": "stream",
     "text": [
      "FSL cannot be configured automatically: FSL command \"bet\" cannot be found in PATH\n"
     ]
    }
   ],
   "source": [
    "import sys\n",
    "import os\n",
    "import os.path as osp\n",
    "import tempfile\n",
    "\n",
    "from traits.api import File, Undefined\n",
    "\n",
    "from capsul.api import StudyConfig, Process\n",
    "from capsul.in_context import fsl\n",
    "    \n",
    "class Bet(Process):\n",
    "    '''\n",
    "    A process that calls bet command without any parameter except input and output files.\n",
    "    '''\n",
    "    input_image = File(optional=False, output=False)\n",
    "    output_image = File(optional=False, output=True)\n",
    "    \n",
    "\n",
    "    def _run_process(self):\n",
    "        fsl.fsl_check_call(['bet', self.input_image, self.output_image])\n",
    "    \n",
    "try:\n",
    "    study_config = StudyConfig(use_fsl=True)\n",
    "except EnvironmentError as e:\n",
    "    # If FSL cannot be configured automatically, tells why\n",
    "    print('FSL cannot be configured automatically:', str(e))\n",
    "    study_config = None\n",
    "if study_config and study_config.use_fsl is True:\n",
    "    with study_config.engine:\n",
    "        # Try to find an image in FSL installation directory\n",
    "        test_image = '/usr/share/data/fsl-mni152-templates/MNI152_T1_1mm_brain.nii.gz'\n",
    "        if not osp.exists(test_image):\n",
    "            fsl_dir = os.environ.get('FSLDIR')\n",
    "            if not fsl_dir and study_config.fsl_config is not Undefined:\n",
    "                fsl_dir = osp.dirname(osp.dirname(osp.dirname(study_config.fsl_config)))\n",
    "                if fsl_dir:\n",
    "                    test_image = glob(osp.join(fsl_dir, 'fslpython/envs/fslpython/lib/python*/site-packages/nibabel/tests/data/anatomical.nii'))\n",
    "                    if test_image:\n",
    "                        test_image = test_image[0]\n",
    "                    else:\n",
    "                        print('FSL test data cannot be found')\n",
    "                        test_image = None\n",
    "    \n",
    "        if test_image:\n",
    "            bet = study_config.get_process_instance(Bet)\n",
    "            with tempfile.NamedTemporaryFile(suffix='.nii.gz') as tmp:\n",
    "                bet.run(input_image=test_image, output_image=tmp.name)\n",
    "                print('Output file size:', os.stat(bet.output_image).st_size)\n"
   ]
  },
  {
   "cell_type": "markdown",
   "metadata": {
    "deletable": true,
    "editable": true
   },
   "source": [
    "<h1>Use Nipype in Capsul</h1>\n",
    "\n",
    "It is possible to use all the nipype interfaces (FSL, SPM, FreeSurfer, ...) as building blocks in Capsul. This step requires nipype to be properly installed as well as the software we want to use. For instance if we want to perform a brain extraction with FSL we can simply write:"
   ]
  },
  {
   "cell_type": "code",
   "execution_count": 52,
   "metadata": {
    "collapsed": true,
    "deletable": true,
    "editable": true,
    "execution": {
     "iopub.execute_input": "2023-06-08T11:04:18.005706Z",
     "iopub.status.busy": "2023-06-08T11:04:18.005239Z",
     "iopub.status.idle": "2023-06-08T11:04:18.150983Z",
     "shell.execute_reply": "2023-06-08T11:04:18.149829Z"
    }
   },
   "outputs": [
    {
     "ename": "InterfaceError",
     "evalue": "Error binding parameter 1 - probably unsupported type.",
     "output_type": "error",
     "traceback": [
      "\u001b[0;31m---------------------------------------------------------------------------\u001b[0m",
      "\u001b[0;31mInterfaceError\u001b[0m                            Traceback (most recent call last)",
      "Cell \u001b[0;32mIn[52], line 4\u001b[0m\n\u001b[1;32m      1\u001b[0m \u001b[38;5;28;01mfrom\u001b[39;00m \u001b[38;5;21;01mcapsul\u001b[39;00m\u001b[38;5;21;01m.\u001b[39;00m\u001b[38;5;21;01mapi\u001b[39;00m \u001b[38;5;28;01mimport\u001b[39;00m StudyConfig, get_process_instance\n\u001b[1;32m      2\u001b[0m \u001b[38;5;28;01mfrom\u001b[39;00m \u001b[38;5;21;01msoma\u001b[39;00m\u001b[38;5;21;01m.\u001b[39;00m\u001b[38;5;21;01mpath\u001b[39;00m \u001b[38;5;28;01mimport\u001b[39;00m find_in_path\n\u001b[0;32m----> 4\u001b[0m study_config \u001b[38;5;241m=\u001b[39m \u001b[43mStudyConfig\u001b[49m\u001b[43m(\u001b[49m\u001b[43mmodules\u001b[49m\u001b[38;5;241;43m=\u001b[39;49m\u001b[43mStudyConfig\u001b[49m\u001b[38;5;241;43m.\u001b[39;49m\u001b[43mdefault_modules\u001b[49m\u001b[43m \u001b[49m\u001b[38;5;241;43m+\u001b[39;49m\u001b[43m \u001b[49m\u001b[43m[\u001b[49m\u001b[38;5;124;43m'\u001b[39;49m\u001b[38;5;124;43mNipypeConfig\u001b[39;49m\u001b[38;5;124;43m'\u001b[39;49m\u001b[43m]\u001b[49m\u001b[43m)\u001b[49m\n\u001b[1;32m      6\u001b[0m \u001b[38;5;66;03m# It is necessary to have FLS commands (such as \"bet\") in\u001b[39;00m\n\u001b[1;32m      7\u001b[0m \u001b[38;5;66;03m# the PATH in order to use FSL via Nipype\u001b[39;00m\n\u001b[1;32m      8\u001b[0m \u001b[38;5;28;01mif\u001b[39;00m study_config\u001b[38;5;241m.\u001b[39muse_nipype \u001b[38;5;129;01mand\u001b[39;00m find_in_path(\u001b[38;5;124m'\u001b[39m\u001b[38;5;124mbet\u001b[39m\u001b[38;5;124m'\u001b[39m):\n",
      "File \u001b[0;32m~/work/capsul/capsul/capsul/study_config/study_config.py:225\u001b[0m, in \u001b[0;36mStudyConfig.__init__\u001b[0;34m(self, study_name, init_config, modules, engine, **override_config)\u001b[0m\n\u001b[1;32m    223\u001b[0m \u001b[38;5;28;01mfor\u001b[39;00m k, v \u001b[38;5;129;01min\u001b[39;00m six\u001b[38;5;241m.\u001b[39miteritems(config):\n\u001b[1;32m    224\u001b[0m     \u001b[38;5;28msetattr\u001b[39m(\u001b[38;5;28mself\u001b[39m, k, v)\n\u001b[0;32m--> 225\u001b[0m \u001b[38;5;28;43mself\u001b[39;49m\u001b[38;5;241;43m.\u001b[39;49m\u001b[43minitialize_modules\u001b[49m\u001b[43m(\u001b[49m\u001b[43m)\u001b[49m\n\u001b[1;32m    226\u001b[0m \u001b[38;5;28mself\u001b[39m\u001b[38;5;241m.\u001b[39mrun_lock \u001b[38;5;241m=\u001b[39m threading\u001b[38;5;241m.\u001b[39mRLock()\n\u001b[1;32m    227\u001b[0m \u001b[38;5;28mself\u001b[39m\u001b[38;5;241m.\u001b[39mrun_interruption_request \u001b[38;5;241m=\u001b[39m \u001b[38;5;28;01mFalse\u001b[39;00m\n",
      "File \u001b[0;32m~/work/capsul/capsul/capsul/study_config/study_config.py:256\u001b[0m, in \u001b[0;36mStudyConfig.initialize_modules\u001b[0;34m(self)\u001b[0m\n\u001b[1;32m    254\u001b[0m     \u001b[38;5;28;01mcontinue\u001b[39;00m\n\u001b[1;32m    255\u001b[0m \u001b[38;5;66;03m# Initialize a module\u001b[39;00m\n\u001b[0;32m--> 256\u001b[0m \u001b[43mmodule\u001b[49m\u001b[38;5;241;43m.\u001b[39;49m\u001b[43minitialize_module\u001b[49m\u001b[43m(\u001b[49m\u001b[43m)\u001b[49m\n\u001b[1;32m    257\u001b[0m module\u001b[38;5;241m.\u001b[39minitialize_callbacks()\n\u001b[1;32m    258\u001b[0m already_initialized\u001b[38;5;241m.\u001b[39madd(module_name)\n",
      "File \u001b[0;32m~/work/capsul/capsul/capsul/study_config/config_modules/spm_config.py:70\u001b[0m, in \u001b[0;36mSPMConfig.initialize_module\u001b[0;34m(self)\u001b[0m\n\u001b[1;32m     68\u001b[0m     \u001b[38;5;28mself\u001b[39m\u001b[38;5;241m.\u001b[39msync_from_engine()\n\u001b[1;32m     69\u001b[0m \u001b[38;5;28;01melse\u001b[39;00m:\n\u001b[0;32m---> 70\u001b[0m     \u001b[38;5;28;43mself\u001b[39;49m\u001b[38;5;241;43m.\u001b[39;49m\u001b[43msync_to_engine\u001b[49m\u001b[43m(\u001b[49m\u001b[43m)\u001b[49m\n\u001b[1;32m     71\u001b[0m \u001b[38;5;66;03m# this test aims to raise an exception in case of incorrect setting,\u001b[39;00m\n\u001b[1;32m     72\u001b[0m \u001b[38;5;66;03m# complying to capsul 2.x behavior.\u001b[39;00m\n\u001b[1;32m     73\u001b[0m \u001b[38;5;28;01mif\u001b[39;00m \u001b[38;5;28mself\u001b[39m\u001b[38;5;241m.\u001b[39mstudy_config\u001b[38;5;241m.\u001b[39muse_spm \u001b[38;5;129;01mis\u001b[39;00m \u001b[38;5;28;01mTrue\u001b[39;00m:\n",
      "File \u001b[0;32m~/work/capsul/capsul/capsul/study_config/config_modules/spm_config.py:209\u001b[0m, in \u001b[0;36mSPMConfig.sync_to_engine\u001b[0;34m(self)\u001b[0m\n\u001b[1;32m    205\u001b[0m config \u001b[38;5;241m=\u001b[39m session\u001b[38;5;241m.\u001b[39mconfig(\u001b[38;5;124m'\u001b[39m\u001b[38;5;124mmatlab\u001b[39m\u001b[38;5;124m'\u001b[39m, \u001b[38;5;124m'\u001b[39m\u001b[38;5;124mglobal\u001b[39m\u001b[38;5;124m'\u001b[39m,\n\u001b[1;32m    206\u001b[0m                         selection\u001b[38;5;241m=\u001b[39m\u001b[38;5;124m'\u001b[39m\u001b[38;5;132;01m%s\u001b[39;00m\u001b[38;5;124m == \u001b[39m\u001b[38;5;124m\"\u001b[39m\u001b[38;5;124mmatlab\u001b[39m\u001b[38;5;124m\"\u001b[39m\u001b[38;5;124m'\u001b[39m\n\u001b[1;32m    207\u001b[0m                         \u001b[38;5;241m%\u001b[39m cif)\n\u001b[1;32m    208\u001b[0m \u001b[38;5;28;01mif\u001b[39;00m config \u001b[38;5;129;01mis\u001b[39;00m \u001b[38;5;28;01mNone\u001b[39;00m:\n\u001b[0;32m--> 209\u001b[0m     \u001b[43msession\u001b[49m\u001b[38;5;241;43m.\u001b[39;49m\u001b[43mnew_config\u001b[49m\u001b[43m(\u001b[49m\n\u001b[1;32m    210\u001b[0m \u001b[43m        \u001b[49m\u001b[38;5;124;43m'\u001b[39;49m\u001b[38;5;124;43mmatlab\u001b[39;49m\u001b[38;5;124;43m'\u001b[39;49m\u001b[43m,\u001b[49m\u001b[43m \u001b[49m\u001b[38;5;124;43m'\u001b[39;49m\u001b[38;5;124;43mglobal\u001b[39;49m\u001b[38;5;124;43m'\u001b[39;49m\u001b[43m,\u001b[49m\n\u001b[1;32m    211\u001b[0m \u001b[43m        \u001b[49m\u001b[43m{\u001b[49m\u001b[38;5;124;43m'\u001b[39;49m\u001b[38;5;124;43mmcr_directory\u001b[39;49m\u001b[38;5;124;43m'\u001b[39;49m\u001b[43m:\u001b[49m\n\u001b[1;32m    212\u001b[0m \u001b[43m            \u001b[49m\u001b[38;5;28;43mself\u001b[39;49m\u001b[38;5;241;43m.\u001b[39;49m\u001b[43mstudy_config\u001b[49m\u001b[38;5;241;43m.\u001b[39;49m\u001b[43mspm_directory\u001b[49m\u001b[43m}\u001b[49m\u001b[43m)\u001b[49m\n\u001b[1;32m    213\u001b[0m \u001b[38;5;28;01melse\u001b[39;00m:\n\u001b[1;32m    214\u001b[0m     config\u001b[38;5;241m.\u001b[39mmcr_directory \\\n\u001b[1;32m    215\u001b[0m         \u001b[38;5;241m=\u001b[39m \u001b[38;5;28mself\u001b[39m\u001b[38;5;241m.\u001b[39mstudy_config\u001b[38;5;241m.\u001b[39mspm_directory\n",
      "File \u001b[0;32m~/work/capsul/capsul/capsul/engine/settings.py:405\u001b[0m, in \u001b[0;36mSettingsSession.new_config\u001b[0;34m(self, module, environment, values)\u001b[0m\n\u001b[1;32m    403\u001b[0m document[Settings\u001b[38;5;241m.\u001b[39mconfig_id_field] \u001b[38;5;241m=\u001b[39m \u001b[38;5;124m'\u001b[39m\u001b[38;5;132;01m%s\u001b[39;00m\u001b[38;5;124m-\u001b[39m\u001b[38;5;132;01m%s\u001b[39;00m\u001b[38;5;124m'\u001b[39m \u001b[38;5;241m%\u001b[39m (\u001b[38;5;28mid\u001b[39m, environment)\n\u001b[1;32m    404\u001b[0m collection \u001b[38;5;241m=\u001b[39m \u001b[38;5;28mself\u001b[39m\u001b[38;5;241m.\u001b[39mcollection_name(module)\n\u001b[0;32m--> 405\u001b[0m \u001b[38;5;28;43mself\u001b[39;49m\u001b[38;5;241;43m.\u001b[39;49m\u001b[43m_dbs\u001b[49m\u001b[38;5;241;43m.\u001b[39;49m\u001b[43madd_document\u001b[49m\u001b[43m(\u001b[49m\u001b[43mcollection\u001b[49m\u001b[43m,\u001b[49m\u001b[43m \u001b[49m\u001b[43mdocument\u001b[49m\u001b[43m)\u001b[49m\n\u001b[1;32m    406\u001b[0m config \u001b[38;5;241m=\u001b[39m SettingsConfig(\n\u001b[1;32m    407\u001b[0m     \u001b[38;5;28mself\u001b[39m\u001b[38;5;241m.\u001b[39m_dbs, collection, \u001b[38;5;28mid\u001b[39m, environment,\n\u001b[1;32m    408\u001b[0m     notifiers\u001b[38;5;241m=\u001b[39m\u001b[38;5;28mself\u001b[39m\u001b[38;5;241m.\u001b[39mmodule_notifiers\u001b[38;5;241m.\u001b[39mget(Settings\u001b[38;5;241m.\u001b[39mmodule_name(module),\n\u001b[1;32m    409\u001b[0m                                         []))\n\u001b[1;32m    410\u001b[0m config\u001b[38;5;241m.\u001b[39mnotify()\n",
      "File \u001b[0;32m/opt/hostedtoolcache/Python/3.9.16/x64/lib/python3.9/site-packages/populse_db/database.py:762\u001b[0m, in \u001b[0;36mDatabaseSession.add_document\u001b[0;34m(self, collection, document, create_missing_fields, flush)\u001b[0m\n\u001b[1;32m    760\u001b[0m \u001b[38;5;28;01mif\u001b[39;00m \u001b[38;5;129;01mnot\u001b[39;00m \u001b[38;5;28misinstance\u001b[39m(document, \u001b[38;5;28mdict\u001b[39m):\n\u001b[1;32m    761\u001b[0m     document \u001b[38;5;241m=\u001b[39m {primary_key: document}\n\u001b[0;32m--> 762\u001b[0m \u001b[38;5;28;43mself\u001b[39;49m\u001b[38;5;241;43m.\u001b[39;49m\u001b[43mengine\u001b[49m\u001b[38;5;241;43m.\u001b[39;49m\u001b[43madd_document\u001b[49m\u001b[43m(\u001b[49m\u001b[43mcollection\u001b[49m\u001b[43m,\u001b[49m\u001b[43m \u001b[49m\u001b[43mdocument\u001b[49m\u001b[43m,\u001b[49m\u001b[43m \u001b[49m\u001b[43mcreate_missing_fields\u001b[49m\u001b[43m)\u001b[49m\n",
      "File \u001b[0;32m/opt/hostedtoolcache/Python/3.9.16/x64/lib/python3.9/site-packages/populse_db/engine/sqlite.py:361\u001b[0m, in \u001b[0;36mSQLiteEngine.add_document\u001b[0;34m(self, collection, document, create_missing_fields)\u001b[0m\n\u001b[1;32m    356\u001b[0m sql \u001b[38;5;241m=\u001b[39m \u001b[38;5;124m'\u001b[39m\u001b[38;5;124mINSERT INTO [\u001b[39m\u001b[38;5;132;01m%s\u001b[39;00m\u001b[38;5;124m] (\u001b[39m\u001b[38;5;132;01m%s\u001b[39;00m\u001b[38;5;124m) VALUES (\u001b[39m\u001b[38;5;132;01m%s\u001b[39;00m\u001b[38;5;124m)\u001b[39m\u001b[38;5;124m'\u001b[39m \u001b[38;5;241m%\u001b[39m (\n\u001b[1;32m    357\u001b[0m     table,\n\u001b[1;32m    358\u001b[0m     \u001b[38;5;124m'\u001b[39m\u001b[38;5;124m,\u001b[39m\u001b[38;5;124m'\u001b[39m\u001b[38;5;241m.\u001b[39mjoin(\u001b[38;5;124m'\u001b[39m\u001b[38;5;124m[\u001b[39m\u001b[38;5;132;01m%s\u001b[39;00m\u001b[38;5;124m]\u001b[39m\u001b[38;5;124m'\u001b[39m \u001b[38;5;241m%\u001b[39m i \u001b[38;5;28;01mfor\u001b[39;00m i \u001b[38;5;129;01min\u001b[39;00m column_values\u001b[38;5;241m.\u001b[39mkeys()),\n\u001b[1;32m    359\u001b[0m     \u001b[38;5;124m'\u001b[39m\u001b[38;5;124m,\u001b[39m\u001b[38;5;124m'\u001b[39m\u001b[38;5;241m.\u001b[39mjoin(\u001b[38;5;124m'\u001b[39m\u001b[38;5;124m?\u001b[39m\u001b[38;5;124m'\u001b[39m \u001b[38;5;28;01mfor\u001b[39;00m i \u001b[38;5;129;01min\u001b[39;00m column_values))\n\u001b[1;32m    360\u001b[0m \u001b[38;5;28;01mtry\u001b[39;00m:\n\u001b[0;32m--> 361\u001b[0m     \u001b[38;5;28;43mself\u001b[39;49m\u001b[38;5;241;43m.\u001b[39;49m\u001b[43mcursor\u001b[49m\u001b[38;5;241;43m.\u001b[39;49m\u001b[43mexecute\u001b[49m\u001b[43m(\u001b[49m\u001b[43msql\u001b[49m\u001b[43m,\u001b[49m\u001b[43m \u001b[49m\u001b[38;5;28;43mlist\u001b[39;49m\u001b[43m(\u001b[49m\u001b[43mcolumn_values\u001b[49m\u001b[38;5;241;43m.\u001b[39;49m\u001b[43mvalues\u001b[49m\u001b[43m(\u001b[49m\u001b[43m)\u001b[49m\u001b[43m)\u001b[49m\u001b[43m)\u001b[49m\n\u001b[1;32m    362\u001b[0m \u001b[38;5;28;01mexcept\u001b[39;00m sqlite3\u001b[38;5;241m.\u001b[39mIntegrityError \u001b[38;5;28;01mas\u001b[39;00m e:\n\u001b[1;32m    363\u001b[0m     \u001b[38;5;28;01mraise\u001b[39;00m \u001b[38;5;167;01mValueError\u001b[39;00m(\u001b[38;5;28mstr\u001b[39m(e))\n",
      "\u001b[0;31mInterfaceError\u001b[0m: Error binding parameter 1 - probably unsupported type."
     ]
    }
   ],
   "source": [
    "from capsul.api import StudyConfig, get_process_instance\n",
    "from soma.path import find_in_path\n",
    "\n",
    "study_config = StudyConfig(modules=StudyConfig.default_modules + ['NipypeConfig'])\n",
    "\n",
    "# It is necessary to have FLS commands (such as \"bet\") in\n",
    "# the PATH in order to use FSL via Nipype\n",
    "if study_config.use_nipype and find_in_path('bet'):\n",
    "    betpipe = get_process_instance(\"nipype.interfaces.fsl.BET\")\n",
    "    betpipe.get_help()\n",
    "    betpipe.in_file=\"/tmp/MNI152_T1_2mm.nii.gz\"\n",
    "    betpipe.output_directory = '/tmp'\n",
    "else:\n",
    "    betpipe = None\n",
    "    print('NiPype is not present.')"
   ]
  },
  {
   "cell_type": "markdown",
   "metadata": {
    "deletable": true,
    "editable": true
   },
   "source": [
    "As shown it is possible to set the BET algorithm input parameters. Note that in capsul the standard nipype outputs are prefixed with underscores. We can execute this Process but unfortunately, as mentioned by the nipype warnings, FSL needs to be configured in the study confit, otherwise the pipeline will not run. As we have done it above, we can run it:"
   ]
  },
  {
   "cell_type": "code",
   "execution_count": 53,
   "metadata": {
    "collapsed": true,
    "deletable": true,
    "editable": true,
    "execution": {
     "iopub.execute_input": "2023-06-08T11:04:18.155432Z",
     "iopub.status.busy": "2023-06-08T11:04:18.154721Z",
     "iopub.status.idle": "2023-06-08T11:04:18.175030Z",
     "shell.execute_reply": "2023-06-08T11:04:18.174243Z"
    }
   },
   "outputs": [
    {
     "ename": "NameError",
     "evalue": "name 'betpipe' is not defined",
     "output_type": "error",
     "traceback": [
      "\u001b[0;31m---------------------------------------------------------------------------\u001b[0m",
      "\u001b[0;31mNameError\u001b[0m                                 Traceback (most recent call last)",
      "Cell \u001b[0;32mIn[53], line 1\u001b[0m\n\u001b[0;32m----> 1\u001b[0m \u001b[38;5;28;01mif\u001b[39;00m \u001b[43mbetpipe\u001b[49m:\n\u001b[1;32m      2\u001b[0m     study_config\u001b[38;5;241m.\u001b[39mreset_process_counter()\n\u001b[1;32m      3\u001b[0m     study_config\u001b[38;5;241m.\u001b[39mrun(betpipe, verbose\u001b[38;5;241m=\u001b[39m\u001b[38;5;241m1\u001b[39m)\n",
      "\u001b[0;31mNameError\u001b[0m: name 'betpipe' is not defined"
     ]
    }
   ],
   "source": [
    "if betpipe:\n",
    "    study_config.reset_process_counter()\n",
    "    study_config.run(betpipe, verbose=1)"
   ]
  },
  {
   "cell_type": "markdown",
   "metadata": {
    "deletable": true,
    "editable": true
   },
   "source": [
    "<h1>Parameters completion using FOM (File Organization Model)</h1>\n",
    "\n",
    "FOMs allow to complete file names in large pipelines with many parameters from a small set of attributes. To illustrate this feature, we will first create a pipeline with several such parameters, from a XML description."
   ]
  },
  {
   "cell_type": "code",
   "execution_count": 54,
   "metadata": {
    "collapsed": true,
    "deletable": true,
    "editable": true,
    "execution": {
     "iopub.execute_input": "2023-06-08T11:04:18.178798Z",
     "iopub.status.busy": "2023-06-08T11:04:18.178628Z",
     "iopub.status.idle": "2023-06-08T11:04:18.201513Z",
     "shell.execute_reply": "2023-06-08T11:04:18.200721Z"
    }
   },
   "outputs": [],
   "source": [
    "from capsul.pipeline.xml import create_xml_pipeline\n",
    "\n",
    "xmlstr = '''<pipeline capsul_xml=\"2.0\">\n",
    "        <process name=\"proc1\"\n",
    "            module=\"capsul.pipeline.test.test_pipeline.DummyProcess\">\n",
    "        </process>\n",
    "        <process name=\"proc2\"\n",
    "            module=\"capsul.pipeline.test.test_pipeline.DummyProcess\">\n",
    "        </process>\n",
    "        <process name=\"proc3\"\n",
    "            module=\"capsul.pipeline.test.test_pipeline.DummyProcess\">\n",
    "        </process>\n",
    "        <process name=\"proc4\"\n",
    "            module=\"capsul.pipeline.test.test_pipeline.DummyProcess\">\n",
    "        </process>\n",
    "        <switch name=\"proc_select\" switch_value=\"proc1\">\n",
    "            <input name=\"proc1\"/>\n",
    "            <input name=\"proc2\"/>\n",
    "            <output name=\"image\"/>\n",
    "        </switch>\n",
    "        <switch name=\"proc_select2\" switch_value=\"proc3\">\n",
    "            <input name=\"proc3\"/>\n",
    "            <input name=\"proc4\"/>\n",
    "            <output name=\"image\"/>\n",
    "        </switch>\n",
    "        <link source=\"input_image1\" dest=\"proc1.input_image\"/>\n",
    "        <link source=\"input_image2\" dest=\"proc2.input_image\"/>\n",
    "        <link source=\"proc_select\" dest=\"proc_select.switch\"/>\n",
    "        <link source=\"proc_select2\" dest=\"proc_select2.switch\"/>\n",
    "        <link source=\"input_image4\" dest=\"proc4.input_image\"/>\n",
    "        <link source=\"input_image3\" dest=\"proc3.input_image\"/>\n",
    "        \n",
    "        <link dest=\"image_out1\" source=\"proc_select.image\" weak_link=\"true\"/>\n",
    "        <link dest=\"image_out3\" source=\"proc3.output_image\" weak_link=\"true\"/>\n",
    "        <link dest=\"image_out5\" source=\"proc_select2.image\" weak_link=\"true\"/>\n",
    "\n",
    "        <link source=\"input_image1\" dest=\"proc1.input_image\"></link>\n",
    "        <link source=\"input_image2\" dest=\"proc2.input_image\"></link>\n",
    "        <link source=\"proc_select\" dest=\"proc_select.switch\"></link>\n",
    "        <link source=\"proc_select2\" dest=\"proc_select2.switch\"></link>\n",
    "        <link source=\"input_image4\" dest=\"proc4.input_image\"></link>\n",
    "        <link source=\"input_image3\" dest=\"proc3.input_image\"></link>\n",
    "        <link source=\"proc1.output_image\" dest=\"proc_select.proc1_switch_image\"></link>\n",
    "        <link source=\"proc2.output_image\" dest=\"proc_select.proc2_switch_image\"></link>\n",
    "        <link source=\"proc3.output_image\" dest=\"proc_select2.proc3_switch_image\"></link>\n",
    "        <link source=\"proc4.output_image\" dest=\"proc_select2.proc4_switch_image\"></link>\n",
    "    <gui>\n",
    "        <position name=\"inputs\" x=\"-151.0\" y=\"227.4447\"></position>\n",
    "        <position name=\"proc_select\" x=\"381.6498\" y=\"160.1012\"></position>\n",
    "        <position name=\"outputs\" x=\"668.1498\" y=\"319.9886\"></position>\n",
    "        <position name=\"proc_select2\" x=\"381.6498\" y=\"507.1947\"></position>\n",
    "        <position name=\"proc4\" x=\"144.2624\" y=\"589.7949\"></position>\n",
    "        <position name=\"proc1\" x=\"123.2624\" y=\"-4.0\"></position>\n",
    "        <position name=\"proc3\" x=\"146.2624\" y=\"391.9886\"></position>\n",
    "        <position name=\"proc2\" x=\"132.2624\" y=\"171.8197\"></position>\n",
    "    </gui>\n",
    "</pipeline>'''\n",
    "\n",
    "DemoPipeline = create_xml_pipeline('__main__', 'DemoPipeline', xmlstr)\n",
    "pipeline = DemoPipeline()"
   ]
  },
  {
   "cell_type": "code",
   "execution_count": 55,
   "metadata": {
    "collapsed": true,
    "deletable": true,
    "editable": true,
    "execution": {
     "iopub.execute_input": "2023-06-08T11:04:18.205043Z",
     "iopub.status.busy": "2023-06-08T11:04:18.204709Z",
     "iopub.status.idle": "2023-06-08T11:04:18.210110Z",
     "shell.execute_reply": "2023-06-08T11:04:18.209350Z"
    }
   },
   "outputs": [],
   "source": [
    "if globals().get('use_gui', True):\n",
    "    from capsul.qt_gui.widgets import PipelineDevelopperView\n",
    "\n",
    "    pv = PipelineDevelopperView(pipeline, allow_open_controller=True, show_sub_pipelines=True)\n",
    "    pv.show()\n",
    "\n",
    "    if run_qt_loop:\n",
    "        app.exec_()\n"
   ]
  },
  {
   "cell_type": "markdown",
   "metadata": {
    "deletable": true,
    "editable": true
   },
   "source": [
    "![pipeline](images/capsul_pipeline7.jpg \"pipeline\")\n",
    "\n",
    "## FOM definition"
   ]
  },
  {
   "cell_type": "code",
   "execution_count": 56,
   "metadata": {
    "collapsed": true,
    "deletable": true,
    "editable": true,
    "execution": {
     "iopub.execute_input": "2023-06-08T11:04:18.213830Z",
     "iopub.status.busy": "2023-06-08T11:04:18.213491Z",
     "iopub.status.idle": "2023-06-08T11:04:18.224547Z",
     "shell.execute_reply": "2023-06-08T11:04:18.223674Z"
    }
   },
   "outputs": [
    {
     "data": {
      "text/plain": [
       "1035"
      ]
     },
     "execution_count": 56,
     "metadata": {},
     "output_type": "execute_result"
    }
   ],
   "source": [
    "fom_content = '''{\n",
    "    \"fom_name\": \"demo_fom\",\n",
    "\n",
    "    \"formats\": {\n",
    "        \"NIFTI\": \"nii\",\n",
    "        \"NIFTI gz\": \"nii.gz\"\n",
    "    },\n",
    "    \"format_lists\": {\n",
    "        \"images\": [\"NIFTI gz\", \"NIFTI\"]\n",
    "    },\n",
    "\n",
    "    \"shared_patterns\": {\n",
    "      \"subject_dir\": \"<center>_<subject>\"\n",
    "    },\n",
    "\n",
    "    \"processes\": {\n",
    "        \"DemoPipeline\": {\n",
    "            \"input_image1\": \n",
    "                [[\"input:<center>_<subject>/<subject>\", \"images\"]],\n",
    "            \"input_image2\":\n",
    "                [[\"input:{subject_dir}/alt2_<subject>\", \"images\"]],\n",
    "            \"input_image3\":\n",
    "                [[\"input:{subject_dir}/alt2_<subject>\", \"images\"]],\n",
    "            \"input_image4\":\n",
    "                [[\"input:{subject_dir}/alt4_<subject>\", \"images\"]],\n",
    "            \"image_out1\":\n",
    "                [[\"output:{subject_dir}/out_image_<subject>_1\", \"images\"]],\n",
    "            \"image_out3\":\n",
    "                [[\"output:{subject_dir}/out_image_<subject>_3\", \"images\"]]\n",
    "        },\n",
    "        \"DemoPipeline.proc4\": {\n",
    "            \"output_image\": [[\"output:{subject_dir}/out_image_<subject>_4\", \"images\"]]\n",
    "        }\n",
    "    }\n",
    "\n",
    "}\n",
    "'''\n",
    "\n",
    "try: os.path.makedirs('/tmp/capsul_demo')\n",
    "except: pass\n",
    "open('/tmp/capsul_demo/demo_fom.json', 'w').write(fom_content)\n"
   ]
  },
  {
   "cell_type": "markdown",
   "metadata": {
    "deletable": true,
    "editable": true
   },
   "source": [
    "<h2>File names completion using FOM</h2>\n",
    "FOM completion is used through the attributes completion system ProcessCompletionEngine."
   ]
  },
  {
   "cell_type": "code",
   "execution_count": 57,
   "metadata": {
    "collapsed": true,
    "deletable": true,
    "editable": true,
    "execution": {
     "iopub.execute_input": "2023-06-08T11:04:18.228395Z",
     "iopub.status.busy": "2023-06-08T11:04:18.227830Z",
     "iopub.status.idle": "2023-06-08T11:04:18.382934Z",
     "shell.execute_reply": "2023-06-08T11:04:18.381932Z"
    }
   },
   "outputs": [
    {
     "ename": "InterfaceError",
     "evalue": "Error binding parameter 1 - probably unsupported type.",
     "output_type": "error",
     "traceback": [
      "\u001b[0;31m---------------------------------------------------------------------------\u001b[0m",
      "\u001b[0;31mInterfaceError\u001b[0m                            Traceback (most recent call last)",
      "Cell \u001b[0;32mIn[57], line 28\u001b[0m\n\u001b[1;32m     14\u001b[0m soma_app\u001b[38;5;241m.\u001b[39mfom_manager\u001b[38;5;241m.\u001b[39mpaths\u001b[38;5;241m.\u001b[39mappend(\u001b[38;5;124m'\u001b[39m\u001b[38;5;124m/tmp/capsul_demo\u001b[39m\u001b[38;5;124m'\u001b[39m)\n\u001b[1;32m     16\u001b[0m config \u001b[38;5;241m=\u001b[39m {\n\u001b[1;32m     17\u001b[0m   \u001b[38;5;124m\"\u001b[39m\u001b[38;5;124mname\u001b[39m\u001b[38;5;124m\"\u001b[39m : \u001b[38;5;124m\"\u001b[39m\u001b[38;5;124mmorphologist_fom\u001b[39m\u001b[38;5;124m\"\u001b[39m,\n\u001b[1;32m     18\u001b[0m   \u001b[38;5;124m\"\u001b[39m\u001b[38;5;124minput_directory\u001b[39m\u001b[38;5;124m\"\u001b[39m : \u001b[38;5;124m\"\u001b[39m\u001b[38;5;124m/data/capsul_demo\u001b[39m\u001b[38;5;124m\"\u001b[39m,\n\u001b[0;32m   (...)\u001b[0m\n\u001b[1;32m     25\u001b[0m   \u001b[38;5;124m\"\u001b[39m\u001b[38;5;124mmeshes_format\u001b[39m\u001b[38;5;124m\"\u001b[39m : \u001b[38;5;124m\"\u001b[39m\u001b[38;5;124mgii\u001b[39m\u001b[38;5;124m\"\u001b[39m,\n\u001b[1;32m     26\u001b[0m }\n\u001b[0;32m---> 28\u001b[0m study_config \u001b[38;5;241m=\u001b[39m \u001b[43mStudyConfig\u001b[49m\u001b[43m(\u001b[49m\u001b[43minit_config\u001b[49m\u001b[38;5;241;43m=\u001b[39;49m\u001b[43mconfig\u001b[49m\u001b[43m,\u001b[49m\u001b[43m \u001b[49m\n\u001b[1;32m     29\u001b[0m \u001b[43m                           \u001b[49m\u001b[43mmodules\u001b[49m\u001b[38;5;241;43m=\u001b[39;49m\u001b[43mStudyConfig\u001b[49m\u001b[38;5;241;43m.\u001b[39;49m\u001b[43mdefault_modules\u001b[49m\u001b[43m \u001b[49m\u001b[38;5;241;43m+\u001b[39;49m\u001b[43m \u001b[49m\u001b[43m[\u001b[49m\u001b[38;5;124;43m'\u001b[39;49m\u001b[38;5;124;43mFomConfig\u001b[39;49m\u001b[38;5;124;43m'\u001b[39;49m\u001b[43m,\u001b[49m\u001b[43m \u001b[49m\u001b[38;5;124;43m'\u001b[39;49m\u001b[38;5;124;43mBrainVISAConfig\u001b[39;49m\u001b[38;5;124;43m'\u001b[39;49m\u001b[43m]\u001b[49m\u001b[43m)\u001b[49m\n\u001b[1;32m     30\u001b[0m soma_app\u001b[38;5;241m.\u001b[39mfom_manager\u001b[38;5;241m.\u001b[39m_cache \u001b[38;5;241m=\u001b[39m \u001b[38;5;28;01mNone\u001b[39;00m \u001b[38;5;66;03m# while debugging\u001b[39;00m\n\u001b[1;32m     32\u001b[0m mp \u001b[38;5;241m=\u001b[39m study_config\u001b[38;5;241m.\u001b[39mget_process_instance(DemoPipeline)\n",
      "File \u001b[0;32m~/work/capsul/capsul/capsul/study_config/study_config.py:225\u001b[0m, in \u001b[0;36mStudyConfig.__init__\u001b[0;34m(self, study_name, init_config, modules, engine, **override_config)\u001b[0m\n\u001b[1;32m    223\u001b[0m \u001b[38;5;28;01mfor\u001b[39;00m k, v \u001b[38;5;129;01min\u001b[39;00m six\u001b[38;5;241m.\u001b[39miteritems(config):\n\u001b[1;32m    224\u001b[0m     \u001b[38;5;28msetattr\u001b[39m(\u001b[38;5;28mself\u001b[39m, k, v)\n\u001b[0;32m--> 225\u001b[0m \u001b[38;5;28;43mself\u001b[39;49m\u001b[38;5;241;43m.\u001b[39;49m\u001b[43minitialize_modules\u001b[49m\u001b[43m(\u001b[49m\u001b[43m)\u001b[49m\n\u001b[1;32m    226\u001b[0m \u001b[38;5;28mself\u001b[39m\u001b[38;5;241m.\u001b[39mrun_lock \u001b[38;5;241m=\u001b[39m threading\u001b[38;5;241m.\u001b[39mRLock()\n\u001b[1;32m    227\u001b[0m \u001b[38;5;28mself\u001b[39m\u001b[38;5;241m.\u001b[39mrun_interruption_request \u001b[38;5;241m=\u001b[39m \u001b[38;5;28;01mFalse\u001b[39;00m\n",
      "File \u001b[0;32m~/work/capsul/capsul/capsul/study_config/study_config.py:256\u001b[0m, in \u001b[0;36mStudyConfig.initialize_modules\u001b[0;34m(self)\u001b[0m\n\u001b[1;32m    254\u001b[0m     \u001b[38;5;28;01mcontinue\u001b[39;00m\n\u001b[1;32m    255\u001b[0m \u001b[38;5;66;03m# Initialize a module\u001b[39;00m\n\u001b[0;32m--> 256\u001b[0m \u001b[43mmodule\u001b[49m\u001b[38;5;241;43m.\u001b[39;49m\u001b[43minitialize_module\u001b[49m\u001b[43m(\u001b[49m\u001b[43m)\u001b[49m\n\u001b[1;32m    257\u001b[0m module\u001b[38;5;241m.\u001b[39minitialize_callbacks()\n\u001b[1;32m    258\u001b[0m already_initialized\u001b[38;5;241m.\u001b[39madd(module_name)\n",
      "File \u001b[0;32m~/work/capsul/capsul/capsul/study_config/config_modules/spm_config.py:70\u001b[0m, in \u001b[0;36mSPMConfig.initialize_module\u001b[0;34m(self)\u001b[0m\n\u001b[1;32m     68\u001b[0m     \u001b[38;5;28mself\u001b[39m\u001b[38;5;241m.\u001b[39msync_from_engine()\n\u001b[1;32m     69\u001b[0m \u001b[38;5;28;01melse\u001b[39;00m:\n\u001b[0;32m---> 70\u001b[0m     \u001b[38;5;28;43mself\u001b[39;49m\u001b[38;5;241;43m.\u001b[39;49m\u001b[43msync_to_engine\u001b[49m\u001b[43m(\u001b[49m\u001b[43m)\u001b[49m\n\u001b[1;32m     71\u001b[0m \u001b[38;5;66;03m# this test aims to raise an exception in case of incorrect setting,\u001b[39;00m\n\u001b[1;32m     72\u001b[0m \u001b[38;5;66;03m# complying to capsul 2.x behavior.\u001b[39;00m\n\u001b[1;32m     73\u001b[0m \u001b[38;5;28;01mif\u001b[39;00m \u001b[38;5;28mself\u001b[39m\u001b[38;5;241m.\u001b[39mstudy_config\u001b[38;5;241m.\u001b[39muse_spm \u001b[38;5;129;01mis\u001b[39;00m \u001b[38;5;28;01mTrue\u001b[39;00m:\n",
      "File \u001b[0;32m~/work/capsul/capsul/capsul/study_config/config_modules/spm_config.py:209\u001b[0m, in \u001b[0;36mSPMConfig.sync_to_engine\u001b[0;34m(self)\u001b[0m\n\u001b[1;32m    205\u001b[0m config \u001b[38;5;241m=\u001b[39m session\u001b[38;5;241m.\u001b[39mconfig(\u001b[38;5;124m'\u001b[39m\u001b[38;5;124mmatlab\u001b[39m\u001b[38;5;124m'\u001b[39m, \u001b[38;5;124m'\u001b[39m\u001b[38;5;124mglobal\u001b[39m\u001b[38;5;124m'\u001b[39m,\n\u001b[1;32m    206\u001b[0m                         selection\u001b[38;5;241m=\u001b[39m\u001b[38;5;124m'\u001b[39m\u001b[38;5;132;01m%s\u001b[39;00m\u001b[38;5;124m == \u001b[39m\u001b[38;5;124m\"\u001b[39m\u001b[38;5;124mmatlab\u001b[39m\u001b[38;5;124m\"\u001b[39m\u001b[38;5;124m'\u001b[39m\n\u001b[1;32m    207\u001b[0m                         \u001b[38;5;241m%\u001b[39m cif)\n\u001b[1;32m    208\u001b[0m \u001b[38;5;28;01mif\u001b[39;00m config \u001b[38;5;129;01mis\u001b[39;00m \u001b[38;5;28;01mNone\u001b[39;00m:\n\u001b[0;32m--> 209\u001b[0m     \u001b[43msession\u001b[49m\u001b[38;5;241;43m.\u001b[39;49m\u001b[43mnew_config\u001b[49m\u001b[43m(\u001b[49m\n\u001b[1;32m    210\u001b[0m \u001b[43m        \u001b[49m\u001b[38;5;124;43m'\u001b[39;49m\u001b[38;5;124;43mmatlab\u001b[39;49m\u001b[38;5;124;43m'\u001b[39;49m\u001b[43m,\u001b[49m\u001b[43m \u001b[49m\u001b[38;5;124;43m'\u001b[39;49m\u001b[38;5;124;43mglobal\u001b[39;49m\u001b[38;5;124;43m'\u001b[39;49m\u001b[43m,\u001b[49m\n\u001b[1;32m    211\u001b[0m \u001b[43m        \u001b[49m\u001b[43m{\u001b[49m\u001b[38;5;124;43m'\u001b[39;49m\u001b[38;5;124;43mmcr_directory\u001b[39;49m\u001b[38;5;124;43m'\u001b[39;49m\u001b[43m:\u001b[49m\n\u001b[1;32m    212\u001b[0m \u001b[43m            \u001b[49m\u001b[38;5;28;43mself\u001b[39;49m\u001b[38;5;241;43m.\u001b[39;49m\u001b[43mstudy_config\u001b[49m\u001b[38;5;241;43m.\u001b[39;49m\u001b[43mspm_directory\u001b[49m\u001b[43m}\u001b[49m\u001b[43m)\u001b[49m\n\u001b[1;32m    213\u001b[0m \u001b[38;5;28;01melse\u001b[39;00m:\n\u001b[1;32m    214\u001b[0m     config\u001b[38;5;241m.\u001b[39mmcr_directory \\\n\u001b[1;32m    215\u001b[0m         \u001b[38;5;241m=\u001b[39m \u001b[38;5;28mself\u001b[39m\u001b[38;5;241m.\u001b[39mstudy_config\u001b[38;5;241m.\u001b[39mspm_directory\n",
      "File \u001b[0;32m~/work/capsul/capsul/capsul/engine/settings.py:405\u001b[0m, in \u001b[0;36mSettingsSession.new_config\u001b[0;34m(self, module, environment, values)\u001b[0m\n\u001b[1;32m    403\u001b[0m document[Settings\u001b[38;5;241m.\u001b[39mconfig_id_field] \u001b[38;5;241m=\u001b[39m \u001b[38;5;124m'\u001b[39m\u001b[38;5;132;01m%s\u001b[39;00m\u001b[38;5;124m-\u001b[39m\u001b[38;5;132;01m%s\u001b[39;00m\u001b[38;5;124m'\u001b[39m \u001b[38;5;241m%\u001b[39m (\u001b[38;5;28mid\u001b[39m, environment)\n\u001b[1;32m    404\u001b[0m collection \u001b[38;5;241m=\u001b[39m \u001b[38;5;28mself\u001b[39m\u001b[38;5;241m.\u001b[39mcollection_name(module)\n\u001b[0;32m--> 405\u001b[0m \u001b[38;5;28;43mself\u001b[39;49m\u001b[38;5;241;43m.\u001b[39;49m\u001b[43m_dbs\u001b[49m\u001b[38;5;241;43m.\u001b[39;49m\u001b[43madd_document\u001b[49m\u001b[43m(\u001b[49m\u001b[43mcollection\u001b[49m\u001b[43m,\u001b[49m\u001b[43m \u001b[49m\u001b[43mdocument\u001b[49m\u001b[43m)\u001b[49m\n\u001b[1;32m    406\u001b[0m config \u001b[38;5;241m=\u001b[39m SettingsConfig(\n\u001b[1;32m    407\u001b[0m     \u001b[38;5;28mself\u001b[39m\u001b[38;5;241m.\u001b[39m_dbs, collection, \u001b[38;5;28mid\u001b[39m, environment,\n\u001b[1;32m    408\u001b[0m     notifiers\u001b[38;5;241m=\u001b[39m\u001b[38;5;28mself\u001b[39m\u001b[38;5;241m.\u001b[39mmodule_notifiers\u001b[38;5;241m.\u001b[39mget(Settings\u001b[38;5;241m.\u001b[39mmodule_name(module),\n\u001b[1;32m    409\u001b[0m                                         []))\n\u001b[1;32m    410\u001b[0m config\u001b[38;5;241m.\u001b[39mnotify()\n",
      "File \u001b[0;32m/opt/hostedtoolcache/Python/3.9.16/x64/lib/python3.9/site-packages/populse_db/database.py:762\u001b[0m, in \u001b[0;36mDatabaseSession.add_document\u001b[0;34m(self, collection, document, create_missing_fields, flush)\u001b[0m\n\u001b[1;32m    760\u001b[0m \u001b[38;5;28;01mif\u001b[39;00m \u001b[38;5;129;01mnot\u001b[39;00m \u001b[38;5;28misinstance\u001b[39m(document, \u001b[38;5;28mdict\u001b[39m):\n\u001b[1;32m    761\u001b[0m     document \u001b[38;5;241m=\u001b[39m {primary_key: document}\n\u001b[0;32m--> 762\u001b[0m \u001b[38;5;28;43mself\u001b[39;49m\u001b[38;5;241;43m.\u001b[39;49m\u001b[43mengine\u001b[49m\u001b[38;5;241;43m.\u001b[39;49m\u001b[43madd_document\u001b[49m\u001b[43m(\u001b[49m\u001b[43mcollection\u001b[49m\u001b[43m,\u001b[49m\u001b[43m \u001b[49m\u001b[43mdocument\u001b[49m\u001b[43m,\u001b[49m\u001b[43m \u001b[49m\u001b[43mcreate_missing_fields\u001b[49m\u001b[43m)\u001b[49m\n",
      "File \u001b[0;32m/opt/hostedtoolcache/Python/3.9.16/x64/lib/python3.9/site-packages/populse_db/engine/sqlite.py:361\u001b[0m, in \u001b[0;36mSQLiteEngine.add_document\u001b[0;34m(self, collection, document, create_missing_fields)\u001b[0m\n\u001b[1;32m    356\u001b[0m sql \u001b[38;5;241m=\u001b[39m \u001b[38;5;124m'\u001b[39m\u001b[38;5;124mINSERT INTO [\u001b[39m\u001b[38;5;132;01m%s\u001b[39;00m\u001b[38;5;124m] (\u001b[39m\u001b[38;5;132;01m%s\u001b[39;00m\u001b[38;5;124m) VALUES (\u001b[39m\u001b[38;5;132;01m%s\u001b[39;00m\u001b[38;5;124m)\u001b[39m\u001b[38;5;124m'\u001b[39m \u001b[38;5;241m%\u001b[39m (\n\u001b[1;32m    357\u001b[0m     table,\n\u001b[1;32m    358\u001b[0m     \u001b[38;5;124m'\u001b[39m\u001b[38;5;124m,\u001b[39m\u001b[38;5;124m'\u001b[39m\u001b[38;5;241m.\u001b[39mjoin(\u001b[38;5;124m'\u001b[39m\u001b[38;5;124m[\u001b[39m\u001b[38;5;132;01m%s\u001b[39;00m\u001b[38;5;124m]\u001b[39m\u001b[38;5;124m'\u001b[39m \u001b[38;5;241m%\u001b[39m i \u001b[38;5;28;01mfor\u001b[39;00m i \u001b[38;5;129;01min\u001b[39;00m column_values\u001b[38;5;241m.\u001b[39mkeys()),\n\u001b[1;32m    359\u001b[0m     \u001b[38;5;124m'\u001b[39m\u001b[38;5;124m,\u001b[39m\u001b[38;5;124m'\u001b[39m\u001b[38;5;241m.\u001b[39mjoin(\u001b[38;5;124m'\u001b[39m\u001b[38;5;124m?\u001b[39m\u001b[38;5;124m'\u001b[39m \u001b[38;5;28;01mfor\u001b[39;00m i \u001b[38;5;129;01min\u001b[39;00m column_values))\n\u001b[1;32m    360\u001b[0m \u001b[38;5;28;01mtry\u001b[39;00m:\n\u001b[0;32m--> 361\u001b[0m     \u001b[38;5;28;43mself\u001b[39;49m\u001b[38;5;241;43m.\u001b[39;49m\u001b[43mcursor\u001b[49m\u001b[38;5;241;43m.\u001b[39;49m\u001b[43mexecute\u001b[49m\u001b[43m(\u001b[49m\u001b[43msql\u001b[49m\u001b[43m,\u001b[49m\u001b[43m \u001b[49m\u001b[38;5;28;43mlist\u001b[39;49m\u001b[43m(\u001b[49m\u001b[43mcolumn_values\u001b[49m\u001b[38;5;241;43m.\u001b[39;49m\u001b[43mvalues\u001b[49m\u001b[43m(\u001b[49m\u001b[43m)\u001b[49m\u001b[43m)\u001b[49m\u001b[43m)\u001b[49m\n\u001b[1;32m    362\u001b[0m \u001b[38;5;28;01mexcept\u001b[39;00m sqlite3\u001b[38;5;241m.\u001b[39mIntegrityError \u001b[38;5;28;01mas\u001b[39;00m e:\n\u001b[1;32m    363\u001b[0m     \u001b[38;5;28;01mraise\u001b[39;00m \u001b[38;5;167;01mValueError\u001b[39;00m(\u001b[38;5;28mstr\u001b[39m(e))\n",
      "\u001b[0;31mInterfaceError\u001b[0m: Error binding parameter 1 - probably unsupported type."
     ]
    }
   ],
   "source": [
    "import sys\n",
    "import os\n",
    "from capsul.api import StudyConfig\n",
    "from capsul.attributes.completion_engine import ProcessCompletionEngine\n",
    "if globals().get('use_gui', True):\n",
    "    from soma.qt_gui.controller_widget import ScrollControllerWidget\n",
    "    from capsul.qt_gui.widgets.attributed_process_widget import AttributedProcessWidget\n",
    "\n",
    "# the following 4 lines are a hack to add /tmp/capsul_demo to the FOM search path\n",
    "# before it is used by StudyConfig\n",
    "from soma.application import Application\n",
    "soma_app = Application('capsul', plugin_modules=['soma.fom'])\n",
    "soma_app.initialize()\n",
    "soma_app.fom_manager.paths.append('/tmp/capsul_demo')\n",
    "\n",
    "config = {\n",
    "  \"name\" : \"morphologist_fom\",\n",
    "  \"input_directory\" : \"/data/capsul_demo\",\n",
    "  \"output_directory\" : \"/data/capsul_demo\",\n",
    "  \"input_fom\" : \"demo_fom\",\n",
    "  \"output_fom\" : \"demo_fom\",\n",
    "  \"use_soma_workflow\" : True,\n",
    "  \"use_fom\" : True,\n",
    "  \"volumes_format\" : \"nii.gz\",\n",
    "  \"meshes_format\" : \"gii\",\n",
    "}\n",
    "\n",
    "study_config = StudyConfig(init_config=config, \n",
    "                           modules=StudyConfig.default_modules + ['FomConfig', 'BrainVISAConfig'])\n",
    "soma_app.fom_manager._cache = None # while debugging\n",
    "\n",
    "mp = study_config.get_process_instance(DemoPipeline)\n",
    "\n",
    "ce = ProcessCompletionEngine.get_completion_engine(mp)\n",
    "print('completion engine type:', type(ce).__name__)\n",
    "attributes = ce.get_attribute_values()\n",
    "ce.install_auto_completion()\n",
    "attributes.center = 'subjects'\n",
    "attributes.subject = 'irm2'\n",
    "\n",
    "if globals().get('use_gui', True):\n",
    "    # pipeline controller GUI\n",
    "    p_view = ScrollControllerWidget(mp, live=True)\n",
    "    p_view.show()\n",
    "    # attributed pipeline controller GUI\n",
    "    ap_view = AttributedProcessWidget(mp)\n",
    "    ap_view.show()\n",
    "\n",
    "    pv = PipelineDevelopperView(mp, allow_open_controller=True, show_sub_pipelines=True)\n",
    "    pv.show()\n",
    "\n",
    "    if run_qt_loop:\n",
    "      app.exec_()\n"
   ]
  },
  {
   "cell_type": "markdown",
   "metadata": {
    "deletable": true,
    "editable": true
   },
   "source": [
    "![pipeline with FOM](images/capsul_fom1.jpg \"pipeline with FOM\")\n",
    "![completion controller](images/capsul_fom1_compl.jpg \"completion controller\")\n",
    "![controller](images/capsul_fom1_controller.jpg \"controller\")\n",
    "\n",
    "<p>Note how the output <tt>\"image_out5\"</tt> depends on the <b>proc_select2</b> switch value:</p>\n",
    "<p>While <tt>\"image_out1\"</tt> is fixed via the FOM completion, its value \"back-propagates\" to both <tt>\"proc1.output_image\"</tt> and <tt>\"proc2.output_image\"</tt>. For <tt>\"image_out5\"</tt> the FOM does not impose its value, it is deduced from either <tt>\"proc3.output_image\"</tt> (in turn set via the global <tt>\"image_out3\"</tt>) or <tt>\"proc4.output_image\"</tt>, depending on the <b>proc_select2</b> swtch value.</p>"
   ]
  },
  {
   "cell_type": "code",
   "execution_count": 58,
   "metadata": {
    "collapsed": true,
    "deletable": true,
    "editable": true,
    "execution": {
     "iopub.execute_input": "2023-06-08T11:04:18.387632Z",
     "iopub.status.busy": "2023-06-08T11:04:18.387434Z",
     "iopub.status.idle": "2023-06-08T11:04:18.411184Z",
     "shell.execute_reply": "2023-06-08T11:04:18.410399Z"
    }
   },
   "outputs": [
    {
     "ename": "NameError",
     "evalue": "name 'mp' is not defined",
     "output_type": "error",
     "traceback": [
      "\u001b[0;31m---------------------------------------------------------------------------\u001b[0m",
      "\u001b[0;31mNameError\u001b[0m                                 Traceback (most recent call last)",
      "Cell \u001b[0;32mIn[58], line 1\u001b[0m\n\u001b[0;32m----> 1\u001b[0m \u001b[43mmp\u001b[49m\u001b[38;5;241m.\u001b[39mproc_select2 \u001b[38;5;241m=\u001b[39m \u001b[38;5;124m\"\u001b[39m\u001b[38;5;124mproc3\u001b[39m\u001b[38;5;124m\"\u001b[39m\n\u001b[1;32m      2\u001b[0m \u001b[38;5;28mprint\u001b[39m(\u001b[38;5;124m\"\u001b[39m\u001b[38;5;124mswitch proc_select2 value:\u001b[39m\u001b[38;5;124m\"\u001b[39m, mp\u001b[38;5;241m.\u001b[39mproc_select2)\n\u001b[1;32m      3\u001b[0m \u001b[38;5;28mprint\u001b[39m(\u001b[38;5;124m\"\u001b[39m\u001b[38;5;124moutput image_out5:\u001b[39m\u001b[38;5;124m\"\u001b[39m, mp\u001b[38;5;241m.\u001b[39mimage_out5)\n",
      "\u001b[0;31mNameError\u001b[0m: name 'mp' is not defined"
     ]
    }
   ],
   "source": [
    "mp.proc_select2 = \"proc3\"\n",
    "print(\"switch proc_select2 value:\", mp.proc_select2)\n",
    "print(\"output image_out5:\", mp.image_out5)\n",
    "mp.proc_select2 = \"proc4\"\n",
    "print(\"switch proc_select2 value:\", mp.proc_select2)\n",
    "print(\"output image_out5:\", mp.image_out5)"
   ]
  },
  {
   "cell_type": "markdown",
   "metadata": {
    "deletable": true,
    "editable": true
   },
   "source": [
    "![changed pipeline](images/capsul_fom2.jpg \"changed pipeline\")\n",
    "![changed completion controller](images/capsul_fom2_compl.jpg \"changed completion controller\")\n",
    "\n",
    "## Now Cleanup the files we have created..."
   ]
  },
  {
   "cell_type": "code",
   "execution_count": 59,
   "metadata": {
    "collapsed": true,
    "deletable": true,
    "editable": true,
    "execution": {
     "iopub.execute_input": "2023-06-08T11:04:18.415392Z",
     "iopub.status.busy": "2023-06-08T11:04:18.415015Z",
     "iopub.status.idle": "2023-06-08T11:04:18.420640Z",
     "shell.execute_reply": "2023-06-08T11:04:18.419846Z"
    }
   },
   "outputs": [],
   "source": [
    "import shutil\n",
    "shutil.rmtree('/tmp/capsul_demo')"
   ]
  }
 ],
 "metadata": {
  "kernelspec": {
   "display_name": "Python 3",
   "language": "python",
   "name": "python3"
  },
  "language_info": {
   "codemirror_mode": {
    "name": "ipython",
    "version": 3
   },
   "file_extension": ".py",
   "mimetype": "text/x-python",
   "name": "python",
   "nbconvert_exporter": "python",
   "pygments_lexer": "ipython3",
   "version": "3.9.16"
  }
 },
 "nbformat": 4,
 "nbformat_minor": 1
}
